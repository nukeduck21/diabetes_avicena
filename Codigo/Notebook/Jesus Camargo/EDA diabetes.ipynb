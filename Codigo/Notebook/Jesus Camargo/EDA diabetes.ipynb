{
 "cells": [
  {
   "cell_type": "markdown",
   "metadata": {},
   "source": [
    "# EDA variables nuevas diabetes\n",
    "\n",
    "\n",
    "##### Jesus Camargo"
   ]
  },
  {
   "cell_type": "code",
   "execution_count": null,
   "metadata": {},
   "outputs": [],
   "source": [
    "from google.cloud import bigquery\n",
    "import pandas as pd\n",
    "import numpy as np\n",
    "import seaborn as sns\n",
    "import matplotlib.pyplot as plt"
   ]
  },
  {
   "cell_type": "markdown",
   "metadata": {},
   "source": [
    "## Aparencia general graficos"
   ]
  },
  {
   "cell_type": "code",
   "execution_count": null,
   "metadata": {},
   "outputs": [],
   "source": [
    "%matplotlib inline\n",
    "sns.set_style(style=\"whitegrid\")\n",
    "sns.set_context(context='notebook')\n",
    "plt.rcParams['figure.figsize']=(9,8)\n",
    "\n"
   ]
  },
  {
   "cell_type": "code",
   "execution_count": null,
   "metadata": {},
   "outputs": [],
   "source": [
    "# Datos de las tablas a traer\n",
    "proyecto = 'co-keralty-costomedico'\n",
    "dataset = 'Diabetes_avicena_new'\n",
    "\n",
    "# Nombres de tablas disponibles en el dataset\n",
    "tables = ['diabetes', 'examenes_por_usuarios','antecedentes_x_usuario','perimetros_x_usuarios','actividadFisica_x_usuarios','diabetes_copy']\n",
    "\n",
    "client_bq = bigquery.Client(project= proyecto)"
   ]
  },
  {
   "cell_type": "code",
   "execution_count": null,
   "metadata": {},
   "outputs": [],
   "source": [
    "def bring_data_from_bq(table, client_bq, query = '', save = False, read_local = False):\n",
    "\n",
    "    print(f'Leyendo datos de la tabla: {table}')\n",
    "\n",
    "    if query == '':\n",
    "        query = f\"\"\"SELECT * FROM {proyecto}.{dataset}.{table} WHERE edad >= 18\"\"\"\n",
    "\n",
    "    if read_local:\n",
    "        data = pd.read_parquet(f'{table}.parquet')\n",
    "    else:\n",
    "        data = client_bq.query(query).result().to_dataframe()\n",
    "\n",
    "        if save:\n",
    "            data.to_parquet(f'{table}.parquet')\n",
    "            print(f'Informacion guardada en el archivo: {table}.parquet')\n",
    "\n",
    "    return data\n"
   ]
  },
  {
   "cell_type": "code",
   "execution_count": null,
   "metadata": {},
   "outputs": [],
   "source": [
    "data_original = bring_data_from_bq(table = tables[0], client_bq = client_bq, save = True, read_local = True)\n",
    "data_original"
   ]
  },
  {
   "cell_type": "markdown",
   "metadata": {},
   "source": [
    "### Tipo de datos"
   ]
  },
  {
   "cell_type": "code",
   "execution_count": null,
   "metadata": {},
   "outputs": [],
   "source": [
    "data_original.dtypes"
   ]
  },
  {
   "cell_type": "code",
   "execution_count": null,
   "metadata": {},
   "outputs": [],
   "source": []
  },
  {
   "cell_type": "code",
   "execution_count": null,
   "metadata": {},
   "outputs": [],
   "source": [
    "# conversion de datos\n",
    "data_original[\"peso\"]=data_original[\"peso\"].astype(float)\n",
    "data_original[\"talla\"]=data_original[\"talla\"].astype(float)\n",
    "data_original[\"imc\"]=data_original[\"imc\"].astype(float)\n",
    "data_original[\"HDL\"]=data_original[\"HDL\"].astype(float)\n",
    "data_original[\"LDL\"]=data_original[\"LDL\"].astype(float)\n",
    "data_original[\"PERIMETRO_ABDOMINAL\"]=data_original[\"PERIMETRO_ABDOMINAL\"].astype(float)\n",
    "data_original[\"trigliceridos\"]=data_original[\"trigliceridos\"].astype(float)\n",
    "data_original[\"hace_ejercicio_min\"]=data_original.hace_ejercicio.str.extract(r'(\\d+)').fillna(0).astype(float)"
   ]
  },
  {
   "cell_type": "markdown",
   "metadata": {},
   "source": [
    "### Cantidad de variables por tipo de dato\n"
   ]
  },
  {
   "cell_type": "code",
   "execution_count": null,
   "metadata": {},
   "outputs": [],
   "source": [
    "data_original.dtypes.value_counts()"
   ]
  },
  {
   "cell_type": "markdown",
   "metadata": {},
   "source": [
    "### Cantidad registro y observaciones"
   ]
  },
  {
   "cell_type": "code",
   "execution_count": null,
   "metadata": {},
   "outputs": [],
   "source": [
    "print(f\"Cantidad de registros en el data set: {data_original.shape[0]:,}\")\n",
    "print(f\"Cantidad de columnas en el data set: {data_original.shape[1]}\")"
   ]
  },
  {
   "cell_type": "markdown",
   "metadata": {},
   "source": [
    "### Valores duplicados."
   ]
  },
  {
   "cell_type": "code",
   "execution_count": null,
   "metadata": {},
   "outputs": [],
   "source": [
    "data_original.diabetes.value_counts()"
   ]
  },
  {
   "cell_type": "code",
   "execution_count": null,
   "metadata": {},
   "outputs": [],
   "source": [
    "data_original[data_original.drop([\"hace_ejercicio\",\"hace_ejercicio_min\"],axis=1).duplicated()]#.diabetes.value_counts()"
   ]
  },
  {
   "cell_type": "code",
   "execution_count": null,
   "metadata": {},
   "outputs": [],
   "source": [
    "data_original[data_original['diabetes']==0]['numero_identificacion_paciente'].value_counts()"
   ]
  },
  {
   "cell_type": "code",
   "execution_count": null,
   "metadata": {},
   "outputs": [],
   "source": [
    "data_original.drop([\"hace_ejercicio\",\"hace_ejercicio_min\"],axis=1)[data_original['numero_identificacion_paciente']==\"1519880\"]#.drop_duplicates()"
   ]
  },
  {
   "cell_type": "markdown",
   "metadata": {},
   "source": [
    "### Valores nulos\n",
    "\n",
    "definición de albuminuria \n",
    "\n",
    "- La albuminuria es un signo de enfermedad renal y significa que el paciente tiene exceso de albúmina en la orina. \n",
    "\tLa albúmina es una proteína que se encuentra en la sangre. Un riñón sano no permite que la albúmina pase de la sangre a la orina, \n",
    "\tmientras que un riñón dañado sí deja pasar algo de albúmina a la orina."
   ]
  },
  {
   "cell_type": "code",
   "execution_count": null,
   "metadata": {},
   "outputs": [],
   "source": [
    "nulos = data_original.isnull()\n",
    "nulos.any()"
   ]
  },
  {
   "cell_type": "code",
   "execution_count": null,
   "metadata": {},
   "outputs": [],
   "source": [
    "nulos.sum()"
   ]
  },
  {
   "cell_type": "code",
   "execution_count": null,
   "metadata": {},
   "outputs": [],
   "source": [
    "print(f\"Cantidad de valores nulos en todo el dataset: {nulos.sum().sum():,}\")"
   ]
  },
  {
   "cell_type": "code",
   "execution_count": null,
   "metadata": {},
   "outputs": [],
   "source": [
    "nulos.melt().pipe(\n",
    "\tlambda df: (\n",
    "\t\tsns.displot(\n",
    "\t\t\tdata=df,\n",
    "\t\t\ty=\"variable\",\n",
    "\t\t\thue=\"value\",\n",
    "\t\t\tmultiple='fill',\n",
    "\t\t\taspect=2\n",
    "\t\t)\n",
    "\t)\n",
    ")"
   ]
  },
  {
   "cell_type": "code",
   "execution_count": null,
   "metadata": {},
   "outputs": [],
   "source": [
    "nulos.transpose().pipe( lambda df: sns.heatmap(data=df))"
   ]
  },
  {
   "cell_type": "markdown",
   "metadata": {},
   "source": [
    "# informacion que perdemos si eliminamos los datos faltantes"
   ]
  },
  {
   "cell_type": "code",
   "execution_count": null,
   "metadata": {},
   "outputs": [],
   "source": [
    "count_elemento_org = data_original.shape[0]\n",
    "count_elemento_no_nan = data_original.dropna().shape[0]\n",
    "\n",
    "print(\" cantidad de datos elimindados\", count_elemento_org-count_elemento_no_nan)\n",
    "\n"
   ]
  },
  {
   "cell_type": "markdown",
   "metadata": {},
   "source": [
    "## descripcion de la base\n",
    "\n",
    "1. HDL (High-Density Lipoprotein) - \"Colesterol Bueno\":  \n",
    "¿Qué es?: El HDL es conocido como el \"colesterol bueno\" porque ayuda a eliminar el colesterol malo (LDL) de las arterias, llevándolo al hígado para ser eliminado del cuerpo.  \n",
    "Rangos:  \n",
    "Normal: Hombres: ≥ 40 mg/dL | Mujeres: ≥ 50 mg/dL.  \n",
    "Alerta: Si es bajo (Hombres < 40 mg/dL, Mujeres < 50 mg/dL), el riesgo de enfermedad cardíaca aumenta.  \n",
    "Muy bueno: ≥ 60 mg/dL se considera protector contra enfermedades cardíacas.  \n",
    "\n",
    "2. LDL (Low-Density Lipoprotein) - \"Colesterol Malo\":  \n",
    "¿Qué es?: El LDL es el \"colesterol malo\" porque puede acumularse en las arterias, formando placas que pueden bloquear el flujo sanguíneo, aumentando el riesgo de ataques cardíacos y accidentes cerebrovasculares.  \n",
    "Rangos:  \n",
    "Normal: < 100 mg/dL es ideal.  \n",
    "Límite Alto: 130-159 mg/dL.  \n",
    "Alto: 160-189 mg/dL.  \n",
    "Alerta: ≥ 190 mg/dL es muy alto y peligroso para la salud cardiovascular.  \n",
    "3. Triglicéridos:  \n",
    "¿Qué son?: Los triglicéridos son un tipo de grasa (lípido) en la sangre. Cuando comes, tu cuerpo convierte las calorías que no necesitas en triglicéridos, que luego se almacenan en las células de grasa.  \n",
    "Rangos:  \n",
    "Normal: < 150 mg/dL.  \n",
    "Límite Alto: 150-199 mg/dL.  \n",
    "Alto: 200-499 mg/dL.  \n",
    "Alerta: ≥ 500 mg/dL, aumenta el riesgo de pancreatitis y problemas cardíacos.  \n",
    "4. Índice de Masa Corporal (IMC):  \n",
    "¿Qué es?: El IMC es una medida que se usa para evaluar si una persona tiene un peso saludable en relación con su altura. Se calcula dividiendo el peso (en kilogramos) por el cuadrado de la altura (en metros).  \n",
    "Rangos:  \n",
    "Bajo peso: IMC < 18.5.  \n",
    "Normal: IMC entre 18.5 y 24.9.  \n",
    "Sobrepeso: IMC entre 25 y 29.9.  \n",
    "Obesidad: IMC ≥ 30.  \n",
    "Alerta: Un IMC elevado (sobrepeso u obesidad) aumenta el riesgo de enfermedades como la diabetes tipo 2, enfermedades cardíacas y ciertos tipos de cáncer.  "
   ]
  },
  {
   "cell_type": "markdown",
   "metadata": {},
   "source": [
    "### funcion etiquetas"
   ]
  },
  {
   "cell_type": "code",
   "execution_count": null,
   "metadata": {},
   "outputs": [],
   "source": [
    "# funcion auxiliar\n",
    "def asignar_etiquetas(df):\n",
    "    # Etiquetas para HDL\n",
    "    def etiqueta_hdl(value, gender):\n",
    "        \n",
    "        if gender == 0:\n",
    "            if value == 0:\n",
    "                return 'No tiene'\n",
    "            if value >= 60:\n",
    "                return 'Muy bueno'\n",
    "            elif value >= 40:\n",
    "                return 'Normal'\n",
    "            else:\n",
    "                return 'Alerta'\n",
    "        elif gender == 1:\n",
    "            if value == 0:\n",
    "                return 'No tiene'\n",
    "            if value >= 60:\n",
    "                return 'Muy bueno'\n",
    "            elif value >= 50:\n",
    "                return 'Normal'\n",
    "            else:\n",
    "                return 'Alerta'\n",
    "\n",
    "    # Etiquetas para LDL\n",
    "    def etiqueta_ldl(value):\n",
    "        if value < 1:\n",
    "            return 'No tiene'\n",
    "        elif 1 <= value < 100:\n",
    "            return 'Normal'\n",
    "        elif 100 <= value < 130:\n",
    "            return 'Casi normal'\n",
    "        elif 130 <= value < 160:\n",
    "            return 'Límite alto'\n",
    "        elif 160 <= value < 190:\n",
    "            return 'Alto'\n",
    "        else:\n",
    "            return 'Alerta'\n",
    "\n",
    "    # Etiquetas para Triglicéridos\n",
    "    def etiqueta_trigliceridos(value):\n",
    "        if value < 1:\n",
    "            return 'No tiene'\n",
    "        elif 1 <= value < 150:\n",
    "            return 'Normal'\n",
    "        elif 150 <= value < 200:\n",
    "            return 'Límite alto'\n",
    "        elif 200 <= value < 500:\n",
    "            return 'Alto'\n",
    "        else:\n",
    "            return 'Alerta'\n",
    "\n",
    "    # Etiquetas para IMC\n",
    "    def etiqueta_imc(value):\n",
    "        if value < 18.5:\n",
    "            return 'Bajo peso'\n",
    "        elif 18.5 <= value < 25:\n",
    "            return 'Normal'\n",
    "        elif 25 <= value < 30:\n",
    "            return 'Sobrepeso'\n",
    "        else:\n",
    "            return 'Obesidad'\n",
    "\n",
    "    # Crear nuevas columnas en el DataFrame con las etiquetas asignadas\n",
    "    df['Etiqueta_HDL'] = df.apply(lambda row: etiqueta_hdl(row['HDL'], row['genero']), axis=1)\n",
    "    df['Etiqueta_LDL'] = df['LDL'].apply(etiqueta_ldl)\n",
    "    df['Etiqueta_Triglicéridos'] = df['trigliceridos'].apply(etiqueta_trigliceridos)\n",
    "    df['Etiqueta_IMC'] = df['imc'].apply(etiqueta_imc)\n",
    "\n",
    "    return df"
   ]
  },
  {
   "cell_type": "code",
   "execution_count": null,
   "metadata": {},
   "outputs": [],
   "source": [
    "100/(1.68**2)"
   ]
  },
  {
   "cell_type": "code",
   "execution_count": null,
   "metadata": {},
   "outputs": [],
   "source": [
    "data_original.drop([\"hace_ejercicio\",\"hace_ejercicio_min\"],axis=1)[data_original.drop([\"hace_ejercicio\",\"hace_ejercicio_min\"],axis=1).duplicated()]"
   ]
  },
  {
   "cell_type": "code",
   "execution_count": null,
   "metadata": {},
   "outputs": [],
   "source": [
    "data_original.numero_identificacion_paciente.value_counts()"
   ]
  },
  {
   "cell_type": "code",
   "execution_count": null,
   "metadata": {},
   "outputs": [],
   "source": [
    "data_original[data_original.numero_identificacion_paciente==\"63447134\"]"
   ]
  },
  {
   "cell_type": "code",
   "execution_count": null,
   "metadata": {},
   "outputs": [],
   "source": [
    "df=asignar_etiquetas(data_original.drop([\"hace_ejercicio\",\"hace_ejercicio_min\"],axis=1)[~data_original.drop([\"hace_ejercicio\",\"hace_ejercicio_min\"],axis=1).duplicated()])"
   ]
  },
  {
   "cell_type": "code",
   "execution_count": null,
   "metadata": {},
   "outputs": [],
   "source": [
    "df.describe(include=\"all\").iloc[:,:10]"
   ]
  },
  {
   "cell_type": "code",
   "execution_count": null,
   "metadata": {},
   "outputs": [],
   "source": [
    "df.describe(include=\"all\").iloc[:,10:]"
   ]
  },
  {
   "cell_type": "code",
   "execution_count": null,
   "metadata": {},
   "outputs": [],
   "source": [
    "df.describe()"
   ]
  },
  {
   "cell_type": "code",
   "execution_count": null,
   "metadata": {},
   "outputs": [],
   "source": [
    "df.describe(include=object)"
   ]
  },
  {
   "cell_type": "markdown",
   "metadata": {},
   "source": [
    "### Graficas"
   ]
  },
  {
   "cell_type": "code",
   "execution_count": null,
   "metadata": {},
   "outputs": [],
   "source": [
    "sns.catplot(\n",
    "\tdata=df,\n",
    " x=\"Etiqueta_HDL\",\n",
    " kind=\"count\",\n",
    " hue=\"diabetes\"\n",
    ")"
   ]
  },
  {
   "cell_type": "code",
   "execution_count": null,
   "metadata": {},
   "outputs": [],
   "source": [
    "sns.catplot(\n",
    "\tdata=df,\n",
    " x=\"Etiqueta_LDL\",\n",
    " kind=\"count\",\n",
    " hue=\"diabetes\"\n",
    ")"
   ]
  },
  {
   "cell_type": "code",
   "execution_count": null,
   "metadata": {},
   "outputs": [],
   "source": [
    "sns.catplot(\n",
    "\tdata=df,\n",
    " x=\"Etiqueta_Triglicéridos\",\n",
    " kind=\"count\",\n",
    " hue=\"diabetes\"\n",
    ")"
   ]
  },
  {
   "cell_type": "code",
   "execution_count": null,
   "metadata": {},
   "outputs": [],
   "source": [
    "sns.catplot(\n",
    "\tdata=df,\n",
    " x=\"Etiqueta_IMC\",\n",
    " kind=\"count\",\n",
    " hue=\"diabetes\"\n",
    ")"
   ]
  },
  {
   "cell_type": "code",
   "execution_count": null,
   "metadata": {},
   "outputs": [],
   "source": [
    "sns.catplot(\n",
    "\tdata=df[df.dm_gestacional==1],\n",
    " x=\"dm_gestacional\",\n",
    " kind=\"count\",\n",
    " hue=\"diabetes\"\n",
    ")"
   ]
  },
  {
   "cell_type": "code",
   "execution_count": null,
   "metadata": {},
   "outputs": [],
   "source": [
    "# Definir los intervalos (bins) y las etiquetas\n",
    "bins = [ 18, 35, 55, 100]\n",
    "labels = [ 'Joven', 'Adulto', 'Mayor']\n",
    "\n",
    "# Categorizar la variable 'edad' con etiquetas personalizadas\n",
    "df['edad_etiqueta']=pd.cut(df['edad'], bins=bins, labels=labels)\n",
    "df[['edad','edad_etiqueta']]\n",
    "\n",
    "\n",
    "sns.catplot(\n",
    "\tdata=df,\n",
    " x=\"edad_etiqueta\",\n",
    " kind=\"count\",\n",
    " hue=\"diabetes\"\n",
    ")"
   ]
  },
  {
   "cell_type": "markdown",
   "metadata": {},
   "source": [
    "### proceso cruce"
   ]
  },
  {
   "cell_type": "code",
   "execution_count": null,
   "metadata": {},
   "outputs": [],
   "source": [
    "tabla_cruzada=pd.crosstab([df['Etiqueta_LDL'],\n",
    "                           df['Etiqueta_HDL'], \n",
    "                           df['Etiqueta_Triglicéridos'], \n",
    "                           df['Etiqueta_IMC'], \n",
    "                           df['edad_etiqueta'],\n",
    "                           df['genero']],\n",
    "                          [df['diabetes']],dropna=False).reset_index()\n",
    "tabla_cruzada=tabla_cruzada.rename(columns={0:\"Sin diabetes\",1:\"Con diabetes\"})\n",
    "tabla_cruzada"
   ]
  },
  {
   "cell_type": "code",
   "execution_count": null,
   "metadata": {},
   "outputs": [],
   "source": [
    "promedio_perimetro = df.groupby(['Etiqueta_LDL', \n",
    "                                 'Etiqueta_HDL', \n",
    "                                 'Etiqueta_Triglicéridos', \n",
    "                                 'Etiqueta_IMC', \n",
    "                                 'edad_etiqueta', \n",
    "                                 'genero',\n",
    "                                 'diabetes'])['PERIMETRO_ABDOMINAL'].median().reset_index()\n",
    "\n",
    "promedio_perimetro = pd.crosstab([promedio_perimetro['Etiqueta_LDL'],\n",
    "                           promedio_perimetro['Etiqueta_HDL'], \n",
    "                           promedio_perimetro['Etiqueta_Triglicéridos'], \n",
    "                           promedio_perimetro['Etiqueta_IMC'], \n",
    "                           promedio_perimetro['edad_etiqueta'],\n",
    "                           promedio_perimetro['genero']],\n",
    "                          [promedio_perimetro['diabetes']],values=promedio_perimetro[\"PERIMETRO_ABDOMINAL\"],aggfunc='sum').reset_index()\n",
    "\n",
    "# Renombra la columna para evitar confusiones en la unión\n",
    "promedio_perimetro = promedio_perimetro.rename(columns={'PERIMETRO_ABDOMINAL': 'PROMEDIO_PERIMETRO_ABDOMINAL'})\n",
    "# Une el promedio del perímetro abdominal con la tabla cruzada\n",
    "tabla_cruzada = pd.merge(tabla_cruzada, promedio_perimetro, \n",
    "                         on=['Etiqueta_LDL', \n",
    "                             'Etiqueta_HDL', \n",
    "                             'Etiqueta_Triglicéridos', \n",
    "                             'Etiqueta_IMC', \n",
    "                             'edad_etiqueta', \n",
    "                             'genero'], \n",
    "                         how='left')\n",
    "\n",
    "tabla_cruzada"
   ]
  },
  {
   "cell_type": "markdown",
   "metadata": {},
   "source": [
    "### Ejemplo pacientes por categoria"
   ]
  },
  {
   "cell_type": "code",
   "execution_count": null,
   "metadata": {},
   "outputs": [],
   "source": [
    "tabla_cruzada[\n",
    "\t(tabla_cruzada[\"Etiqueta_LDL\"]==\"Alerta\")\n",
    " &(tabla_cruzada[\"Etiqueta_HDL\"]==\"Alerta\")\n",
    " &(tabla_cruzada[\"Etiqueta_Triglicéridos\"]==\"Alto\")\n",
    " &(tabla_cruzada[\"Etiqueta_IMC\"]==\"Obesidad\")\n",
    "]"
   ]
  },
  {
   "cell_type": "markdown",
   "metadata": {},
   "source": [
    "### proceso comparacion categorias"
   ]
  },
  {
   "cell_type": "code",
   "execution_count": null,
   "metadata": {},
   "outputs": [],
   "source": [
    "data_original[data_original.HDL.between(1,20)]"
   ]
  },
  {
   "cell_type": "code",
   "execution_count": null,
   "metadata": {},
   "outputs": [],
   "source": [
    "tabla_cruzada[tabla_cruzada[\"Sin diabetes\"]>tabla_cruzada[\"Con diabetes\"]]"
   ]
  },
  {
   "cell_type": "code",
   "execution_count": null,
   "metadata": {},
   "outputs": [],
   "source": [
    "tabla_cruzada[tabla_cruzada[\"Sin diabetes\"]<tabla_cruzada[\"Con diabetes\"]]"
   ]
  },
  {
   "cell_type": "code",
   "execution_count": null,
   "metadata": {},
   "outputs": [],
   "source": [
    "(1443-1338)/1443"
   ]
  },
  {
   "cell_type": "markdown",
   "metadata": {},
   "source": [
    "# Diabetes"
   ]
  },
  {
   "cell_type": "markdown",
   "metadata": {},
   "source": [
    "### Separacion data"
   ]
  },
  {
   "cell_type": "code",
   "execution_count": null,
   "metadata": {},
   "outputs": [],
   "source": [
    "diabetes = df[df.diabetes==1]\n",
    "diabetes"
   ]
  },
  {
   "cell_type": "code",
   "execution_count": null,
   "metadata": {},
   "outputs": [],
   "source": [
    "no_diabetes = df[df.diabetes==0]\n",
    "no_diabetes"
   ]
  },
  {
   "cell_type": "code",
   "execution_count": null,
   "metadata": {},
   "outputs": [],
   "source": [
    "no_diabetes[no_diabetes.numero_identificacion_paciente==\"1050091072\"]"
   ]
  },
  {
   "cell_type": "code",
   "execution_count": null,
   "metadata": {},
   "outputs": [],
   "source": [
    "repetidos = diabetes.numero_identificacion_paciente.value_counts()\n",
    "repetidos[repetidos>1]"
   ]
  },
  {
   "cell_type": "code",
   "execution_count": null,
   "metadata": {},
   "outputs": [],
   "source": [
    "usu_diabetes = set(diabetes.numero_identificacion_paciente)\n",
    "usu_no_diabetes = set(no_diabetes.numero_identificacion_paciente)"
   ]
  },
  {
   "cell_type": "code",
   "execution_count": null,
   "metadata": {},
   "outputs": [],
   "source": [
    "len(usu_diabetes-usu_no_diabetes)"
   ]
  },
  {
   "cell_type": "code",
   "execution_count": null,
   "metadata": {},
   "outputs": [],
   "source": [
    "len(usu_diabetes)"
   ]
  },
  {
   "cell_type": "code",
   "execution_count": null,
   "metadata": {},
   "outputs": [],
   "source": [
    "len(usu_no_diabetes)"
   ]
  },
  {
   "cell_type": "markdown",
   "metadata": {},
   "source": [
    "### Grafica densidad"
   ]
  },
  {
   "cell_type": "code",
   "execution_count": null,
   "metadata": {},
   "outputs": [],
   "source": [
    "sns.kdeplot(\n",
    "\tdata=df,\n",
    " x=\"edad\",\n",
    " hue=\"diabetes\"\n",
    ")"
   ]
  },
  {
   "cell_type": "code",
   "execution_count": null,
   "metadata": {},
   "outputs": [],
   "source": [
    "sns.catplot(\n",
    "\tdata=df,\n",
    " x=\"Etiqueta_IMC\",\n",
    " kind=\"count\",\n",
    " hue=\"diabetes\"\n",
    ")\n",
    "plt.xticks(rotation=90)"
   ]
  },
  {
   "cell_type": "code",
   "execution_count": null,
   "metadata": {},
   "outputs": [],
   "source": [
    "sns.catplot(\n",
    "\tdata=no_diabetes,\n",
    " x=\"nivel_academico_paciente\",\n",
    " kind=\"count\"\n",
    ")\n",
    "plt.xticks(rotation=90)"
   ]
  },
  {
   "cell_type": "code",
   "execution_count": null,
   "metadata": {},
   "outputs": [],
   "source": [
    "sns.catplot(\n",
    "\tdata=diabetes,\n",
    " x=\"nivel_academico_paciente\",\n",
    " kind=\"count\"\n",
    ")\n",
    "plt.xticks(rotation=90)"
   ]
  },
  {
   "cell_type": "markdown",
   "metadata": {},
   "source": [
    "# Modelo Naive"
   ]
  },
  {
   "cell_type": "markdown",
   "metadata": {},
   "source": [
    "### implementacion modelo bayes"
   ]
  },
  {
   "cell_type": "code",
   "execution_count": null,
   "metadata": {},
   "outputs": [],
   "source": [
    "# Definir los intervalos (bins) y las etiquetas\n",
    "bins = [30, 50, 70, 90, 150]\n",
    "labels = ['20-50', '51-70', '71-90', '91-']\n",
    "\n",
    "# Categorizar la variable 'edad' con etiquetas personalizadas\n",
    "df['peso_etiqueta']= pd.cut(df['peso'], bins=bins, labels=labels)"
   ]
  },
  {
   "cell_type": "code",
   "execution_count": null,
   "metadata": {},
   "outputs": [],
   "source": [
    "# Definir los intervalos (bins) y las etiquetas\n",
    "bins = [1, 1.55, 1.6, 1.65, 2]\n",
    "labels = ['1-1.55', '1.56-1.6.', '1.61-1.65', '1.65-2']\n",
    "\n",
    "# Categorizar la variable 'edad' con etiquetas personalizadas\n",
    "df['talla_etiqueta']= pd.cut(df['talla'], bins=bins, labels=labels)"
   ]
  },
  {
   "cell_type": "code",
   "execution_count": null,
   "metadata": {},
   "outputs": [],
   "source": [
    "# Definir los intervalos (bins) y las etiquetas\n",
    "bins = [9, 30, 50, 70, 90,500]\n",
    "labels = ['9-30', '31-50.', '35-70', '71-90', '91-']\n",
    "\n",
    "# Categorizar la variable 'edad' con etiquetas personalizadas\n",
    "df['PERIMETRO_ABDOMINAL_etiqueta']= pd.cut(df['PERIMETRO_ABDOMINAL'], bins=bins, labels=labels)"
   ]
  },
  {
   "cell_type": "code",
   "execution_count": null,
   "metadata": {},
   "outputs": [],
   "source": [
    "# Categorizar la variable 'edad' con etiquetas personalizadas\n",
    "df[[\"PERIMETRO_ABDOMINAL\",'PERIMETRO_ABDOMINAL_etiqueta']]"
   ]
  },
  {
   "cell_type": "code",
   "execution_count": null,
   "metadata": {},
   "outputs": [],
   "source": [
    "data_original.PERIMETRO_ABDOMINAL.describe()"
   ]
  },
  {
   "cell_type": "code",
   "execution_count": null,
   "metadata": {},
   "outputs": [],
   "source": [
    "df.columns"
   ]
  },
  {
   "cell_type": "code",
   "execution_count": null,
   "metadata": {},
   "outputs": [],
   "source": [
    "df_train = df[[\n",
    "\t'edad_etiqueta',\n",
    "\t'genero',\n",
    "\t'nivel_academico_paciente',\n",
    "\t'raza_paciente',\n",
    "\t'peso_etiqueta',\n",
    "\t'talla_etiqueta',\n",
    "\t'med_hipertension',\n",
    "\t'familiar_dm',\n",
    "\t'ant_cardiovascular',\n",
    "\t'dm_gestacional',\n",
    "\t'PERIMETRO_ABDOMINAL_etiqueta',\n",
    "\t'diabetes',\n",
    "\t'Etiqueta_HDL',\n",
    "\t'Etiqueta_LDL',\n",
    "\t'Etiqueta_Triglicéridos',\n",
    "\t'Etiqueta_IMC'\n",
    "]]\n",
    "df_train"
   ]
  },
  {
   "cell_type": "code",
   "execution_count": null,
   "metadata": {},
   "outputs": [],
   "source": [
    "X = df_train.drop('diabetes',axis=1)\n",
    "y = df_train['diabetes']"
   ]
  },
  {
   "cell_type": "code",
   "execution_count": null,
   "metadata": {},
   "outputs": [],
   "source": [
    "from sklearn.model_selection import train_test_split\n",
    "\n",
    "\n",
    "X_train, X_test, y_train, y_test = train_test_split(X,y, test_size=0.2,random_state=0)"
   ]
  },
  {
   "cell_type": "code",
   "execution_count": null,
   "metadata": {},
   "outputs": [],
   "source": [
    "import category_encoders as ce"
   ]
  },
  {
   "cell_type": "code",
   "execution_count": null,
   "metadata": {},
   "outputs": [],
   "source": [
    "X.columns"
   ]
  },
  {
   "cell_type": "code",
   "execution_count": null,
   "metadata": {},
   "outputs": [],
   "source": [
    "encoder = ce.OneHotEncoder( cols=['edad_etiqueta', 'genero', 'nivel_academico_paciente', 'raza_paciente',\n",
    "       'peso_etiqueta', 'talla_etiqueta', 'PERIMETRO_ABDOMINAL_etiqueta',\n",
    "       'Etiqueta_HDL', 'Etiqueta_LDL', 'Etiqueta_Triglicéridos',\n",
    "       'Etiqueta_IMC'])\n",
    "\n",
    "X_train = encoder.fit_transform(X_train)\n",
    "X_test = encoder.fit_transform(X_test)"
   ]
  },
  {
   "cell_type": "code",
   "execution_count": null,
   "metadata": {},
   "outputs": [],
   "source": [
    "from sklearn.naive_bayes import GaussianNB\n",
    "\n",
    "gnb = GaussianNB()\n",
    "\n",
    "\n",
    "gnb.fit(X_train,y_train)"
   ]
  },
  {
   "cell_type": "code",
   "execution_count": null,
   "metadata": {},
   "outputs": [],
   "source": [
    "y_pred = gnb.predict(X_test)\n",
    "y_pred"
   ]
  },
  {
   "cell_type": "code",
   "execution_count": null,
   "metadata": {},
   "outputs": [],
   "source": [
    "y_prob = gnb.predict_proba(X_test)\n",
    "y_prob"
   ]
  },
  {
   "cell_type": "code",
   "execution_count": null,
   "metadata": {},
   "outputs": [],
   "source": [
    "y_test"
   ]
  },
  {
   "cell_type": "code",
   "execution_count": null,
   "metadata": {},
   "outputs": [],
   "source": [
    "y_test.sum()"
   ]
  },
  {
   "cell_type": "code",
   "execution_count": null,
   "metadata": {},
   "outputs": [],
   "source": [
    "from sklearn.metrics import accuracy_score, confusion_matrix# Evaluar la precisión del modelo\n",
    "accuracy = accuracy_score(y_test, y_pred)\n",
    "\n",
    "# Resultados\n",
    "print(\"Predicciones:\", y_pred)\n",
    "print(\"Probabilidades de pertenecer a cada clase:\")\n",
    "print(y_prob)\n",
    "print(f\"Precisión del modelo: {accuracy:.2f}\")\n",
    "\n",
    "\n",
    "# Calcular la matriz de confusión\n",
    "cm = confusion_matrix(y_test, y_pred)\n",
    "\n",
    "# Mostrar la matriz de confusión\n",
    "plt.figure(figsize=(6, 4))\n",
    "sns.heatmap(cm, annot=True, fmt=\"d\", cmap=\"Blues\")\n",
    "plt.xlabel(\"Predicted Label\")\n",
    "plt.ylabel(\"True Label\")\n",
    "plt.title(\"Confusion Matrix\")\n",
    "plt.show()\n",
    "\n"
   ]
  },
  {
   "cell_type": "markdown",
   "metadata": {},
   "source": [
    "### Patrones toda la data"
   ]
  },
  {
   "cell_type": "code",
   "execution_count": null,
   "metadata": {},
   "outputs": [],
   "source": [
    "\n",
    "sns.pairplot(df[['peso', 'talla', 'imc', 'HDL', 'LDL', 'trigliceridos',\n",
    "       'PERIMETRO_ABDOMINAL','diabetes']], hue='diabetes'\n",
    "             )\n"
   ]
  },
  {
   "cell_type": "code",
   "execution_count": null,
   "metadata": {},
   "outputs": [],
   "source": [
    "# sns.pairplot(df[[   'nivel_academico_paciente', 'raza_paciente', 'albuminuria',\n",
    "#        'Etiqueta_HDL', 'Etiqueta_LDL', 'Etiqueta_Triglicéridos',\n",
    "#        'Etiqueta_IMC','diabetes']], hue='diabetes', kind='bar'\n",
    "#              )\n",
    "\n",
    "\n",
    "# Lista de variables categóricas\n",
    "categorias = [   'nivel_academico_paciente', 'raza_paciente',\n",
    "       'Etiqueta_HDL', 'Etiqueta_LDL', 'Etiqueta_Triglicéridos',\n",
    "       'Etiqueta_IMC']\n",
    "\n",
    "# Crear matriz de gráficos\n",
    "for cat in categorias:\n",
    "    plt.figure(figsize=(10,4))\n",
    "    sns.countplot(\n",
    "\t\tdata=df,\n",
    "\t\tx=cat,\n",
    "\t\thue='diabetes'\n",
    "\n",
    "\t)\n",
    "    plt.xticks(rotation=45)\n",
    "    \n",
    "    plt.show()"
   ]
  },
  {
   "cell_type": "code",
   "execution_count": null,
   "metadata": {},
   "outputs": [],
   "source": [
    "\n",
    "df_comparaciones = {}\n",
    "\n",
    "edad_min = df.edad.min()\n",
    "edad_max = df.edad.max()\n",
    "\n",
    "\n",
    "for edad_ in range(edad_min,edad_max-2):\n",
    "    \n",
    "\n",
    "\n",
    "\tdf_temp_sin_dia = df[(df.edad==edad_)&(df.diabetes==0)]\n",
    "\tdf_temp_con_dia_0 = df[(df.edad==edad_)&(df.diabetes==1)]\n",
    "\tdf_temp_con_dia_1 = df[(df.edad==edad_+1)&(df.diabetes==1)]\n",
    "\tdf_temp_con_dia_2 = df[(df.edad==edad_+2)&(df.diabetes==1)]\n",
    "\n",
    "\tdf_prueba = pd.concat([df_temp_sin_dia,df_temp_con_dia_0,df_temp_con_dia_1,df_temp_con_dia_2]).reset_index(drop=True)\n",
    "\tdf_prueba['edad'] = edad_\n",
    "\tdf_prueba['edad'] = df_temp_sin_dia[\"edad_etiqueta\"].unique()[0]\n",
    "\tdf_comparaciones[f'edad_{edad_}']=df_prueba"
   ]
  },
  {
   "cell_type": "code",
   "execution_count": null,
   "metadata": {},
   "outputs": [],
   "source": []
  },
  {
   "cell_type": "code",
   "execution_count": null,
   "metadata": {},
   "outputs": [],
   "source": [
    "df_comparaciones.keys()"
   ]
  },
  {
   "cell_type": "code",
   "execution_count": null,
   "metadata": {},
   "outputs": [],
   "source": [
    "sns.pairplot(df_comparaciones[f'edad_{45}'][['edad','peso', 'talla', 'imc', 'HDL', 'LDL', 'trigliceridos',\n",
    "       'PERIMETRO_ABDOMINAL','diabetes']], hue='diabetes')\n"
   ]
  },
  {
   "cell_type": "code",
   "execution_count": null,
   "metadata": {},
   "outputs": [],
   "source": []
  },
  {
   "cell_type": "code",
   "execution_count": null,
   "metadata": {},
   "outputs": [],
   "source": [
    "categorias = [   'nivel_academico_paciente', 'raza_paciente',\n",
    "       'Etiqueta_HDL', 'Etiqueta_LDL', 'Etiqueta_Triglicéridos',\n",
    "       'Etiqueta_IMC']\n",
    "\n",
    "# Crear matriz de gráficos\n",
    "for cat in categorias:\n",
    "    plt.figure(figsize=(10,4))\n",
    "    sns.countplot(\n",
    "\t\tdata=df_comparaciones[f'edad_{45}'],\n",
    "\t\t# data=pd.concat(df_comparaciones.values()),\n",
    "\t\tx=cat,\n",
    "\t\thue='diabetes'\n",
    "\n",
    "\t)\n",
    "    plt.xticks(rotation=45)\n",
    "    \n",
    "    plt.show()"
   ]
  },
  {
   "cell_type": "code",
   "execution_count": null,
   "metadata": {},
   "outputs": [],
   "source": [
    "df_comparaciones[\"edad_34\"]"
   ]
  },
  {
   "cell_type": "code",
   "execution_count": null,
   "metadata": {},
   "outputs": [],
   "source": [
    "df_train = pd.concat(df_comparaciones.values())[[\n",
    "\t'edad_etiqueta',\n",
    "\t'genero',\n",
    "\t'nivel_academico_paciente',\n",
    "\t'raza_paciente',\n",
    "\t'peso_etiqueta',\n",
    "\t'talla_etiqueta',\n",
    "\t'med_hipertension',\n",
    "\t'familiar_dm',\n",
    "\t'ant_cardiovascular',\n",
    "\t'dm_gestacional',\n",
    "\t'PERIMETRO_ABDOMINAL_etiqueta',\n",
    "\t'diabetes',\n",
    "\t'Etiqueta_HDL',\n",
    "\t'Etiqueta_LDL',\n",
    "\t'Etiqueta_Triglicéridos',\n",
    "\t'Etiqueta_IMC'\n",
    "]]\n",
    "df_train"
   ]
  },
  {
   "cell_type": "code",
   "execution_count": null,
   "metadata": {},
   "outputs": [],
   "source": [
    "X = df_train.drop('diabetes',axis=1)\n",
    "y = df_train['diabetes']"
   ]
  },
  {
   "cell_type": "code",
   "execution_count": null,
   "metadata": {},
   "outputs": [],
   "source": [
    "X_train, X_test, y_train, y_test = train_test_split(X,y, test_size=0.2,random_state=0)"
   ]
  },
  {
   "cell_type": "code",
   "execution_count": null,
   "metadata": {},
   "outputs": [],
   "source": [
    "encoder = ce.OneHotEncoder( cols=['edad_etiqueta', 'genero', 'nivel_academico_paciente', 'raza_paciente',\n",
    "       'peso_etiqueta', 'talla_etiqueta', 'PERIMETRO_ABDOMINAL_etiqueta',\n",
    "       'Etiqueta_HDL', 'Etiqueta_LDL', 'Etiqueta_Triglicéridos',\n",
    "       'Etiqueta_IMC'])\n",
    "\n",
    "X_train = encoder.fit_transform(X_train)\n",
    "X_test = encoder.fit_transform(X_test)"
   ]
  },
  {
   "cell_type": "code",
   "execution_count": null,
   "metadata": {},
   "outputs": [],
   "source": [
    "from sklearn.naive_bayes import GaussianNB\n",
    "\n",
    "gnb = GaussianNB()\n",
    "\n",
    "\n",
    "gnb.fit(X_train,y_train)"
   ]
  },
  {
   "cell_type": "code",
   "execution_count": null,
   "metadata": {},
   "outputs": [],
   "source": [
    "y_pred = gnb.predict(X_test)\n",
    "y_pred"
   ]
  },
  {
   "cell_type": "code",
   "execution_count": null,
   "metadata": {},
   "outputs": [],
   "source": [
    "y_test"
   ]
  },
  {
   "cell_type": "code",
   "execution_count": null,
   "metadata": {},
   "outputs": [],
   "source": [
    "from sklearn.metrics import accuracy_score, confusion_matrix# Evaluar la precisión del modelo\n",
    "accuracy = accuracy_score(y_test, y_pred)\n",
    "\n",
    "# Resultados\n",
    "print(\"Predicciones:\", y_pred)\n",
    "print(\"Probabilidades de pertenecer a cada clase:\")\n",
    "print(y_prob)\n",
    "print(f\"Precisión del modelo: {accuracy:.2f}\")\n",
    "\n",
    "\n",
    "# Calcular la matriz de confusión\n",
    "cm = confusion_matrix(y_test, y_pred)\n",
    "\n",
    "# Mostrar la matriz de confusión\n",
    "plt.figure(figsize=(6, 4))\n",
    "sns.heatmap(cm, annot=True, fmt=\"d\", cmap=\"Blues\")\n",
    "plt.xlabel(\"Predicted Label\")\n",
    "plt.ylabel(\"True Label\")\n",
    "plt.title(\"Confusion Matrix\")\n",
    "plt.show()\n"
   ]
  },
  {
   "cell_type": "code",
   "execution_count": null,
   "metadata": {},
   "outputs": [],
   "source": []
  },
  {
   "cell_type": "code",
   "execution_count": null,
   "metadata": {},
   "outputs": [],
   "source": []
  },
  {
   "cell_type": "code",
   "execution_count": null,
   "metadata": {},
   "outputs": [],
   "source": []
  },
  {
   "cell_type": "code",
   "execution_count": null,
   "metadata": {},
   "outputs": [],
   "source": []
  }
 ],
 "metadata": {
  "kernelspec": {
   "display_name": "cmc",
   "language": "python",
   "name": "python3"
  },
  "language_info": {
   "codemirror_mode": {
    "name": "ipython",
    "version": 3
   },
   "file_extension": ".py",
   "mimetype": "text/x-python",
   "name": "python",
   "nbconvert_exporter": "python",
   "pygments_lexer": "ipython3",
   "version": "3.11.9"
  }
 },
 "nbformat": 4,
 "nbformat_minor": 2
}
