{
 "cells": [
  {
   "cell_type": "markdown",
   "metadata": {},
   "source": [
    "## Librerias"
   ]
  },
  {
   "cell_type": "code",
   "execution_count": 2,
   "metadata": {
    "vscode": {
     "languageId": "r"
    }
   },
   "outputs": [
    {
     "name": "stderr",
     "output_type": "stream",
     "text": [
      "\n",
      "Adjuntando el paquete: 'dplyr'\n",
      "\n",
      "\n",
      "The following objects are masked from 'package:stats':\n",
      "\n",
      "    filter, lag\n",
      "\n",
      "\n",
      "The following objects are masked from 'package:base':\n",
      "\n",
      "    intersect, setdiff, setequal, union\n",
      "\n",
      "\n"
     ]
    }
   ],
   "source": [
    "library(FactoClass)\n",
    "library(bigrquery)\n",
    "library(dplyr)\n",
    "library(knitr)\n",
    "library(DT)\n",
    "library(DBI)"
   ]
  },
  {
   "cell_type": "markdown",
   "metadata": {},
   "source": [
    "## Parametros"
   ]
  },
  {
   "cell_type": "code",
   "execution_count": 6,
   "metadata": {
    "vscode": {
     "languageId": "r"
    }
   },
   "outputs": [],
   "source": [
    "# Proyecto de GCP\n",
    "project <- \"co-keralty-costomedico\"\n",
    "\n",
    "# Query para traer la data de diabetes\n",
    "query <- \"SELECT * FROM Diabetes_avicena_survival.diabetes_final\"\n",
    "\n",
    "# Configuracion de la conexion a BigQuery\n",
    "con <- dbConnect(bigrquery::bigquery(),\n",
    "                 project = project,\n",
    "                 dataset = \"Diabetes_avicena_survival\",\n",
    "                 location = \"us-east1\")\n",
    "\n",
    "# Columnas cualitativas\n",
    "variables_numericas <- c(\"year\",\n",
    "                         \"month\",\n",
    "                         \"edad\",\n",
    "                         \"peso\",\n",
    "                         \"talla\",\n",
    "                         \"HDL\",\n",
    "                         \"LDL\",\n",
    "                         \"trigliceridos\",\n",
    "                         \"perimetro_abdominal\",\n",
    "                         \"time_to_event\")\n",
    "\n",
    "# Columnas categoricas\n",
    "variables_factores <- c(\"genero_paciente\",\n",
    "                        \"raza_paciente\",\n",
    "                        \"nivel_academico_paciente\",\n",
    "                        \"ant_cardio\",\n",
    "                        \"med_hipertension\",\n",
    "                        \"ant_familiar_dm\",\n",
    "                        \"hace_ejercicio\",\n",
    "                        \"diabetes\")"
   ]
  },
  {
   "cell_type": "markdown",
   "metadata": {},
   "source": [
    "## Carga de datos"
   ]
  },
  {
   "cell_type": "code",
   "execution_count": 5,
   "metadata": {
    "vscode": {
     "languageId": "r"
    }
   },
   "outputs": [],
   "source": [
    "# Traer la data desde BigQuery\n",
    "data <- dbGetQuery(con, query)"
   ]
  },
  {
   "cell_type": "code",
   "execution_count": 8,
   "metadata": {
    "vscode": {
     "languageId": "r"
    }
   },
   "outputs": [
    {
     "name": "stdout",
     "output_type": "stream",
     "text": [
      "tibble [9,024 × 20] (S3: tbl_df/tbl/data.frame)\n",
      " $ numero_identificacion_paciente: chr [1:9024] \"1007107070\" \"26151819\" \"93396738\" \"43524938\" ...\n",
      " $ year                          : num [1:9024] 2022 2022 2022 2024 2024 ...\n",
      " $ month                         : num [1:9024] 8 8 8 1 1 5 5 9 9 2 ...\n",
      " $ fecha                         : Date[1:9024], format: \"2022-08-01\" \"2022-08-01\" ...\n",
      " $ edad                          : num [1:9024] 19 70 47 56 50 44 45 43 54 31 ...\n",
      " $ peso                          : num [1:9024] 56 82 85.2 56 91 ...\n",
      " $ talla                         : num [1:9024] 1.61 1.59 1.6 1.55 1.75 1.63 1.7 1.69 1.8 1.57 ...\n",
      " $ HDL                           : num [1:9024] 56 45.3 44 51 38 45.5 46 30 51.6 33.4 ...\n",
      " $ LDL                           : num [1:9024] 99 158 174 143 151 ...\n",
      " $ trigliceridos                 : num [1:9024] 95 238 90.1 254.7 211 ...\n",
      " $ perimetro_abdominal           : num [1:9024] 75 96 103 74.5 95 ...\n",
      " $ genero_paciente               : Factor w/ 2 levels \"Femenino\",\"Masculino\": 1 1 2 1 2 2 2 1 2 1 ...\n",
      " $ raza_paciente                 : Factor w/ 7 levels \"Afrocolombiano\",..: 4 3 4 4 3 4 4 4 4 4 ...\n",
      " $ nivel_academico_paciente      : Factor w/ 13 levels \"Bachillerato técnico\",..: 3 1 11 12 3 3 12 3 3 12 ...\n",
      " $ ant_cardio                    : Factor w/ 2 levels \"0\",\"1\": 1 2 1 1 1 1 1 1 2 1 ...\n",
      " $ med_hipertension              : Factor w/ 2 levels \"0\",\"1\": 1 1 1 1 1 1 1 1 1 1 ...\n",
      " $ ant_familiar_dm               : Factor w/ 2 levels \"0\",\"1\": 1 1 1 1 1 1 1 1 1 1 ...\n",
      " $ hace_ejercicio                : Factor w/ 4 levels \"20 minutos\",\"40 minutos\",..: 4 1 4 1 4 4 2 1 4 4 ...\n",
      " $ diabetes                      : Factor w/ 2 levels \"0\",\"1\": 2 1 1 1 1 1 1 1 2 1 ...\n",
      " $ time_to_event                 : num [1:9024] 1 1 1 1 1 1 1 1 1 1 ...\n"
     ]
    }
   ],
   "source": [
    "# Realizar cambios en cada una de las columnas de la data\n",
    "data <- data %>% mutate(across(all_of(variables_factores), as.factor))\n",
    "data <- data %>% mutate(across(all_of(variables_numericas), as.numeric))\n",
    "\n",
    "# Vista de los cambios realizados\n",
    "str(data)"
   ]
  },
  {
   "cell_type": "markdown",
   "metadata": {},
   "source": [
    "## Caracterizacion"
   ]
  },
  {
   "cell_type": "code",
   "execution_count": 9,
   "metadata": {
    "vscode": {
     "languageId": "r"
    }
   },
   "outputs": [
    {
     "name": "stdout",
     "output_type": "stream",
     "text": [
      "[1] \"Coeficientes de correlacion entre las variables continuas y Diabetes\"\n"
     ]
    },
    {
     "data": {
      "text/plain": [
       "\n",
       "\n",
       "| edad| peso| talla|  HDL|  LDL| trigliceridos| perimetro_abdominal| time_to_event|\n",
       "|----:|----:|-----:|----:|----:|-------------:|-------------------:|-------------:|\n",
       "| 0.03|  0.2|  0.02| 0.22| 0.13|          0.16|                0.33|          0.62|"
      ]
     },
     "metadata": {},
     "output_type": "display_data"
    }
   ],
   "source": [
    "print(\"Coeficientes de correlacion entre las variables continuas y Diabetes\")\n",
    "kable(centroids(data[, variables_numericas[3:length(variables_numericas)]],\n",
    "                data$diabetes)$cr * 100,\n",
    "      digits = 2)"
   ]
  },
  {
   "cell_type": "code",
   "execution_count": 10,
   "metadata": {
    "vscode": {
     "languageId": "r"
    }
   },
   "outputs": [
    {
     "name": "stdout",
     "output_type": "stream",
     "text": [
      "[1] \"Valores test para caracterización de variables cuantitativas y Diabetes\"\n"
     ]
    },
    {
     "data": {
      "text/plain": [
       "class: 0\n",
       "                    Test.Value Class.Mean Frequency Global.Mean\n",
       "time_to_event           7.4718    15.8299      7524     15.4930\n",
       "HDL                     4.4670    48.6059      7524     48.3305\n",
       "LDL                     3.4252   113.9575      7524    113.3086\n",
       "trigliceridos          -3.7673   152.6679      7524    154.3656\n",
       "peso                   -4.2994    74.1305      7524     74.4640\n",
       "perimetro_abdominal    -5.4365    93.7123      7524     94.0424\n",
       "------------------------------------------------------------ \n",
       "class: 1\n",
       "                    Test.Value Class.Mean Frequency Global.Mean\n",
       "perimetro_abdominal     5.4365    95.6977      1500     94.0424\n",
       "peso                    4.2994    76.1372      1500     74.4640\n",
       "trigliceridos           3.7673   162.8816      1500    154.3656\n",
       "LDL                    -3.4252   110.0533      1500    113.3086\n",
       "HDL                    -4.4670    46.9491      1500     48.3305\n",
       "time_to_event          -7.4718    13.8033      1500     15.4930"
      ]
     },
     "metadata": {},
     "output_type": "display_data"
    }
   ],
   "source": [
    "print(\"Valores test para caracterización de variables cuantitativas y Diabetes\")\n",
    "cluster.carac(data[, variables_numericas[3:length(variables_numericas)]],\n",
    "              data$diabetes,\n",
    "              tipo.v = \"co\",\n",
    "              v.lim = 2,\n",
    "              dn = 4,\n",
    "              dm = 4,\n",
    "              neg = TRUE)"
   ]
  },
  {
   "cell_type": "code",
   "execution_count": 11,
   "metadata": {
    "vscode": {
     "languageId": "r"
    }
   },
   "outputs": [
    {
     "name": "stdout",
     "output_type": "stream",
     "text": [
      "[1] \"Pruebas Test y Chi2 para vars cualitativas y Diabetes\"\n"
     ]
    },
    {
     "data": {
      "text/plain": [
       "\n",
       "\n",
       "|                         |         chi2| dfr|       pval|        tval|       phi2|\n",
       "|:------------------------|------------:|---:|----------:|-----------:|----------:|\n",
       "|genero_paciente          |    6.7956290|   1| 0.00913813|  2.35997300| 0.00075306|\n",
       "|raza_paciente            |    6.1002929|   6| 0.41204958|  0.22227583| 0.00067601|\n",
       "|nivel_academico_paciente |   20.4571028|  12| 0.05891830|  1.56391897| 0.00226697|\n",
       "|ant_cardio               |   32.0785168|   1| 0.00000001|  5.54370875| 0.00355480|\n",
       "|med_hipertension         |    0.9304823|   1| 0.33473763|  0.42686830| 0.00010311|\n",
       "|ant_familiar_dm          |    0.4542161|   1| 0.50033957| -0.00085118| 0.00005033|\n",
       "|hace_ejercicio           |    0.6896452|   3| 0.87563676| -1.15344818| 0.00007642|\n",
       "|diabetes                 | 9016.7860803|   1| 0.00000000|         Inf| 0.99920059|"
      ]
     },
     "metadata": {},
     "output_type": "display_data"
    }
   ],
   "source": [
    "print(\"Pruebas Test y Chi2 para vars cualitativas y Diabetes\")\n",
    "kable(chisq.carac(data[, variables_factores], data$diabetes, decr = FALSE),\n",
    "      digits = 8)"
   ]
  },
  {
   "cell_type": "code",
   "execution_count": 12,
   "metadata": {
    "vscode": {
     "languageId": "r"
    }
   },
   "outputs": [],
   "source": [
    "# Valores test para caracterización de diabetes\n",
    "# según las variables cualitativas\n",
    "data_prueba <- data.frame(data)\n",
    "test_values <- cluster.carac(data_prueba[,\n",
    "                               variables_factores[0:\n",
    "                                                    (length(variables_factores)\n",
    "                                                     - 1)]\n",
    "                             ],\n",
    "                             data_prueba$diabetes)"
   ]
  },
  {
   "cell_type": "code",
   "execution_count": 14,
   "metadata": {
    "vscode": {
     "languageId": "r"
    }
   },
   "outputs": [
    {
     "name": "stdout",
     "output_type": "stream",
     "text": [
      "[1] \"Valores test para las categorias contra Diabetes\"\n",
      "class: 0\n",
      "                                     Test.Value p.Value Class.Cat Cat.Class\n",
      "ant_cardio.1                              5.786   0.000      85.6      52.0\n",
      "genero_paciente.Masculino                 2.844   0.004      84.7      39.5\n",
      "nivel_academico_paciente.Profesional      2.777   0.005      86.1      12.3\n",
      "raza_paciente.Mestizo                     2.081   0.037      86.8       4.2\n",
      "raza_paciente.Otros                      -2.273   0.023      83.2      93.4\n",
      "genero_paciente.Femenino                 -2.844   0.004      82.6      60.5\n",
      "nivel_academico_paciente.Normalista      -3.121   0.002      78.9       6.3\n",
      "ant_cardio.0                             -5.786   0.000      81.1      48.0\n",
      "                                     Global Weight\n",
      "ant_cardio.1                           50.6   4570\n",
      "genero_paciente.Masculino              38.9   3510\n",
      "nivel_academico_paciente.Profesional   11.9   1078\n",
      "raza_paciente.Mestizo                   4.0    365\n",
      "raza_paciente.Otros                    93.6   8450\n",
      "genero_paciente.Femenino               61.1   5514\n",
      "nivel_academico_paciente.Normalista     6.6    597\n",
      "ant_cardio.0                           49.4   4454\n",
      "------------------------------------------------------------ \n",
      "class: 1\n",
      "                                     Test.Value p.Value Class.Cat Cat.Class\n",
      "ant_cardio.0                              5.786   0.000      18.9      56.1\n",
      "nivel_academico_paciente.Normalista       3.121   0.002      21.1       8.4\n",
      "genero_paciente.Femenino                  2.844   0.004      17.4      64.1\n",
      "raza_paciente.Otros                       2.273   0.023      16.8      94.8\n",
      "raza_paciente.Mestizo                    -2.081   0.037      13.2       3.2\n",
      "nivel_academico_paciente.Profesional     -2.777   0.005      13.9      10.0\n",
      "genero_paciente.Masculino                -2.844   0.004      15.3      35.9\n",
      "ant_cardio.1                             -5.786   0.000      14.4      43.9\n",
      "                                     Global Weight\n",
      "ant_cardio.0                           49.4   4454\n",
      "nivel_academico_paciente.Normalista     6.6    597\n",
      "genero_paciente.Femenino               61.1   5514\n",
      "raza_paciente.Otros                    93.6   8450\n",
      "raza_paciente.Mestizo                   4.0    365\n",
      "nivel_academico_paciente.Profesional   11.9   1078\n",
      "genero_paciente.Masculino              38.9   3510\n",
      "ant_cardio.1                           50.6   4570\n"
     ]
    }
   ],
   "source": [
    "print(\"Valores test para las categorias contra Diabetes\")\n",
    "print(test_values)"
   ]
  },
  {
   "cell_type": "code",
   "execution_count": null,
   "metadata": {
    "vscode": {
     "languageId": "r"
    }
   },
   "outputs": [],
   "source": []
  }
 ],
 "metadata": {
  "kernelspec": {
   "display_name": "R",
   "language": "R",
   "name": "ir"
  },
  "language_info": {
   "codemirror_mode": "r",
   "file_extension": ".r",
   "mimetype": "text/x-r-source",
   "name": "R",
   "pygments_lexer": "r",
   "version": "4.4.2"
  }
 },
 "nbformat": 4,
 "nbformat_minor": 2
}
