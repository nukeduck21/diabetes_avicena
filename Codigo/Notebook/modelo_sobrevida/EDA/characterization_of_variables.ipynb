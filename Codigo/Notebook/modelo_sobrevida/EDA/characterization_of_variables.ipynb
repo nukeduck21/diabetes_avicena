{
 "cells": [
  {
   "cell_type": "markdown",
   "metadata": {},
   "source": [
    "## Librerias"
   ]
  },
  {
   "cell_type": "code",
   "execution_count": 1,
   "metadata": {
    "vscode": {
     "languageId": "r"
    }
   },
   "outputs": [
    {
     "name": "stderr",
     "output_type": "stream",
     "text": [
      "Cargando paquete requerido: ade4\n",
      "\n",
      "Cargando paquete requerido: ggplot2\n",
      "\n",
      "Cargando paquete requerido: ggrepel\n",
      "\n",
      "Cargando paquete requerido: xtable\n",
      "\n",
      "Cargando paquete requerido: scatterplot3d\n",
      "\n",
      "\n",
      "Adjuntando el paquete: 'dplyr'\n",
      "\n",
      "\n",
      "The following objects are masked from 'package:stats':\n",
      "\n",
      "    filter, lag\n",
      "\n",
      "\n",
      "The following objects are masked from 'package:base':\n",
      "\n",
      "    intersect, setdiff, setequal, union\n",
      "\n",
      "\n"
     ]
    }
   ],
   "source": [
    "library(FactoClass)\n",
    "library(bigrquery)\n",
    "library(dplyr)\n",
    "library(knitr)\n",
    "library(DT)\n",
    "library(DBI)"
   ]
  },
  {
   "cell_type": "markdown",
   "metadata": {},
   "source": [
    "## Parametros"
   ]
  },
  {
   "cell_type": "code",
   "execution_count": 2,
   "metadata": {
    "vscode": {
     "languageId": "r"
    }
   },
   "outputs": [],
   "source": [
    "# Proyecto de GCP\n",
    "project <- \"co-keralty-costomedico\"\n",
    "\n",
    "# Query para traer la data de diabetes\n",
    "query <- \"SELECT * FROM Diabetes_avicena_survival.diabetes_final\"\n",
    "\n",
    "# Configuracion de la conexion a BigQuery\n",
    "con <- dbConnect(bigrquery::bigquery(),\n",
    "                 project = project,\n",
    "                 dataset = \"Diabetes_avicena_survival\",\n",
    "                 location = \"us-east1\")\n",
    "\n",
    "# Columnas cualitativas\n",
    "variables_numericas <- c(\"year\",\n",
    "                         \"month\",\n",
    "                         \"edad\",\n",
    "                         \"IMC\",\n",
    "                         \"HDL\",\n",
    "                         \"LDL\",\n",
    "                         \"trigliceridos\",\n",
    "                         \"perimetro_abdominal\"\n",
    "                         #\"time_to_event\"\n",
    "                         )\n",
    "\n",
    "# Columnas categoricas\n",
    "variables_factores <- c(\"genero_paciente\",\n",
    "                        \"raza_paciente\",\n",
    "                        \"nivel_academico_paciente\",\n",
    "                        \"ant_cardio\",\n",
    "                        \"med_hipertension\",\n",
    "                        \"ant_familiar_dm\",\n",
    "                        \"hace_ejercicio\",\n",
    "                        \"diabetes\")"
   ]
  },
  {
   "cell_type": "markdown",
   "metadata": {},
   "source": [
    "## Carga de datos"
   ]
  },
  {
   "cell_type": "code",
   "execution_count": 3,
   "metadata": {
    "vscode": {
     "languageId": "r"
    }
   },
   "outputs": [],
   "source": [
    "# Traer la data desde BigQuery\n",
    "data <- dbGetQuery(con, query)"
   ]
  },
  {
   "cell_type": "code",
   "execution_count": 4,
   "metadata": {
    "vscode": {
     "languageId": "r"
    }
   },
   "outputs": [
    {
     "name": "stdout",
     "output_type": "stream",
     "text": [
      "tibble [9,032 × 21] (S3: tbl_df/tbl/data.frame)\n",
      " $ numero_identificacion_paciente: chr [1:9032] \"26151819\" \"1007107070\" \"34341427\" \"94426911\" ...\n",
      " $ year                          : num [1:9032] 2022 2022 2024 2024 2024 ...\n",
      " $ month                         : num [1:9032] 8 8 1 1 1 5 5 9 9 2 ...\n",
      " $ fecha                         : Date[1:9032], format: \"2022-08-01\" \"2022-08-01\" ...\n",
      " $ edad                          : num [1:9032] 70 19 39 50 56 44 45 54 43 31 ...\n",
      " $ peso                          : num [1:9032] 82 56 78 91 56 ...\n",
      " $ talla                         : num [1:9032] 1.59 1.61 1.6 1.75 1.55 1.63 1.7 1.8 1.69 1.57 ...\n",
      " $ IMC                           : num [1:9032] 32.4 21.6 30.5 29.7 23.3 ...\n",
      " $ HDL                           : num [1:9032] 45.3 56 64.5 38 51 45.5 46 51.6 30 33.4 ...\n",
      " $ LDL                           : num [1:9032] 158 99 102 151 143 ...\n",
      " $ trigliceridos                 : num [1:9032] 238 95 162 211 255 ...\n",
      " $ perimetro_abdominal           : num [1:9032] 96 75 89.5 95 74.5 ...\n",
      " $ genero_paciente               : Factor w/ 2 levels \"Femenino\",\"Masculino\": 1 1 1 2 1 2 2 2 1 1 ...\n",
      " $ raza_paciente                 : Factor w/ 7 levels \"Afrocolombiano\",..: 3 4 4 3 4 4 4 4 4 4 ...\n",
      " $ nivel_academico_paciente      : Factor w/ 13 levels \"Bachillerato técnico\",..: 1 3 13 3 12 3 12 3 3 12 ...\n",
      " $ ant_cardio                    : Factor w/ 2 levels \"0\",\"1\": 2 1 1 1 1 1 1 2 1 1 ...\n",
      " $ med_hipertension              : Factor w/ 2 levels \"0\",\"1\": 1 1 1 1 1 1 1 1 1 1 ...\n",
      " $ ant_familiar_dm               : Factor w/ 2 levels \"0\",\"1\": 1 1 1 1 1 1 1 1 1 1 ...\n",
      " $ hace_ejercicio                : Factor w/ 4 levels \"20 minutos\",\"40 minutos\",..: 1 4 2 4 1 4 2 4 1 4 ...\n",
      " $ diabetes                      : Factor w/ 2 levels \"0\",\"1\": 1 2 1 1 1 1 1 2 1 1 ...\n",
      " $ time_to_event                 : int [1:9032] 1 1 1 1 1 1 1 1 1 1 ...\n"
     ]
    }
   ],
   "source": [
    "# Realizar cambios en cada una de las columnas de la data\n",
    "data <- data %>% mutate(across(all_of(variables_factores), as.factor))\n",
    "data <- data %>% mutate(across(all_of(variables_numericas), as.numeric))\n",
    "\n",
    "# Vista de los cambios realizados\n",
    "str(data)"
   ]
  },
  {
   "cell_type": "markdown",
   "metadata": {},
   "source": [
    "## Caracterizacion"
   ]
  },
  {
   "cell_type": "code",
   "execution_count": 5,
   "metadata": {
    "vscode": {
     "languageId": "r"
    }
   },
   "outputs": [
    {
     "name": "stdout",
     "output_type": "stream",
     "text": [
      "[1] \"Coeficientes de correlacion entre las variables continuas y Diabetes\"\n"
     ]
    },
    {
     "data": {
      "text/plain": [
       "\n",
       "\n",
       "| edad|  IMC|  HDL|  LDL| trigliceridos| perimetro_abdominal|\n",
       "|----:|----:|----:|----:|-------------:|-------------------:|\n",
       "| 0.04| 0.48| 0.26| 0.16|          0.17|                0.35|"
      ]
     },
     "metadata": {},
     "output_type": "display_data"
    }
   ],
   "source": [
    "print(\"Coeficientes de correlacion entre las variables continuas y Diabetes\")\n",
    "kable(centroids(data[, variables_numericas[3:length(variables_numericas)]],\n",
    "                data$diabetes)$cr * 100,\n",
    "      digits = 2)"
   ]
  },
  {
   "cell_type": "code",
   "execution_count": 6,
   "metadata": {
    "vscode": {
     "languageId": "r"
    }
   },
   "outputs": [
    {
     "name": "stdout",
     "output_type": "stream",
     "text": [
      "[1] \"Valores test para caracterización de variables cuantitativas y Diabetes\"\n"
     ]
    },
    {
     "data": {
      "text/plain": [
       "class: 0\n",
       "                    Test.Value Class.Mean Frequency Global.Mean\n",
       "HDL                     4.8910    48.6415      7520     48.3392\n",
       "LDL                     3.7666   113.8423      7520    113.1242\n",
       "trigliceridos          -3.8840   152.7419      7520    154.4975\n",
       "perimetro_abdominal    -5.6086    93.6575      7520     93.9987\n",
       "IMC                    -6.5664    28.3260      7520     28.4939\n",
       "------------------------------------------------------------ \n",
       "class: 1\n",
       "                    Test.Value Class.Mean Frequency Global.Mean\n",
       "IMC                     6.5664    29.3293      1512     28.4939\n",
       "perimetro_abdominal     5.6086    95.6952      1512     93.9987\n",
       "trigliceridos           3.8840   163.2290      1512    154.4975\n",
       "LDL                    -3.7666   109.5524      1512    113.1242\n",
       "HDL                    -4.8910    46.8357      1512     48.3392"
      ]
     },
     "metadata": {},
     "output_type": "display_data"
    }
   ],
   "source": [
    "print(\"Valores test para caracterización de variables cuantitativas y Diabetes\")\n",
    "cluster.carac(data[, variables_numericas[3:length(variables_numericas)]],\n",
    "              data$diabetes,\n",
    "              tipo.v = \"co\",\n",
    "              v.lim = 2,\n",
    "              dn = 4,\n",
    "              dm = 4,\n",
    "              neg = TRUE)"
   ]
  },
  {
   "cell_type": "code",
   "execution_count": 7,
   "metadata": {
    "vscode": {
     "languageId": "r"
    }
   },
   "outputs": [
    {
     "name": "stdout",
     "output_type": "stream",
     "text": [
      "[1] \"Pruebas Test y Chi2 para vars cualitativas y Diabetes\"\n"
     ]
    },
    {
     "data": {
      "text/plain": [
       "\n",
       "\n",
       "|                         |         chi2| dfr|       pval|       tval|       phi2|\n",
       "|:------------------------|------------:|---:|----------:|----------:|----------:|\n",
       "|genero_paciente          | 6.599930e+00|   1| 0.01019828|  2.3189720| 0.00073073|\n",
       "|raza_paciente            | 4.886317e+00|   6| 0.55847453| -0.1471027| 0.00054100|\n",
       "|nivel_academico_paciente | 2.398332e+01|  12| 0.02044756|  2.0445918| 0.00265537|\n",
       "|ant_cardio               | 2.993082e+01|   1| 0.00000004|  5.3467493| 0.00331386|\n",
       "|med_hipertension         | 9.178199e-02|   1| 0.76192383| -0.7125046| 0.00001016|\n",
       "|ant_familiar_dm          | 3.044634e-01|   1| 0.58109768| -0.2047024| 0.00003371|\n",
       "|hace_ejercicio           | 1.273206e+00|   3| 0.73550525| -0.6295493| 0.00014097|\n",
       "|diabetes                 | 9.024827e+03|   1| 0.00000000|        Inf| 0.99920580|"
      ]
     },
     "metadata": {},
     "output_type": "display_data"
    }
   ],
   "source": [
    "print(\"Pruebas Test y Chi2 para vars cualitativas y Diabetes\")\n",
    "kable(chisq.carac(data[, variables_factores], data$diabetes, decr = FALSE),\n",
    "      digits = 8)"
   ]
  },
  {
   "cell_type": "code",
   "execution_count": 8,
   "metadata": {
    "vscode": {
     "languageId": "r"
    }
   },
   "outputs": [],
   "source": [
    "# Valores test para caracterización de diabetes\n",
    "# según las variables cualitativas\n",
    "data_prueba <- data.frame(data)\n",
    "test_values <- cluster.carac(data_prueba[,\n",
    "                               variables_factores[0:\n",
    "                                                    (length(variables_factores)\n",
    "                                                     - 1)]\n",
    "                             ],\n",
    "                             data_prueba$diabetes)"
   ]
  },
  {
   "cell_type": "code",
   "execution_count": 9,
   "metadata": {
    "vscode": {
     "languageId": "r"
    }
   },
   "outputs": [
    {
     "name": "stdout",
     "output_type": "stream",
     "text": [
      "[1] \"Valores test para las categorias contra Diabetes\"\n"
     ]
    },
    {
     "name": "stdout",
     "output_type": "stream",
     "text": [
      "class: 0\n",
      "                                     Test.Value p.Value Class.Cat Cat.Class\n",
      "ant_cardio.1                              5.596   0.000      85.4      52.0\n",
      "nivel_academico_paciente.Profesional      3.233   0.001      86.5      12.4\n",
      "genero_paciente.Masculino                 2.809   0.005      84.5      39.4\n",
      "genero_paciente.Femenino                 -2.809   0.005      82.4      60.6\n",
      "nivel_academico_paciente.Normalista      -3.049   0.002      78.9       6.3\n",
      "ant_cardio.0                             -5.596   0.000      81.1      48.0\n",
      "                                     Global Weight\n",
      "ant_cardio.1                           50.7   4579\n",
      "nivel_academico_paciente.Profesional   11.9   1079\n",
      "genero_paciente.Masculino              38.8   3506\n",
      "genero_paciente.Femenino               61.2   5526\n",
      "nivel_academico_paciente.Normalista     6.7    602\n",
      "ant_cardio.0                           49.3   4453\n",
      "------------------------------------------------------------ \n",
      "class: 1\n",
      "                                     Test.Value p.Value Class.Cat Cat.Class\n",
      "ant_cardio.0                              5.596   0.000      18.9      55.8\n",
      "nivel_academico_paciente.Normalista       3.049   0.002      21.1       8.4\n",
      "genero_paciente.Femenino                  2.809   0.005      17.6      64.2\n",
      "genero_paciente.Masculino                -2.809   0.005      15.5      35.8\n",
      "nivel_academico_paciente.Profesional     -3.233   0.001      13.5       9.7\n",
      "ant_cardio.1                             -5.596   0.000      14.6      44.2\n",
      "                                     Global Weight\n",
      "ant_cardio.0                           49.3   4453\n",
      "nivel_academico_paciente.Normalista     6.7    602\n",
      "genero_paciente.Femenino               61.2   5526\n",
      "genero_paciente.Masculino              38.8   3506\n",
      "nivel_academico_paciente.Profesional   11.9   1079\n",
      "ant_cardio.1                           50.7   4579\n"
     ]
    }
   ],
   "source": [
    "print(\"Valores test para las categorias contra Diabetes\")\n",
    "print(test_values)"
   ]
  },
  {
   "cell_type": "code",
   "execution_count": null,
   "metadata": {
    "vscode": {
     "languageId": "r"
    }
   },
   "outputs": [],
   "source": []
  }
 ],
 "metadata": {
  "kernelspec": {
   "display_name": "R",
   "language": "R",
   "name": "ir"
  },
  "language_info": {
   "codemirror_mode": "r",
   "file_extension": ".r",
   "mimetype": "text/x-r-source",
   "name": "R",
   "pygments_lexer": "r",
   "version": "4.4.2"
  }
 },
 "nbformat": 4,
 "nbformat_minor": 2
}
