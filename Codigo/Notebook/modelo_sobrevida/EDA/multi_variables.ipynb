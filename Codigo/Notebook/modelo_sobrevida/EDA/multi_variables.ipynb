{
 "cells": [
  {
   "cell_type": "markdown",
   "metadata": {},
   "source": [
    "## Librerias"
   ]
  },
  {
   "cell_type": "code",
   "execution_count": 4,
   "metadata": {
    "vscode": {
     "languageId": "r"
    }
   },
   "outputs": [],
   "source": [
    "library(dplyr)\n",
    "\n",
    "library(FactoClass)\n",
    "library(FactoMineR)\n",
    "library(factoextra)\n",
    "library(plotly)\n",
    "library(knitr)\n",
    "library(DT)\n",
    "library(DBI)"
   ]
  },
  {
   "cell_type": "markdown",
   "metadata": {},
   "source": [
    "## Parametros"
   ]
  },
  {
   "cell_type": "code",
   "execution_count": 5,
   "metadata": {
    "vscode": {
     "languageId": "r"
    }
   },
   "outputs": [],
   "source": [
    "# Proyecto de GCP\n",
    "project <- \"co-keralty-costomedico\"\n",
    "\n",
    "# Query para traer la data de diabetes\n",
    "query <- \"SELECT * FROM Diabetes_avicena_survival.diabetes_final\"\n",
    "\n",
    "# Configuracion de la conexion a BigQuery\n",
    "con <- dbConnect(bigrquery::bigquery(),\n",
    "                 project = project,\n",
    "                 dataset = \"Diabetes_avicena_survival\",\n",
    "                 location = \"us-east1\")\n",
    "\n",
    "# Columnas cualitativas\n",
    "variables_numericas <- c(\"year\",\n",
    "                         \"month\",\n",
    "                         \"edad\",\n",
    "                         \"peso\",\n",
    "                         \"talla\",\n",
    "                         \"HDL\",\n",
    "                         \"LDL\",\n",
    "                         \"trigliceridos\",\n",
    "                         \"perimetro_abdominal\",\n",
    "                         \"time_to_event\")\n",
    "\n",
    "# Columnas categoricas\n",
    "variables_factores <- c(\"genero_paciente\",\n",
    "                        \"raza_paciente\",\n",
    "                        \"nivel_academico_paciente\",\n",
    "                        \"ant_cardio\",\n",
    "                        \"med_hipertension\",\n",
    "                        \"ant_familiar_dm\",\n",
    "                        \"hace_ejercicio\",\n",
    "                        \"diabetes\")"
   ]
  },
  {
   "cell_type": "markdown",
   "metadata": {},
   "source": [
    "## Carga de datos"
   ]
  },
  {
   "cell_type": "code",
   "execution_count": 10,
   "metadata": {
    "vscode": {
     "languageId": "r"
    }
   },
   "outputs": [],
   "source": [
    "# Traer la data desde BigQuery\n",
    "data <- read.table(\"datas_no_outliers.csv\",\n",
    "                   sep = \"|\", header = TRUE)"
   ]
  },
  {
   "cell_type": "code",
   "execution_count": 11,
   "metadata": {
    "vscode": {
     "languageId": "r"
    }
   },
   "outputs": [
    {
     "name": "stdout",
     "output_type": "stream",
     "text": [
      "'data.frame':\t8020 obs. of  20 variables:\n",
      " $ numero_identificacion_paciente: num  1.01e+09 2.62e+07 9.34e+07 4.35e+07 9.44e+07 ...\n",
      " $ year                          : num  2022 2022 2022 2024 2024 ...\n",
      " $ month                         : num  8 8 8 1 1 5 5 9 2 2 ...\n",
      " $ fecha                         : chr  \"2022-08-01\" \"2022-08-01\" \"2022-08-01\" \"2024-01-01\" ...\n",
      " $ edad                          : num  19 70 47 56 50 44 45 43 31 55 ...\n",
      " $ peso                          : num  56 82 85.2 56 91 81.2 79 85.9 52.2 85.5 ...\n",
      " $ talla                         : num  1.61 1.59 1.6 1.55 1.75 1.63 1.7 1.69 1.57 1.71 ...\n",
      " $ HDL                           : num  56 45.3 44 51 38 45.5 46 30 33.4 26 ...\n",
      " $ LDL                           : num  99 158 174 143 151 ...\n",
      " $ trigliceridos                 : num  95 238 90.1 254.7 211 ...\n",
      " $ perimetro_abdominal           : num  75 96 103 74.5 95 ...\n",
      " $ genero_paciente               : Factor w/ 2 levels \"Femenino\",\"Masculino\": 1 1 2 1 2 2 2 1 1 2 ...\n",
      " $ raza_paciente                 : Factor w/ 7 levels \"Afrocolombiano\",..: 4 3 4 4 3 4 4 4 4 4 ...\n",
      " $ nivel_academico_paciente      : Factor w/ 13 levels \"Bachillerato técnico\",..: 3 1 11 12 3 3 12 3 12 3 ...\n",
      " $ ant_cardio                    : Factor w/ 2 levels \"0\",\"1\": 1 2 1 1 1 1 1 1 1 1 ...\n",
      " $ med_hipertension              : Factor w/ 2 levels \"0\",\"1\": 1 1 1 1 1 1 1 1 1 1 ...\n",
      " $ ant_familiar_dm               : Factor w/ 2 levels \"0\",\"1\": 1 1 1 1 1 1 1 1 1 1 ...\n",
      " $ hace_ejercicio                : Factor w/ 4 levels \"20 minutos\",\"40 minutos\",..: 4 1 4 1 4 4 2 1 4 1 ...\n",
      " $ diabetes                      : Factor w/ 2 levels \"0\",\"1\": 2 1 1 1 1 1 1 1 1 1 ...\n",
      " $ time_to_event                 : num  1 1 1 1 1 1 1 1 1 1 ...\n"
     ]
    }
   ],
   "source": [
    "# Realizar cambios en cada una de las columnas de la data\n",
    "data <- data %>% mutate(across(all_of(variables_factores), as.factor))\n",
    "data <- data %>% mutate(across(all_of(variables_numericas), as.numeric))\n",
    "\n",
    "# Vista de los cambios realizados\n",
    "str(data)"
   ]
  },
  {
   "cell_type": "markdown",
   "metadata": {},
   "source": [
    "## ACP"
   ]
  },
  {
   "cell_type": "code",
   "execution_count": 16,
   "metadata": {
    "vscode": {
     "languageId": "r"
    }
   },
   "outputs": [],
   "source": [
    "vars_ilustrativas <- c()"
   ]
  },
  {
   "cell_type": "code",
   "execution_count": 15,
   "metadata": {
    "vscode": {
     "languageId": "r"
    }
   },
   "outputs": [
    {
     "data": {
      "text/html": [
       "<table class=\"dataframe\">\n",
       "<caption>A data.frame: 6 × 7</caption>\n",
       "<thead>\n",
       "\t<tr><th></th><th scope=col>edad</th><th scope=col>peso</th><th scope=col>talla</th><th scope=col>HDL</th><th scope=col>LDL</th><th scope=col>trigliceridos</th><th scope=col>perimetro_abdominal</th></tr>\n",
       "\t<tr><th></th><th scope=col>&lt;dbl&gt;</th><th scope=col>&lt;dbl&gt;</th><th scope=col>&lt;dbl&gt;</th><th scope=col>&lt;dbl&gt;</th><th scope=col>&lt;dbl&gt;</th><th scope=col>&lt;dbl&gt;</th><th scope=col>&lt;dbl&gt;</th></tr>\n",
       "</thead>\n",
       "<tbody>\n",
       "\t<tr><th scope=row>1</th><td>19</td><td>56.0</td><td>1.61</td><td>56.0</td><td> 99.00</td><td> 95.00</td><td> 75.0</td></tr>\n",
       "\t<tr><th scope=row>2</th><td>70</td><td>82.0</td><td>1.59</td><td>45.3</td><td>158.00</td><td>238.00</td><td> 96.0</td></tr>\n",
       "\t<tr><th scope=row>3</th><td>47</td><td>85.2</td><td>1.60</td><td>44.0</td><td>174.06</td><td> 90.13</td><td>103.0</td></tr>\n",
       "\t<tr><th scope=row>4</th><td>56</td><td>56.0</td><td>1.55</td><td>51.0</td><td>143.40</td><td>254.70</td><td> 74.5</td></tr>\n",
       "\t<tr><th scope=row>5</th><td>50</td><td>91.0</td><td>1.75</td><td>38.0</td><td>150.80</td><td>211.00</td><td> 95.0</td></tr>\n",
       "\t<tr><th scope=row>6</th><td>44</td><td>81.2</td><td>1.63</td><td>45.5</td><td>151.80</td><td> 90.10</td><td>101.5</td></tr>\n",
       "</tbody>\n",
       "</table>\n"
      ],
      "text/latex": [
       "A data.frame: 6 × 7\n",
       "\\begin{tabular}{r|lllllll}\n",
       "  & edad & peso & talla & HDL & LDL & trigliceridos & perimetro\\_abdominal\\\\\n",
       "  & <dbl> & <dbl> & <dbl> & <dbl> & <dbl> & <dbl> & <dbl>\\\\\n",
       "\\hline\n",
       "\t1 & 19 & 56.0 & 1.61 & 56.0 &  99.00 &  95.00 &  75.0\\\\\n",
       "\t2 & 70 & 82.0 & 1.59 & 45.3 & 158.00 & 238.00 &  96.0\\\\\n",
       "\t3 & 47 & 85.2 & 1.60 & 44.0 & 174.06 &  90.13 & 103.0\\\\\n",
       "\t4 & 56 & 56.0 & 1.55 & 51.0 & 143.40 & 254.70 &  74.5\\\\\n",
       "\t5 & 50 & 91.0 & 1.75 & 38.0 & 150.80 & 211.00 &  95.0\\\\\n",
       "\t6 & 44 & 81.2 & 1.63 & 45.5 & 151.80 &  90.10 & 101.5\\\\\n",
       "\\end{tabular}\n"
      ],
      "text/markdown": [
       "\n",
       "A data.frame: 6 × 7\n",
       "\n",
       "| <!--/--> | edad &lt;dbl&gt; | peso &lt;dbl&gt; | talla &lt;dbl&gt; | HDL &lt;dbl&gt; | LDL &lt;dbl&gt; | trigliceridos &lt;dbl&gt; | perimetro_abdominal &lt;dbl&gt; |\n",
       "|---|---|---|---|---|---|---|---|\n",
       "| 1 | 19 | 56.0 | 1.61 | 56.0 |  99.00 |  95.00 |  75.0 |\n",
       "| 2 | 70 | 82.0 | 1.59 | 45.3 | 158.00 | 238.00 |  96.0 |\n",
       "| 3 | 47 | 85.2 | 1.60 | 44.0 | 174.06 |  90.13 | 103.0 |\n",
       "| 4 | 56 | 56.0 | 1.55 | 51.0 | 143.40 | 254.70 |  74.5 |\n",
       "| 5 | 50 | 91.0 | 1.75 | 38.0 | 150.80 | 211.00 |  95.0 |\n",
       "| 6 | 44 | 81.2 | 1.63 | 45.5 | 151.80 |  90.10 | 101.5 |\n",
       "\n"
      ],
      "text/plain": [
       "  edad peso talla HDL  LDL    trigliceridos perimetro_abdominal\n",
       "1 19   56.0 1.61  56.0  99.00  95.00         75.0              \n",
       "2 70   82.0 1.59  45.3 158.00 238.00         96.0              \n",
       "3 47   85.2 1.60  44.0 174.06  90.13        103.0              \n",
       "4 56   56.0 1.55  51.0 143.40 254.70         74.5              \n",
       "5 50   91.0 1.75  38.0 150.80 211.00         95.0              \n",
       "6 44   81.2 1.63  45.5 151.80  90.10        101.5              "
      ]
     },
     "metadata": {},
     "output_type": "display_data"
    }
   ],
   "source": [
    "data_to_acp <- data[, 5:11]\n",
    "head(data_to_acp)"
   ]
  },
  {
   "cell_type": "code",
   "execution_count": 17,
   "metadata": {
    "vscode": {
     "languageId": "r"
    }
   },
   "outputs": [
    {
     "name": "stdout",
     "output_type": "stream",
     "text": [
      "dudi.pca                 package:ade4                  R Documentation\n",
      "\n",
      "_\bP_\br_\bi_\bn_\bc_\bi_\bp_\ba_\bl _\bC_\bo_\bm_\bp_\bo_\bn_\be_\bn_\bt _\bA_\bn_\ba_\bl_\by_\bs_\bi_\bs\n",
      "\n",
      "_\bD_\be_\bs_\bc_\br_\bi_\bp_\bt_\bi_\bo_\bn:\n",
      "\n",
      "     'dudi.pca' performs a principal component analysis of a data frame\n",
      "     and returns the results as objects of class 'pca' and 'dudi'.\n",
      "\n",
      "_\bU_\bs_\ba_\bg_\be:\n",
      "\n",
      "     dudi.pca(df, row.w = rep(1, nrow(df))/nrow(df), \n",
      "         col.w = rep(1, ncol(df)), center = TRUE, scale = TRUE, \n",
      "         scannf = TRUE, nf = 2)\n",
      "     \n",
      "_\bA_\br_\bg_\bu_\bm_\be_\bn_\bt_\bs:\n",
      "\n",
      "      df: a data frame with n rows (individuals) and p columns (numeric\n",
      "          variables)\n",
      "\n",
      "   row.w: an optional row weights (by default, uniform row weights)\n",
      "\n",
      "   col.w: an optional column weights (by default, unit column weights)\n",
      "\n",
      "  center: a logical or numeric value, centring option\n",
      "          if TRUE, centring by the mean\n",
      "          if FALSE no centring\n",
      "          if a numeric vector, its length must be equal to the number\n",
      "          of columns of the data frame df and gives the decentring\n",
      "\n",
      "   scale: a logical value indicating whether the column vectors should\n",
      "          be normed for the row.w weighting\n",
      "\n",
      "  scannf: a logical value indicating whether the screeplot should be\n",
      "          displayed\n",
      "\n",
      "      nf: if scannf FALSE, an integer indicating the number of kept\n",
      "          axes\n",
      "\n",
      "_\bV_\ba_\bl_\bu_\be:\n",
      "\n",
      "     Returns a list of classes 'pca' and 'dudi' (see dudi) containing\n",
      "     the used information for computing the principal component\n",
      "     analysis :\n",
      "\n",
      "     tab: the data frame to be analyzed depending of the transformation\n",
      "          arguments (center and scale)\n",
      "\n",
      "      cw: the column weights\n",
      "\n",
      "      lw: the row weights\n",
      "\n",
      "     eig: the eigenvalues\n",
      "\n",
      "    rank: the rank of the analyzed matrice\n",
      "\n",
      "      nf: the number of kept factors\n",
      "\n",
      "      c1: the column normed scores i.e. the principal axes\n",
      "\n",
      "      l1: the row normed scores\n",
      "\n",
      "      co: the column coordinates\n",
      "\n",
      "      li: the row coordinates i.e. the principal components\n",
      "\n",
      "    call: the call function\n",
      "\n",
      "    cent: the _p_ vector containing the means for variables (Note that\n",
      "          if 'center = F', the vector contains _p_ 0)\n",
      "\n",
      "    norm: the _p_ vector containing the standard deviations for\n",
      "          variables i.e. the root of the sum of squares deviations of\n",
      "          the values from their means divided by _n_ (Note that if\n",
      "          'norm = F', the vector contains _p_ 1)\n",
      "\n",
      "_\bA_\bu_\bt_\bh_\bo_\br(_\bs):\n",
      "\n",
      "     Daniel Chessel\n",
      "     Anne-Béatrice Dufour <mailto:anne-beatrice.dufour@univ-lyon1.fr>\n",
      "\n",
      "_\bS_\be_\be _\bA_\bl_\bs_\bo:\n",
      "\n",
      "     'prcomp', 'princomp' in the 'mva' library\n",
      "\n",
      "_\bE_\bx_\ba_\bm_\bp_\bl_\be_\bs:\n",
      "\n",
      "     data(deug)\n",
      "     deug.dudi <- dudi.pca(deug$tab, center = deug$cent, scale = FALSE, scan = FALSE)\n",
      "     deug.dudi1 <- dudi.pca(deug$tab, center = TRUE, scale = TRUE, scan = FALSE)\n",
      "     \n",
      "     if(adegraphicsLoaded()) {\n",
      "       g1 <- s.class(deug.dudi$li, deug$result, plot = FALSE)\n",
      "       g2 <- s.arrow(deug.dudi$c1, lab = names(deug$tab), plot = FALSE)\n",
      "       g3 <- s.class(deug.dudi1$li, deug$result, plot = FALSE)\n",
      "       g4 <- s.corcircle(deug.dudi1$co, lab = names(deug$tab), full = FALSE, plot = FALSE)\n",
      "       G1 <- rbindADEg(cbindADEg(g1, g2, plot = FALSE), cbindADEg(g3, g4, plot = FALSE), plot = TRUE)\n",
      "       \n",
      "       G2 <- s1d.hist(deug.dudi$tab, breaks = seq(-45, 35, by = 5), type = \"density\", xlim = c(-40, 40), \n",
      "         right = FALSE, ylim = c(0, 0.1), porigin.lwd = 2)\n",
      "         \n",
      "     } else {\n",
      "       par(mfrow = c(2, 2))\n",
      "       s.class(deug.dudi$li, deug$result, cpoint = 1)\n",
      "       s.arrow(deug.dudi$c1, lab = names(deug$tab))\n",
      "       s.class(deug.dudi1$li, deug$result, cpoint = 1)\n",
      "       s.corcircle(deug.dudi1$co, lab = names(deug$tab), full = FALSE, box = TRUE)\n",
      "       par(mfrow = c(1, 1))\n",
      "     \n",
      "       # for interpretations\n",
      "       par(mfrow = c(3, 3))\n",
      "       par(mar = c(2.1, 2.1, 2.1, 1.1))\n",
      "       for(i in 1:9) {\n",
      "         hist(deug.dudi$tab[,i], xlim = c(-40, 40), breaks = seq(-45, 35, by = 5), \n",
      "           prob = TRUE, right = FALSE, main = names(deug$tab)[i], xlab = \"\", ylim = c(0, 0.10))\n",
      "       abline(v = 0, lwd = 3)\n",
      "       }\n",
      "       par(mfrow = c(1, 1))\n",
      "     }\n",
      "     "
     ]
    }
   ],
   "source": [
    "help(dudi.pca)"
   ]
  },
  {
   "cell_type": "code",
   "execution_count": 18,
   "metadata": {
    "vscode": {
     "languageId": "r"
    }
   },
   "outputs": [],
   "source": [
    "acp <- dudi.pca(data_to_acp, scannf = FALSE, nf = 7)"
   ]
  },
  {
   "cell_type": "code",
   "execution_count": 19,
   "metadata": {
    "vscode": {
     "languageId": "r"
    }
   },
   "outputs": [
    {
     "name": "stdout",
     "output_type": "stream",
     "text": [
      "[1] \"Medias de las variables\"\n",
      "               edad                peso               talla                 HDL \n",
      "          59.072444           73.283679            1.610958           47.766259 \n",
      "                LDL       trigliceridos perimetro_abdominal \n",
      "         112.084447          143.239911           93.316782 \n",
      "[1] \"Desviacion estandar de las variables\"\n",
      "               edad                peso               talla                 HDL \n",
      "              15.16               14.19                0.09               10.89 \n",
      "                LDL       trigliceridos perimetro_abdominal \n",
      "              36.94               58.93               11.42 \n",
      "[1] \"Valores propios\"\n"
     ]
    },
    {
     "data": {
      "text/plain": [
       "Inertia information:\n",
       "Call: inertia.dudi(x = acp)\n",
       "\n",
       "Decomposition of total inertia:\n",
       "    inertia     cum  cum(%)\n",
       "Ax1  2.3286   2.329   33.27\n",
       "Ax2  1.2137   3.542   50.61\n",
       "Ax3  1.1703   4.713   67.32\n",
       "Ax4  0.9417   5.654   80.78\n",
       "Ax5  0.6723   6.327   90.38\n",
       "Ax6  0.5079   6.835   97.64\n",
       "Ax7  0.1654   7.000  100.00"
      ]
     },
     "metadata": {},
     "output_type": "display_data"
    },
    {
     "name": "stdout",
     "output_type": "stream",
     "text": [
      "[1] \"Vectores Propios\"\n",
      "                       CS1    CS2    CS3    CS4    CS5    CS6    CS7\n",
      "edad                 0.207  0.528  0.452  0.331 -0.559  0.055  0.222\n",
      "peso                -0.584 -0.180  0.099  0.238  0.123 -0.048  0.737\n",
      "talla               -0.409 -0.393  0.075 -0.196 -0.709 -0.249 -0.266\n",
      "HDL                  0.386 -0.376  0.091  0.513  0.092 -0.655 -0.022\n",
      "LDL                  0.017 -0.060 -0.734  0.520 -0.306  0.307  0.000\n",
      "trigliceridos       -0.260  0.606 -0.399 -0.097  0.027 -0.629 -0.019\n",
      "perimetro_abdominal -0.481  0.148  0.273  0.502  0.262  0.119 -0.580\n",
      "[1] \"Histograma de los valores propios\"\n"
     ]
    },
    {
     "data": {
      "image/png": "[encoded data removed]",
      "text/plain": [
       "plot without title"
      ]
     },
     "metadata": {
      "image/png": {
       "height": 420,
       "width": 420
      }
     },
     "output_type": "display_data"
    }
   ],
   "source": [
    "print(\"Medias de las variables\")\n",
    "print(acp$cent)\n",
    "\n",
    "print(\"Desviacion estandar de las variables\")\n",
    "print(round(acp$norm, 2))\n",
    "\n",
    "print(\"Valores propios\")\n",
    "inertia(acp)\n",
    "\n",
    "print(\"Vectores Propios\")\n",
    "print(round(acp$c1, 3))\n",
    "\n",
    "print(\"Histograma de los valores propios\")\n",
    "barplot(acp$eig)"
   ]
  },
  {
   "cell_type": "code",
   "execution_count": 21,
   "metadata": {
    "vscode": {
     "languageId": "r"
    }
   },
   "outputs": [
    {
     "name": "stdout",
     "output_type": "stream",
     "text": [
      "[1] \"Histograma del porcentaje de variacion\"\n"
     ]
    },
    {
     "data": {
      "image/png": "[encoded data removed]",
      "text/plain": [
       "plot without title"
      ]
     },
     "metadata": {
      "image/png": {
       "height": 420,
       "width": 420
      }
     },
     "output_type": "display_data"
    }
   ],
   "source": [
    "print(\"Histograma del porcentaje de variacion\")\n",
    "fviz_screeplot(acp, addlabels = TRUE, ylim = c(0, 100))"
   ]
  },
  {
   "cell_type": "code",
   "execution_count": 22,
   "metadata": {
    "vscode": {
     "languageId": "r"
    }
   },
   "outputs": [
    {
     "name": "stdout",
     "output_type": "stream",
     "text": [
      "[1] \"Entendimiento de los valores\"\n"
     ]
    },
    {
     "data": {
      "text/plain": [
       "Inertia information:\n",
       "Call: inertia.dudi(x = acp, col.inertia = TRUE)\n",
       "\n",
       "Decomposition of total inertia:\n",
       "    inertia     cum  cum(%)\n",
       "Ax1  2.3286   2.329   33.27\n",
       "Ax2  1.2137   3.542   50.61\n",
       "Ax3  1.1703   4.713   67.32\n",
       "Ax4  0.9417   5.654   80.78\n",
       "Ax5  0.6723   6.327   90.38\n",
       "Ax6  0.5079   6.835   97.64\n",
       "Ax7  0.1654   7.000  100.00\n",
       "\n",
       "Column contributions (%):\n",
       "               edad                peso               talla                 HDL \n",
       "              14.29               14.29               14.29               14.29 \n",
       "                LDL       trigliceridos perimetro_abdominal \n",
       "              14.29               14.29               14.29 \n",
       "\n",
       "Column absolute contributions (%):\n",
       "                       Axis1   Axis2   Axis3   Axis4    Axis5   Axis6     Axis7\n",
       "edad                 4.26833 27.9171 20.4282 10.9705 31.19583  0.3015 4.919e+00\n",
       "peso                34.13675  3.2348  0.9744  5.6695  1.50153  0.2330 5.425e+01\n",
       "talla               16.72023 15.4415  0.5579  3.8296 50.19788  6.2030 7.050e+00\n",
       "HDL                 14.89457 14.1394  0.8285 26.3651  0.84727 42.8764 4.880e-02\n",
       "LDL                  0.02978  0.3612 53.8209 27.0069  9.34098  9.4402 9.817e-06\n",
       "trigliceridos        6.76842 36.7248 15.9334  0.9454  0.07274 39.5185 3.666e-02\n",
       "perimetro_abdominal 23.18191  2.1811  7.4568 25.2130  6.84378  1.4274 3.370e+01\n",
       "\n",
       "Signed column relative contributions:\n",
       "                        Axis1    Axis2    Axis3   Axis4    Axis5    Axis6\n",
       "edad                  9.93930  33.8843  23.9062 10.3314 -20.9720   0.1531\n",
       "peso                -79.49132  -3.9263   1.1403  5.3392   1.0094  -0.1183\n",
       "talla               -38.93497 -18.7421   0.6529 -3.6065 -33.7465  -3.1507\n",
       "HDL                  34.68370 -17.1617   0.9695 24.8291   0.5696 -21.7784\n",
       "LDL                   0.06935  -0.4384 -62.9841 25.4335  -6.2797   4.7950\n",
       "trigliceridos       -15.76104  44.5747 -18.6461 -0.8903   0.0489 -20.0728\n",
       "perimetro_abdominal -53.98172   2.6473   8.7263 23.7440   4.6009   0.7250\n",
       "                         Axis7\n",
       "edad                 8.137e-01\n",
       "peso                 8.975e+00\n",
       "talla               -1.166e+00\n",
       "HDL                 -8.074e-03\n",
       "LDL                  1.624e-06\n",
       "trigliceridos       -6.065e-03\n",
       "perimetro_abdominal -5.575e+00\n",
       "\n",
       "Cumulative sum of column relative contributions (%):\n",
       "                       Axis1 Axis1:2 Axis1:3 Axis1:4 Axis1:5 Axis1:6 Axis1:7\n",
       "edad                 9.93930 43.8236   67.73   78.06   99.03   99.19     100\n",
       "peso                79.49132 83.4176   84.56   89.90   90.91   91.02     100\n",
       "talla               38.93497 57.6771   58.33   61.94   95.68   98.83     100\n",
       "HDL                 34.68370 51.8454   52.81   77.64   78.21   99.99     100\n",
       "LDL                  0.06935  0.5078   63.49   88.93   95.20  100.00     100\n",
       "trigliceridos       15.76104 60.3357   78.98   79.87   79.92   99.99     100\n",
       "perimetro_abdominal 53.98172 56.6291   65.36   89.10   93.70   94.43     100\n",
       "                       Axis8:7\n",
       "edad                 2.198e-12\n",
       "peso                 5.995e-13\n",
       "talla               -7.772e-13\n",
       "HDL                  4.441e-14\n",
       "LDL                 -4.441e-13\n",
       "trigliceridos        1.321e-12\n",
       "perimetro_abdominal -2.887e-13"
      ]
     },
     "metadata": {},
     "output_type": "display_data"
    }
   ],
   "source": [
    "print(\"Entendimiento de los valores\")\n",
    "inertia(acp, , TRUE)"
   ]
  },
  {
   "cell_type": "code",
   "execution_count": 23,
   "metadata": {
    "vscode": {
     "languageId": "r"
    }
   },
   "outputs": [
    {
     "name": "stdout",
     "output_type": "stream",
     "text": [
      "[1] \"Correlaciones de las variables suplementarias\"\n"
     ]
    },
    {
     "data": {
      "image/png": "[encoded data removed]",
      "text/plain": [
       "plot without title"
      ]
     },
     "metadata": {
      "image/png": {
       "height": 420,
       "width": 420
      }
     },
     "output_type": "display_data"
    }
   ],
   "source": [
    "print(\"Correlaciones de las variables suplementarias\")\n",
    "s.corcircle(acp$co, xax = 1, yax = 2)"
   ]
  },
  {
   "cell_type": "code",
   "execution_count": 25,
   "metadata": {
    "vscode": {
     "languageId": "r"
    }
   },
   "outputs": [
    {
     "name": "stdout",
     "output_type": "stream",
     "text": [
      "[1] \"Correlaciones de las variables suplementarias\"\n"
     ]
    },
    {
     "data": {
      "image/png": "[encoded data removed]",
      "text/plain": [
       "plot without title"
      ]
     },
     "metadata": {
      "image/png": {
       "height": 420,
       "width": 420
      }
     },
     "output_type": "display_data"
    }
   ],
   "source": [
    "print(\"Correlaciones de las variables suplementarias\")\n",
    "s.corcircle(acp$co, xax = 1, yax = 3)"
   ]
  },
  {
   "cell_type": "code",
   "execution_count": 27,
   "metadata": {
    "vscode": {
     "languageId": "r"
    }
   },
   "outputs": [
    {
     "data": {
      "text/plain": [
       "\n",
       "\n",
       "|   |  wcat|    d2|  Axis1|  Axis2|  Axis3|  Axis4|  Axis5|  Axis6|  Axis7|\n",
       "|:--|-----:|-----:|------:|------:|------:|------:|------:|------:|------:|\n",
       "|X0 | 0.834| 0.003|  0.033| -0.034| -0.011|  0.002| -0.011|  0.004| -0.003|\n",
       "|X1 | 0.166| 0.064| -0.168|  0.169|  0.055| -0.009|  0.054| -0.023|  0.015|"
      ]
     },
     "metadata": {},
     "output_type": "display_data"
    }
   ],
   "source": [
    "sup <- supqual(acp, data[, c(\"diabetes\")])\n",
    "\n",
    "kable(cbind(wcat = sup$wcat, d2 = sup$dis2, sup$coor), digits = 3)"
   ]
  },
  {
   "cell_type": "code",
   "execution_count": 31,
   "metadata": {
    "vscode": {
     "languageId": "r"
    }
   },
   "outputs": [
    {
     "name": "stdout",
     "output_type": "stream",
     "text": [
      "[1] \"Representacion de Diabetes en los ejes principales\"\n"
     ]
    },
    {
     "name": "stdout",
     "output_type": "stream",
     "text": [
      "        Axis2       Axis3\n",
      "0 -0.03361267 -0.01101993\n",
      "1  0.16907423  0.05543109\n"
     ]
    },
    {
     "data": {
      "image/png": "[encoded data removed]",
      "text/plain": [
       "plot without title"
      ]
     },
     "metadata": {
      "image/png": {
       "height": 420,
       "width": 420
      }
     },
     "output_type": "display_data"
    }
   ],
   "source": [
    "print(\"Representacion de Diabetes en los ejes principales\")\n",
    "ejes <- c(2, 3)\n",
    "plot(acp[1:1000, ], ex = ejes[1], ey = ejes[2],\n",
    "     Tcol = FALSE, ucal = 100, cex.row = 0.01,\n",
    "     ylim = c(-1, 1), xlim = c(-1, 1))\n",
    "print(sup$coor[, ejes])\n",
    "points(sup$coor[, ejes], col = 3, pch = 16)\n",
    "text(sup$coor, labels = rownames(sup$coor),\n",
    "     col = 2, pos = 1, font = 3)"
   ]
  },
  {
   "cell_type": "code",
   "execution_count": 34,
   "metadata": {
    "vscode": {
     "languageId": "r"
    }
   },
   "outputs": [
    {
     "name": "stdout",
     "output_type": "stream",
     "text": [
      "[1] \"Agrupamiento basado en Diabetes para los ejes principales 2 y 3\"\n"
     ]
    },
    {
     "data": {
      "image/png": "[encoded data removed]",
      "text/plain": [
       "plot without title"
      ]
     },
     "metadata": {
      "image/png": {
       "height": 420,
       "width": 420
      }
     },
     "output_type": "display_data"
    }
   ],
   "source": [
    "print(\"Agrupamiento basado en Diabetes para los ejes principales 2 y 3\")\n",
    "fviz_pca_biplot(acp, axes = c(1, 3), label = \"var\",\n",
    "                habillage = data$diabetes,\n",
    "                alpha.ind = 0,\n",
    "                col.circle = \"green\",\n",
    "                addEllipses = TRUE)"
   ]
  },
  {
   "cell_type": "markdown",
   "metadata": {},
   "source": [
    "## ACM"
   ]
  },
  {
   "cell_type": "code",
   "execution_count": null,
   "metadata": {
    "vscode": {
     "languageId": "r"
    }
   },
   "outputs": [],
   "source": []
  }
 ],
 "metadata": {
  "kernelspec": {
   "display_name": "R",
   "language": "R",
   "name": "ir"
  },
  "language_info": {
   "codemirror_mode": "r",
   "file_extension": ".r",
   "mimetype": "text/x-r-source",
   "name": "R",
   "pygments_lexer": "r",
   "version": "4.4.2"
  }
 },
 "nbformat": 4,
 "nbformat_minor": 2
}
