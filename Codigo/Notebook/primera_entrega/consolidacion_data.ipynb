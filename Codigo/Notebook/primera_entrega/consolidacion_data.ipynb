{
 "cells": [
  {
   "cell_type": "code",
   "execution_count": 3,
   "metadata": {},
   "outputs": [],
   "source": [
    "from google.cloud import bigquery\n",
    "from time import time"
   ]
  },
  {
   "cell_type": "markdown",
   "metadata": {},
   "source": [
    "## Parametros"
   ]
  },
  {
   "cell_type": "code",
   "execution_count": 4,
   "metadata": {},
   "outputs": [],
   "source": [
    "proyecto = 'co-keralty-costomedico'\n",
    "dataset = 'Diabetes_avicena'\n",
    "\n",
    "# examenes\n",
    "\n",
    "fecha_para_tomar_examenes = '2019-10-31'\n",
    "\n",
    "examenes_glicemia = ['Glicemia Basal (mg/dl)','Glicemia (mg/dl)','Glucosa']\n",
    "examenes_glucosa = ['Glicemia 2 horas Postprandial (mg/dl)','Glicemia Pos(mg/dl)']\n",
    "examenes_hba1c = ['Hemoglobina Glicosilada (%)','Hemoglobina Glicosilada (HbA1c) (%)','Prueba rápida hemoglobina glicosilada']\n",
    "examenes_hdl = ['Colesterol HDL','Colesterol HDL (mg/dl)','HDL (mg/dl)']\n",
    "examenes_ldl = ['Colesterol LDL','Colesterol LDL (mg/dl)','LDL (mg/dl)']\n",
    "examenes_trigliceridos = ['Triglicéridos','Triglicéridos (mg/dl)']\n",
    "examenes_albuminuria = ['Microalbuminuria (mg/l)','Relaciones albumina/creatinina (RAC)','Relación Albuminuria/creatinuria (RAC)']\n",
    "\n",
    "# Antecedentes\n",
    "\n",
    "codigos_medicamentos_hipertension = ['C02AB0113C01','C02AB0113C02','C02AC0113C01','C02CA0113C01','C03EA0113C02',\n",
    "                                     'C03EA0113C03','C07AA0513C01','C07AA0513C02','C07AB0213C02','C07AB0213C03',\n",
    "                                     'C07AB0214C01','C07AB0214C02','C07AB0214C03','C07AB0214C04','C07AB0231C01',\n",
    "                                     'C07AB0313C01','C07AB0313C02','C07AB0713C01','C07AB0713C07','C07CB0313C01',\n",
    "                                     'C08CA0101C01','C08CA0101C02','C08CA0101C08','C08CA0113C01','C08CA0113C02',\n",
    "                                     'C08CA0113C03','C08CA0113C04','C08CA0113C05','C08CA0113C07','C08CA0113C08',\n",
    "                                     'C08CA0113C10','C08CA0501C01','C08CA0503C01','C08CA0514C02','C08DA0103C02',\n",
    "                                     'C08DA0113C01','C08DA0113C03','C08DA0114C02','C08DA0131C01','C08GA0213C01',\n",
    "                                     'C09AA0113C01','C09AA0113C02','C09AA0213C02','C09AA0213C03','C09BB0413C01',\n",
    "                                     'C09BB0413C02','C09BB0413C03','C09BB0413C04','C09BB1003C01','C09BB1013C01',\n",
    "                                     'C09BX0113C02','C09BX0113C03','C09CA0113C02','C09CA0113C03','C09CA0301C14',\n",
    "                                     'C09CA0813C01','C09CA0813C02','C09CA0813C03','C09DA0113C02','C09DA0113C03',\n",
    "                                     'C09DA0113C04','C09DA0613C01','C09DB0101C04','C09DB0113C01','C09DB0113C02',\n",
    "                                     'C09DB0113C05','C09DB0413C02','C09DB0413C03','C09DB0413C05','C09DB0513C01',\n",
    "                                     'C09DB0513C02','C09DB0513C03','C09DB0513C04','C09DB0601C01','C09DX0113C02',\n",
    "                                     'C09DX0113C04','C09DX0113C05','MAGISTR6018']\n",
    "\n",
    "codigos_cardiovascular = ['I630','I631','I632','I633','I634','I635','I638','I639','I653','I658','I659','I660','I661','I662','I664','I668',\n",
    "                          'I669','I672','I693','I698','I500','I509','I518','Y840','I210','I211','I212','I213','I214','I219','I220','I221',\n",
    "                          'I228','I229','I230','I231','I232','I233','I234','I235','I238','I240','I250','I251','I252','I702','I708','I709',\n",
    "                          'I739','I236','I240','I513','I81X','J960','J961','J969','P285','E271','E273','E274','E283','E310','E894','I051',\n",
    "                          'I052','I061','I062','I071','I110','I119','I120','I129','I130','I131','I132','I340','I351','I361','I371','I500',\n",
    "                          'I501','I509','I872','J951','J952','J953','J960','J961','J969','K704','K720','K721','K729','N170','N171','N172',\n",
    "                          'N178','N179','N180','N188','N189','N19X','N990','O084','O904','P285','P290','P960','Q222','Q231','Q233','Z353',\n",
    "                          'Z597','I210','I211','I212','I213','I214','I219','I220','I221','I228','I229','I230','I231','I232','I252','I256',\n",
    "                          'P294','I200','I201','I208','I209','I10X','I110','I119','I120','I129','I130','I131','I132','I139','I150','I151']\n",
    "\n",
    "familiar_con_dm = ['Antecedente familiar de diabetes','!']\n",
    "\n",
    "codigos_dm_gestacional = ['O240','O241','O242','O243','O244','O249','P700','P701','P702']\n",
    "\n",
    "codigos_ovario_poliquistico = ['E282','!']\n",
    "\n",
    "codigos_acantosis = ['L83X','!']"
   ]
  },
  {
   "cell_type": "code",
   "execution_count": 5,
   "metadata": {},
   "outputs": [],
   "source": [
    "client_bq = bigquery.Client(project= proyecto)"
   ]
  },
  {
   "cell_type": "markdown",
   "metadata": {},
   "source": [
    "## Funciones"
   ]
  },
  {
   "cell_type": "code",
   "execution_count": 6,
   "metadata": {},
   "outputs": [],
   "source": [
    "def create_table_bq(client,query,project_id,dataset_id,table_name,replace=False,**kwargs):\n",
    "\n",
    "    \n",
    "    \"\"\"\n",
    "    \n",
    "    This function creates (or replaces or aggregates information) a table in BigQuery from a query and stores it in a specific dataset. \n",
    "    If the table already exists, it appends the query results to the existing table.\n",
    "    \n",
    "    Parameters:\n",
    "    - client: BigQuery API client object.\n",
    "    - query: String representing the query to execute.\n",
    "    - project_id: String representing the ID of the project where the dataset is located.\n",
    "    - dataset_id: String representing the ID of the dataset where the table will be stored.\n",
    "    - table_name: String representing the name of the table to be created or updated.\n",
    "    - replace (optional): Boolean value indicating whether to replace the existing table before creating a new one.\n",
    "    - **kwargs: Optional parameters to configure table creation, such as destination, write mode, \n",
    "      time partitioning, and clustering fields.\n",
    "    \n",
    "    Returns:\n",
    "    - None\n",
    "    \"\"\"\n",
    "    t_i = time()\n",
    "    #creacion referencia tabla\n",
    "    # table_ref = client.dataset(dataset_id).table(table_name)\n",
    "\n",
    "    \n",
    "    # Verificar si la tabla existe en el dataset\n",
    "    try:\n",
    "        print(project_id+\".\"+dataset_id+\".\"+table_name)\n",
    "        client.get_table(project_id+\".\"+dataset_id+\".\"+table_name)\n",
    "        existe = True\n",
    "    except BaseException as e:\n",
    "        print(e)\n",
    "        existe = False\n",
    "    \n",
    "    \n",
    "    if existe and replace: # si existe y se desea rempleazar\n",
    "        \n",
    "        print(\"Existe la tabla, se procede a remplazar\")\n",
    "        \n",
    "        print(f'Borrando la tabla {kwargs[\"destination\"]}')\n",
    "        \n",
    "        client.delete_table(kwargs[\"destination\"], not_found_ok=True)#.result()\n",
    "        \n",
    "        if kwargs[\"partition_field\"] != '':\n",
    "            job_config = bigquery.QueryJobConfig(destination=kwargs[\"destination\"],write_disposition=bigquery.WriteDisposition.WRITE_TRUNCATE,\n",
    "                                                time_partitioning=bigquery.TimePartitioning(\n",
    "            type_=bigquery.TimePartitioningType.MONTH, # Or HOUR\n",
    "            field=kwargs[\"partition_field\"]) # The name of the partitioning column)\n",
    "            ,clustering_fields=kwargs[\"clustering_fields\"])\n",
    "        else:\n",
    "            job_config = bigquery.QueryJobConfig(destination=kwargs[\"destination\"],\n",
    "                                                 write_disposition=None,                       \n",
    "                                                 clustering_fields=kwargs[\"clustering_fields\"])\n",
    "        query_job =client.query(query, job_config=job_config)\n",
    "\n",
    "        results=query_job.result()\n",
    "        bytes_processed = query_job.total_bytes_processed\n",
    "        gb_processed = bytes_processed / (1024 * 1024 * 1024)\n",
    "        print(\"Cantidad de GB procesadas: \",gb_processed)\n",
    "        print(\"-------------------------------------------\")\n",
    "        t_f = time()\n",
    "\n",
    "        print(\"tiempo transcurrido creacion de tabla \",t_f-t_i)\n",
    "    elif (existe == False and replace==True) or (existe == False and  replace==False): # si hay algun error en la entrada de parametros\n",
    "        print(\"No existe la tabla, se procede a crearla\")\n",
    "\n",
    "        if kwargs[\"partition_field\"] != '':\n",
    "            job_config = bigquery.QueryJobConfig(destination=kwargs[\"destination\"],\n",
    "                                                write_disposition=None,\n",
    "                                                time_partitioning=bigquery.TimePartitioning(type_=bigquery.TimePartitioningType.MONTH, # Or HOUR\n",
    "                                                field=kwargs[\"partition_field\"]), # The name of the partitioning column\n",
    "                                                clustering_fields=kwargs[\"clustering_fields\"])\n",
    "        else:\n",
    "            job_config = bigquery.QueryJobConfig(destination=kwargs[\"destination\"],\n",
    "                                                write_disposition=None,\n",
    "                                                clustering_fields=kwargs[\"clustering_fields\"])\n",
    "            \n",
    "            \n",
    "\n",
    "        query_job =client.query(query, job_config=job_config)\n",
    "\n",
    "        results=query_job.result()\n",
    "        bytes_processed = query_job.total_bytes_processed\n",
    "        gb_processed = bytes_processed / (1024 * 1024 * 1024)\n",
    "        print(\"Cantidad de GB procesadas: \",gb_processed)\n",
    "        print(\"-------------------------------------------\")\n",
    "        t_f = time()\n",
    "\n",
    "        print(\"tiempo transcurrido creacion de tabla \",t_f-t_i)\n",
    "    else: \n",
    "        print(\"Se annade datos a la tabla existente\")\n",
    "        job_config = bigquery.QueryJobConfig()\n",
    "        \n",
    "        job_config.destination = project_id+\".\"+dataset_id+\".\"+table_name\n",
    "        job_config.write_disposition = bigquery.WriteDisposition.WRITE_APPEND\n",
    "        query_job =client.query(query, job_config=job_config)\n",
    "        \n",
    "        results=query_job.result()\n",
    "        bytes_processed = query_job.total_bytes_processed\n",
    "        gb_processed = bytes_processed / (1024 * 1024 * 1024)\n",
    "        print(\"Cantidad de GB procesadas: \",gb_processed)\n",
    "        print(\"-------------------------------------------\")\n",
    "        t_f = time()\n",
    "        print(\"tiempo transcurrido annadiendo data \",t_f-t_i)"
   ]
  },
  {
   "cell_type": "markdown",
   "metadata": {},
   "source": [
    "## Tablas auxiliares"
   ]
  },
  {
   "cell_type": "markdown",
   "metadata": {},
   "source": [
    "### tabla de examenes por usuarios"
   ]
  },
  {
   "cell_type": "markdown",
   "metadata": {},
   "source": [
    "#### Query"
   ]
  },
  {
   "cell_type": "code",
   "execution_count": 109,
   "metadata": {},
   "outputs": [],
   "source": [
    "## Consulta para crear tabla de examenes\n",
    "\n",
    "SQL_examenes = f\"\"\"SELECT DISTINCT main.numero_identificacion_paciente, \n",
    "                Intolerancia_Glucosa.Intolerancia_Glucosa,\n",
    "                Glicemia.Glicemia,\n",
    "                hb.HbA1c,\n",
    "                hdl.HDL,\n",
    "                ldl.LDL,\n",
    "                trigliceridos.trigliceridos,\n",
    "                albuminuria.albuminuria\n",
    "\n",
    "                \n",
    "FROM `prj-dev-repository-col.bq_finalzone_avicena.consulta_externa` as main\n",
    "\n",
    "LEFT JOIN \n",
    "(SELECT numero_identificacion_paciente,Intolerancia_Glucosa, orden FROM (SELECT \n",
    "      *,\n",
    "      ROW_NUMBER() over (PARTITION BY numero_identificacion_paciente ORDER BY fecha_apertura_folio desc) as orden\n",
    " FROM(SELECT\n",
    "      numero_identificacion_paciente,\n",
    "      fecha_apertura_folio,\n",
    "      IF(examen_laboratorio in {tuple(examenes_glucosa)}, MAX(resultado_examen_laboratorio), 'No Aplica') as Intolerancia_Glucosa,\n",
    "FROM\n",
    "      `prj-dev-repository-col.bq_finalzone_avicena.consulta_externa`\n",
    "WHERE fecha_apertura_folio >= '{fecha_para_tomar_examenes}'\n",
    "      AND origen in ('EXAMENES LABORATORIO') \n",
    "      AND resultado_examen_laboratorio IS NOT NULL\n",
    "GROUP BY    numero_identificacion_paciente, \n",
    "            examen_laboratorio,\n",
    "            resultado_examen_laboratorio, \n",
    "            fecha_apertura_folio)\n",
    "\n",
    "WHERE Intolerancia_Glucosa <>  'No Aplica') WHERE orden = 1\n",
    ") as Intolerancia_Glucosa ON Intolerancia_Glucosa.numero_identificacion_paciente = main.numero_identificacion_paciente\n",
    "\n",
    "LEFT JOIN (SELECT numero_identificacion_paciente,Glicemia, orden FROM (SELECT \n",
    "                              *,\n",
    "                              ROW_NUMBER() over (PARTITION BY numero_identificacion_paciente ORDER BY fecha_apertura_folio desc) as orden\n",
    "                        FROM(SELECT\n",
    "                              numero_identificacion_paciente,\n",
    "                              fecha_apertura_folio,\n",
    "                              IF(examen_laboratorio in {tuple(examenes_glicemia)}, MAX(resultado_examen_laboratorio),  'No Aplica') as Glicemia,\n",
    "                        FROM\n",
    "                              `prj-dev-repository-col.bq_finalzone_avicena.consulta_externa`\n",
    "                        WHERE fecha_apertura_folio >= '{fecha_para_tomar_examenes}'\n",
    "                              AND origen in ('EXAMENES LABORATORIO') \n",
    "                              AND resultado_examen_laboratorio IS NOT NULL\n",
    "                        GROUP BY    numero_identificacion_paciente, \n",
    "                                    examen_laboratorio,\n",
    "                                    resultado_examen_laboratorio,\n",
    "                                    fecha_apertura_folio)\n",
    "\n",
    "                        WHERE Glicemia <>  'No Aplica') WHERE orden = 1) as Glicemia ON Glicemia.numero_identificacion_paciente = main.numero_identificacion_paciente\n",
    "\n",
    "LEFT JOIN (SELECT numero_identificacion_paciente,HbA1c, orden FROM (SELECT \n",
    "                              *,\n",
    "                              ROW_NUMBER() over (PARTITION BY numero_identificacion_paciente ORDER BY fecha_apertura_folio desc) as orden\n",
    "                        FROM(SELECT\n",
    "                              numero_identificacion_paciente,\n",
    "                              fecha_apertura_folio,\n",
    "                              IF(examen_laboratorio in {tuple(examenes_hba1c)}, MAX(resultado_examen_laboratorio), 'No Aplica') as HbA1c,\n",
    "                        FROM\n",
    "                              `prj-dev-repository-col.bq_finalzone_avicena.consulta_externa`\n",
    "                        WHERE fecha_apertura_folio >= '{fecha_para_tomar_examenes}'\n",
    "                              AND origen in ('EXAMENES LABORATORIO') \n",
    "                              AND resultado_examen_laboratorio IS NOT NULL\n",
    "                        GROUP BY    numero_identificacion_paciente, \n",
    "                                    examen_laboratorio,\n",
    "                                    resultado_examen_laboratorio,\n",
    "                                    fecha_apertura_folio)\n",
    "\n",
    "                        WHERE HbA1c <>  'No Aplica') WHERE orden = 1 ) as hb ON hb.numero_identificacion_paciente = main.numero_identificacion_paciente\n",
    "\n",
    "LEFT JOIN (SELECT numero_identificacion_paciente,HDL, orden FROM (SELECT \n",
    "                              *,\n",
    "                              ROW_NUMBER() over (PARTITION BY numero_identificacion_paciente ORDER BY fecha_apertura_folio desc) as orden\n",
    "                        FROM(SELECT\n",
    "                              numero_identificacion_paciente,\n",
    "                              fecha_apertura_folio,\n",
    "                              IF(examen_laboratorio in {tuple(examenes_hdl)}, MIN(resultado_examen_laboratorio), 'No Aplica') as HDL,\n",
    "                        FROM\n",
    "                              `prj-dev-repository-col.bq_finalzone_avicena.consulta_externa`\n",
    "                        WHERE fecha_apertura_folio >= '{fecha_para_tomar_examenes}'\n",
    "                              AND origen in ('EXAMENES LABORATORIO') \n",
    "                              AND resultado_examen_laboratorio IS NOT NULL\n",
    "                        GROUP BY    numero_identificacion_paciente, \n",
    "                                    examen_laboratorio,\n",
    "                                    resultado_examen_laboratorio,\n",
    "                                    fecha_apertura_folio)\n",
    "\n",
    "                        WHERE HDL <>  'No Aplica') WHERE orden = 1 ) as hdl ON hdl.numero_identificacion_paciente = main.numero_identificacion_paciente\n",
    "\n",
    "LEFT JOIN (SELECT numero_identificacion_paciente,LDL, orden FROM (SELECT \n",
    "                              *,\n",
    "                              ROW_NUMBER() over (PARTITION BY numero_identificacion_paciente ORDER BY fecha_apertura_folio desc) as orden\n",
    "                        FROM(SELECT\n",
    "                              numero_identificacion_paciente,\n",
    "                              fecha_apertura_folio,\n",
    "                              IF(examen_laboratorio in {tuple(examenes_ldl)}, MAX(resultado_examen_laboratorio), 'No Aplica') as LDL,\n",
    "                        FROM\n",
    "                              `prj-dev-repository-col.bq_finalzone_avicena.consulta_externa`\n",
    "                        WHERE fecha_apertura_folio >= '{fecha_para_tomar_examenes}'\n",
    "                              AND origen in ('EXAMENES LABORATORIO') \n",
    "                              AND resultado_examen_laboratorio IS NOT NULL\n",
    "                        GROUP BY    numero_identificacion_paciente, \n",
    "                                    examen_laboratorio,\n",
    "                                    resultado_examen_laboratorio,\n",
    "                                    fecha_apertura_folio)\n",
    "\n",
    "                        WHERE ldl <>  'No Aplica') WHERE orden = 1 ) as ldl ON ldl.numero_identificacion_paciente = main.numero_identificacion_paciente\n",
    "\n",
    "LEFT JOIN (SELECT numero_identificacion_paciente,trigliceridos, orden FROM (SELECT \n",
    "                              *,\n",
    "                              ROW_NUMBER() over (PARTITION BY numero_identificacion_paciente ORDER BY fecha_apertura_folio desc) as orden\n",
    "                        FROM(SELECT\n",
    "                              numero_identificacion_paciente,\n",
    "                              fecha_apertura_folio,\n",
    "                              IF(examen_laboratorio in {tuple(examenes_trigliceridos)}, MAX(resultado_examen_laboratorio), 'No Aplica') as trigliceridos,\n",
    "                        FROM\n",
    "                              `prj-dev-repository-col.bq_finalzone_avicena.consulta_externa`\n",
    "                        WHERE fecha_apertura_folio >= '{fecha_para_tomar_examenes}'\n",
    "                              AND origen in ('EXAMENES LABORATORIO') \n",
    "                              AND resultado_examen_laboratorio IS NOT NULL\n",
    "                        GROUP BY    numero_identificacion_paciente, \n",
    "                                    examen_laboratorio,\n",
    "                                    resultado_examen_laboratorio,\n",
    "                                    fecha_apertura_folio)\n",
    "\n",
    "                        WHERE trigliceridos <>  'No Aplica') WHERE orden = 1 ) as trigliceridos ON trigliceridos.numero_identificacion_paciente = main.numero_identificacion_paciente\n",
    "\n",
    "LEFT JOIN (SELECT numero_identificacion_paciente,albuminuria, orden FROM (SELECT \n",
    "                              *,\n",
    "                              ROW_NUMBER() over (PARTITION BY numero_identificacion_paciente ORDER BY fecha_apertura_folio desc) as orden\n",
    "                        FROM(SELECT\n",
    "                              numero_identificacion_paciente,\n",
    "                              fecha_apertura_folio,\n",
    "                              IF(examen_laboratorio in {tuple(examenes_albuminuria)}, MAX(resultado_examen_laboratorio), 'No Aplica') as albuminuria,\n",
    "                        FROM\n",
    "                              `prj-dev-repository-col.bq_finalzone_avicena.consulta_externa`\n",
    "                        WHERE fecha_apertura_folio >= '{fecha_para_tomar_examenes}'\n",
    "                              AND origen in ('EXAMENES LABORATORIO') \n",
    "                              AND resultado_examen_laboratorio IS NOT NULL\n",
    "                        GROUP BY    numero_identificacion_paciente, \n",
    "                                    examen_laboratorio,\n",
    "                                    resultado_examen_laboratorio,\n",
    "                                    fecha_apertura_folio)\n",
    "\n",
    "                        WHERE albuminuria <>  'No Aplica') WHERE orden = 1 ) as albuminuria ON albuminuria.numero_identificacion_paciente = main.numero_identificacion_paciente\n",
    "\n",
    "                        WHERE Intolerancia_Glucosa.Intolerancia_Glucosa NOT IN ('PENDIENTE')\n",
    "OR Glicemia.Glicemia NOT IN ('PENDIENTE','VER ANEXO')\n",
    "OR hb.HbA1c NOT IN ('PENDIENTE','VER ANEXO')\n",
    "OR hdl.HDL NOT IN ('PENDIENTE','VER ANEXO')\n",
    "OR ldl.LDL NOT IN ('PENDIENTE','VER ANEXO','COMENTARIO')\n",
    "OR trigliceridos.trigliceridos NOT IN ('PENDIENTE','VER ANEXO')\n",
    "OR albuminuria.albuminuria NOT IN ('(FE)','*******','PENDIENTE')\n",
    "\n",
    "\"\"\""
   ]
  },
  {
   "cell_type": "code",
   "execution_count": 102,
   "metadata": {},
   "outputs": [
    {
     "data": {
      "text/plain": [
       "\"SELECT DISTINCT main.numero_identificacion_paciente, \\n                Intolerancia_Glucosa.Intolerancia_Glucosa,\\n                Glicemia.Glicemia,\\n                hb.HbA1c,\\n                hdl.HDL,\\n                ldl.LDL,\\n                trigliceridos.trigliceridos,\\n                albuminuria.albuminuria\\n\\n                \\nFROM `prj-dev-repository-col.bq_finalzone_avicena.consulta_externa` as main\\n\\nLEFT JOIN \\n(SELECT numero_identificacion_paciente,Intolerancia_Glucosa, orden FROM (SELECT \\n      *,\\n      ROW_NUMBER() over (PARTITION BY numero_identificacion_paciente ORDER BY fecha_apertura_folio desc) as orden\\n FROM(SELECT\\n      numero_identificacion_paciente,\\n      fecha_apertura_folio,\\n      IF(examen_laboratorio in ('Glicemia 2 horas Postprandial (mg/dl)', 'Glicemia Pos(mg/dl)'), MAX(resultado_examen_laboratorio), 'No Aplica') as Intolerancia_Glucosa,\\nFROM\\n      `prj-dev-repository-col.bq_finalzone_avicena.consulta_externa`\\nWHERE fecha_apertura_folio >= '2019-10-31'\\n      AND origen in ('EXAMENES LABORATORIO') \\n      AND resultado_examen_laboratorio IS NOT NULL\\n      AND Intolerancia_Glucosa NOT IN ('PENDIENTE')\\nGROUP BY    numero_identificacion_paciente, \\n            examen_laboratorio,\\n            resultado_examen_laboratorio, \\n            fecha_apertura_folio)\\n\\nWHERE Intolerancia_Glucosa <>  'No Aplica') WHERE orden = 1\\n) as Intolerancia_Glucosa ON Intolerancia_Glucosa.numero_identificacion_paciente = main.numero_identificacion_paciente\\n\\nLEFT JOIN (SELECT numero_identificacion_paciente,Glicemia, orden FROM (SELECT \\n                              *,\\n                              ROW_NUMBER() over (PARTITION BY numero_identificacion_paciente ORDER BY fecha_apertura_folio desc) as orden\\n                        FROM(SELECT\\n                              numero_identificacion_paciente,\\n                              fecha_apertura_folio,\\n                              IF(examen_laboratorio in ('Glicemia Basal (mg/dl)', 'Glicemia (mg/dl)', 'Glucosa'), MAX(resultado_examen_laboratorio),  'No Aplica') as Glicemia,\\n                        FROM\\n                              `prj-dev-repository-col.bq_finalzone_avicena.consulta_externa`\\n                        WHERE fecha_apertura_folio >= '2019-10-31'\\n                              AND origen in ('EXAMENES LABORATORIO') \\n                              AND resultado_examen_laboratorio IS NOT NULL\\n                              AND Glicemia NOT IN ('PENDIENTE','VER ANEXO')\\n                        GROUP BY    numero_identificacion_paciente, \\n                                    examen_laboratorio,\\n                                    resultado_examen_laboratorio,\\n                                    fecha_apertura_folio)\\n\\n                        WHERE Glicemia <>  'No Aplica') WHERE orden = 1) as Glicemia ON Glicemia.numero_identificacion_paciente = main.numero_identificacion_paciente\\n\\nLEFT JOIN (SELECT numero_identificacion_paciente,HbA1c, orden FROM (SELECT \\n                              *,\\n                              ROW_NUMBER() over (PARTITION BY numero_identificacion_paciente ORDER BY fecha_apertura_folio desc) as orden\\n                        FROM(SELECT\\n                              numero_identificacion_paciente,\\n                              fecha_apertura_folio,\\n                              IF(examen_laboratorio in ('Hemoglobina Glicosilada (%)', 'Hemoglobina Glicosilada (HbA1c) (%)', 'Prueba rápida hemoglobina glicosilada'), MAX(resultado_examen_laboratorio), 'No Aplica') as HbA1c,\\n                        FROM\\n                              `prj-dev-repository-col.bq_finalzone_avicena.consulta_externa`\\n                        WHERE fecha_apertura_folio >= '2019-10-31'\\n                              AND origen in ('EXAMENES LABORATORIO') \\n                              AND resultado_examen_laboratorio IS NOT NULL\\n                              AND HbA1c NOT IN ('PENDIENTE','VER ANEXO')\\n                        GROUP BY    numero_identificacion_paciente, \\n                                    examen_laboratorio,\\n                                    resultado_examen_laboratorio,\\n                                    fecha_apertura_folio)\\n\\n                        WHERE HbA1c <>  'No Aplica') WHERE orden = 1 ) as hb ON hb.numero_identificacion_paciente = main.numero_identificacion_paciente\\n\\nLEFT JOIN (SELECT numero_identificacion_paciente,HDL, orden FROM (SELECT \\n                              *,\\n                              ROW_NUMBER() over (PARTITION BY numero_identificacion_paciente ORDER BY fecha_apertura_folio desc) as orden\\n                        FROM(SELECT\\n                              numero_identificacion_paciente,\\n                              fecha_apertura_folio,\\n                              IF(examen_laboratorio in ('Colesterol HDL', 'Colesterol HDL (mg/dl)', 'HDL (mg/dl)'), MIN(resultado_examen_laboratorio), 'No Aplica') as HDL,\\n                        FROM\\n                              `prj-dev-repository-col.bq_finalzone_avicena.consulta_externa`\\n                        WHERE fecha_apertura_folio >= '2019-10-31'\\n                              AND origen in ('EXAMENES LABORATORIO') \\n                              AND resultado_examen_laboratorio IS NOT NULL\\n                              AND HDL NOT IN ('PENDIENTE','VER ANEXO')\\n                        GROUP BY    numero_identificacion_paciente, \\n                                    examen_laboratorio,\\n                                    resultado_examen_laboratorio,\\n                                    fecha_apertura_folio)\\n\\n                        WHERE HDL <>  'No Aplica') WHERE orden = 1 ) as hdl ON hdl.numero_identificacion_paciente = main.numero_identificacion_paciente\\n\\nLEFT JOIN (SELECT numero_identificacion_paciente,LDL, orden FROM (SELECT \\n                              *,\\n                              ROW_NUMBER() over (PARTITION BY numero_identificacion_paciente ORDER BY fecha_apertura_folio desc) as orden\\n                        FROM(SELECT\\n                              numero_identificacion_paciente,\\n                              fecha_apertura_folio,\\n                              IF(examen_laboratorio in ('Colesterol LDL', 'Colesterol LDL (mg/dl)', 'LDL (mg/dl)'), MAX(resultado_examen_laboratorio), 'No Aplica') as LDL,\\n                        FROM\\n                              `prj-dev-repository-col.bq_finalzone_avicena.consulta_externa`\\n                        WHERE fecha_apertura_folio >= '2019-10-31'\\n                              AND origen in ('EXAMENES LABORATORIO') \\n                              AND resultado_examen_laboratorio IS NOT NULL\\n                              AND LDL NOT IN ('PENDIENTE','VER ANEXO','COMENTARIO')\\n                        GROUP BY    numero_identificacion_paciente, \\n                                    examen_laboratorio,\\n                                    resultado_examen_laboratorio,\\n                                    fecha_apertura_folio)\\n\\n                        WHERE ldl <>  'No Aplica') WHERE orden = 1 ) as ldl ON ldl.numero_identificacion_paciente = main.numero_identificacion_paciente\\n\\nLEFT JOIN (SELECT numero_identificacion_paciente,trigliceridos, orden FROM (SELECT \\n                              *,\\n                              ROW_NUMBER() over (PARTITION BY numero_identificacion_paciente ORDER BY fecha_apertura_folio desc) as orden\\n                        FROM(SELECT\\n                              numero_identificacion_paciente,\\n                              fecha_apertura_folio,\\n                              IF(examen_laboratorio in ('Triglicéridos', 'Triglicéridos (mg/dl)'), MAX(resultado_examen_laboratorio), 'No Aplica') as trigliceridos,\\n                        FROM\\n                              `prj-dev-repository-col.bq_finalzone_avicena.consulta_externa`\\n                        WHERE fecha_apertura_folio >= '2019-10-31'\\n                              AND origen in ('EXAMENES LABORATORIO') \\n                              AND resultado_examen_laboratorio IS NOT NULL\\n                              AND trigliceridos NOT IN ('PENDIENTE','VER ANEXO')\\n                        GROUP BY    numero_identificacion_paciente, \\n                                    examen_laboratorio,\\n                                    resultado_examen_laboratorio,\\n                                    fecha_apertura_folio)\\n\\n                        WHERE trigliceridos <>  'No Aplica') WHERE orden = 1 ) as trigliceridos ON trigliceridos.numero_identificacion_paciente = main.numero_identificacion_paciente\\n\\nLEFT JOIN (SELECT numero_identificacion_paciente,albuminuria, orden FROM (SELECT \\n                              *,\\n                              ROW_NUMBER() over (PARTITION BY numero_identificacion_paciente ORDER BY fecha_apertura_folio desc) as orden\\n                        FROM(SELECT\\n                              numero_identificacion_paciente,\\n                              fecha_apertura_folio,\\n                              IF(examen_laboratorio in ('Microalbuminuria (mg/l)', 'Relaciones albumina/creatinina (RAC)', 'Relación Albuminuria/creatinuria (RAC)'), MAX(resultado_examen_laboratorio), 'No Aplica') as albuminuria,\\n                        FROM\\n                              `prj-dev-repository-col.bq_finalzone_avicena.consulta_externa`\\n                        WHERE fecha_apertura_folio >= '2019-10-31'\\n                              AND origen in ('EXAMENES LABORATORIO') \\n                              AND resultado_examen_laboratorio IS NOT NULL\\n                              AND albuminuria NOT IN ('(FE)','*******','PENDIENTE')\\n                        GROUP BY    numero_identificacion_paciente, \\n                                    examen_laboratorio,\\n                                    resultado_examen_laboratorio,\\n                                    fecha_apertura_folio)\\n\\n                        WHERE albuminuria <>  'No Aplica') WHERE orden = 1 ) as albuminuria ON albuminuria.numero_identificacion_paciente = main.numero_identificacion_paciente\\n\\n\""
      ]
     },
     "execution_count": 102,
     "metadata": {},
     "output_type": "execute_result"
    }
   ],
   "source": [
    "SQL_examenes"
   ]
  },
  {
   "cell_type": "markdown",
   "metadata": {},
   "source": [
    "#### Creacion de la tabla"
   ]
  },
  {
   "cell_type": "code",
   "execution_count": 110,
   "metadata": {},
   "outputs": [],
   "source": [
    "# Parametros de subida\n",
    "\n",
    "nombre_tabla_examenes = 'examenes_por_usuarios'\n",
    "\n",
    "parametros_creacion = {\"destination\":proyecto+\".\"+dataset+\".\"+nombre_tabla_examenes,\n",
    "                    \"description\":\"Tabla con los resultados de los examenes mas recientes para cada paciente\",\n",
    "                    \"partition_field\":'',\n",
    "                    \"clustering_fields\":['numero_identificacion_paciente']}"
   ]
  },
  {
   "cell_type": "code",
   "execution_count": 111,
   "metadata": {},
   "outputs": [
    {
     "name": "stdout",
     "output_type": "stream",
     "text": [
      "co-keralty-costomedico.Diabetes_avicena.examenes_por_usuarios\n",
      "Existe la tabla, se procede a remplazar\n",
      "Borrando la tabla co-keralty-costomedico.Diabetes_avicena.examenes_por_usuarios\n",
      "Cantidad de GB procesadas:  20.14851738885045\n",
      "-------------------------------------------\n",
      "tiempo transcurrido creacion de tabla  24.273545503616333\n"
     ]
    }
   ],
   "source": [
    "# Creacion de la tabla\n",
    "\n",
    "create_table_bq(client=client_bq,query=SQL_examenes,project_id=proyecto,dataset_id=dataset,table_name=nombre_tabla_examenes,replace=True,**parametros_creacion)"
   ]
  },
  {
   "cell_type": "markdown",
   "metadata": {},
   "source": [
    "### tabla de compañia por usuario"
   ]
  },
  {
   "cell_type": "markdown",
   "metadata": {},
   "source": [
    "#### Query"
   ]
  },
  {
   "cell_type": "code",
   "execution_count": 76,
   "metadata": {},
   "outputs": [],
   "source": [
    "SQL_compania = \"\"\"SELECT\n",
    "                        DISTINCT\n",
    "                        numero_identificacion_paciente,\n",
    "                        IF(conteo = 2, '2', compania) as compania\n",
    "                        FROM (\n",
    "                        SELECT\n",
    "                            DISTINCT \n",
    "                            main.numero_identificacion_paciente,\n",
    "                            second.conteo,\n",
    "                            IF(main.compania_aseguradora IN ('30','31'), '0','1') AS compania\n",
    "                        FROM\n",
    "                            `prj-dev-repository-col.bq_finalzone_avicena.consulta_externa` AS main\n",
    "                        LEFT JOIN (\n",
    "                            SELECT\n",
    "                            numero_identificacion_paciente,\n",
    "                            COUNT(1) AS conteo\n",
    "                            FROM (\n",
    "                            SELECT\n",
    "                                DISTINCT \n",
    "                                numero_identificacion_paciente,\n",
    "                                IF(compania_aseguradora IN ('30','31'), '0','1') AS compania\n",
    "                            FROM\n",
    "                                `prj-dev-repository-col.bq_finalzone_avicena.consulta_externa`\n",
    "                            WHERE\n",
    "                                compania_aseguradora IS NOT NULL)\n",
    "                            GROUP BY\n",
    "                            numero_identificacion_paciente) AS second\n",
    "                        ON\n",
    "                            second.numero_identificacion_paciente = main.numero_identificacion_paciente\n",
    "                        WHERE\n",
    "                            main.compania_aseguradora IS NOT NULL\n",
    "                        ORDER BY second.conteo, main.numero_identificacion_paciente DESC)\"\"\""
   ]
  },
  {
   "cell_type": "markdown",
   "metadata": {},
   "source": [
    "#### Creacion de la tabla"
   ]
  },
  {
   "cell_type": "code",
   "execution_count": 77,
   "metadata": {},
   "outputs": [],
   "source": [
    "# Parametros de subida\n",
    "\n",
    "nombre_tabla_compania = 'compania_x_usuarios'\n",
    "\n",
    "parametros_creacion = {\"destination\":proyecto+\".\"+dataset+\".\"+nombre_tabla_compania,\n",
    "                    \"description\":\"Tabla con las compañias para cada paciente\",\n",
    "                    \"partition_field\":'',\n",
    "                    \"clustering_fields\":['numero_identificacion_paciente']}"
   ]
  },
  {
   "cell_type": "code",
   "execution_count": 78,
   "metadata": {},
   "outputs": [
    {
     "name": "stdout",
     "output_type": "stream",
     "text": [
      "co-keralty-costomedico.Diabetes_avicena.compania_x_usuarios\n",
      "Existe la tabla, se procede a remplazar\n",
      "Borrando la tabla co-keralty-costomedico.Diabetes_avicena.compania_x_usuarios\n"
     ]
    },
    {
     "name": "stdout",
     "output_type": "stream",
     "text": [
      "Cantidad de GB procesadas:  7.845401261933148\n",
      "-------------------------------------------\n",
      "tiempo transcurrido creacion de tabla  11.745094299316406\n"
     ]
    }
   ],
   "source": [
    "# Creacion de la tabla\n",
    "\n",
    "create_table_bq(client=client_bq,query=SQL_compania,project_id=proyecto,dataset_id=dataset,table_name=nombre_tabla_compania,replace=True,**parametros_creacion)"
   ]
  },
  {
   "cell_type": "markdown",
   "metadata": {},
   "source": [
    "### Tabla de antecedentes por usuario"
   ]
  },
  {
   "cell_type": "markdown",
   "metadata": {},
   "source": [
    "#### Query"
   ]
  },
  {
   "cell_type": "code",
   "execution_count": 79,
   "metadata": {},
   "outputs": [],
   "source": [
    "SQL_antecedentes = f\"\"\"SELECT DISTINCT main.numero_identificacion_paciente,\n",
    "                hipertension.med_hipertension,\n",
    "                fam_dm.familiar_dm,\n",
    "                cardio.ant_cardiovascular,\n",
    "                ovario_poliquistico.ovario_poliquistico,\n",
    "                dm_gestacional.dm_gestacional,\n",
    "                acantosis.acantosis_nigricans\n",
    "                \n",
    "FROM `prj-dev-repository-col.bq_finalzone_avicena.consulta_externa` as main\n",
    "LEFT JOIN \n",
    "(SELECT * FROM (SELECT\n",
    "  *,\n",
    "  ROW_NUMBER() OVER (PARTITION BY numero_identificacion_paciente ORDER BY med_hipertension DESC) AS orden\n",
    "FROM (\n",
    "  SELECT\n",
    "    numero_identificacion_paciente,\n",
    "  IF\n",
    "    (codigo_atc IN {tuple(codigos_medicamentos_hipertension)},1,0) AS med_hipertension,\n",
    "  FROM\n",
    "    `prj-dev-repository-col.bq_finalzone_avicena.consulta_externa`))\n",
    "\n",
    "WHERE orden = 1) as hipertension ON hipertension.numero_identificacion_paciente = main.numero_identificacion_paciente\n",
    "\n",
    "LEFT JOIN \n",
    "(SELECT * FROM (SELECT\n",
    "  *,\n",
    "  ROW_NUMBER() OVER (PARTITION BY numero_identificacion_paciente ORDER BY familiar_dm DESC) AS orden\n",
    "FROM (\n",
    "  SELECT\n",
    "    numero_identificacion_paciente,\n",
    "    IF(dx_corta in {tuple(familiar_con_dm)} ,1,0) as familiar_dm,\n",
    "  FROM\n",
    "    `prj-dev-repository-col.bq_finalzone_avicena.consulta_externa`))\n",
    "\n",
    "WHERE orden = 1) as fam_dm ON fam_dm.numero_identificacion_paciente = main.numero_identificacion_paciente\n",
    "\n",
    "LEFT JOIN \n",
    "(SELECT * FROM (SELECT\n",
    "  *,\n",
    "  ROW_NUMBER() OVER (PARTITION BY numero_identificacion_paciente ORDER BY ant_cardiovascular DESC) AS orden\n",
    "FROM (\n",
    "  SELECT\n",
    "    numero_identificacion_paciente,\n",
    "    IF(codigo_dx in {tuple(codigos_cardiovascular)},1,0) as ant_cardiovascular,\n",
    "  FROM\n",
    "    `prj-dev-repository-col.bq_finalzone_avicena.consulta_externa`))\n",
    "\n",
    "WHERE orden = 1) as cardio ON cardio.numero_identificacion_paciente = main.numero_identificacion_paciente\n",
    "\n",
    "LEFT JOIN \n",
    "(SELECT * FROM (SELECT\n",
    "  *,\n",
    "  ROW_NUMBER() OVER (PARTITION BY numero_identificacion_paciente ORDER BY ovario_poliquistico DESC) AS orden\n",
    "FROM (\n",
    "  SELECT\n",
    "    numero_identificacion_paciente,\n",
    "    IF(codigo_dx in {tuple(codigos_ovario_poliquistico)},1,0) as ovario_poliquistico,\n",
    "  FROM\n",
    "    `prj-dev-repository-col.bq_finalzone_avicena.consulta_externa`))\n",
    "\n",
    "WHERE orden = 1) as ovario_poliquistico ON ovario_poliquistico.numero_identificacion_paciente = main.numero_identificacion_paciente\n",
    "\n",
    "LEFT JOIN \n",
    "(SELECT * FROM (SELECT\n",
    "  *,\n",
    "  ROW_NUMBER() OVER (PARTITION BY numero_identificacion_paciente ORDER BY dm_gestacional DESC) AS orden\n",
    "FROM (\n",
    "  SELECT\n",
    "    numero_identificacion_paciente,\n",
    "    IF(codigo_dx in {tuple(codigos_dm_gestacional)},1,0) as dm_gestacional,\n",
    "  FROM\n",
    "    `prj-dev-repository-col.bq_finalzone_avicena.consulta_externa`))\n",
    "\n",
    "WHERE orden = 1) as dm_gestacional ON dm_gestacional.numero_identificacion_paciente = main.numero_identificacion_paciente\n",
    "\n",
    "LEFT JOIN \n",
    "(SELECT * FROM (SELECT\n",
    "  *,\n",
    "  ROW_NUMBER() OVER (PARTITION BY numero_identificacion_paciente ORDER BY acantosis_nigricans DESC) AS orden\n",
    "FROM (\n",
    "  SELECT\n",
    "    numero_identificacion_paciente,\n",
    "    IF(codigo_dx in {tuple(codigos_acantosis)},1,0) as acantosis_nigricans,\n",
    "  FROM\n",
    "    `prj-dev-repository-col.bq_finalzone_avicena.consulta_externa`))\n",
    "\n",
    "WHERE orden = 1) as acantosis ON acantosis.numero_identificacion_paciente = main.numero_identificacion_paciente\"\"\""
   ]
  },
  {
   "cell_type": "markdown",
   "metadata": {},
   "source": [
    "#### Creacion de la tabla"
   ]
  },
  {
   "cell_type": "code",
   "execution_count": 80,
   "metadata": {},
   "outputs": [],
   "source": [
    "# Parametros de subida\n",
    "\n",
    "nombre_tabla_antecedentes = 'antecedentes_x_usuario'\n",
    "\n",
    "parametros_creacion = {\"destination\":proyecto+\".\"+dataset+\".\"+nombre_tabla_antecedentes,\n",
    "                    \"description\":\"Tabla con los antecedentes para cada paciente\",\n",
    "                    \"partition_field\":'',\n",
    "                    \"clustering_fields\":['numero_identificacion_paciente']}"
   ]
  },
  {
   "cell_type": "code",
   "execution_count": 81,
   "metadata": {},
   "outputs": [
    {
     "name": "stdout",
     "output_type": "stream",
     "text": [
      "co-keralty-costomedico.Diabetes_avicena.antecedentes_x_usuario\n",
      "Existe la tabla, se procede a remplazar\n",
      "Borrando la tabla co-keralty-costomedico.Diabetes_avicena.antecedentes_x_usuario\n"
     ]
    },
    {
     "name": "stdout",
     "output_type": "stream",
     "text": [
      "Cantidad de GB procesadas:  9.349770711734891\n",
      "-------------------------------------------\n",
      "tiempo transcurrido creacion de tabla  46.67343735694885\n"
     ]
    }
   ],
   "source": [
    "# Creacion de la tabla\n",
    "\n",
    "create_table_bq(client=client_bq,query=SQL_antecedentes,project_id=proyecto,dataset_id=dataset,table_name=nombre_tabla_antecedentes,replace=True,**parametros_creacion)"
   ]
  },
  {
   "cell_type": "markdown",
   "metadata": {},
   "source": [
    "### Tabla de perimetros abdominales"
   ]
  },
  {
   "cell_type": "markdown",
   "metadata": {},
   "source": [
    "#### Query"
   ]
  },
  {
   "cell_type": "code",
   "execution_count": 19,
   "metadata": {},
   "outputs": [],
   "source": [
    "SQL_perimetros = \"\"\"SELECT numero_identificacion_paciente, PERIMETRO_ABDOMINAL, orden  FROM (SELECT\n",
    "                            DISTINCT main.folio,\n",
    "                            main.fecha_apertura_folio,\n",
    "                            ROW_NUMBER() over (PARTITION BY main.numero_identificacion_paciente ORDER BY main.fecha_apertura_folio desc) as orden,\n",
    "                            main.numero_identificacion_paciente,\n",
    "                            main.genero_paciente,\n",
    "                            perimetro.PERIMETRO_ABDOMINAL\n",
    "                          FROM\n",
    "                            `prj-dev-repository-col.bq_finalzone_avicena.consulta_externa` AS main\n",
    "                          INNER JOIN (\n",
    "                            SELECT\n",
    "                              DISTINCT FOLIO,\n",
    "                              PERIMETRO_ABDOMINAL\n",
    "                            FROM\n",
    "                              `prj-dev-repository-col.bq_raw_zone_avicena.HIS_TB_EXAMEN_FISICO`\n",
    "                            WHERE\n",
    "                              PERIMETRO_ABDOMINAL IS NOT NULL) AS perimetro\n",
    "                          ON\n",
    "                            main.folio = perimetro.FOLIO\n",
    "                          WHERE\n",
    "                            main.fecha_apertura_folio >= '2022-10-01')\n",
    "\n",
    "                          WHERE orden = 1\"\"\""
   ]
  },
  {
   "cell_type": "markdown",
   "metadata": {},
   "source": [
    "#### Creacion de la tabla"
   ]
  },
  {
   "cell_type": "code",
   "execution_count": 17,
   "metadata": {},
   "outputs": [],
   "source": [
    "# Parametros de subida\n",
    "\n",
    "nombre_tabla_perimetros = 'perimetros_x_usuarios'\n",
    "\n",
    "parametros_creacion = {\"destination\":proyecto+\".\"+dataset+\".\"+nombre_tabla_perimetros,\n",
    "                    \"description\":\"Tabla con los antecedentes para cada paciente\",\n",
    "                    \"partition_field\":'',\n",
    "                    \"clustering_fields\":['numero_identificacion_paciente']}"
   ]
  },
  {
   "cell_type": "code",
   "execution_count": 20,
   "metadata": {},
   "outputs": [
    {
     "name": "stdout",
     "output_type": "stream",
     "text": [
      "co-keralty-costomedico.Diabetes_avicena.perimetros_x_usuarios\n"
     ]
    },
    {
     "name": "stdout",
     "output_type": "stream",
     "text": [
      "404 GET https://bigquery.googleapis.com/bigquery/v2/projects/co-keralty-costomedico/datasets/Diabetes_avicena/tables/perimetros_x_usuarios?prettyPrint=false: Not found: Table co-keralty-costomedico:Diabetes_avicena.perimetros_x_usuarios\n",
      "No existe la tabla, se procede a crearla\n",
      "Cantidad de GB procesadas:  7.408964314498007\n",
      "-------------------------------------------\n",
      "tiempo transcurrido creacion de tabla  7.589745759963989\n"
     ]
    }
   ],
   "source": [
    "# Creacion de la tabla\n",
    "\n",
    "create_table_bq(client=client_bq,query=SQL_perimetros,project_id=proyecto,dataset_id=dataset,table_name=nombre_tabla_perimetros,replace=True,**parametros_creacion)"
   ]
  },
  {
   "cell_type": "markdown",
   "metadata": {},
   "source": [
    "### tabla de actividad fisica por usuario"
   ]
  },
  {
   "cell_type": "markdown",
   "metadata": {},
   "source": [
    "#### Query"
   ]
  },
  {
   "cell_type": "code",
   "execution_count": 30,
   "metadata": {},
   "outputs": [],
   "source": [
    "SQL_ejercicio = \"\"\"SELECT\n",
    "  DISTINCT folio.FOLIO,\n",
    "  pregunta.RESPUESTA_ANTECEDENTE,\n",
    "  pregunta.PARAM_ITEM_RESPUESTA,\n",
    "  respuesta.DESCRIPCION_ALTERNA hace_ejercicio\n",
    "FROM\n",
    "  `prj-dev-repository-col.bq_raw_zone_avicena.HIS_TB_RESP_ANTECEDEN_ITEM` AS pregunta\n",
    "INNER JOIN (\n",
    "  SELECT\n",
    "    *\n",
    "  FROM\n",
    "    `prj-dev-repository-col.bq_raw_zone_avicena.HIS_TB_ENC_PARAMETRO`) AS respuesta\n",
    "ON\n",
    "  pregunta.PARAM_ITEM_RESPUESTA = respuesta.PARAMETRO\n",
    "INNER JOIN (\n",
    "  SELECT\n",
    "    RESPUESTA_ANTECEDENTE,\n",
    "    FOLIO\n",
    "  FROM\n",
    "    `prj-dev-repository-col.bq_raw_zone_avicena.HIS_TB_RESP_ANTECEDENTE`) AS folio\n",
    "ON\n",
    "  folio.RESPUESTA_ANTECEDENTE = pregunta.RESPUESTA_ANTECEDENTE\n",
    "WHERE\n",
    "  pregunta.PREGUNTA = 1441\n",
    "  AND pregunta.PARAM_ITEM_RESPUESTA IS NOT NULL\"\"\""
   ]
  },
  {
   "cell_type": "markdown",
   "metadata": {},
   "source": [
    "#### Creacion de la tabla"
   ]
  },
  {
   "cell_type": "code",
   "execution_count": 31,
   "metadata": {},
   "outputs": [],
   "source": [
    "# Parametros de subida\n",
    "\n",
    "nombre_tabla_ejercico = 'actividadFisica_x_usuarios'\n",
    "\n",
    "parametros_creacion = {\"destination\":proyecto+\".\"+dataset+\".\"+nombre_tabla_ejercico,\n",
    "                    \"description\":\"Tabla con los antecedentes para cada paciente\",\n",
    "                    \"partition_field\":'',\n",
    "                    \"clustering_fields\":['FOLIO']}"
   ]
  },
  {
   "cell_type": "code",
   "execution_count": 32,
   "metadata": {},
   "outputs": [
    {
     "name": "stdout",
     "output_type": "stream",
     "text": [
      "co-keralty-costomedico.Diabetes_avicena.actividadFisica_x_usuarios\n",
      "404 GET https://bigquery.googleapis.com/bigquery/v2/projects/co-keralty-costomedico/datasets/Diabetes_avicena/tables/actividadFisica_x_usuarios?prettyPrint=false: Not found: Table co-keralty-costomedico:Diabetes_avicena.actividadFisica_x_usuarios\n",
      "No existe la tabla, se procede a crearla\n",
      "Cantidad de GB procesadas:  8.571175761520863\n",
      "-------------------------------------------\n",
      "tiempo transcurrido creacion de tabla  5.5174970626831055\n"
     ]
    }
   ],
   "source": [
    "# Creacion de la tabla\n",
    "\n",
    "create_table_bq(client=client_bq,query=SQL_ejercicio,project_id=proyecto,dataset_id=dataset,table_name=nombre_tabla_ejercico,replace=True,**parametros_creacion)"
   ]
  },
  {
   "cell_type": "markdown",
   "metadata": {},
   "source": [
    "## Tabla principal Diabetes Mellitus"
   ]
  },
  {
   "cell_type": "markdown",
   "metadata": {},
   "source": [
    "### Tabla principal Diabetes"
   ]
  },
  {
   "cell_type": "markdown",
   "metadata": {},
   "source": [
    "#### Query"
   ]
  },
  {
   "cell_type": "code",
   "execution_count": 41,
   "metadata": {},
   "outputs": [],
   "source": [
    "SQL_diabetes = \"\"\"SELECT * FROM  (SELECT \n",
    "                              DISTINCT\n",
    "                              exam.tipo_identificacion_paciente,\n",
    "                              exam.numero_identificacion_paciente,\n",
    "                              DATE_DIFF(CURRENT_DATE(),DATETIME(exam.fecha_nacimiento_paciente),YEAR) AS edad,\n",
    "                              IF(exam.genero_paciente = 'Femenino', 0, 1) as genero,\n",
    "                              exam.codigo_ciudad_sucursal,\n",
    "                              exam.nivel_academico_paciente,\n",
    "                              compania.compania,\n",
    "                              exam.raza_paciente,\n",
    "                              peso.peso,\n",
    "                              peso.talla,\n",
    "                              peso.imc,\n",
    "                              labs.Glicemia as Glicemia,\n",
    "                              labs.Intolerancia_Glucosa as Intolerancia_Glucosa,\n",
    "                              labs.HbA1c as HbA1c,\n",
    "                              labs.HDL as HDL,\n",
    "                              labs.LDL as LDL,\n",
    "                              labs.trigliceridos as trigliceridos,\n",
    "                              labs.albuminuria as albuminuria,\n",
    "                              antecedentes.med_hipertension,\n",
    "                              antecedentes.familiar_dm,\n",
    "                              antecedentes.ant_cardiovascular,\n",
    "                              antecedentes.ovario_poliquistico,\n",
    "                              antecedentes.dm_gestacional,\n",
    "                              antecedentes.acantosis_nigricans,\n",
    "                              perimetros.PERIMETRO_ABDOMINAL,\n",
    "                              ejercicio.hace_ejercicio,\n",
    "                              IF(CAST(Glicemia AS FLOAT64) > 100, 2,0) as ind_1,\n",
    "                              IF(CAST(HDL AS FLOAT64) < 35, 1,0) as ind_2,\n",
    "                              IF(CAST(LDL AS FLOAT64) > 150,1,0) as ind_3,\n",
    "                              IF(CAST(trigliceridos AS FLOAT64) >= 250,1,0) as ind_4\n",
    "                        FROM `prj-dev-repository-col.bq_finalzone_avicena.consulta_externa` as exam \n",
    "\n",
    "                    INNER JOIN (SELECT * FROM (SELECT  numero_identificacion_paciente,\n",
    "                                        peso,\n",
    "                                        talla,\n",
    "                                        peso/(talla*talla) AS imc,\n",
    "                                        ROW_NUMBER() over (PARTITION BY numero_identificacion_paciente ORDER BY fecha_apertura_folio desc) as orden\n",
    "                              FROM `prj-dev-repository-col.bq_finalzone_avicena.consulta_externa`\n",
    "                              WHERE fecha_apertura_folio >= '2023-04-01' AND peso IS NOT NULL AND talla IS NOT NULL) WHERE orden = 1) as peso\n",
    "\n",
    "                    ON peso.numero_identificacion_paciente = exam.numero_identificacion_paciente\n",
    "\n",
    "                    INNER JOIN `co-keralty-costomedico.Diabetes_avicena.examenes_por_usuarios` as labs ON labs.numero_identificacion_paciente = exam.numero_identificacion_paciente\n",
    "                    INNER JOIN `co-keralty-costomedico.Diabetes_avicena.compania_x_usuarios` as compania ON compania.numero_identificacion_paciente = exam.numero_identificacion_paciente\n",
    "                    INNER JOIN `co-keralty-costomedico.Diabetes_avicena.perimetros_x_usuarios` as perimetros ON perimetros.numero_identificacion_paciente = exam.numero_identificacion_paciente\n",
    "                    INNER JOIN `co-keralty-costomedico.Diabetes_avicena.actividadFisica_x_usuarios` as ejercicio ON ejercicio.FOLIO = exam.folio\n",
    "\n",
    "\n",
    "                  INNER JOIN `co-keralty-costomedico.Diabetes_avicena.antecedentes_x_usuario` as antecedentes ON antecedentes.numero_identificacion_paciente = exam.numero_identificacion_paciente\n",
    "\n",
    "                    WHERE exam.origen = 'EXAMENES' AND \n",
    "                          peso.peso IS NOT NULL  \n",
    "                          AND peso.talla IS NOT NULL \n",
    "                          AND exam.numero_identificacion_paciente IS NOT NULL \n",
    "                          AND exam.genero_paciente IS NOT NULL\n",
    "                          AND exam.fecha_apertura_folio BETWEEN '2022-01-01' AND '2023-12-31'\n",
    "                          )\n",
    "\n",
    "                    WHERE imc > 4 AND Glicemia NOT IN ('PENDIENTE','VER ANEXO')\n",
    "                          AND HDL NOT IN ('PENDIENTE','VER ANEXO')\n",
    "                          AND trigliceridos NOT IN ('PENDIENTE','VER ANEXO')\n",
    "                          AND LDL NOT IN ('PENDIENTE','VER ANEXO','COMENTARIO')\"\"\""
   ]
  },
  {
   "cell_type": "markdown",
   "metadata": {},
   "source": [
    "#### Creacion de la tabla"
   ]
  },
  {
   "cell_type": "code",
   "execution_count": 42,
   "metadata": {},
   "outputs": [],
   "source": [
    "# Parametros de subida\n",
    "\n",
    "nombre_tabla_diabetes = 'diabetes'\n",
    "\n",
    "parametros_creacion = {\"destination\":proyecto+\".\"+dataset+\".\"+nombre_tabla_diabetes,\n",
    "                    \"description\":\"Tabla con los datos consolidados para el entrenamiento del modelo de diabetes\",\n",
    "                    \"partition_field\":'',\n",
    "                    \"clustering_fields\":['numero_identificacion_paciente']}"
   ]
  },
  {
   "cell_type": "code",
   "execution_count": 43,
   "metadata": {},
   "outputs": [
    {
     "name": "stdout",
     "output_type": "stream",
     "text": [
      "co-keralty-costomedico.Diabetes_avicena.diabetes\n",
      "404 GET https://bigquery.googleapis.com/bigquery/v2/projects/co-keralty-costomedico/datasets/Diabetes_avicena/tables/diabetes?prettyPrint=false: Not found: Table co-keralty-costomedico:Diabetes_avicena.diabetes\n",
      "No existe la tabla, se procede a crearla\n",
      "Cantidad de GB procesadas:  16.46259279921651\n",
      "-------------------------------------------\n",
      "tiempo transcurrido creacion de tabla  10.950278759002686\n"
     ]
    }
   ],
   "source": [
    "# Creacion de la tabla\n",
    "\n",
    "create_table_bq(client=client_bq,query=SQL_diabetes,project_id=proyecto,dataset_id=dataset,table_name=nombre_tabla_diabetes,replace=True,**parametros_creacion)"
   ]
  },
  {
   "cell_type": "code",
   "execution_count": null,
   "metadata": {},
   "outputs": [],
   "source": []
  }
 ],
 "metadata": {
  "kernelspec": {
   "display_name": "api_portafolio",
   "language": "python",
   "name": "python3"
  },
  "language_info": {
   "codemirror_mode": {
    "name": "ipython",
    "version": 3
   },
   "file_extension": ".py",
   "mimetype": "text/x-python",
   "name": "python",
   "nbconvert_exporter": "python",
   "pygments_lexer": "ipython3",
   "version": "3.9.13"
  }
 },
 "nbformat": 4,
 "nbformat_minor": 2
}
