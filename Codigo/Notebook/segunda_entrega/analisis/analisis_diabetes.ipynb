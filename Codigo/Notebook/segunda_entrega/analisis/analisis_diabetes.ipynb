{
 "cells": [
  {
   "cell_type": "markdown",
   "metadata": {},
   "source": [
    "## Librerias"
   ]
  },
  {
   "cell_type": "code",
   "execution_count": 487,
   "metadata": {},
   "outputs": [],
   "source": [
    "from google.cloud import bigquery\n",
    "from time import time\n",
    "import pandas as pd\n",
    "import plotly.express as px\n",
    "import numpy as np\n",
    "import matplotlib.pyplot as plt\n",
    "import scipy.stats as stats\n",
    "import seaborn as sns\n",
    "from scipy.stats import zscore\n",
    "import random\n",
    "\n",
    "import warnings\n",
    "warnings.filterwarnings('ignore')"
   ]
  },
  {
   "cell_type": "markdown",
   "metadata": {},
   "source": [
    "## Parametros"
   ]
  },
  {
   "cell_type": "code",
   "execution_count": 5,
   "metadata": {},
   "outputs": [],
   "source": [
    "# Datos de las tablas a traer\n",
    "proyecto = 'co-keralty-costomedico'\n",
    "dataset = 'Diabetes_avicena_new'\n",
    "\n",
    "# Nombres de tablas disponibles en el dataset\n",
    "tables = ['diabetes', 'examenes_por_usuarios','antecedentes_x_usuario','perimetros_x_usuarios','actividadFisica_x_usuarios','diabetes_copy']\n",
    "\n",
    "client_bq = bigquery.Client(project= proyecto)\n",
    "\n",
    "\n",
    "tipo_identificacion = {\n",
    "    'Cédula de ciudadanía' : 0,\n",
    "    'Tarjeta de identidad' : 1,\n",
    "    'Cédula de extranjería' : 2,\n",
    "    'Permiso por Protección Temporal' : 3,\n",
    "    'Pasaporte' : 4,\n",
    "    'Permiso Especial de Permanencia' : 5,\n",
    "    'Salvo Conducto de Permanencia' : 6,\n",
    "}\n",
    "\n",
    "nivel_academico = {\n",
    "    'Básica secundaria' : 0,\n",
    "    'Básica primaria' : 1,\n",
    "    'Normalista' : 2,\n",
    "    'Ninguno' : 3,\n",
    "    'Profesional' : 4,\n",
    "    'Técnica profesional' : 5,\n",
    "    'Preescolar' : 6,\n",
    "    'Bachillerato técnico' : 7,\n",
    "    'Media académica o clásica' : 8,\n",
    "    'Tecnológica' : 9,\n",
    "    'Maestría' : 10,\n",
    "    'Especialización' : 11,\n",
    "    'Doctorado' : 12,\n",
    "    'None' : 13,\n",
    "}\n",
    "\n",
    "raza_paciente = {\n",
    "    'Otros' : 0,\n",
    "    'Mestizo' : 1,\n",
    "    'Raizales' : 2,\n",
    "    'Afrocolombiano' : 3,\n",
    "    'Indígena' : 4,\n",
    "    'Palenquero' : 5,\n",
    "    'Rom/Gitano' : 6,\n",
    "    'None' : 7,\n",
    "}\n",
    "\n",
    "ejercicio = {\n",
    "    '20 minutos\\n' : 0,\n",
    "    '40 minutos\\n' : 1,\n",
    "    'Nunca\\n' : 2,\n",
    "    '60 minutos\\n' : 3,\n",
    "}\n"
   ]
  },
  {
   "cell_type": "code",
   "execution_count": 3,
   "metadata": {},
   "outputs": [],
   "source": [
    "## Ejemplo consulta\n",
    "\n",
    "query = f\"\"\"SELECT * FROM {proyecto}.{dataset}.{tables[0]}\"\"\""
   ]
  },
  {
   "cell_type": "markdown",
   "metadata": {},
   "source": [
    "## Funciones"
   ]
  },
  {
   "cell_type": "code",
   "execution_count": 55,
   "metadata": {},
   "outputs": [],
   "source": [
    "def bring_data_from_bq(table, client_bq, query = '', save = False, read_local = False):\n",
    "\n",
    "    print(f'Leyendo datos de la tabla: {table}')\n",
    "\n",
    "    if query == '':\n",
    "        query = f\"\"\"SELECT * FROM {proyecto}.{dataset}.{table} WHERE edad >= 18\"\"\"\n",
    "\n",
    "    if read_local:\n",
    "        data = pd.read_parquet(f'{table}.parquet')\n",
    "    else:\n",
    "        data = client_bq.query(query).result().to_dataframe()\n",
    "\n",
    "        if save:\n",
    "            data.to_parquet(f'{table}.parquet')\n",
    "            print(f'Informacion guardada en el archivo: {table}.parquet')\n",
    "\n",
    "    return data\n",
    "\n",
    "def prepare_data(data):\n",
    "    data_new = data.copy()\n",
    "\n",
    "    campos = [['tipo_identificacion_paciente',tipo_identificacion],['nivel_academico_paciente',nivel_academico],['raza_paciente',raza_paciente],['hace_ejercicio',ejercicio]]\n",
    "\n",
    "    for tupla in campos:\n",
    "        data_new[tupla[0]] = data_new[tupla[0]].replace(tupla[1])\n",
    "\n",
    "    data_new = data_new.drop(columns=['numero_identificacion_paciente','albuminuria']).astype(float)\n",
    "\n",
    "    return data_new.drop_duplicates()"
   ]
  },
  {
   "cell_type": "markdown",
   "metadata": {},
   "source": [
    "## Carga de datos"
   ]
  },
  {
   "cell_type": "code",
   "execution_count": 328,
   "metadata": {},
   "outputs": [
    {
     "name": "stdout",
     "output_type": "stream",
     "text": [
      "Leyendo datos de la tabla: diabetes\n"
     ]
    }
   ],
   "source": [
    "data_original = bring_data_from_bq(table = tables[0], client_bq = client_bq, save = True, read_local = True)\n",
    "data = prepare_data(data_original)"
   ]
  },
  {
   "cell_type": "code",
   "execution_count": 52,
   "metadata": {},
   "outputs": [
    {
     "data": {
      "text/html": [
       "<div>\n",
       "<style scoped>\n",
       "    .dataframe tbody tr th:only-of-type {\n",
       "        vertical-align: middle;\n",
       "    }\n",
       "\n",
       "    .dataframe tbody tr th {\n",
       "        vertical-align: top;\n",
       "    }\n",
       "\n",
       "    .dataframe thead th {\n",
       "        text-align: right;\n",
       "    }\n",
       "</style>\n",
       "<table border=\"1\" class=\"dataframe\">\n",
       "  <thead>\n",
       "    <tr style=\"text-align: right;\">\n",
       "      <th></th>\n",
       "      <th>tipo_identificacion_paciente</th>\n",
       "      <th>edad</th>\n",
       "      <th>genero</th>\n",
       "      <th>codigo_ciudad_sucursal</th>\n",
       "      <th>nivel_academico_paciente</th>\n",
       "      <th>raza_paciente</th>\n",
       "      <th>peso</th>\n",
       "      <th>talla</th>\n",
       "      <th>imc</th>\n",
       "      <th>HDL</th>\n",
       "      <th>LDL</th>\n",
       "      <th>trigliceridos</th>\n",
       "      <th>med_hipertension</th>\n",
       "      <th>familiar_dm</th>\n",
       "      <th>ant_cardiovascular</th>\n",
       "      <th>dm_gestacional</th>\n",
       "      <th>PERIMETRO_ABDOMINAL</th>\n",
       "      <th>hace_ejercicio</th>\n",
       "      <th>diabetes</th>\n",
       "    </tr>\n",
       "  </thead>\n",
       "  <tbody>\n",
       "    <tr>\n",
       "      <th>0</th>\n",
       "      <td>0.0</td>\n",
       "      <td>64.0</td>\n",
       "      <td>0.0</td>\n",
       "      <td>11001.0</td>\n",
       "      <td>0.0</td>\n",
       "      <td>0.0</td>\n",
       "      <td>57.6</td>\n",
       "      <td>1.5</td>\n",
       "      <td>25.6</td>\n",
       "      <td>58.0</td>\n",
       "      <td>87.43</td>\n",
       "      <td>60.64</td>\n",
       "      <td>0.0</td>\n",
       "      <td>0.0</td>\n",
       "      <td>0.0</td>\n",
       "      <td>0.0</td>\n",
       "      <td>78.0</td>\n",
       "      <td>0.0</td>\n",
       "      <td>0.0</td>\n",
       "    </tr>\n",
       "    <tr>\n",
       "      <th>1</th>\n",
       "      <td>0.0</td>\n",
       "      <td>54.0</td>\n",
       "      <td>0.0</td>\n",
       "      <td>54001.0</td>\n",
       "      <td>1.0</td>\n",
       "      <td>0.0</td>\n",
       "      <td>57.6</td>\n",
       "      <td>1.5</td>\n",
       "      <td>25.6</td>\n",
       "      <td>57.0</td>\n",
       "      <td>30.00</td>\n",
       "      <td>374.00</td>\n",
       "      <td>0.0</td>\n",
       "      <td>0.0</td>\n",
       "      <td>0.0</td>\n",
       "      <td>0.0</td>\n",
       "      <td>75.0</td>\n",
       "      <td>0.0</td>\n",
       "      <td>0.0</td>\n",
       "    </tr>\n",
       "    <tr>\n",
       "      <th>2</th>\n",
       "      <td>0.0</td>\n",
       "      <td>69.0</td>\n",
       "      <td>0.0</td>\n",
       "      <td>15001.0</td>\n",
       "      <td>2.0</td>\n",
       "      <td>0.0</td>\n",
       "      <td>57.6</td>\n",
       "      <td>1.5</td>\n",
       "      <td>25.6</td>\n",
       "      <td>66.0</td>\n",
       "      <td>171.00</td>\n",
       "      <td>91.00</td>\n",
       "      <td>0.0</td>\n",
       "      <td>0.0</td>\n",
       "      <td>0.0</td>\n",
       "      <td>0.0</td>\n",
       "      <td>89.0</td>\n",
       "      <td>1.0</td>\n",
       "      <td>0.0</td>\n",
       "    </tr>\n",
       "    <tr>\n",
       "      <th>3</th>\n",
       "      <td>0.0</td>\n",
       "      <td>57.0</td>\n",
       "      <td>0.0</td>\n",
       "      <td>8001.0</td>\n",
       "      <td>3.0</td>\n",
       "      <td>0.0</td>\n",
       "      <td>57.6</td>\n",
       "      <td>1.5</td>\n",
       "      <td>25.6</td>\n",
       "      <td>39.0</td>\n",
       "      <td>143.00</td>\n",
       "      <td>280.00</td>\n",
       "      <td>0.0</td>\n",
       "      <td>0.0</td>\n",
       "      <td>0.0</td>\n",
       "      <td>0.0</td>\n",
       "      <td>95.0</td>\n",
       "      <td>0.0</td>\n",
       "      <td>1.0</td>\n",
       "    </tr>\n",
       "    <tr>\n",
       "      <th>4</th>\n",
       "      <td>0.0</td>\n",
       "      <td>50.0</td>\n",
       "      <td>0.0</td>\n",
       "      <td>19001.0</td>\n",
       "      <td>4.0</td>\n",
       "      <td>0.0</td>\n",
       "      <td>57.6</td>\n",
       "      <td>1.5</td>\n",
       "      <td>25.6</td>\n",
       "      <td>59.0</td>\n",
       "      <td>140.00</td>\n",
       "      <td>186.00</td>\n",
       "      <td>0.0</td>\n",
       "      <td>0.0</td>\n",
       "      <td>0.0</td>\n",
       "      <td>0.0</td>\n",
       "      <td>87.0</td>\n",
       "      <td>0.0</td>\n",
       "      <td>0.0</td>\n",
       "    </tr>\n",
       "  </tbody>\n",
       "</table>\n",
       "</div>"
      ],
      "text/plain": [
       "   tipo_identificacion_paciente  edad  genero  codigo_ciudad_sucursal  \\\n",
       "0                           0.0  64.0     0.0                 11001.0   \n",
       "1                           0.0  54.0     0.0                 54001.0   \n",
       "2                           0.0  69.0     0.0                 15001.0   \n",
       "3                           0.0  57.0     0.0                  8001.0   \n",
       "4                           0.0  50.0     0.0                 19001.0   \n",
       "\n",
       "   nivel_academico_paciente  raza_paciente  peso  talla   imc   HDL     LDL  \\\n",
       "0                       0.0            0.0  57.6    1.5  25.6  58.0   87.43   \n",
       "1                       1.0            0.0  57.6    1.5  25.6  57.0   30.00   \n",
       "2                       2.0            0.0  57.6    1.5  25.6  66.0  171.00   \n",
       "3                       3.0            0.0  57.6    1.5  25.6  39.0  143.00   \n",
       "4                       4.0            0.0  57.6    1.5  25.6  59.0  140.00   \n",
       "\n",
       "   trigliceridos  med_hipertension  familiar_dm  ant_cardiovascular  \\\n",
       "0          60.64               0.0          0.0                 0.0   \n",
       "1         374.00               0.0          0.0                 0.0   \n",
       "2          91.00               0.0          0.0                 0.0   \n",
       "3         280.00               0.0          0.0                 0.0   \n",
       "4         186.00               0.0          0.0                 0.0   \n",
       "\n",
       "   dm_gestacional  PERIMETRO_ABDOMINAL  hace_ejercicio  diabetes  \n",
       "0             0.0                 78.0             0.0       0.0  \n",
       "1             0.0                 75.0             0.0       0.0  \n",
       "2             0.0                 89.0             1.0       0.0  \n",
       "3             0.0                 95.0             0.0       1.0  \n",
       "4             0.0                 87.0             0.0       0.0  "
      ]
     },
     "execution_count": 52,
     "metadata": {},
     "output_type": "execute_result"
    }
   ],
   "source": [
    "data.head()"
   ]
  },
  {
   "cell_type": "markdown",
   "metadata": {},
   "source": [
    "## ¿Cuánta información se encuentra?"
   ]
  },
  {
   "cell_type": "code",
   "execution_count": 56,
   "metadata": {},
   "outputs": [
    {
     "name": "stdout",
     "output_type": "stream",
     "text": [
      "<class 'pandas.core.frame.DataFrame'>\n",
      "RangeIndex: 292536 entries, 0 to 292535\n",
      "Data columns (total 19 columns):\n",
      " #   Column                        Non-Null Count   Dtype  \n",
      "---  ------                        --------------   -----  \n",
      " 0   tipo_identificacion_paciente  292536 non-null  float64\n",
      " 1   edad                          292536 non-null  float64\n",
      " 2   genero                        292536 non-null  float64\n",
      " 3   codigo_ciudad_sucursal        292536 non-null  float64\n",
      " 4   nivel_academico_paciente      292527 non-null  float64\n",
      " 5   raza_paciente                 292527 non-null  float64\n",
      " 6   peso                          292536 non-null  float64\n",
      " 7   talla                         292536 non-null  float64\n",
      " 8   imc                           292536 non-null  float64\n",
      " 9   HDL                           292536 non-null  float64\n",
      " 10  LDL                           292536 non-null  float64\n",
      " 11  trigliceridos                 292536 non-null  float64\n",
      " 12  med_hipertension              292536 non-null  float64\n",
      " 13  familiar_dm                   292536 non-null  float64\n",
      " 14  ant_cardiovascular            292536 non-null  float64\n",
      " 15  dm_gestacional                292536 non-null  float64\n",
      " 16  PERIMETRO_ABDOMINAL           292536 non-null  float64\n",
      " 17  hace_ejercicio                292536 non-null  float64\n",
      " 18  diabetes                      292536 non-null  float64\n",
      "dtypes: float64(19)\n",
      "memory usage: 42.4 MB\n"
     ]
    }
   ],
   "source": [
    "data.info()"
   ]
  },
  {
   "cell_type": "code",
   "execution_count": 68,
   "metadata": {},
   "outputs": [
    {
     "data": {
      "text/html": [
       "<div>\n",
       "<style scoped>\n",
       "    .dataframe tbody tr th:only-of-type {\n",
       "        vertical-align: middle;\n",
       "    }\n",
       "\n",
       "    .dataframe tbody tr th {\n",
       "        vertical-align: top;\n",
       "    }\n",
       "\n",
       "    .dataframe thead th {\n",
       "        text-align: right;\n",
       "    }\n",
       "</style>\n",
       "<table border=\"1\" class=\"dataframe\">\n",
       "  <thead>\n",
       "    <tr style=\"text-align: right;\">\n",
       "      <th></th>\n",
       "      <th>tipo_identificacion_paciente</th>\n",
       "      <th>numero_identificacion_paciente</th>\n",
       "      <th>edad</th>\n",
       "      <th>genero</th>\n",
       "      <th>codigo_ciudad_sucursal</th>\n",
       "      <th>nivel_academico_paciente</th>\n",
       "      <th>raza_paciente</th>\n",
       "      <th>peso</th>\n",
       "      <th>talla</th>\n",
       "      <th>imc</th>\n",
       "      <th>...</th>\n",
       "      <th>LDL</th>\n",
       "      <th>trigliceridos</th>\n",
       "      <th>albuminuria</th>\n",
       "      <th>med_hipertension</th>\n",
       "      <th>familiar_dm</th>\n",
       "      <th>ant_cardiovascular</th>\n",
       "      <th>dm_gestacional</th>\n",
       "      <th>PERIMETRO_ABDOMINAL</th>\n",
       "      <th>hace_ejercicio</th>\n",
       "      <th>diabetes</th>\n",
       "    </tr>\n",
       "  </thead>\n",
       "  <tbody>\n",
       "    <tr>\n",
       "      <th>77849</th>\n",
       "      <td>Cédula de ciudadanía</td>\n",
       "      <td>57436121</td>\n",
       "      <td>52</td>\n",
       "      <td>0</td>\n",
       "      <td>47001</td>\n",
       "      <td>Básica secundaria</td>\n",
       "      <td>Otros</td>\n",
       "      <td>70.000000000</td>\n",
       "      <td>0.300000000</td>\n",
       "      <td>777.777777778</td>\n",
       "      <td>...</td>\n",
       "      <td>93.2</td>\n",
       "      <td>66.7</td>\n",
       "      <td>None</td>\n",
       "      <td>0</td>\n",
       "      <td>0</td>\n",
       "      <td>0</td>\n",
       "      <td>0</td>\n",
       "      <td>78.000000000</td>\n",
       "      <td>60 minutos\\n</td>\n",
       "      <td>0</td>\n",
       "    </tr>\n",
       "  </tbody>\n",
       "</table>\n",
       "<p>1 rows × 21 columns</p>\n",
       "</div>"
      ],
      "text/plain": [
       "      tipo_identificacion_paciente numero_identificacion_paciente  edad  \\\n",
       "77849         Cédula de ciudadanía                       57436121    52   \n",
       "\n",
       "       genero codigo_ciudad_sucursal nivel_academico_paciente raza_paciente  \\\n",
       "77849       0                  47001        Básica secundaria         Otros   \n",
       "\n",
       "               peso        talla            imc  ...   LDL trigliceridos  \\\n",
       "77849  70.000000000  0.300000000  777.777777778  ...  93.2          66.7   \n",
       "\n",
       "      albuminuria med_hipertension  familiar_dm  ant_cardiovascular  \\\n",
       "77849        None                0            0                   0   \n",
       "\n",
       "       dm_gestacional  PERIMETRO_ABDOMINAL hace_ejercicio diabetes  \n",
       "77849               0         78.000000000   60 minutos\\n        0  \n",
       "\n",
       "[1 rows x 21 columns]"
      ]
     },
     "execution_count": 68,
     "metadata": {},
     "output_type": "execute_result"
    }
   ],
   "source": [
    "data_original[data_original.imc >= 700]"
   ]
  },
  {
   "cell_type": "code",
   "execution_count": 70,
   "metadata": {},
   "outputs": [
    {
     "data": {
      "text/html": [
       "<div>\n",
       "<style scoped>\n",
       "    .dataframe tbody tr th:only-of-type {\n",
       "        vertical-align: middle;\n",
       "    }\n",
       "\n",
       "    .dataframe tbody tr th {\n",
       "        vertical-align: top;\n",
       "    }\n",
       "\n",
       "    .dataframe thead th {\n",
       "        text-align: right;\n",
       "    }\n",
       "</style>\n",
       "<table border=\"1\" class=\"dataframe\">\n",
       "  <thead>\n",
       "    <tr style=\"text-align: right;\">\n",
       "      <th></th>\n",
       "      <th>tipo_identificacion_paciente</th>\n",
       "      <th>numero_identificacion_paciente</th>\n",
       "      <th>edad</th>\n",
       "      <th>genero</th>\n",
       "      <th>codigo_ciudad_sucursal</th>\n",
       "      <th>nivel_academico_paciente</th>\n",
       "      <th>raza_paciente</th>\n",
       "      <th>peso</th>\n",
       "      <th>talla</th>\n",
       "      <th>imc</th>\n",
       "      <th>...</th>\n",
       "      <th>LDL</th>\n",
       "      <th>trigliceridos</th>\n",
       "      <th>albuminuria</th>\n",
       "      <th>med_hipertension</th>\n",
       "      <th>familiar_dm</th>\n",
       "      <th>ant_cardiovascular</th>\n",
       "      <th>dm_gestacional</th>\n",
       "      <th>PERIMETRO_ABDOMINAL</th>\n",
       "      <th>hace_ejercicio</th>\n",
       "      <th>diabetes</th>\n",
       "    </tr>\n",
       "  </thead>\n",
       "  <tbody>\n",
       "    <tr>\n",
       "      <th>77849</th>\n",
       "      <td>Cédula de ciudadanía</td>\n",
       "      <td>57436121</td>\n",
       "      <td>52</td>\n",
       "      <td>0</td>\n",
       "      <td>47001</td>\n",
       "      <td>Básica secundaria</td>\n",
       "      <td>Otros</td>\n",
       "      <td>70.000000000</td>\n",
       "      <td>0.300000000</td>\n",
       "      <td>777.777777778</td>\n",
       "      <td>...</td>\n",
       "      <td>93.2</td>\n",
       "      <td>66.7</td>\n",
       "      <td>None</td>\n",
       "      <td>0</td>\n",
       "      <td>0</td>\n",
       "      <td>0</td>\n",
       "      <td>0</td>\n",
       "      <td>78.000000000</td>\n",
       "      <td>60 minutos\\n</td>\n",
       "      <td>0</td>\n",
       "    </tr>\n",
       "  </tbody>\n",
       "</table>\n",
       "<p>1 rows × 21 columns</p>\n",
       "</div>"
      ],
      "text/plain": [
       "      tipo_identificacion_paciente numero_identificacion_paciente  edad  \\\n",
       "77849         Cédula de ciudadanía                       57436121    52   \n",
       "\n",
       "       genero codigo_ciudad_sucursal nivel_academico_paciente raza_paciente  \\\n",
       "77849       0                  47001        Básica secundaria         Otros   \n",
       "\n",
       "               peso        talla            imc  ...   LDL trigliceridos  \\\n",
       "77849  70.000000000  0.300000000  777.777777778  ...  93.2          66.7   \n",
       "\n",
       "      albuminuria med_hipertension  familiar_dm  ant_cardiovascular  \\\n",
       "77849        None                0            0                   0   \n",
       "\n",
       "       dm_gestacional  PERIMETRO_ABDOMINAL hace_ejercicio diabetes  \n",
       "77849               0         78.000000000   60 minutos\\n        0  \n",
       "\n",
       "[1 rows x 21 columns]"
      ]
     },
     "execution_count": 70,
     "metadata": {},
     "output_type": "execute_result"
    }
   ],
   "source": [
    "data_original[data_original.numero_identificacion_paciente == '57436121']"
   ]
  },
  {
   "cell_type": "code",
   "execution_count": 67,
   "metadata": {},
   "outputs": [
    {
     "data": {
      "text/html": [
       "<div>\n",
       "<style scoped>\n",
       "    .dataframe tbody tr th:only-of-type {\n",
       "        vertical-align: middle;\n",
       "    }\n",
       "\n",
       "    .dataframe tbody tr th {\n",
       "        vertical-align: top;\n",
       "    }\n",
       "\n",
       "    .dataframe thead th {\n",
       "        text-align: right;\n",
       "    }\n",
       "</style>\n",
       "<table border=\"1\" class=\"dataframe\">\n",
       "  <thead>\n",
       "    <tr style=\"text-align: right;\">\n",
       "      <th></th>\n",
       "      <th>tipo_identificacion_paciente</th>\n",
       "      <th>edad</th>\n",
       "      <th>genero</th>\n",
       "      <th>codigo_ciudad_sucursal</th>\n",
       "      <th>nivel_academico_paciente</th>\n",
       "      <th>raza_paciente</th>\n",
       "      <th>peso</th>\n",
       "      <th>talla</th>\n",
       "      <th>imc</th>\n",
       "      <th>HDL</th>\n",
       "      <th>LDL</th>\n",
       "      <th>trigliceridos</th>\n",
       "      <th>med_hipertension</th>\n",
       "      <th>familiar_dm</th>\n",
       "      <th>ant_cardiovascular</th>\n",
       "      <th>dm_gestacional</th>\n",
       "      <th>PERIMETRO_ABDOMINAL</th>\n",
       "      <th>hace_ejercicio</th>\n",
       "      <th>diabetes</th>\n",
       "    </tr>\n",
       "  </thead>\n",
       "  <tbody>\n",
       "    <tr>\n",
       "      <th>77849</th>\n",
       "      <td>0.0</td>\n",
       "      <td>52.0</td>\n",
       "      <td>0.0</td>\n",
       "      <td>47001.0</td>\n",
       "      <td>0.0</td>\n",
       "      <td>0.0</td>\n",
       "      <td>70.0</td>\n",
       "      <td>0.3</td>\n",
       "      <td>777.777778</td>\n",
       "      <td>44.2</td>\n",
       "      <td>93.2</td>\n",
       "      <td>66.7</td>\n",
       "      <td>0.0</td>\n",
       "      <td>0.0</td>\n",
       "      <td>0.0</td>\n",
       "      <td>0.0</td>\n",
       "      <td>78.0</td>\n",
       "      <td>3.0</td>\n",
       "      <td>0.0</td>\n",
       "    </tr>\n",
       "  </tbody>\n",
       "</table>\n",
       "</div>"
      ],
      "text/plain": [
       "       tipo_identificacion_paciente  edad  genero  codigo_ciudad_sucursal  \\\n",
       "77849                           0.0  52.0     0.0                 47001.0   \n",
       "\n",
       "       nivel_academico_paciente  raza_paciente  peso  talla         imc   HDL  \\\n",
       "77849                       0.0            0.0  70.0    0.3  777.777778  44.2   \n",
       "\n",
       "        LDL  trigliceridos  med_hipertension  familiar_dm  ant_cardiovascular  \\\n",
       "77849  93.2           66.7               0.0          0.0                 0.0   \n",
       "\n",
       "       dm_gestacional  PERIMETRO_ABDOMINAL  hace_ejercicio  diabetes  \n",
       "77849             0.0                 78.0             3.0       0.0  "
      ]
     },
     "execution_count": 67,
     "metadata": {},
     "output_type": "execute_result"
    }
   ],
   "source": [
    "data[data.imc >= 700]"
   ]
  },
  {
   "cell_type": "code",
   "execution_count": 57,
   "metadata": {},
   "outputs": [
    {
     "data": {
      "text/html": [
       "<div>\n",
       "<style scoped>\n",
       "    .dataframe tbody tr th:only-of-type {\n",
       "        vertical-align: middle;\n",
       "    }\n",
       "\n",
       "    .dataframe tbody tr th {\n",
       "        vertical-align: top;\n",
       "    }\n",
       "\n",
       "    .dataframe thead th {\n",
       "        text-align: right;\n",
       "    }\n",
       "</style>\n",
       "<table border=\"1\" class=\"dataframe\">\n",
       "  <thead>\n",
       "    <tr style=\"text-align: right;\">\n",
       "      <th></th>\n",
       "      <th>tipo_identificacion_paciente</th>\n",
       "      <th>edad</th>\n",
       "      <th>genero</th>\n",
       "      <th>codigo_ciudad_sucursal</th>\n",
       "      <th>nivel_academico_paciente</th>\n",
       "      <th>raza_paciente</th>\n",
       "      <th>peso</th>\n",
       "      <th>talla</th>\n",
       "      <th>imc</th>\n",
       "      <th>HDL</th>\n",
       "      <th>LDL</th>\n",
       "      <th>trigliceridos</th>\n",
       "      <th>med_hipertension</th>\n",
       "      <th>familiar_dm</th>\n",
       "      <th>ant_cardiovascular</th>\n",
       "      <th>dm_gestacional</th>\n",
       "      <th>PERIMETRO_ABDOMINAL</th>\n",
       "      <th>hace_ejercicio</th>\n",
       "      <th>diabetes</th>\n",
       "    </tr>\n",
       "  </thead>\n",
       "  <tbody>\n",
       "    <tr>\n",
       "      <th>count</th>\n",
       "      <td>292536.000000</td>\n",
       "      <td>292536.000000</td>\n",
       "      <td>292536.000000</td>\n",
       "      <td>292536.000000</td>\n",
       "      <td>292527.000000</td>\n",
       "      <td>292527.000000</td>\n",
       "      <td>292536.000000</td>\n",
       "      <td>292536.000000</td>\n",
       "      <td>292536.000000</td>\n",
       "      <td>292536.000000</td>\n",
       "      <td>292536.000000</td>\n",
       "      <td>292536.000000</td>\n",
       "      <td>292536.000000</td>\n",
       "      <td>292536.000000</td>\n",
       "      <td>292536.000000</td>\n",
       "      <td>292536.000000</td>\n",
       "      <td>292536.000000</td>\n",
       "      <td>292536.000000</td>\n",
       "      <td>292536.000000</td>\n",
       "    </tr>\n",
       "    <tr>\n",
       "      <th>mean</th>\n",
       "      <td>0.019088</td>\n",
       "      <td>59.097732</td>\n",
       "      <td>0.383037</td>\n",
       "      <td>28903.630087</td>\n",
       "      <td>2.625488</td>\n",
       "      <td>0.175184</td>\n",
       "      <td>73.758353</td>\n",
       "      <td>1.611391</td>\n",
       "      <td>28.331444</td>\n",
       "      <td>48.006205</td>\n",
       "      <td>109.090474</td>\n",
       "      <td>154.455188</td>\n",
       "      <td>0.661638</td>\n",
       "      <td>0.008502</td>\n",
       "      <td>0.733879</td>\n",
       "      <td>0.004266</td>\n",
       "      <td>93.066485</td>\n",
       "      <td>1.395093</td>\n",
       "      <td>0.301529</td>\n",
       "    </tr>\n",
       "    <tr>\n",
       "      <th>std</th>\n",
       "      <td>0.216244</td>\n",
       "      <td>15.500512</td>\n",
       "      <td>0.486128</td>\n",
       "      <td>21838.645651</td>\n",
       "      <td>2.746173</td>\n",
       "      <td>0.581321</td>\n",
       "      <td>15.958150</td>\n",
       "      <td>0.094033</td>\n",
       "      <td>5.618801</td>\n",
       "      <td>27.564151</td>\n",
       "      <td>279.267558</td>\n",
       "      <td>478.889615</td>\n",
       "      <td>0.473153</td>\n",
       "      <td>0.091811</td>\n",
       "      <td>0.441929</td>\n",
       "      <td>0.065176</td>\n",
       "      <td>12.994989</td>\n",
       "      <td>0.992946</td>\n",
       "      <td>0.458923</td>\n",
       "    </tr>\n",
       "    <tr>\n",
       "      <th>min</th>\n",
       "      <td>0.000000</td>\n",
       "      <td>18.000000</td>\n",
       "      <td>0.000000</td>\n",
       "      <td>5001.000000</td>\n",
       "      <td>0.000000</td>\n",
       "      <td>0.000000</td>\n",
       "      <td>2.870000</td>\n",
       "      <td>0.300000</td>\n",
       "      <td>4.140625</td>\n",
       "      <td>0.000000</td>\n",
       "      <td>0.000000</td>\n",
       "      <td>0.000000</td>\n",
       "      <td>0.000000</td>\n",
       "      <td>0.000000</td>\n",
       "      <td>0.000000</td>\n",
       "      <td>0.000000</td>\n",
       "      <td>20.000000</td>\n",
       "      <td>0.000000</td>\n",
       "      <td>0.000000</td>\n",
       "    </tr>\n",
       "    <tr>\n",
       "      <th>25%</th>\n",
       "      <td>0.000000</td>\n",
       "      <td>48.000000</td>\n",
       "      <td>0.000000</td>\n",
       "      <td>11001.000000</td>\n",
       "      <td>0.000000</td>\n",
       "      <td>0.000000</td>\n",
       "      <td>63.000000</td>\n",
       "      <td>1.550000</td>\n",
       "      <td>24.807492</td>\n",
       "      <td>39.200000</td>\n",
       "      <td>79.800000</td>\n",
       "      <td>97.400000</td>\n",
       "      <td>0.000000</td>\n",
       "      <td>0.000000</td>\n",
       "      <td>0.000000</td>\n",
       "      <td>0.000000</td>\n",
       "      <td>85.000000</td>\n",
       "      <td>0.000000</td>\n",
       "      <td>0.000000</td>\n",
       "    </tr>\n",
       "    <tr>\n",
       "      <th>50%</th>\n",
       "      <td>0.000000</td>\n",
       "      <td>61.000000</td>\n",
       "      <td>0.000000</td>\n",
       "      <td>19001.000000</td>\n",
       "      <td>3.000000</td>\n",
       "      <td>0.000000</td>\n",
       "      <td>72.000000</td>\n",
       "      <td>1.600000</td>\n",
       "      <td>27.717685</td>\n",
       "      <td>46.000000</td>\n",
       "      <td>105.500000</td>\n",
       "      <td>133.000000</td>\n",
       "      <td>1.000000</td>\n",
       "      <td>0.000000</td>\n",
       "      <td>1.000000</td>\n",
       "      <td>0.000000</td>\n",
       "      <td>92.000000</td>\n",
       "      <td>2.000000</td>\n",
       "      <td>0.000000</td>\n",
       "    </tr>\n",
       "    <tr>\n",
       "      <th>75%</th>\n",
       "      <td>0.000000</td>\n",
       "      <td>70.000000</td>\n",
       "      <td>1.000000</td>\n",
       "      <td>50001.000000</td>\n",
       "      <td>4.000000</td>\n",
       "      <td>0.000000</td>\n",
       "      <td>82.900000</td>\n",
       "      <td>1.680000</td>\n",
       "      <td>31.170468</td>\n",
       "      <td>54.000000</td>\n",
       "      <td>132.800000</td>\n",
       "      <td>183.000000</td>\n",
       "      <td>1.000000</td>\n",
       "      <td>0.000000</td>\n",
       "      <td>1.000000</td>\n",
       "      <td>0.000000</td>\n",
       "      <td>100.000000</td>\n",
       "      <td>2.000000</td>\n",
       "      <td>1.000000</td>\n",
       "    </tr>\n",
       "    <tr>\n",
       "      <th>max</th>\n",
       "      <td>6.000000</td>\n",
       "      <td>107.000000</td>\n",
       "      <td>1.000000</td>\n",
       "      <td>88001.000000</td>\n",
       "      <td>12.000000</td>\n",
       "      <td>6.000000</td>\n",
       "      <td>300.000000</td>\n",
       "      <td>2.060000</td>\n",
       "      <td>777.777778</td>\n",
       "      <td>6708.000000</td>\n",
       "      <td>94167.000000</td>\n",
       "      <td>253000.000000</td>\n",
       "      <td>1.000000</td>\n",
       "      <td>1.000000</td>\n",
       "      <td>1.000000</td>\n",
       "      <td>1.000000</td>\n",
       "      <td>374.000000</td>\n",
       "      <td>3.000000</td>\n",
       "      <td>1.000000</td>\n",
       "    </tr>\n",
       "  </tbody>\n",
       "</table>\n",
       "</div>"
      ],
      "text/plain": [
       "       tipo_identificacion_paciente           edad         genero  \\\n",
       "count                 292536.000000  292536.000000  292536.000000   \n",
       "mean                       0.019088      59.097732       0.383037   \n",
       "std                        0.216244      15.500512       0.486128   \n",
       "min                        0.000000      18.000000       0.000000   \n",
       "25%                        0.000000      48.000000       0.000000   \n",
       "50%                        0.000000      61.000000       0.000000   \n",
       "75%                        0.000000      70.000000       1.000000   \n",
       "max                        6.000000     107.000000       1.000000   \n",
       "\n",
       "       codigo_ciudad_sucursal  nivel_academico_paciente  raza_paciente  \\\n",
       "count           292536.000000             292527.000000  292527.000000   \n",
       "mean             28903.630087                  2.625488       0.175184   \n",
       "std              21838.645651                  2.746173       0.581321   \n",
       "min               5001.000000                  0.000000       0.000000   \n",
       "25%              11001.000000                  0.000000       0.000000   \n",
       "50%              19001.000000                  3.000000       0.000000   \n",
       "75%              50001.000000                  4.000000       0.000000   \n",
       "max              88001.000000                 12.000000       6.000000   \n",
       "\n",
       "                peso          talla            imc            HDL  \\\n",
       "count  292536.000000  292536.000000  292536.000000  292536.000000   \n",
       "mean       73.758353       1.611391      28.331444      48.006205   \n",
       "std        15.958150       0.094033       5.618801      27.564151   \n",
       "min         2.870000       0.300000       4.140625       0.000000   \n",
       "25%        63.000000       1.550000      24.807492      39.200000   \n",
       "50%        72.000000       1.600000      27.717685      46.000000   \n",
       "75%        82.900000       1.680000      31.170468      54.000000   \n",
       "max       300.000000       2.060000     777.777778    6708.000000   \n",
       "\n",
       "                 LDL  trigliceridos  med_hipertension    familiar_dm  \\\n",
       "count  292536.000000  292536.000000     292536.000000  292536.000000   \n",
       "mean      109.090474     154.455188          0.661638       0.008502   \n",
       "std       279.267558     478.889615          0.473153       0.091811   \n",
       "min         0.000000       0.000000          0.000000       0.000000   \n",
       "25%        79.800000      97.400000          0.000000       0.000000   \n",
       "50%       105.500000     133.000000          1.000000       0.000000   \n",
       "75%       132.800000     183.000000          1.000000       0.000000   \n",
       "max     94167.000000  253000.000000          1.000000       1.000000   \n",
       "\n",
       "       ant_cardiovascular  dm_gestacional  PERIMETRO_ABDOMINAL  \\\n",
       "count       292536.000000   292536.000000        292536.000000   \n",
       "mean             0.733879        0.004266            93.066485   \n",
       "std              0.441929        0.065176            12.994989   \n",
       "min              0.000000        0.000000            20.000000   \n",
       "25%              0.000000        0.000000            85.000000   \n",
       "50%              1.000000        0.000000            92.000000   \n",
       "75%              1.000000        0.000000           100.000000   \n",
       "max              1.000000        1.000000           374.000000   \n",
       "\n",
       "       hace_ejercicio       diabetes  \n",
       "count   292536.000000  292536.000000  \n",
       "mean         1.395093       0.301529  \n",
       "std          0.992946       0.458923  \n",
       "min          0.000000       0.000000  \n",
       "25%          0.000000       0.000000  \n",
       "50%          2.000000       0.000000  \n",
       "75%          2.000000       1.000000  \n",
       "max          3.000000       1.000000  "
      ]
     },
     "execution_count": 57,
     "metadata": {},
     "output_type": "execute_result"
    }
   ],
   "source": [
    "data.describe()"
   ]
  },
  {
   "cell_type": "markdown",
   "metadata": {},
   "source": [
    "## ¿cuantos datos son nulos?"
   ]
  },
  {
   "cell_type": "code",
   "execution_count": 11,
   "metadata": {},
   "outputs": [
    {
     "name": "stdout",
     "output_type": "stream",
     "text": [
      "\n",
      "Datos nulos por variable:\n",
      "tipo_identificacion_paciente          0\n",
      "numero_identificacion_paciente        0\n",
      "edad                                  0\n",
      "genero                                0\n",
      "codigo_ciudad_sucursal                0\n",
      "nivel_academico_paciente              9\n",
      "raza_paciente                         9\n",
      "peso                                  0\n",
      "talla                                 0\n",
      "imc                                   0\n",
      "HDL                                   0\n",
      "LDL                                   0\n",
      "trigliceridos                         0\n",
      "albuminuria                       77309\n",
      "med_hipertension                      0\n",
      "familiar_dm                           0\n",
      "ant_cardiovascular                    0\n",
      "dm_gestacional                        0\n",
      "PERIMETRO_ABDOMINAL                   0\n",
      "hace_ejercicio                        0\n",
      "diabetes                              0\n",
      "dtype: int64\n"
     ]
    }
   ],
   "source": [
    "null_counts = data.isnull().sum()\n",
    "print(\"\\nDatos nulos por variable:\")\n",
    "print(null_counts)"
   ]
  },
  {
   "cell_type": "markdown",
   "metadata": {},
   "source": [
    "## ¿Calcular el número de personas con diabetes y sin diabetes?"
   ]
  },
  {
   "cell_type": "code",
   "execution_count": 12,
   "metadata": {},
   "outputs": [
    {
     "name": "stdout",
     "output_type": "stream",
     "text": [
      "Personas con diabetes: 88208\n",
      "Personas sin diabetes: 204328\n"
     ]
    }
   ],
   "source": [
    "if 'diabetes' in data.columns:\n",
    "    personas_con_diabetes = data[data['diabetes'] == True].shape[0]\n",
    "    personas_sin_diabetes = data[data['diabetes'] == False].shape[0]\n",
    "    print(f\"Personas con diabetes: {personas_con_diabetes}\")\n",
    "    print(f\"Personas sin diabetes: {personas_sin_diabetes}\")\n",
    "else:\n",
    "    raise ValueError(\"La columna 'diabetes' no existe en el DataFrame\")"
   ]
  },
  {
   "cell_type": "markdown",
   "metadata": {},
   "source": [
    "## Relacion entre las variables"
   ]
  },
  {
   "cell_type": "code",
   "execution_count": 14,
   "metadata": {},
   "outputs": [
    {
     "data": {
      "text/plain": [
       "Index(['tipo_identificacion_paciente', 'numero_identificacion_paciente',\n",
       "       'edad', 'genero', 'codigo_ciudad_sucursal', 'nivel_academico_paciente',\n",
       "       'raza_paciente', 'peso', 'talla', 'imc', 'HDL', 'LDL', 'trigliceridos',\n",
       "       'albuminuria', 'med_hipertension', 'familiar_dm', 'ant_cardiovascular',\n",
       "       'dm_gestacional', 'PERIMETRO_ABDOMINAL', 'hace_ejercicio', 'diabetes'],\n",
       "      dtype='object')"
      ]
     },
     "execution_count": 14,
     "metadata": {},
     "output_type": "execute_result"
    }
   ],
   "source": [
    "data.columns"
   ]
  },
  {
   "cell_type": "code",
   "execution_count": 15,
   "metadata": {},
   "outputs": [],
   "source": [
    "fig = px.scatter(data['edad'],data['peso'])\n",
    "\n",
    "# fig.show()"
   ]
  },
  {
   "cell_type": "code",
   "execution_count": 125,
   "metadata": {},
   "outputs": [
    {
     "name": "stdout",
     "output_type": "stream",
     "text": [
      "Los estadisticos descriptivos para la columna tipo_identificacion_paciente son\n",
      "Media: 0.019088248967648425\n",
      "Mediana: 0.0\n",
      "Moda: 0    0.0\n",
      "Name: tipo_identificacion_paciente, dtype: float64\n"
     ]
    },
    {
     "data": {
      "image/png": "[encoded data removed]",
      "text/plain": [
       "<Figure size 640x480 with 1 Axes>"
      ]
     },
     "metadata": {},
     "output_type": "display_data"
    },
    {
     "name": "stdout",
     "output_type": "stream",
     "text": [
      "--------------------------------------------------------------\n",
      "Los estadisticos descriptivos para la columna edad son\n",
      "Media: 59.09773156124374\n",
      "Mediana: 61.0\n",
      "Moda: 0    64.0\n",
      "Name: edad, dtype: float64\n"
     ]
    },
    {
     "data": {
      "image/png": "[encoded data removed]",
      "text/plain": [
       "<Figure size 640x480 with 1 Axes>"
      ]
     },
     "metadata": {},
     "output_type": "display_data"
    },
    {
     "name": "stdout",
     "output_type": "stream",
     "text": [
      "--------------------------------------------------------------\n",
      "Los estadisticos descriptivos para la columna genero son\n",
      "Media: 0.38303661771542646\n",
      "Mediana: 0.0\n",
      "Moda: 0    0.0\n",
      "Name: genero, dtype: float64\n"
     ]
    },
    {
     "data": {
      "image/png": "[encoded data removed]",
      "text/plain": [
       "<Figure size 640x480 with 1 Axes>"
      ]
     },
     "metadata": {},
     "output_type": "display_data"
    },
    {
     "name": "stdout",
     "output_type": "stream",
     "text": [
      "--------------------------------------------------------------\n",
      "Los estadisticos descriptivos para la columna codigo_ciudad_sucursal son\n",
      "Media: 28903.63008655345\n",
      "Mediana: 19001.0\n",
      "Moda: 0    11001.0\n",
      "Name: codigo_ciudad_sucursal, dtype: float64\n"
     ]
    },
    {
     "data": {
      "image/png": "[encoded data removed]",
      "text/plain": [
       "<Figure size 640x480 with 1 Axes>"
      ]
     },
     "metadata": {},
     "output_type": "display_data"
    },
    {
     "name": "stdout",
     "output_type": "stream",
     "text": [
      "--------------------------------------------------------------\n",
      "Los estadisticos descriptivos para la columna nivel_academico_paciente son\n",
      "Media: 2.6254875618318994\n",
      "Mediana: 3.0\n",
      "Moda: 0    0.0\n",
      "Name: nivel_academico_paciente, dtype: float64\n"
     ]
    },
    {
     "data": {
      "image/png": "[encoded data removed]",
      "text/plain": [
       "<Figure size 640x480 with 1 Axes>"
      ]
     },
     "metadata": {},
     "output_type": "display_data"
    },
    {
     "name": "stdout",
     "output_type": "stream",
     "text": [
      "--------------------------------------------------------------\n",
      "Los estadisticos descriptivos para la columna raza_paciente son\n",
      "Media: 0.1751838291849983\n",
      "Mediana: 0.0\n",
      "Moda: 0    0.0\n",
      "Name: raza_paciente, dtype: float64\n"
     ]
    },
    {
     "data": {
      "image/png": "[encoded data removed]",
      "text/plain": [
       "<Figure size 640x480 with 1 Axes>"
      ]
     },
     "metadata": {},
     "output_type": "display_data"
    },
    {
     "name": "stdout",
     "output_type": "stream",
     "text": [
      "--------------------------------------------------------------\n",
      "Los estadisticos descriptivos para la columna peso son\n",
      "Media: 73.75835336505594\n",
      "Mediana: 72.0\n",
      "Moda: 0    70.0\n",
      "Name: peso, dtype: float64\n"
     ]
    },
    {
     "data": {
      "image/png": "[encoded data removed]",
      "text/plain": [
       "<Figure size 640x480 with 1 Axes>"
      ]
     },
     "metadata": {},
     "output_type": "display_data"
    },
    {
     "name": "stdout",
     "output_type": "stream",
     "text": [
      "--------------------------------------------------------------\n",
      "Los estadisticos descriptivos para la columna talla son\n",
      "Media: 1.6113914663494406\n",
      "Mediana: 1.6\n",
      "Moda: 0    1.6\n",
      "Name: talla, dtype: float64\n"
     ]
    },
    {
     "data": {
      "image/png": "[encoded data removed]",
      "text/plain": [
       "<Figure size 640x480 with 1 Axes>"
      ]
     },
     "metadata": {},
     "output_type": "display_data"
    },
    {
     "name": "stdout",
     "output_type": "stream",
     "text": [
      "--------------------------------------------------------------\n",
      "Los estadisticos descriptivos para la columna imc son\n",
      "Media: 28.3314442169871\n",
      "Mediana: 27.717685235\n",
      "Moda: 0    27.34375\n",
      "Name: imc, dtype: float64\n"
     ]
    },
    {
     "data": {
      "image/png": "[encoded data removed]",
      "text/plain": [
       "<Figure size 640x480 with 1 Axes>"
      ]
     },
     "metadata": {},
     "output_type": "display_data"
    },
    {
     "name": "stdout",
     "output_type": "stream",
     "text": [
      "--------------------------------------------------------------\n",
      "Los estadisticos descriptivos para la columna HDL son\n",
      "Media: 48.00620532173817\n",
      "Mediana: 46.0\n",
      "Moda: 0    45.0\n",
      "Name: HDL, dtype: float64\n"
     ]
    },
    {
     "data": {
      "image/png": "[encoded data removed]",
      "text/plain": [
       "<Figure size 640x480 with 1 Axes>"
      ]
     },
     "metadata": {},
     "output_type": "display_data"
    },
    {
     "name": "stdout",
     "output_type": "stream",
     "text": [
      "--------------------------------------------------------------\n",
      "Los estadisticos descriptivos para la columna LDL son\n",
      "Media: 109.09047402712827\n",
      "Mediana: 105.5\n",
      "Moda: 0    100.0\n",
      "Name: LDL, dtype: float64\n"
     ]
    },
    {
     "data": {
      "image/png": "[encoded data removed]",
      "text/plain": [
       "<Figure size 640x480 with 1 Axes>"
      ]
     },
     "metadata": {},
     "output_type": "display_data"
    },
    {
     "name": "stdout",
     "output_type": "stream",
     "text": [
      "--------------------------------------------------------------\n",
      "Los estadisticos descriptivos para la columna trigliceridos son\n",
      "Media: 154.45518760084227\n",
      "Mediana: 133.0\n",
      "Moda: 0    110.0\n",
      "Name: trigliceridos, dtype: float64\n"
     ]
    },
    {
     "data": {
      "image/png": "[encoded data removed]",
      "text/plain": [
       "<Figure size 640x480 with 1 Axes>"
      ]
     },
     "metadata": {},
     "output_type": "display_data"
    },
    {
     "name": "stdout",
     "output_type": "stream",
     "text": [
      "--------------------------------------------------------------\n",
      "Los estadisticos descriptivos para la columna med_hipertension son\n",
      "Media: 0.6616382257226461\n",
      "Mediana: 1.0\n",
      "Moda: 0    1.0\n",
      "Name: med_hipertension, dtype: float64\n"
     ]
    },
    {
     "data": {
      "image/png": "[encoded data removed]",
      "text/plain": [
       "<Figure size 640x480 with 1 Axes>"
      ]
     },
     "metadata": {},
     "output_type": "display_data"
    },
    {
     "name": "stdout",
     "output_type": "stream",
     "text": [
      "--------------------------------------------------------------\n",
      "Los estadisticos descriptivos para la columna familiar_dm son\n",
      "Media: 0.008501517761916481\n",
      "Mediana: 0.0\n",
      "Moda: 0    0.0\n",
      "Name: familiar_dm, dtype: float64\n"
     ]
    },
    {
     "data": {
      "image/png": "[encoded data removed]",
      "text/plain": [
       "<Figure size 640x480 with 1 Axes>"
      ]
     },
     "metadata": {},
     "output_type": "display_data"
    },
    {
     "name": "stdout",
     "output_type": "stream",
     "text": [
      "--------------------------------------------------------------\n",
      "Los estadisticos descriptivos para la columna ant_cardiovascular son\n",
      "Media: 0.7338789072114201\n",
      "Mediana: 1.0\n",
      "Moda: 0    1.0\n",
      "Name: ant_cardiovascular, dtype: float64\n"
     ]
    },
    {
     "data": {
      "image/png": "[encoded data removed]",
      "text/plain": [
       "<Figure size 640x480 with 1 Axes>"
      ]
     },
     "metadata": {},
     "output_type": "display_data"
    },
    {
     "name": "stdout",
     "output_type": "stream",
     "text": [
      "--------------------------------------------------------------\n",
      "Los estadisticos descriptivos para la columna dm_gestacional son\n",
      "Media: 0.004266141603084748\n",
      "Mediana: 0.0\n",
      "Moda: 0    0.0\n",
      "Name: dm_gestacional, dtype: float64\n"
     ]
    },
    {
     "data": {
      "image/png": "[encoded data removed]",
      "text/plain": [
       "<Figure size 640x480 with 1 Axes>"
      ]
     },
     "metadata": {},
     "output_type": "display_data"
    },
    {
     "name": "stdout",
     "output_type": "stream",
     "text": [
      "--------------------------------------------------------------\n",
      "Los estadisticos descriptivos para la columna PERIMETRO_ABDOMINAL son\n",
      "Media: 93.06648521891323\n",
      "Mediana: 92.0\n",
      "Moda: 0    90.0\n",
      "Name: PERIMETRO_ABDOMINAL, dtype: float64\n"
     ]
    },
    {
     "data": {
      "image/png": "[encoded data removed]",
      "text/plain": [
       "<Figure size 640x480 with 1 Axes>"
      ]
     },
     "metadata": {},
     "output_type": "display_data"
    },
    {
     "name": "stdout",
     "output_type": "stream",
     "text": [
      "--------------------------------------------------------------\n",
      "Los estadisticos descriptivos para la columna hace_ejercicio son\n",
      "Media: 1.3950932534799136\n",
      "Mediana: 2.0\n",
      "Moda: 0    2.0\n",
      "Name: hace_ejercicio, dtype: float64\n"
     ]
    },
    {
     "data": {
      "image/png": "[encoded data removed]",
      "text/plain": [
       "<Figure size 640x480 with 1 Axes>"
      ]
     },
     "metadata": {},
     "output_type": "display_data"
    },
    {
     "name": "stdout",
     "output_type": "stream",
     "text": [
      "--------------------------------------------------------------\n",
      "Los estadisticos descriptivos para la columna diabetes son\n",
      "Media: 0.3015287007411054\n",
      "Mediana: 0.0\n",
      "Moda: 0    0.0\n",
      "Name: diabetes, dtype: float64\n"
     ]
    },
    {
     "data": {
      "image/png": "[encoded data removed]",
      "text/plain": [
       "<Figure size 640x480 with 1 Axes>"
      ]
     },
     "metadata": {},
     "output_type": "display_data"
    },
    {
     "name": "stdout",
     "output_type": "stream",
     "text": [
      "--------------------------------------------------------------\n"
     ]
    }
   ],
   "source": [
    "# column = \"edad\"\n",
    "\n",
    "for column in data.columns:\n",
    "    print(f'Los estadisticos descriptivos para la columna {column} son')\n",
    "    print(f'Media: {data[column].mean()}')\n",
    "    print(f'Mediana: {data[column].median()}')\n",
    "    print(f'Moda: {data[column].mode()}')\n",
    "    plt.hist(data[column])\n",
    "    plt.show()\n",
    "    print('--------------------------------------------------------------')"
   ]
  },
  {
   "cell_type": "code",
   "execution_count": null,
   "metadata": {},
   "outputs": [],
   "source": [
    "variables_categoricas = []\n",
    "variable"
   ]
  },
  {
   "cell_type": "code",
   "execution_count": 98,
   "metadata": {},
   "outputs": [
    {
     "data": {
      "text/html": [
       "<div>\n",
       "<style scoped>\n",
       "    .dataframe tbody tr th:only-of-type {\n",
       "        vertical-align: middle;\n",
       "    }\n",
       "\n",
       "    .dataframe tbody tr th {\n",
       "        vertical-align: top;\n",
       "    }\n",
       "\n",
       "    .dataframe thead th {\n",
       "        text-align: right;\n",
       "    }\n",
       "</style>\n",
       "<table border=\"1\" class=\"dataframe\">\n",
       "  <thead>\n",
       "    <tr style=\"text-align: right;\">\n",
       "      <th></th>\n",
       "      <th>tipo_identificacion_paciente</th>\n",
       "      <th>edad</th>\n",
       "      <th>genero</th>\n",
       "      <th>codigo_ciudad_sucursal</th>\n",
       "      <th>nivel_academico_paciente</th>\n",
       "      <th>raza_paciente</th>\n",
       "      <th>peso</th>\n",
       "      <th>talla</th>\n",
       "      <th>imc</th>\n",
       "      <th>HDL</th>\n",
       "      <th>LDL</th>\n",
       "      <th>trigliceridos</th>\n",
       "      <th>med_hipertension</th>\n",
       "      <th>familiar_dm</th>\n",
       "      <th>ant_cardiovascular</th>\n",
       "      <th>dm_gestacional</th>\n",
       "      <th>PERIMETRO_ABDOMINAL</th>\n",
       "      <th>hace_ejercicio</th>\n",
       "      <th>diabetes</th>\n",
       "    </tr>\n",
       "  </thead>\n",
       "  <tbody>\n",
       "    <tr>\n",
       "      <th>0</th>\n",
       "      <td>0.0</td>\n",
       "      <td>64.0</td>\n",
       "      <td>0.0</td>\n",
       "      <td>11001.0</td>\n",
       "      <td>0.0</td>\n",
       "      <td>0.0</td>\n",
       "      <td>57.6</td>\n",
       "      <td>1.5</td>\n",
       "      <td>25.6</td>\n",
       "      <td>58.0</td>\n",
       "      <td>87.43</td>\n",
       "      <td>60.64</td>\n",
       "      <td>0.0</td>\n",
       "      <td>0.0</td>\n",
       "      <td>0.0</td>\n",
       "      <td>0.0</td>\n",
       "      <td>78.0</td>\n",
       "      <td>0.0</td>\n",
       "      <td>0.0</td>\n",
       "    </tr>\n",
       "  </tbody>\n",
       "</table>\n",
       "</div>"
      ],
      "text/plain": [
       "   tipo_identificacion_paciente  edad  genero  codigo_ciudad_sucursal  \\\n",
       "0                           0.0  64.0     0.0                 11001.0   \n",
       "\n",
       "   nivel_academico_paciente  raza_paciente  peso  talla   imc   HDL    LDL  \\\n",
       "0                       0.0            0.0  57.6    1.5  25.6  58.0  87.43   \n",
       "\n",
       "   trigliceridos  med_hipertension  familiar_dm  ant_cardiovascular  \\\n",
       "0          60.64               0.0          0.0                 0.0   \n",
       "\n",
       "   dm_gestacional  PERIMETRO_ABDOMINAL  hace_ejercicio  diabetes  \n",
       "0             0.0                 78.0             0.0       0.0  "
      ]
     },
     "execution_count": 98,
     "metadata": {},
     "output_type": "execute_result"
    }
   ],
   "source": [
    "data.head(1)"
   ]
  },
  {
   "cell_type": "code",
   "execution_count": 100,
   "metadata": {},
   "outputs": [
    {
     "name": "stdout",
     "output_type": "stream",
     "text": [
      "------------------------------------------------------------------------------------\n",
      "Resultado de correlacion entre la variable tipo_identificacion_paciente y diabetes\n"
     ]
    },
    {
     "data": {
      "text/html": [
       "<div>\n",
       "<style scoped>\n",
       "    .dataframe tbody tr th:only-of-type {\n",
       "        vertical-align: middle;\n",
       "    }\n",
       "\n",
       "    .dataframe tbody tr th {\n",
       "        vertical-align: top;\n",
       "    }\n",
       "\n",
       "    .dataframe thead th {\n",
       "        text-align: right;\n",
       "    }\n",
       "</style>\n",
       "<table border=\"1\" class=\"dataframe\">\n",
       "  <thead>\n",
       "    <tr style=\"text-align: right;\">\n",
       "      <th>diabetes</th>\n",
       "      <th>0.0</th>\n",
       "      <th>1.0</th>\n",
       "    </tr>\n",
       "    <tr>\n",
       "      <th>tipo_identificacion_paciente</th>\n",
       "      <th></th>\n",
       "      <th></th>\n",
       "    </tr>\n",
       "  </thead>\n",
       "  <tbody>\n",
       "    <tr>\n",
       "      <th>0.0</th>\n",
       "      <td>202340</td>\n",
       "      <td>87527</td>\n",
       "    </tr>\n",
       "    <tr>\n",
       "      <th>1.0</th>\n",
       "      <td>614</td>\n",
       "      <td>99</td>\n",
       "    </tr>\n",
       "    <tr>\n",
       "      <th>2.0</th>\n",
       "      <td>734</td>\n",
       "      <td>413</td>\n",
       "    </tr>\n",
       "    <tr>\n",
       "      <th>3.0</th>\n",
       "      <td>595</td>\n",
       "      <td>139</td>\n",
       "    </tr>\n",
       "    <tr>\n",
       "      <th>4.0</th>\n",
       "      <td>2</td>\n",
       "      <td>0</td>\n",
       "    </tr>\n",
       "    <tr>\n",
       "      <th>5.0</th>\n",
       "      <td>42</td>\n",
       "      <td>29</td>\n",
       "    </tr>\n",
       "    <tr>\n",
       "      <th>6.0</th>\n",
       "      <td>1</td>\n",
       "      <td>1</td>\n",
       "    </tr>\n",
       "  </tbody>\n",
       "</table>\n",
       "</div>"
      ],
      "text/plain": [
       "diabetes                         0.0    1.0\n",
       "tipo_identificacion_paciente               \n",
       "0.0                           202340  87527\n",
       "1.0                              614     99\n",
       "2.0                              734    413\n",
       "3.0                              595    139\n",
       "4.0                                2      0\n",
       "5.0                               42     29\n",
       "6.0                                1      1"
      ]
     },
     "metadata": {},
     "output_type": "display_data"
    },
    {
     "name": "stdout",
     "output_type": "stream",
     "text": [
      "El estadistico Chi-cuadrado es: 157.43842870546771\n",
      "La suma de las frecuencias es: 292536\n",
      "La dimension usada es: 1\n",
      "El coeficiente de Cramer es: 0.023198810318204647\n",
      "------------------------------------------------------------------------------------\n",
      "Resultado de correlacion entre la variable genero y diabetes\n"
     ]
    },
    {
     "data": {
      "text/html": [
       "<div>\n",
       "<style scoped>\n",
       "    .dataframe tbody tr th:only-of-type {\n",
       "        vertical-align: middle;\n",
       "    }\n",
       "\n",
       "    .dataframe tbody tr th {\n",
       "        vertical-align: top;\n",
       "    }\n",
       "\n",
       "    .dataframe thead th {\n",
       "        text-align: right;\n",
       "    }\n",
       "</style>\n",
       "<table border=\"1\" class=\"dataframe\">\n",
       "  <thead>\n",
       "    <tr style=\"text-align: right;\">\n",
       "      <th>diabetes</th>\n",
       "      <th>0.0</th>\n",
       "      <th>1.0</th>\n",
       "    </tr>\n",
       "    <tr>\n",
       "      <th>genero</th>\n",
       "      <th></th>\n",
       "      <th></th>\n",
       "    </tr>\n",
       "  </thead>\n",
       "  <tbody>\n",
       "    <tr>\n",
       "      <th>0.0</th>\n",
       "      <td>129989</td>\n",
       "      <td>50495</td>\n",
       "    </tr>\n",
       "    <tr>\n",
       "      <th>1.0</th>\n",
       "      <td>74339</td>\n",
       "      <td>37713</td>\n",
       "    </tr>\n",
       "  </tbody>\n",
       "</table>\n",
       "</div>"
      ],
      "text/plain": [
       "diabetes     0.0    1.0\n",
       "genero                 \n",
       "0.0       129989  50495\n",
       "1.0        74339  37713"
      ]
     },
     "metadata": {},
     "output_type": "display_data"
    },
    {
     "name": "stdout",
     "output_type": "stream",
     "text": [
      "El estadistico Chi-cuadrado es: 1058.6875943200519\n",
      "La suma de las frecuencias es: 292536\n",
      "La dimension usada es: 1\n",
      "El coeficiente de Cramer es: 0.06015811958166036\n",
      "------------------------------------------------------------------------------------\n",
      "Resultado de correlacion entre la variable codigo_ciudad_sucursal y diabetes\n"
     ]
    },
    {
     "data": {
      "text/html": [
       "<div>\n",
       "<style scoped>\n",
       "    .dataframe tbody tr th:only-of-type {\n",
       "        vertical-align: middle;\n",
       "    }\n",
       "\n",
       "    .dataframe tbody tr th {\n",
       "        vertical-align: top;\n",
       "    }\n",
       "\n",
       "    .dataframe thead th {\n",
       "        text-align: right;\n",
       "    }\n",
       "</style>\n",
       "<table border=\"1\" class=\"dataframe\">\n",
       "  <thead>\n",
       "    <tr style=\"text-align: right;\">\n",
       "      <th>diabetes</th>\n",
       "      <th>0.0</th>\n",
       "      <th>1.0</th>\n",
       "    </tr>\n",
       "    <tr>\n",
       "      <th>codigo_ciudad_sucursal</th>\n",
       "      <th></th>\n",
       "      <th></th>\n",
       "    </tr>\n",
       "  </thead>\n",
       "  <tbody>\n",
       "    <tr>\n",
       "      <th>5001.0</th>\n",
       "      <td>9736</td>\n",
       "      <td>3713</td>\n",
       "    </tr>\n",
       "    <tr>\n",
       "      <th>5088.0</th>\n",
       "      <td>6</td>\n",
       "      <td>2</td>\n",
       "    </tr>\n",
       "    <tr>\n",
       "      <th>5266.0</th>\n",
       "      <td>47</td>\n",
       "      <td>21</td>\n",
       "    </tr>\n",
       "    <tr>\n",
       "      <th>5360.0</th>\n",
       "      <td>3</td>\n",
       "      <td>2</td>\n",
       "    </tr>\n",
       "    <tr>\n",
       "      <th>5615.0</th>\n",
       "      <td>1056</td>\n",
       "      <td>82</td>\n",
       "    </tr>\n",
       "    <tr>\n",
       "      <th>...</th>\n",
       "      <td>...</td>\n",
       "      <td>...</td>\n",
       "    </tr>\n",
       "    <tr>\n",
       "      <th>76834.0</th>\n",
       "      <td>36</td>\n",
       "      <td>4</td>\n",
       "    </tr>\n",
       "    <tr>\n",
       "      <th>76892.0</th>\n",
       "      <td>319</td>\n",
       "      <td>95</td>\n",
       "    </tr>\n",
       "    <tr>\n",
       "      <th>81001.0</th>\n",
       "      <td>119</td>\n",
       "      <td>53</td>\n",
       "    </tr>\n",
       "    <tr>\n",
       "      <th>85001.0</th>\n",
       "      <td>430</td>\n",
       "      <td>267</td>\n",
       "    </tr>\n",
       "    <tr>\n",
       "      <th>88001.0</th>\n",
       "      <td>2</td>\n",
       "      <td>0</td>\n",
       "    </tr>\n",
       "  </tbody>\n",
       "</table>\n",
       "<p>75 rows × 2 columns</p>\n",
       "</div>"
      ],
      "text/plain": [
       "diabetes                 0.0   1.0\n",
       "codigo_ciudad_sucursal            \n",
       "5001.0                  9736  3713\n",
       "5088.0                     6     2\n",
       "5266.0                    47    21\n",
       "5360.0                     3     2\n",
       "5615.0                  1056    82\n",
       "...                      ...   ...\n",
       "76834.0                   36     4\n",
       "76892.0                  319    95\n",
       "81001.0                  119    53\n",
       "85001.0                  430   267\n",
       "88001.0                    2     0\n",
       "\n",
       "[75 rows x 2 columns]"
      ]
     },
     "metadata": {},
     "output_type": "display_data"
    },
    {
     "name": "stdout",
     "output_type": "stream",
     "text": [
      "El estadistico Chi-cuadrado es: 5199.444621638104\n",
      "La suma de las frecuencias es: 292536\n",
      "La dimension usada es: 1\n",
      "El coeficiente de Cramer es: 0.13331800897505092\n",
      "------------------------------------------------------------------------------------\n",
      "Resultado de correlacion entre la variable nivel_academico_paciente y diabetes\n"
     ]
    },
    {
     "data": {
      "text/html": [
       "<div>\n",
       "<style scoped>\n",
       "    .dataframe tbody tr th:only-of-type {\n",
       "        vertical-align: middle;\n",
       "    }\n",
       "\n",
       "    .dataframe tbody tr th {\n",
       "        vertical-align: top;\n",
       "    }\n",
       "\n",
       "    .dataframe thead th {\n",
       "        text-align: right;\n",
       "    }\n",
       "</style>\n",
       "<table border=\"1\" class=\"dataframe\">\n",
       "  <thead>\n",
       "    <tr style=\"text-align: right;\">\n",
       "      <th>diabetes</th>\n",
       "      <th>0.0</th>\n",
       "      <th>1.0</th>\n",
       "    </tr>\n",
       "    <tr>\n",
       "      <th>nivel_academico_paciente</th>\n",
       "      <th></th>\n",
       "      <th></th>\n",
       "    </tr>\n",
       "  </thead>\n",
       "  <tbody>\n",
       "    <tr>\n",
       "      <th>0.0</th>\n",
       "      <td>72097</td>\n",
       "      <td>32417</td>\n",
       "    </tr>\n",
       "    <tr>\n",
       "      <th>1.0</th>\n",
       "      <td>17326</td>\n",
       "      <td>9102</td>\n",
       "    </tr>\n",
       "    <tr>\n",
       "      <th>2.0</th>\n",
       "      <td>10070</td>\n",
       "      <td>4894</td>\n",
       "    </tr>\n",
       "    <tr>\n",
       "      <th>3.0</th>\n",
       "      <td>35264</td>\n",
       "      <td>16211</td>\n",
       "    </tr>\n",
       "    <tr>\n",
       "      <th>4.0</th>\n",
       "      <td>28768</td>\n",
       "      <td>10019</td>\n",
       "    </tr>\n",
       "    <tr>\n",
       "      <th>5.0</th>\n",
       "      <td>12887</td>\n",
       "      <td>4470</td>\n",
       "    </tr>\n",
       "    <tr>\n",
       "      <th>6.0</th>\n",
       "      <td>684</td>\n",
       "      <td>320</td>\n",
       "    </tr>\n",
       "    <tr>\n",
       "      <th>7.0</th>\n",
       "      <td>11947</td>\n",
       "      <td>4691</td>\n",
       "    </tr>\n",
       "    <tr>\n",
       "      <th>8.0</th>\n",
       "      <td>5020</td>\n",
       "      <td>2630</td>\n",
       "    </tr>\n",
       "    <tr>\n",
       "      <th>9.0</th>\n",
       "      <td>7336</td>\n",
       "      <td>2382</td>\n",
       "    </tr>\n",
       "    <tr>\n",
       "      <th>10.0</th>\n",
       "      <td>567</td>\n",
       "      <td>204</td>\n",
       "    </tr>\n",
       "    <tr>\n",
       "      <th>11.0</th>\n",
       "      <td>1667</td>\n",
       "      <td>535</td>\n",
       "    </tr>\n",
       "    <tr>\n",
       "      <th>12.0</th>\n",
       "      <td>687</td>\n",
       "      <td>332</td>\n",
       "    </tr>\n",
       "  </tbody>\n",
       "</table>\n",
       "</div>"
      ],
      "text/plain": [
       "diabetes                    0.0    1.0\n",
       "nivel_academico_paciente              \n",
       "0.0                       72097  32417\n",
       "1.0                       17326   9102\n",
       "2.0                       10070   4894\n",
       "3.0                       35264  16211\n",
       "4.0                       28768  10019\n",
       "5.0                       12887   4470\n",
       "6.0                         684    320\n",
       "7.0                       11947   4691\n",
       "8.0                        5020   2630\n",
       "9.0                        7336   2382\n",
       "10.0                        567    204\n",
       "11.0                       1667    535\n",
       "12.0                        687    332"
      ]
     },
     "metadata": {},
     "output_type": "display_data"
    },
    {
     "name": "stdout",
     "output_type": "stream",
     "text": [
      "El estadistico Chi-cuadrado es: 1148.6261801945375\n",
      "La suma de las frecuencias es: 292527\n",
      "La dimension usada es: 1\n",
      "El coeficiente de Cramer es: 0.06266230652995282\n",
      "------------------------------------------------------------------------------------\n",
      "Resultado de correlacion entre la variable raza_paciente y diabetes\n"
     ]
    },
    {
     "data": {
      "text/html": [
       "<div>\n",
       "<style scoped>\n",
       "    .dataframe tbody tr th:only-of-type {\n",
       "        vertical-align: middle;\n",
       "    }\n",
       "\n",
       "    .dataframe tbody tr th {\n",
       "        vertical-align: top;\n",
       "    }\n",
       "\n",
       "    .dataframe thead th {\n",
       "        text-align: right;\n",
       "    }\n",
       "</style>\n",
       "<table border=\"1\" class=\"dataframe\">\n",
       "  <thead>\n",
       "    <tr style=\"text-align: right;\">\n",
       "      <th>diabetes</th>\n",
       "      <th>0.0</th>\n",
       "      <th>1.0</th>\n",
       "    </tr>\n",
       "    <tr>\n",
       "      <th>raza_paciente</th>\n",
       "      <th></th>\n",
       "      <th></th>\n",
       "    </tr>\n",
       "  </thead>\n",
       "  <tbody>\n",
       "    <tr>\n",
       "      <th>0.0</th>\n",
       "      <td>177068</td>\n",
       "      <td>78843</td>\n",
       "    </tr>\n",
       "    <tr>\n",
       "      <th>1.0</th>\n",
       "      <td>23186</td>\n",
       "      <td>7505</td>\n",
       "    </tr>\n",
       "    <tr>\n",
       "      <th>2.0</th>\n",
       "      <td>366</td>\n",
       "      <td>201</td>\n",
       "    </tr>\n",
       "    <tr>\n",
       "      <th>3.0</th>\n",
       "      <td>2237</td>\n",
       "      <td>1041</td>\n",
       "    </tr>\n",
       "    <tr>\n",
       "      <th>4.0</th>\n",
       "      <td>824</td>\n",
       "      <td>333</td>\n",
       "    </tr>\n",
       "    <tr>\n",
       "      <th>5.0</th>\n",
       "      <td>418</td>\n",
       "      <td>161</td>\n",
       "    </tr>\n",
       "    <tr>\n",
       "      <th>6.0</th>\n",
       "      <td>221</td>\n",
       "      <td>123</td>\n",
       "    </tr>\n",
       "  </tbody>\n",
       "</table>\n",
       "</div>"
      ],
      "text/plain": [
       "diabetes          0.0    1.0\n",
       "raza_paciente               \n",
       "0.0            177068  78843\n",
       "1.0             23186   7505\n",
       "2.0               366    201\n",
       "3.0              2237   1041\n",
       "4.0               824    333\n",
       "5.0               418    161\n",
       "6.0               221    123"
      ]
     },
     "metadata": {},
     "output_type": "display_data"
    },
    {
     "name": "stdout",
     "output_type": "stream",
     "text": [
      "El estadistico Chi-cuadrado es: 544.8683616097179\n",
      "La suma de las frecuencias es: 292527\n",
      "La dimension usada es: 1\n",
      "El coeficiente de Cramer es: 0.04315814966807833\n",
      "------------------------------------------------------------------------------------\n",
      "Resultado de correlacion entre la variable med_hipertension y diabetes\n"
     ]
    },
    {
     "data": {
      "text/html": [
       "<div>\n",
       "<style scoped>\n",
       "    .dataframe tbody tr th:only-of-type {\n",
       "        vertical-align: middle;\n",
       "    }\n",
       "\n",
       "    .dataframe tbody tr th {\n",
       "        vertical-align: top;\n",
       "    }\n",
       "\n",
       "    .dataframe thead th {\n",
       "        text-align: right;\n",
       "    }\n",
       "</style>\n",
       "<table border=\"1\" class=\"dataframe\">\n",
       "  <thead>\n",
       "    <tr style=\"text-align: right;\">\n",
       "      <th>diabetes</th>\n",
       "      <th>0.0</th>\n",
       "      <th>1.0</th>\n",
       "    </tr>\n",
       "    <tr>\n",
       "      <th>med_hipertension</th>\n",
       "      <th></th>\n",
       "      <th></th>\n",
       "    </tr>\n",
       "  </thead>\n",
       "  <tbody>\n",
       "    <tr>\n",
       "      <th>0.0</th>\n",
       "      <td>74180</td>\n",
       "      <td>24803</td>\n",
       "    </tr>\n",
       "    <tr>\n",
       "      <th>1.0</th>\n",
       "      <td>130148</td>\n",
       "      <td>63405</td>\n",
       "    </tr>\n",
       "  </tbody>\n",
       "</table>\n",
       "</div>"
      ],
      "text/plain": [
       "diabetes             0.0    1.0\n",
       "med_hipertension               \n",
       "0.0                74180  24803\n",
       "1.0               130148  63405"
      ]
     },
     "metadata": {},
     "output_type": "display_data"
    },
    {
     "name": "stdout",
     "output_type": "stream",
     "text": [
      "El estadistico Chi-cuadrado es: 1843.9817154384393\n",
      "La suma de las frecuencias es: 292536\n",
      "La dimension usada es: 1\n",
      "El coeficiente de Cramer es: 0.07939417601779414\n",
      "------------------------------------------------------------------------------------\n",
      "Resultado de correlacion entre la variable familiar_dm y diabetes\n"
     ]
    },
    {
     "data": {
      "text/html": [
       "<div>\n",
       "<style scoped>\n",
       "    .dataframe tbody tr th:only-of-type {\n",
       "        vertical-align: middle;\n",
       "    }\n",
       "\n",
       "    .dataframe tbody tr th {\n",
       "        vertical-align: top;\n",
       "    }\n",
       "\n",
       "    .dataframe thead th {\n",
       "        text-align: right;\n",
       "    }\n",
       "</style>\n",
       "<table border=\"1\" class=\"dataframe\">\n",
       "  <thead>\n",
       "    <tr style=\"text-align: right;\">\n",
       "      <th>diabetes</th>\n",
       "      <th>0.0</th>\n",
       "      <th>1.0</th>\n",
       "    </tr>\n",
       "    <tr>\n",
       "      <th>familiar_dm</th>\n",
       "      <th></th>\n",
       "      <th></th>\n",
       "    </tr>\n",
       "  </thead>\n",
       "  <tbody>\n",
       "    <tr>\n",
       "      <th>0.0</th>\n",
       "      <td>202427</td>\n",
       "      <td>87622</td>\n",
       "    </tr>\n",
       "    <tr>\n",
       "      <th>1.0</th>\n",
       "      <td>1901</td>\n",
       "      <td>586</td>\n",
       "    </tr>\n",
       "  </tbody>\n",
       "</table>\n",
       "</div>"
      ],
      "text/plain": [
       "diabetes        0.0    1.0\n",
       "familiar_dm               \n",
       "0.0          202427  87622\n",
       "1.0            1901    586"
      ]
     },
     "metadata": {},
     "output_type": "display_data"
    },
    {
     "name": "stdout",
     "output_type": "stream",
     "text": [
      "El estadistico Chi-cuadrado es: 51.72765643771048\n",
      "La suma de las frecuencias es: 292536\n",
      "La dimension usada es: 1\n",
      "El coeficiente de Cramer es: 0.013297553369254289\n",
      "------------------------------------------------------------------------------------\n",
      "Resultado de correlacion entre la variable ant_cardiovascular y diabetes\n"
     ]
    },
    {
     "data": {
      "text/html": [
       "<div>\n",
       "<style scoped>\n",
       "    .dataframe tbody tr th:only-of-type {\n",
       "        vertical-align: middle;\n",
       "    }\n",
       "\n",
       "    .dataframe tbody tr th {\n",
       "        vertical-align: top;\n",
       "    }\n",
       "\n",
       "    .dataframe thead th {\n",
       "        text-align: right;\n",
       "    }\n",
       "</style>\n",
       "<table border=\"1\" class=\"dataframe\">\n",
       "  <thead>\n",
       "    <tr style=\"text-align: right;\">\n",
       "      <th>diabetes</th>\n",
       "      <th>0.0</th>\n",
       "      <th>1.0</th>\n",
       "    </tr>\n",
       "    <tr>\n",
       "      <th>ant_cardiovascular</th>\n",
       "      <th></th>\n",
       "      <th></th>\n",
       "    </tr>\n",
       "  </thead>\n",
       "  <tbody>\n",
       "    <tr>\n",
       "      <th>0.0</th>\n",
       "      <td>63876</td>\n",
       "      <td>13974</td>\n",
       "    </tr>\n",
       "    <tr>\n",
       "      <th>1.0</th>\n",
       "      <td>140452</td>\n",
       "      <td>74234</td>\n",
       "    </tr>\n",
       "  </tbody>\n",
       "</table>\n",
       "</div>"
      ],
      "text/plain": [
       "diabetes               0.0    1.0\n",
       "ant_cardiovascular               \n",
       "0.0                  63876  13974\n",
       "1.0                 140452  74234"
      ]
     },
     "metadata": {},
     "output_type": "display_data"
    },
    {
     "name": "stdout",
     "output_type": "stream",
     "text": [
      "El estadistico Chi-cuadrado es: 7500.458656405474\n",
      "La suma de las frecuencias es: 292536\n",
      "La dimension usada es: 1\n",
      "El coeficiente de Cramer es: 0.16012319655179624\n",
      "------------------------------------------------------------------------------------\n",
      "Resultado de correlacion entre la variable dm_gestacional y diabetes\n"
     ]
    },
    {
     "data": {
      "text/html": [
       "<div>\n",
       "<style scoped>\n",
       "    .dataframe tbody tr th:only-of-type {\n",
       "        vertical-align: middle;\n",
       "    }\n",
       "\n",
       "    .dataframe tbody tr th {\n",
       "        vertical-align: top;\n",
       "    }\n",
       "\n",
       "    .dataframe thead th {\n",
       "        text-align: right;\n",
       "    }\n",
       "</style>\n",
       "<table border=\"1\" class=\"dataframe\">\n",
       "  <thead>\n",
       "    <tr style=\"text-align: right;\">\n",
       "      <th>diabetes</th>\n",
       "      <th>0.0</th>\n",
       "      <th>1.0</th>\n",
       "    </tr>\n",
       "    <tr>\n",
       "      <th>dm_gestacional</th>\n",
       "      <th></th>\n",
       "      <th></th>\n",
       "    </tr>\n",
       "  </thead>\n",
       "  <tbody>\n",
       "    <tr>\n",
       "      <th>0.0</th>\n",
       "      <td>204328</td>\n",
       "      <td>86960</td>\n",
       "    </tr>\n",
       "    <tr>\n",
       "      <th>1.0</th>\n",
       "      <td>0</td>\n",
       "      <td>1248</td>\n",
       "    </tr>\n",
       "  </tbody>\n",
       "</table>\n",
       "</div>"
      ],
      "text/plain": [
       "diabetes           0.0    1.0\n",
       "dm_gestacional               \n",
       "0.0             204328  86960\n",
       "1.0                  0   1248"
      ]
     },
     "metadata": {},
     "output_type": "display_data"
    },
    {
     "name": "stdout",
     "output_type": "stream",
     "text": [
      "El estadistico Chi-cuadrado es: 2903.295355771174\n",
      "La suma de las frecuencias es: 292536\n",
      "La dimension usada es: 1\n",
      "El coeficiente de Cramer es: 0.09962215919162622\n",
      "------------------------------------------------------------------------------------\n",
      "Resultado de correlacion entre la variable hace_ejercicio y diabetes\n"
     ]
    },
    {
     "data": {
      "text/html": [
       "<div>\n",
       "<style scoped>\n",
       "    .dataframe tbody tr th:only-of-type {\n",
       "        vertical-align: middle;\n",
       "    }\n",
       "\n",
       "    .dataframe tbody tr th {\n",
       "        vertical-align: top;\n",
       "    }\n",
       "\n",
       "    .dataframe thead th {\n",
       "        text-align: right;\n",
       "    }\n",
       "</style>\n",
       "<table border=\"1\" class=\"dataframe\">\n",
       "  <thead>\n",
       "    <tr style=\"text-align: right;\">\n",
       "      <th>diabetes</th>\n",
       "      <th>0.0</th>\n",
       "      <th>1.0</th>\n",
       "    </tr>\n",
       "    <tr>\n",
       "      <th>hace_ejercicio</th>\n",
       "      <th></th>\n",
       "      <th></th>\n",
       "    </tr>\n",
       "  </thead>\n",
       "  <tbody>\n",
       "    <tr>\n",
       "      <th>0.0</th>\n",
       "      <td>56875</td>\n",
       "      <td>25874</td>\n",
       "    </tr>\n",
       "    <tr>\n",
       "      <th>1.0</th>\n",
       "      <td>25888</td>\n",
       "      <td>12076</td>\n",
       "    </tr>\n",
       "    <tr>\n",
       "      <th>2.0</th>\n",
       "      <td>102898</td>\n",
       "      <td>42420</td>\n",
       "    </tr>\n",
       "    <tr>\n",
       "      <th>3.0</th>\n",
       "      <td>18667</td>\n",
       "      <td>7838</td>\n",
       "    </tr>\n",
       "  </tbody>\n",
       "</table>\n",
       "</div>"
      ],
      "text/plain": [
       "diabetes           0.0    1.0\n",
       "hace_ejercicio               \n",
       "0.0              56875  25874\n",
       "1.0              25888  12076\n",
       "2.0             102898  42420\n",
       "3.0              18667   7838"
      ]
     },
     "metadata": {},
     "output_type": "display_data"
    },
    {
     "name": "stdout",
     "output_type": "stream",
     "text": [
      "El estadistico Chi-cuadrado es: 166.37465549850407\n",
      "La suma de las frecuencias es: 292536\n",
      "La dimension usada es: 1\n",
      "El coeficiente de Cramer es: 0.02384810774895942\n"
     ]
    }
   ],
   "source": [
    "variables_categoricas = ['tipo_identificacion_paciente','genero','codigo_ciudad_sucursal','nivel_academico_paciente','raza_paciente','med_hipertension','familiar_dm','ant_cardiovascular','dm_gestacional','hace_ejercicio']\n",
    "\n",
    "for variable in variables_categoricas:\n",
    "    print('------------------------------------------------------------------------------------')\n",
    "    print(f'Resultado de correlacion entre la variable {variable} y diabetes')\n",
    "\n",
    "    # Tabla de contingencia\n",
    "    dataset = pd.crosstab(data[variable],data['diabetes'])\n",
    "    display(dataset)\n",
    "\n",
    "    # Calculo de Chi-cuadrado\n",
    "    X2 = stats.chi2_contingency(dataset, correction=False)[0]\n",
    "    print(f'El estadistico Chi-cuadrado es: {X2}')\n",
    "\n",
    "    # Sumar el Arreglo\n",
    "    N = np.sum(np.array(dataset)) \n",
    "    print(f'La suma de las frecuencias es: {N}')\n",
    "\n",
    "    # Encontrar el minimo entre la cantidad de filas y columnas\n",
    "    minimum_dimension = min(dataset.shape)-1\n",
    "    print(f'La dimension usada es: {minimum_dimension}')\n",
    "\n",
    "    # Calculo del coeficiente de Cramer\n",
    "    result = np.sqrt((X2/N) / minimum_dimension) \n",
    "    print(f'El coeficiente de Cramer es: {result}')"
   ]
  },
  {
   "cell_type": "code",
   "execution_count": 114,
   "metadata": {},
   "outputs": [
    {
     "data": {
      "text/plain": [
       "['edad',\n",
       " 'peso',\n",
       " 'talla',\n",
       " 'imc',\n",
       " 'HDL',\n",
       " 'LDL',\n",
       " 'trigliceridos',\n",
       " 'PERIMETRO_ABDOMINAL',\n",
       " 'diabetes']"
      ]
     },
     "execution_count": 114,
     "metadata": {},
     "output_type": "execute_result"
    }
   ],
   "source": [
    "variables_numericas = [column for column in data.columns if column not in variables_categoricas]\n",
    "# variables_numericas.remove('diabetes')\n",
    "variables_numericas"
   ]
  },
  {
   "cell_type": "code",
   "execution_count": 122,
   "metadata": {},
   "outputs": [
    {
     "data": {
      "application/vnd.plotly.v1+json": {
       "config": {
        "plotlyServerURL": "https://plot.ly"
       },
       "data": [
        {
         "coloraxis": "coloraxis",
         "hovertemplate": "x: %{x}<br>y: %{y}<br>color: %{z}<extra></extra>",
         "name": "0",
         "type": "heatmap",
         "x": [
          "edad",
          "peso",
          "talla",
          "imc",
          "HDL",
          "LDL",
          "trigliceridos",
          "PERIMETRO_ABDOMINAL",
          "diabetes"
         ],
         "xaxis": "x",
         "y": [
          "edad",
          "peso",
          "talla",
          "imc",
          "HDL",
          "LDL",
          "trigliceridos",
          "PERIMETRO_ABDOMINAL",
          "diabetes"
         ],
         "yaxis": "y",
         "z": [
          [
           1,
           -0.28357026623179726,
           -0.217250978078256,
           -0.18203471484485947,
           0.03894674635046584,
           -0.01382599466233862,
           -0.007211582295583429,
           0.03861243603779689,
           0.20586306243291175
          ],
          [
           -0.28357026623179726,
           1,
           0.5308567936667011,
           0.7661603279111037,
           -0.12171982090260036,
           -0.007559921520107659,
           0.02494917730715304,
           0.7281766408751807,
           0.057194547819079504
          ],
          [
           -0.217250978078256,
           0.5308567936667011,
           1,
           -0.04754350538211846,
           -0.0973782921199748,
           -0.006931616434330162,
           0.01092935830311778,
           0.24749427650919067,
           -0.002008196779375694
          ],
          [
           -0.18203471484485947,
           0.7661603279111037,
           -0.04754350538211846,
           1,
           -0.07523853221504086,
           -0.0037966624186101176,
           0.020465910168271078,
           0.64033296660402,
           0.06487809274956916
          ],
          [
           0.03894674635046584,
           -0.12171982090260036,
           -0.0973782921199748,
           -0.07523853221504086,
           1,
           0.005449394553277979,
           -0.03300991336873632,
           -0.10364346180404191,
           -0.044565350542112796
          ],
          [
           -0.01382599466233862,
           -0.007559921520107659,
           -0.006931616434330162,
           -0.0037966624186101176,
           0.005449394553277979,
           1,
           0.0013731474059736942,
           -0.01265183802345305,
           -0.022607715919791757
          ],
          [
           -0.007211582295583429,
           0.02494917730715304,
           0.01092935830311778,
           0.020465910168271078,
           -0.03300991336873632,
           0.0013731474059736942,
           1,
           0.02677434804976742,
           0.01345938682672755
          ],
          [
           0.03861243603779689,
           0.7281766408751807,
           0.24749427650919067,
           0.64033296660402,
           -0.10364346180404191,
           -0.01265183802345305,
           0.02677434804976742,
           1,
           0.16901397600678025
          ],
          [
           0.20586306243291175,
           0.057194547819079504,
           -0.002008196779375694,
           0.06487809274956916,
           -0.044565350542112796,
           -0.022607715919791757,
           0.01345938682672755,
           0.16901397600678025,
           1
          ]
         ]
        }
       ],
       "layout": {
        "coloraxis": {
         "colorscale": [
          [
           0,
           "#0d0887"
          ],
          [
           0.1111111111111111,
           "#46039f"
          ],
          [
           0.2222222222222222,
           "#7201a8"
          ],
          [
           0.3333333333333333,
           "#9c179e"
          ],
          [
           0.4444444444444444,
           "#bd3786"
          ],
          [
           0.5555555555555556,
           "#d8576b"
          ],
          [
           0.6666666666666666,
           "#ed7953"
          ],
          [
           0.7777777777777778,
           "#fb9f3a"
          ],
          [
           0.8888888888888888,
           "#fdca26"
          ],
          [
           1,
           "#f0f921"
          ]
         ]
        },
        "margin": {
         "t": 60
        },
        "template": {
         "data": {
          "bar": [
           {
            "error_x": {
             "color": "#2a3f5f"
            },
            "error_y": {
             "color": "#2a3f5f"
            },
            "marker": {
             "line": {
              "color": "#E5ECF6",
              "width": 0.5
             },
             "pattern": {
              "fillmode": "overlay",
              "size": 10,
              "solidity": 0.2
             }
            },
            "type": "bar"
           }
          ],
          "barpolar": [
           {
            "marker": {
             "line": {
              "color": "#E5ECF6",
              "width": 0.5
             },
             "pattern": {
              "fillmode": "overlay",
              "size": 10,
              "solidity": 0.2
             }
            },
            "type": "barpolar"
           }
          ],
          "carpet": [
           {
            "aaxis": {
             "endlinecolor": "#2a3f5f",
             "gridcolor": "white",
             "linecolor": "white",
             "minorgridcolor": "white",
             "startlinecolor": "#2a3f5f"
            },
            "baxis": {
             "endlinecolor": "#2a3f5f",
             "gridcolor": "white",
             "linecolor": "white",
             "minorgridcolor": "white",
             "startlinecolor": "#2a3f5f"
            },
            "type": "carpet"
           }
          ],
          "choropleth": [
           {
            "colorbar": {
             "outlinewidth": 0,
             "ticks": ""
            },
            "type": "choropleth"
           }
          ],
          "contour": [
           {
            "colorbar": {
             "outlinewidth": 0,
             "ticks": ""
            },
            "colorscale": [
             [
              0,
              "#0d0887"
             ],
             [
              0.1111111111111111,
              "#46039f"
             ],
             [
              0.2222222222222222,
              "#7201a8"
             ],
             [
              0.3333333333333333,
              "#9c179e"
             ],
             [
              0.4444444444444444,
              "#bd3786"
             ],
             [
              0.5555555555555556,
              "#d8576b"
             ],
             [
              0.6666666666666666,
              "#ed7953"
             ],
             [
              0.7777777777777778,
              "#fb9f3a"
             ],
             [
              0.8888888888888888,
              "#fdca26"
             ],
             [
              1,
              "#f0f921"
             ]
            ],
            "type": "contour"
           }
          ],
          "contourcarpet": [
           {
            "colorbar": {
             "outlinewidth": 0,
             "ticks": ""
            },
            "type": "contourcarpet"
           }
          ],
          "heatmap": [
           {
            "colorbar": {
             "outlinewidth": 0,
             "ticks": ""
            },
            "colorscale": [
             [
              0,
              "#0d0887"
             ],
             [
              0.1111111111111111,
              "#46039f"
             ],
             [
              0.2222222222222222,
              "#7201a8"
             ],
             [
              0.3333333333333333,
              "#9c179e"
             ],
             [
              0.4444444444444444,
              "#bd3786"
             ],
             [
              0.5555555555555556,
              "#d8576b"
             ],
             [
              0.6666666666666666,
              "#ed7953"
             ],
             [
              0.7777777777777778,
              "#fb9f3a"
             ],
             [
              0.8888888888888888,
              "#fdca26"
             ],
             [
              1,
              "#f0f921"
             ]
            ],
            "type": "heatmap"
           }
          ],
          "heatmapgl": [
           {
            "colorbar": {
             "outlinewidth": 0,
             "ticks": ""
            },
            "colorscale": [
             [
              0,
              "#0d0887"
             ],
             [
              0.1111111111111111,
              "#46039f"
             ],
             [
              0.2222222222222222,
              "#7201a8"
             ],
             [
              0.3333333333333333,
              "#9c179e"
             ],
             [
              0.4444444444444444,
              "#bd3786"
             ],
             [
              0.5555555555555556,
              "#d8576b"
             ],
             [
              0.6666666666666666,
              "#ed7953"
             ],
             [
              0.7777777777777778,
              "#fb9f3a"
             ],
             [
              0.8888888888888888,
              "#fdca26"
             ],
             [
              1,
              "#f0f921"
             ]
            ],
            "type": "heatmapgl"
           }
          ],
          "histogram": [
           {
            "marker": {
             "pattern": {
              "fillmode": "overlay",
              "size": 10,
              "solidity": 0.2
             }
            },
            "type": "histogram"
           }
          ],
          "histogram2d": [
           {
            "colorbar": {
             "outlinewidth": 0,
             "ticks": ""
            },
            "colorscale": [
             [
              0,
              "#0d0887"
             ],
             [
              0.1111111111111111,
              "#46039f"
             ],
             [
              0.2222222222222222,
              "#7201a8"
             ],
             [
              0.3333333333333333,
              "#9c179e"
             ],
             [
              0.4444444444444444,
              "#bd3786"
             ],
             [
              0.5555555555555556,
              "#d8576b"
             ],
             [
              0.6666666666666666,
              "#ed7953"
             ],
             [
              0.7777777777777778,
              "#fb9f3a"
             ],
             [
              0.8888888888888888,
              "#fdca26"
             ],
             [
              1,
              "#f0f921"
             ]
            ],
            "type": "histogram2d"
           }
          ],
          "histogram2dcontour": [
           {
            "colorbar": {
             "outlinewidth": 0,
             "ticks": ""
            },
            "colorscale": [
             [
              0,
              "#0d0887"
             ],
             [
              0.1111111111111111,
              "#46039f"
             ],
             [
              0.2222222222222222,
              "#7201a8"
             ],
             [
              0.3333333333333333,
              "#9c179e"
             ],
             [
              0.4444444444444444,
              "#bd3786"
             ],
             [
              0.5555555555555556,
              "#d8576b"
             ],
             [
              0.6666666666666666,
              "#ed7953"
             ],
             [
              0.7777777777777778,
              "#fb9f3a"
             ],
             [
              0.8888888888888888,
              "#fdca26"
             ],
             [
              1,
              "#f0f921"
             ]
            ],
            "type": "histogram2dcontour"
           }
          ],
          "mesh3d": [
           {
            "colorbar": {
             "outlinewidth": 0,
             "ticks": ""
            },
            "type": "mesh3d"
           }
          ],
          "parcoords": [
           {
            "line": {
             "colorbar": {
              "outlinewidth": 0,
              "ticks": ""
             }
            },
            "type": "parcoords"
           }
          ],
          "pie": [
           {
            "automargin": true,
            "type": "pie"
           }
          ],
          "scatter": [
           {
            "fillpattern": {
             "fillmode": "overlay",
             "size": 10,
             "solidity": 0.2
            },
            "type": "scatter"
           }
          ],
          "scatter3d": [
           {
            "line": {
             "colorbar": {
              "outlinewidth": 0,
              "ticks": ""
             }
            },
            "marker": {
             "colorbar": {
              "outlinewidth": 0,
              "ticks": ""
             }
            },
            "type": "scatter3d"
           }
          ],
          "scattercarpet": [
           {
            "marker": {
             "colorbar": {
              "outlinewidth": 0,
              "ticks": ""
             }
            },
            "type": "scattercarpet"
           }
          ],
          "scattergeo": [
           {
            "marker": {
             "colorbar": {
              "outlinewidth": 0,
              "ticks": ""
             }
            },
            "type": "scattergeo"
           }
          ],
          "scattergl": [
           {
            "marker": {
             "colorbar": {
              "outlinewidth": 0,
              "ticks": ""
             }
            },
            "type": "scattergl"
           }
          ],
          "scattermapbox": [
           {
            "marker": {
             "colorbar": {
              "outlinewidth": 0,
              "ticks": ""
             }
            },
            "type": "scattermapbox"
           }
          ],
          "scatterpolar": [
           {
            "marker": {
             "colorbar": {
              "outlinewidth": 0,
              "ticks": ""
             }
            },
            "type": "scatterpolar"
           }
          ],
          "scatterpolargl": [
           {
            "marker": {
             "colorbar": {
              "outlinewidth": 0,
              "ticks": ""
             }
            },
            "type": "scatterpolargl"
           }
          ],
          "scatterternary": [
           {
            "marker": {
             "colorbar": {
              "outlinewidth": 0,
              "ticks": ""
             }
            },
            "type": "scatterternary"
           }
          ],
          "surface": [
           {
            "colorbar": {
             "outlinewidth": 0,
             "ticks": ""
            },
            "colorscale": [
             [
              0,
              "#0d0887"
             ],
             [
              0.1111111111111111,
              "#46039f"
             ],
             [
              0.2222222222222222,
              "#7201a8"
             ],
             [
              0.3333333333333333,
              "#9c179e"
             ],
             [
              0.4444444444444444,
              "#bd3786"
             ],
             [
              0.5555555555555556,
              "#d8576b"
             ],
             [
              0.6666666666666666,
              "#ed7953"
             ],
             [
              0.7777777777777778,
              "#fb9f3a"
             ],
             [
              0.8888888888888888,
              "#fdca26"
             ],
             [
              1,
              "#f0f921"
             ]
            ],
            "type": "surface"
           }
          ],
          "table": [
           {
            "cells": {
             "fill": {
              "color": "#EBF0F8"
             },
             "line": {
              "color": "white"
             }
            },
            "header": {
             "fill": {
              "color": "#C8D4E3"
             },
             "line": {
              "color": "white"
             }
            },
            "type": "table"
           }
          ]
         },
         "layout": {
          "annotationdefaults": {
           "arrowcolor": "#2a3f5f",
           "arrowhead": 0,
           "arrowwidth": 1
          },
          "autotypenumbers": "strict",
          "coloraxis": {
           "colorbar": {
            "outlinewidth": 0,
            "ticks": ""
           }
          },
          "colorscale": {
           "diverging": [
            [
             0,
             "#8e0152"
            ],
            [
             0.1,
             "#c51b7d"
            ],
            [
             0.2,
             "#de77ae"
            ],
            [
             0.3,
             "#f1b6da"
            ],
            [
             0.4,
             "#fde0ef"
            ],
            [
             0.5,
             "#f7f7f7"
            ],
            [
             0.6,
             "#e6f5d0"
            ],
            [
             0.7,
             "#b8e186"
            ],
            [
             0.8,
             "#7fbc41"
            ],
            [
             0.9,
             "#4d9221"
            ],
            [
             1,
             "#276419"
            ]
           ],
           "sequential": [
            [
             0,
             "#0d0887"
            ],
            [
             0.1111111111111111,
             "#46039f"
            ],
            [
             0.2222222222222222,
             "#7201a8"
            ],
            [
             0.3333333333333333,
             "#9c179e"
            ],
            [
             0.4444444444444444,
             "#bd3786"
            ],
            [
             0.5555555555555556,
             "#d8576b"
            ],
            [
             0.6666666666666666,
             "#ed7953"
            ],
            [
             0.7777777777777778,
             "#fb9f3a"
            ],
            [
             0.8888888888888888,
             "#fdca26"
            ],
            [
             1,
             "#f0f921"
            ]
           ],
           "sequentialminus": [
            [
             0,
             "#0d0887"
            ],
            [
             0.1111111111111111,
             "#46039f"
            ],
            [
             0.2222222222222222,
             "#7201a8"
            ],
            [
             0.3333333333333333,
             "#9c179e"
            ],
            [
             0.4444444444444444,
             "#bd3786"
            ],
            [
             0.5555555555555556,
             "#d8576b"
            ],
            [
             0.6666666666666666,
             "#ed7953"
            ],
            [
             0.7777777777777778,
             "#fb9f3a"
            ],
            [
             0.8888888888888888,
             "#fdca26"
            ],
            [
             1,
             "#f0f921"
            ]
           ]
          },
          "colorway": [
           "#636efa",
           "#EF553B",
           "#00cc96",
           "#ab63fa",
           "#FFA15A",
           "#19d3f3",
           "#FF6692",
           "#B6E880",
           "#FF97FF",
           "#FECB52"
          ],
          "font": {
           "color": "#2a3f5f"
          },
          "geo": {
           "bgcolor": "white",
           "lakecolor": "white",
           "landcolor": "#E5ECF6",
           "showlakes": true,
           "showland": true,
           "subunitcolor": "white"
          },
          "hoverlabel": {
           "align": "left"
          },
          "hovermode": "closest",
          "mapbox": {
           "style": "light"
          },
          "paper_bgcolor": "white",
          "plot_bgcolor": "#E5ECF6",
          "polar": {
           "angularaxis": {
            "gridcolor": "white",
            "linecolor": "white",
            "ticks": ""
           },
           "bgcolor": "#E5ECF6",
           "radialaxis": {
            "gridcolor": "white",
            "linecolor": "white",
            "ticks": ""
           }
          },
          "scene": {
           "xaxis": {
            "backgroundcolor": "#E5ECF6",
            "gridcolor": "white",
            "gridwidth": 2,
            "linecolor": "white",
            "showbackground": true,
            "ticks": "",
            "zerolinecolor": "white"
           },
           "yaxis": {
            "backgroundcolor": "#E5ECF6",
            "gridcolor": "white",
            "gridwidth": 2,
            "linecolor": "white",
            "showbackground": true,
            "ticks": "",
            "zerolinecolor": "white"
           },
           "zaxis": {
            "backgroundcolor": "#E5ECF6",
            "gridcolor": "white",
            "gridwidth": 2,
            "linecolor": "white",
            "showbackground": true,
            "ticks": "",
            "zerolinecolor": "white"
           }
          },
          "shapedefaults": {
           "line": {
            "color": "#2a3f5f"
           }
          },
          "ternary": {
           "aaxis": {
            "gridcolor": "white",
            "linecolor": "white",
            "ticks": ""
           },
           "baxis": {
            "gridcolor": "white",
            "linecolor": "white",
            "ticks": ""
           },
           "bgcolor": "#E5ECF6",
           "caxis": {
            "gridcolor": "white",
            "linecolor": "white",
            "ticks": ""
           }
          },
          "title": {
           "x": 0.05
          },
          "xaxis": {
           "automargin": true,
           "gridcolor": "white",
           "linecolor": "white",
           "ticks": "",
           "title": {
            "standoff": 15
           },
           "zerolinecolor": "white",
           "zerolinewidth": 2
          },
          "yaxis": {
           "automargin": true,
           "gridcolor": "white",
           "linecolor": "white",
           "ticks": "",
           "title": {
            "standoff": 15
           },
           "zerolinecolor": "white",
           "zerolinewidth": 2
          }
         }
        },
        "xaxis": {
         "anchor": "y",
         "constrain": "domain",
         "domain": [
          0,
          1
         ],
         "scaleanchor": "y"
        },
        "yaxis": {
         "anchor": "x",
         "autorange": "reversed",
         "constrain": "domain",
         "domain": [
          0,
          1
         ]
        }
       }
      }
     },
     "metadata": {},
     "output_type": "display_data"
    }
   ],
   "source": [
    "px.imshow(data[variables_numericas].corr(method = 'pearson'))"
   ]
  },
  {
   "cell_type": "code",
   "execution_count": 123,
   "metadata": {},
   "outputs": [
    {
     "data": {
      "application/vnd.plotly.v1+json": {
       "config": {
        "plotlyServerURL": "https://plot.ly"
       },
       "data": [
        {
         "coloraxis": "coloraxis",
         "hovertemplate": "x: %{x}<br>y: %{y}<br>color: %{z}<extra></extra>",
         "name": "0",
         "type": "heatmap",
         "x": [
          "edad",
          "peso",
          "talla",
          "imc",
          "HDL",
          "LDL",
          "trigliceridos",
          "PERIMETRO_ABDOMINAL",
          "diabetes"
         ],
         "xaxis": "x",
         "y": [
          "edad",
          "peso",
          "talla",
          "imc",
          "HDL",
          "LDL",
          "trigliceridos",
          "PERIMETRO_ABDOMINAL",
          "diabetes"
         ],
         "yaxis": "y",
         "z": [
          [
           1,
           -0.19573174906928895,
           -0.14526860355247131,
           -0.1360350442726992,
           0.06207314623779045,
           -0.09526204823290084,
           -0.007277562442570398,
           0.030409001893478574,
           0.17083543357134418
          ],
          [
           -0.19573174906928895,
           1,
           0.37831461819956475,
           0.6230049188954927,
           -0.1946033431648655,
           -0.024038948982816378,
           0.11324417493574286,
           0.5280143466809579,
           0.04740323351957806
          ],
          [
           -0.14526860355247131,
           0.37831461819956475,
           1,
           -0.008412012370678165,
           -0.15625486247804837,
           -0.02951214309401375,
           0.01393991536206022,
           0.16685317329320867,
           -0.0010756590796238152
          ],
          [
           -0.1360350442726992,
           0.6230049188954927,
           -0.008412012370678165,
           1,
           -0.13060352595088368,
           -0.010386950125609811,
           0.1269788310578618,
           0.5022527355848616,
           0.05624863795732202
          ],
          [
           0.06207314623779045,
           -0.1946033431648655,
           -0.15625486247804837,
           -0.13060352595088368,
           1,
           0.07080996068325923,
           -0.2913718846837464,
           -0.16661670370875892,
           -0.08002660627789397
          ],
          [
           -0.09526204823290084,
           -0.024038948982816378,
           -0.02951214309401375,
           -0.010386950125609811,
           0.07080996068325923,
           1,
           0.0781383138387603,
           -0.060678022587066505,
           -0.14919839536622945
          ],
          [
           -0.007277562442570398,
           0.11324417493574286,
           0.01393991536206022,
           0.1269788310578618,
           -0.2913718846837464,
           0.0781383138387603,
           1,
           0.12983471897234883,
           0.06521490987575695
          ],
          [
           0.030409001893478574,
           0.5280143466809579,
           0.16685317329320867,
           0.5022527355848616,
           -0.16661670370875892,
           -0.060678022587066505,
           0.12983471897234883,
           1,
           0.1421360256046248
          ],
          [
           0.17083543357134418,
           0.04740323351957806,
           -0.0010756590796238152,
           0.05624863795732202,
           -0.08002660627789397,
           -0.14919839536622945,
           0.06521490987575695,
           0.1421360256046248,
           1
          ]
         ]
        }
       ],
       "layout": {
        "coloraxis": {
         "colorscale": [
          [
           0,
           "#0d0887"
          ],
          [
           0.1111111111111111,
           "#46039f"
          ],
          [
           0.2222222222222222,
           "#7201a8"
          ],
          [
           0.3333333333333333,
           "#9c179e"
          ],
          [
           0.4444444444444444,
           "#bd3786"
          ],
          [
           0.5555555555555556,
           "#d8576b"
          ],
          [
           0.6666666666666666,
           "#ed7953"
          ],
          [
           0.7777777777777778,
           "#fb9f3a"
          ],
          [
           0.8888888888888888,
           "#fdca26"
          ],
          [
           1,
           "#f0f921"
          ]
         ]
        },
        "margin": {
         "t": 60
        },
        "template": {
         "data": {
          "bar": [
           {
            "error_x": {
             "color": "#2a3f5f"
            },
            "error_y": {
             "color": "#2a3f5f"
            },
            "marker": {
             "line": {
              "color": "#E5ECF6",
              "width": 0.5
             },
             "pattern": {
              "fillmode": "overlay",
              "size": 10,
              "solidity": 0.2
             }
            },
            "type": "bar"
           }
          ],
          "barpolar": [
           {
            "marker": {
             "line": {
              "color": "#E5ECF6",
              "width": 0.5
             },
             "pattern": {
              "fillmode": "overlay",
              "size": 10,
              "solidity": 0.2
             }
            },
            "type": "barpolar"
           }
          ],
          "carpet": [
           {
            "aaxis": {
             "endlinecolor": "#2a3f5f",
             "gridcolor": "white",
             "linecolor": "white",
             "minorgridcolor": "white",
             "startlinecolor": "#2a3f5f"
            },
            "baxis": {
             "endlinecolor": "#2a3f5f",
             "gridcolor": "white",
             "linecolor": "white",
             "minorgridcolor": "white",
             "startlinecolor": "#2a3f5f"
            },
            "type": "carpet"
           }
          ],
          "choropleth": [
           {
            "colorbar": {
             "outlinewidth": 0,
             "ticks": ""
            },
            "type": "choropleth"
           }
          ],
          "contour": [
           {
            "colorbar": {
             "outlinewidth": 0,
             "ticks": ""
            },
            "colorscale": [
             [
              0,
              "#0d0887"
             ],
             [
              0.1111111111111111,
              "#46039f"
             ],
             [
              0.2222222222222222,
              "#7201a8"
             ],
             [
              0.3333333333333333,
              "#9c179e"
             ],
             [
              0.4444444444444444,
              "#bd3786"
             ],
             [
              0.5555555555555556,
              "#d8576b"
             ],
             [
              0.6666666666666666,
              "#ed7953"
             ],
             [
              0.7777777777777778,
              "#fb9f3a"
             ],
             [
              0.8888888888888888,
              "#fdca26"
             ],
             [
              1,
              "#f0f921"
             ]
            ],
            "type": "contour"
           }
          ],
          "contourcarpet": [
           {
            "colorbar": {
             "outlinewidth": 0,
             "ticks": ""
            },
            "type": "contourcarpet"
           }
          ],
          "heatmap": [
           {
            "colorbar": {
             "outlinewidth": 0,
             "ticks": ""
            },
            "colorscale": [
             [
              0,
              "#0d0887"
             ],
             [
              0.1111111111111111,
              "#46039f"
             ],
             [
              0.2222222222222222,
              "#7201a8"
             ],
             [
              0.3333333333333333,
              "#9c179e"
             ],
             [
              0.4444444444444444,
              "#bd3786"
             ],
             [
              0.5555555555555556,
              "#d8576b"
             ],
             [
              0.6666666666666666,
              "#ed7953"
             ],
             [
              0.7777777777777778,
              "#fb9f3a"
             ],
             [
              0.8888888888888888,
              "#fdca26"
             ],
             [
              1,
              "#f0f921"
             ]
            ],
            "type": "heatmap"
           }
          ],
          "heatmapgl": [
           {
            "colorbar": {
             "outlinewidth": 0,
             "ticks": ""
            },
            "colorscale": [
             [
              0,
              "#0d0887"
             ],
             [
              0.1111111111111111,
              "#46039f"
             ],
             [
              0.2222222222222222,
              "#7201a8"
             ],
             [
              0.3333333333333333,
              "#9c179e"
             ],
             [
              0.4444444444444444,
              "#bd3786"
             ],
             [
              0.5555555555555556,
              "#d8576b"
             ],
             [
              0.6666666666666666,
              "#ed7953"
             ],
             [
              0.7777777777777778,
              "#fb9f3a"
             ],
             [
              0.8888888888888888,
              "#fdca26"
             ],
             [
              1,
              "#f0f921"
             ]
            ],
            "type": "heatmapgl"
           }
          ],
          "histogram": [
           {
            "marker": {
             "pattern": {
              "fillmode": "overlay",
              "size": 10,
              "solidity": 0.2
             }
            },
            "type": "histogram"
           }
          ],
          "histogram2d": [
           {
            "colorbar": {
             "outlinewidth": 0,
             "ticks": ""
            },
            "colorscale": [
             [
              0,
              "#0d0887"
             ],
             [
              0.1111111111111111,
              "#46039f"
             ],
             [
              0.2222222222222222,
              "#7201a8"
             ],
             [
              0.3333333333333333,
              "#9c179e"
             ],
             [
              0.4444444444444444,
              "#bd3786"
             ],
             [
              0.5555555555555556,
              "#d8576b"
             ],
             [
              0.6666666666666666,
              "#ed7953"
             ],
             [
              0.7777777777777778,
              "#fb9f3a"
             ],
             [
              0.8888888888888888,
              "#fdca26"
             ],
             [
              1,
              "#f0f921"
             ]
            ],
            "type": "histogram2d"
           }
          ],
          "histogram2dcontour": [
           {
            "colorbar": {
             "outlinewidth": 0,
             "ticks": ""
            },
            "colorscale": [
             [
              0,
              "#0d0887"
             ],
             [
              0.1111111111111111,
              "#46039f"
             ],
             [
              0.2222222222222222,
              "#7201a8"
             ],
             [
              0.3333333333333333,
              "#9c179e"
             ],
             [
              0.4444444444444444,
              "#bd3786"
             ],
             [
              0.5555555555555556,
              "#d8576b"
             ],
             [
              0.6666666666666666,
              "#ed7953"
             ],
             [
              0.7777777777777778,
              "#fb9f3a"
             ],
             [
              0.8888888888888888,
              "#fdca26"
             ],
             [
              1,
              "#f0f921"
             ]
            ],
            "type": "histogram2dcontour"
           }
          ],
          "mesh3d": [
           {
            "colorbar": {
             "outlinewidth": 0,
             "ticks": ""
            },
            "type": "mesh3d"
           }
          ],
          "parcoords": [
           {
            "line": {
             "colorbar": {
              "outlinewidth": 0,
              "ticks": ""
             }
            },
            "type": "parcoords"
           }
          ],
          "pie": [
           {
            "automargin": true,
            "type": "pie"
           }
          ],
          "scatter": [
           {
            "fillpattern": {
             "fillmode": "overlay",
             "size": 10,
             "solidity": 0.2
            },
            "type": "scatter"
           }
          ],
          "scatter3d": [
           {
            "line": {
             "colorbar": {
              "outlinewidth": 0,
              "ticks": ""
             }
            },
            "marker": {
             "colorbar": {
              "outlinewidth": 0,
              "ticks": ""
             }
            },
            "type": "scatter3d"
           }
          ],
          "scattercarpet": [
           {
            "marker": {
             "colorbar": {
              "outlinewidth": 0,
              "ticks": ""
             }
            },
            "type": "scattercarpet"
           }
          ],
          "scattergeo": [
           {
            "marker": {
             "colorbar": {
              "outlinewidth": 0,
              "ticks": ""
             }
            },
            "type": "scattergeo"
           }
          ],
          "scattergl": [
           {
            "marker": {
             "colorbar": {
              "outlinewidth": 0,
              "ticks": ""
             }
            },
            "type": "scattergl"
           }
          ],
          "scattermapbox": [
           {
            "marker": {
             "colorbar": {
              "outlinewidth": 0,
              "ticks": ""
             }
            },
            "type": "scattermapbox"
           }
          ],
          "scatterpolar": [
           {
            "marker": {
             "colorbar": {
              "outlinewidth": 0,
              "ticks": ""
             }
            },
            "type": "scatterpolar"
           }
          ],
          "scatterpolargl": [
           {
            "marker": {
             "colorbar": {
              "outlinewidth": 0,
              "ticks": ""
             }
            },
            "type": "scatterpolargl"
           }
          ],
          "scatterternary": [
           {
            "marker": {
             "colorbar": {
              "outlinewidth": 0,
              "ticks": ""
             }
            },
            "type": "scatterternary"
           }
          ],
          "surface": [
           {
            "colorbar": {
             "outlinewidth": 0,
             "ticks": ""
            },
            "colorscale": [
             [
              0,
              "#0d0887"
             ],
             [
              0.1111111111111111,
              "#46039f"
             ],
             [
              0.2222222222222222,
              "#7201a8"
             ],
             [
              0.3333333333333333,
              "#9c179e"
             ],
             [
              0.4444444444444444,
              "#bd3786"
             ],
             [
              0.5555555555555556,
              "#d8576b"
             ],
             [
              0.6666666666666666,
              "#ed7953"
             ],
             [
              0.7777777777777778,
              "#fb9f3a"
             ],
             [
              0.8888888888888888,
              "#fdca26"
             ],
             [
              1,
              "#f0f921"
             ]
            ],
            "type": "surface"
           }
          ],
          "table": [
           {
            "cells": {
             "fill": {
              "color": "#EBF0F8"
             },
             "line": {
              "color": "white"
             }
            },
            "header": {
             "fill": {
              "color": "#C8D4E3"
             },
             "line": {
              "color": "white"
             }
            },
            "type": "table"
           }
          ]
         },
         "layout": {
          "annotationdefaults": {
           "arrowcolor": "#2a3f5f",
           "arrowhead": 0,
           "arrowwidth": 1
          },
          "autotypenumbers": "strict",
          "coloraxis": {
           "colorbar": {
            "outlinewidth": 0,
            "ticks": ""
           }
          },
          "colorscale": {
           "diverging": [
            [
             0,
             "#8e0152"
            ],
            [
             0.1,
             "#c51b7d"
            ],
            [
             0.2,
             "#de77ae"
            ],
            [
             0.3,
             "#f1b6da"
            ],
            [
             0.4,
             "#fde0ef"
            ],
            [
             0.5,
             "#f7f7f7"
            ],
            [
             0.6,
             "#e6f5d0"
            ],
            [
             0.7,
             "#b8e186"
            ],
            [
             0.8,
             "#7fbc41"
            ],
            [
             0.9,
             "#4d9221"
            ],
            [
             1,
             "#276419"
            ]
           ],
           "sequential": [
            [
             0,
             "#0d0887"
            ],
            [
             0.1111111111111111,
             "#46039f"
            ],
            [
             0.2222222222222222,
             "#7201a8"
            ],
            [
             0.3333333333333333,
             "#9c179e"
            ],
            [
             0.4444444444444444,
             "#bd3786"
            ],
            [
             0.5555555555555556,
             "#d8576b"
            ],
            [
             0.6666666666666666,
             "#ed7953"
            ],
            [
             0.7777777777777778,
             "#fb9f3a"
            ],
            [
             0.8888888888888888,
             "#fdca26"
            ],
            [
             1,
             "#f0f921"
            ]
           ],
           "sequentialminus": [
            [
             0,
             "#0d0887"
            ],
            [
             0.1111111111111111,
             "#46039f"
            ],
            [
             0.2222222222222222,
             "#7201a8"
            ],
            [
             0.3333333333333333,
             "#9c179e"
            ],
            [
             0.4444444444444444,
             "#bd3786"
            ],
            [
             0.5555555555555556,
             "#d8576b"
            ],
            [
             0.6666666666666666,
             "#ed7953"
            ],
            [
             0.7777777777777778,
             "#fb9f3a"
            ],
            [
             0.8888888888888888,
             "#fdca26"
            ],
            [
             1,
             "#f0f921"
            ]
           ]
          },
          "colorway": [
           "#636efa",
           "#EF553B",
           "#00cc96",
           "#ab63fa",
           "#FFA15A",
           "#19d3f3",
           "#FF6692",
           "#B6E880",
           "#FF97FF",
           "#FECB52"
          ],
          "font": {
           "color": "#2a3f5f"
          },
          "geo": {
           "bgcolor": "white",
           "lakecolor": "white",
           "landcolor": "#E5ECF6",
           "showlakes": true,
           "showland": true,
           "subunitcolor": "white"
          },
          "hoverlabel": {
           "align": "left"
          },
          "hovermode": "closest",
          "mapbox": {
           "style": "light"
          },
          "paper_bgcolor": "white",
          "plot_bgcolor": "#E5ECF6",
          "polar": {
           "angularaxis": {
            "gridcolor": "white",
            "linecolor": "white",
            "ticks": ""
           },
           "bgcolor": "#E5ECF6",
           "radialaxis": {
            "gridcolor": "white",
            "linecolor": "white",
            "ticks": ""
           }
          },
          "scene": {
           "xaxis": {
            "backgroundcolor": "#E5ECF6",
            "gridcolor": "white",
            "gridwidth": 2,
            "linecolor": "white",
            "showbackground": true,
            "ticks": "",
            "zerolinecolor": "white"
           },
           "yaxis": {
            "backgroundcolor": "#E5ECF6",
            "gridcolor": "white",
            "gridwidth": 2,
            "linecolor": "white",
            "showbackground": true,
            "ticks": "",
            "zerolinecolor": "white"
           },
           "zaxis": {
            "backgroundcolor": "#E5ECF6",
            "gridcolor": "white",
            "gridwidth": 2,
            "linecolor": "white",
            "showbackground": true,
            "ticks": "",
            "zerolinecolor": "white"
           }
          },
          "shapedefaults": {
           "line": {
            "color": "#2a3f5f"
           }
          },
          "ternary": {
           "aaxis": {
            "gridcolor": "white",
            "linecolor": "white",
            "ticks": ""
           },
           "baxis": {
            "gridcolor": "white",
            "linecolor": "white",
            "ticks": ""
           },
           "bgcolor": "#E5ECF6",
           "caxis": {
            "gridcolor": "white",
            "linecolor": "white",
            "ticks": ""
           }
          },
          "title": {
           "x": 0.05
          },
          "xaxis": {
           "automargin": true,
           "gridcolor": "white",
           "linecolor": "white",
           "ticks": "",
           "title": {
            "standoff": 15
           },
           "zerolinecolor": "white",
           "zerolinewidth": 2
          },
          "yaxis": {
           "automargin": true,
           "gridcolor": "white",
           "linecolor": "white",
           "ticks": "",
           "title": {
            "standoff": 15
           },
           "zerolinecolor": "white",
           "zerolinewidth": 2
          }
         }
        },
        "xaxis": {
         "anchor": "y",
         "constrain": "domain",
         "domain": [
          0,
          1
         ],
         "scaleanchor": "y"
        },
        "yaxis": {
         "anchor": "x",
         "autorange": "reversed",
         "constrain": "domain",
         "domain": [
          0,
          1
         ]
        }
       }
      }
     },
     "metadata": {},
     "output_type": "display_data"
    }
   ],
   "source": [
    "px.imshow(data[variables_numericas].corr(method = 'kendall'))"
   ]
  },
  {
   "cell_type": "code",
   "execution_count": 124,
   "metadata": {},
   "outputs": [
    {
     "data": {
      "application/vnd.plotly.v1+json": {
       "config": {
        "plotlyServerURL": "https://plot.ly"
       },
       "data": [
        {
         "coloraxis": "coloraxis",
         "hovertemplate": "x: %{x}<br>y: %{y}<br>color: %{z}<extra></extra>",
         "name": "0",
         "type": "heatmap",
         "x": [
          "edad",
          "peso",
          "talla",
          "imc",
          "HDL",
          "LDL",
          "trigliceridos",
          "PERIMETRO_ABDOMINAL",
          "diabetes"
         ],
         "xaxis": "x",
         "y": [
          "edad",
          "peso",
          "talla",
          "imc",
          "HDL",
          "LDL",
          "trigliceridos",
          "PERIMETRO_ABDOMINAL",
          "diabetes"
         ],
         "yaxis": "y",
         "z": [
          [
           1,
           -0.28292555852490625,
           -0.21160537305129218,
           -0.19767265349550325,
           0.09157391115920699,
           -0.14545685826568452,
           -0.007850906198732742,
           0.045665313967963146,
           0.20737023907466273
          ],
          [
           -0.28292555852490625,
           1,
           0.5314376531003974,
           0.8139641930323557,
           -0.2859534615384572,
           -0.03581476110408564,
           0.1685946134448403,
           0.7042780013847468,
           0.05783557810350234
          ],
          [
           -0.21160537305129218,
           0.5314376531003974,
           1,
           -0.013163923827199662,
           -0.22936978673619768,
           -0.043376458102294055,
           0.02089308630110816,
           0.24166565788350614,
           -0.0012974334456946157
          ],
          [
           -0.19767265349550325,
           0.8139641930323557,
           -0.013163923827199662,
           1,
           -0.19400782834660618,
           -0.015462372544498766,
           0.1901747946881506,
           0.6794133535479528,
           0.0688796188820385
          ],
          [
           0.09157391115920699,
           -0.2859534615384572,
           -0.22936978673619768,
           -0.19400782834660618,
           1,
           0.10549028372250091,
           -0.42141778095074534,
           -0.24344795338446518,
           -0.09759631837017908
          ],
          [
           -0.14545685826568452,
           -0.03581476110408564,
           -0.043376458102294055,
           -0.015462372544498766,
           0.10549028372250091,
           1,
           0.11561902090035063,
           -0.09006004360039531,
           -0.1824768521689506
          ],
          [
           -0.007850906198732742,
           0.1685946134448403,
           0.02089308630110816,
           0.1901747946881506,
           -0.42141778095074534,
           0.11561902090035063,
           1,
           0.19132840474103913,
           0.07976723334267458
          ],
          [
           0.045665313967963146,
           0.7042780013847468,
           0.24166565788350614,
           0.6794133535479528,
           -0.24344795338446518,
           -0.09006004360039531,
           0.19132840474103913,
           1,
           0.17191576401948735
          ],
          [
           0.20737023907466273,
           0.05783557810350234,
           -0.0012974334456946157,
           0.0688796188820385,
           -0.09759631837017908,
           -0.1824768521689506,
           0.07976723334267458,
           0.17191576401948735,
           1
          ]
         ]
        }
       ],
       "layout": {
        "coloraxis": {
         "colorscale": [
          [
           0,
           "#0d0887"
          ],
          [
           0.1111111111111111,
           "#46039f"
          ],
          [
           0.2222222222222222,
           "#7201a8"
          ],
          [
           0.3333333333333333,
           "#9c179e"
          ],
          [
           0.4444444444444444,
           "#bd3786"
          ],
          [
           0.5555555555555556,
           "#d8576b"
          ],
          [
           0.6666666666666666,
           "#ed7953"
          ],
          [
           0.7777777777777778,
           "#fb9f3a"
          ],
          [
           0.8888888888888888,
           "#fdca26"
          ],
          [
           1,
           "#f0f921"
          ]
         ]
        },
        "margin": {
         "t": 60
        },
        "template": {
         "data": {
          "bar": [
           {
            "error_x": {
             "color": "#2a3f5f"
            },
            "error_y": {
             "color": "#2a3f5f"
            },
            "marker": {
             "line": {
              "color": "#E5ECF6",
              "width": 0.5
             },
             "pattern": {
              "fillmode": "overlay",
              "size": 10,
              "solidity": 0.2
             }
            },
            "type": "bar"
           }
          ],
          "barpolar": [
           {
            "marker": {
             "line": {
              "color": "#E5ECF6",
              "width": 0.5
             },
             "pattern": {
              "fillmode": "overlay",
              "size": 10,
              "solidity": 0.2
             }
            },
            "type": "barpolar"
           }
          ],
          "carpet": [
           {
            "aaxis": {
             "endlinecolor": "#2a3f5f",
             "gridcolor": "white",
             "linecolor": "white",
             "minorgridcolor": "white",
             "startlinecolor": "#2a3f5f"
            },
            "baxis": {
             "endlinecolor": "#2a3f5f",
             "gridcolor": "white",
             "linecolor": "white",
             "minorgridcolor": "white",
             "startlinecolor": "#2a3f5f"
            },
            "type": "carpet"
           }
          ],
          "choropleth": [
           {
            "colorbar": {
             "outlinewidth": 0,
             "ticks": ""
            },
            "type": "choropleth"
           }
          ],
          "contour": [
           {
            "colorbar": {
             "outlinewidth": 0,
             "ticks": ""
            },
            "colorscale": [
             [
              0,
              "#0d0887"
             ],
             [
              0.1111111111111111,
              "#46039f"
             ],
             [
              0.2222222222222222,
              "#7201a8"
             ],
             [
              0.3333333333333333,
              "#9c179e"
             ],
             [
              0.4444444444444444,
              "#bd3786"
             ],
             [
              0.5555555555555556,
              "#d8576b"
             ],
             [
              0.6666666666666666,
              "#ed7953"
             ],
             [
              0.7777777777777778,
              "#fb9f3a"
             ],
             [
              0.8888888888888888,
              "#fdca26"
             ],
             [
              1,
              "#f0f921"
             ]
            ],
            "type": "contour"
           }
          ],
          "contourcarpet": [
           {
            "colorbar": {
             "outlinewidth": 0,
             "ticks": ""
            },
            "type": "contourcarpet"
           }
          ],
          "heatmap": [
           {
            "colorbar": {
             "outlinewidth": 0,
             "ticks": ""
            },
            "colorscale": [
             [
              0,
              "#0d0887"
             ],
             [
              0.1111111111111111,
              "#46039f"
             ],
             [
              0.2222222222222222,
              "#7201a8"
             ],
             [
              0.3333333333333333,
              "#9c179e"
             ],
             [
              0.4444444444444444,
              "#bd3786"
             ],
             [
              0.5555555555555556,
              "#d8576b"
             ],
             [
              0.6666666666666666,
              "#ed7953"
             ],
             [
              0.7777777777777778,
              "#fb9f3a"
             ],
             [
              0.8888888888888888,
              "#fdca26"
             ],
             [
              1,
              "#f0f921"
             ]
            ],
            "type": "heatmap"
           }
          ],
          "heatmapgl": [
           {
            "colorbar": {
             "outlinewidth": 0,
             "ticks": ""
            },
            "colorscale": [
             [
              0,
              "#0d0887"
             ],
             [
              0.1111111111111111,
              "#46039f"
             ],
             [
              0.2222222222222222,
              "#7201a8"
             ],
             [
              0.3333333333333333,
              "#9c179e"
             ],
             [
              0.4444444444444444,
              "#bd3786"
             ],
             [
              0.5555555555555556,
              "#d8576b"
             ],
             [
              0.6666666666666666,
              "#ed7953"
             ],
             [
              0.7777777777777778,
              "#fb9f3a"
             ],
             [
              0.8888888888888888,
              "#fdca26"
             ],
             [
              1,
              "#f0f921"
             ]
            ],
            "type": "heatmapgl"
           }
          ],
          "histogram": [
           {
            "marker": {
             "pattern": {
              "fillmode": "overlay",
              "size": 10,
              "solidity": 0.2
             }
            },
            "type": "histogram"
           }
          ],
          "histogram2d": [
           {
            "colorbar": {
             "outlinewidth": 0,
             "ticks": ""
            },
            "colorscale": [
             [
              0,
              "#0d0887"
             ],
             [
              0.1111111111111111,
              "#46039f"
             ],
             [
              0.2222222222222222,
              "#7201a8"
             ],
             [
              0.3333333333333333,
              "#9c179e"
             ],
             [
              0.4444444444444444,
              "#bd3786"
             ],
             [
              0.5555555555555556,
              "#d8576b"
             ],
             [
              0.6666666666666666,
              "#ed7953"
             ],
             [
              0.7777777777777778,
              "#fb9f3a"
             ],
             [
              0.8888888888888888,
              "#fdca26"
             ],
             [
              1,
              "#f0f921"
             ]
            ],
            "type": "histogram2d"
           }
          ],
          "histogram2dcontour": [
           {
            "colorbar": {
             "outlinewidth": 0,
             "ticks": ""
            },
            "colorscale": [
             [
              0,
              "#0d0887"
             ],
             [
              0.1111111111111111,
              "#46039f"
             ],
             [
              0.2222222222222222,
              "#7201a8"
             ],
             [
              0.3333333333333333,
              "#9c179e"
             ],
             [
              0.4444444444444444,
              "#bd3786"
             ],
             [
              0.5555555555555556,
              "#d8576b"
             ],
             [
              0.6666666666666666,
              "#ed7953"
             ],
             [
              0.7777777777777778,
              "#fb9f3a"
             ],
             [
              0.8888888888888888,
              "#fdca26"
             ],
             [
              1,
              "#f0f921"
             ]
            ],
            "type": "histogram2dcontour"
           }
          ],
          "mesh3d": [
           {
            "colorbar": {
             "outlinewidth": 0,
             "ticks": ""
            },
            "type": "mesh3d"
           }
          ],
          "parcoords": [
           {
            "line": {
             "colorbar": {
              "outlinewidth": 0,
              "ticks": ""
             }
            },
            "type": "parcoords"
           }
          ],
          "pie": [
           {
            "automargin": true,
            "type": "pie"
           }
          ],
          "scatter": [
           {
            "fillpattern": {
             "fillmode": "overlay",
             "size": 10,
             "solidity": 0.2
            },
            "type": "scatter"
           }
          ],
          "scatter3d": [
           {
            "line": {
             "colorbar": {
              "outlinewidth": 0,
              "ticks": ""
             }
            },
            "marker": {
             "colorbar": {
              "outlinewidth": 0,
              "ticks": ""
             }
            },
            "type": "scatter3d"
           }
          ],
          "scattercarpet": [
           {
            "marker": {
             "colorbar": {
              "outlinewidth": 0,
              "ticks": ""
             }
            },
            "type": "scattercarpet"
           }
          ],
          "scattergeo": [
           {
            "marker": {
             "colorbar": {
              "outlinewidth": 0,
              "ticks": ""
             }
            },
            "type": "scattergeo"
           }
          ],
          "scattergl": [
           {
            "marker": {
             "colorbar": {
              "outlinewidth": 0,
              "ticks": ""
             }
            },
            "type": "scattergl"
           }
          ],
          "scattermapbox": [
           {
            "marker": {
             "colorbar": {
              "outlinewidth": 0,
              "ticks": ""
             }
            },
            "type": "scattermapbox"
           }
          ],
          "scatterpolar": [
           {
            "marker": {
             "colorbar": {
              "outlinewidth": 0,
              "ticks": ""
             }
            },
            "type": "scatterpolar"
           }
          ],
          "scatterpolargl": [
           {
            "marker": {
             "colorbar": {
              "outlinewidth": 0,
              "ticks": ""
             }
            },
            "type": "scatterpolargl"
           }
          ],
          "scatterternary": [
           {
            "marker": {
             "colorbar": {
              "outlinewidth": 0,
              "ticks": ""
             }
            },
            "type": "scatterternary"
           }
          ],
          "surface": [
           {
            "colorbar": {
             "outlinewidth": 0,
             "ticks": ""
            },
            "colorscale": [
             [
              0,
              "#0d0887"
             ],
             [
              0.1111111111111111,
              "#46039f"
             ],
             [
              0.2222222222222222,
              "#7201a8"
             ],
             [
              0.3333333333333333,
              "#9c179e"
             ],
             [
              0.4444444444444444,
              "#bd3786"
             ],
             [
              0.5555555555555556,
              "#d8576b"
             ],
             [
              0.6666666666666666,
              "#ed7953"
             ],
             [
              0.7777777777777778,
              "#fb9f3a"
             ],
             [
              0.8888888888888888,
              "#fdca26"
             ],
             [
              1,
              "#f0f921"
             ]
            ],
            "type": "surface"
           }
          ],
          "table": [
           {
            "cells": {
             "fill": {
              "color": "#EBF0F8"
             },
             "line": {
              "color": "white"
             }
            },
            "header": {
             "fill": {
              "color": "#C8D4E3"
             },
             "line": {
              "color": "white"
             }
            },
            "type": "table"
           }
          ]
         },
         "layout": {
          "annotationdefaults": {
           "arrowcolor": "#2a3f5f",
           "arrowhead": 0,
           "arrowwidth": 1
          },
          "autotypenumbers": "strict",
          "coloraxis": {
           "colorbar": {
            "outlinewidth": 0,
            "ticks": ""
           }
          },
          "colorscale": {
           "diverging": [
            [
             0,
             "#8e0152"
            ],
            [
             0.1,
             "#c51b7d"
            ],
            [
             0.2,
             "#de77ae"
            ],
            [
             0.3,
             "#f1b6da"
            ],
            [
             0.4,
             "#fde0ef"
            ],
            [
             0.5,
             "#f7f7f7"
            ],
            [
             0.6,
             "#e6f5d0"
            ],
            [
             0.7,
             "#b8e186"
            ],
            [
             0.8,
             "#7fbc41"
            ],
            [
             0.9,
             "#4d9221"
            ],
            [
             1,
             "#276419"
            ]
           ],
           "sequential": [
            [
             0,
             "#0d0887"
            ],
            [
             0.1111111111111111,
             "#46039f"
            ],
            [
             0.2222222222222222,
             "#7201a8"
            ],
            [
             0.3333333333333333,
             "#9c179e"
            ],
            [
             0.4444444444444444,
             "#bd3786"
            ],
            [
             0.5555555555555556,
             "#d8576b"
            ],
            [
             0.6666666666666666,
             "#ed7953"
            ],
            [
             0.7777777777777778,
             "#fb9f3a"
            ],
            [
             0.8888888888888888,
             "#fdca26"
            ],
            [
             1,
             "#f0f921"
            ]
           ],
           "sequentialminus": [
            [
             0,
             "#0d0887"
            ],
            [
             0.1111111111111111,
             "#46039f"
            ],
            [
             0.2222222222222222,
             "#7201a8"
            ],
            [
             0.3333333333333333,
             "#9c179e"
            ],
            [
             0.4444444444444444,
             "#bd3786"
            ],
            [
             0.5555555555555556,
             "#d8576b"
            ],
            [
             0.6666666666666666,
             "#ed7953"
            ],
            [
             0.7777777777777778,
             "#fb9f3a"
            ],
            [
             0.8888888888888888,
             "#fdca26"
            ],
            [
             1,
             "#f0f921"
            ]
           ]
          },
          "colorway": [
           "#636efa",
           "#EF553B",
           "#00cc96",
           "#ab63fa",
           "#FFA15A",
           "#19d3f3",
           "#FF6692",
           "#B6E880",
           "#FF97FF",
           "#FECB52"
          ],
          "font": {
           "color": "#2a3f5f"
          },
          "geo": {
           "bgcolor": "white",
           "lakecolor": "white",
           "landcolor": "#E5ECF6",
           "showlakes": true,
           "showland": true,
           "subunitcolor": "white"
          },
          "hoverlabel": {
           "align": "left"
          },
          "hovermode": "closest",
          "mapbox": {
           "style": "light"
          },
          "paper_bgcolor": "white",
          "plot_bgcolor": "#E5ECF6",
          "polar": {
           "angularaxis": {
            "gridcolor": "white",
            "linecolor": "white",
            "ticks": ""
           },
           "bgcolor": "#E5ECF6",
           "radialaxis": {
            "gridcolor": "white",
            "linecolor": "white",
            "ticks": ""
           }
          },
          "scene": {
           "xaxis": {
            "backgroundcolor": "#E5ECF6",
            "gridcolor": "white",
            "gridwidth": 2,
            "linecolor": "white",
            "showbackground": true,
            "ticks": "",
            "zerolinecolor": "white"
           },
           "yaxis": {
            "backgroundcolor": "#E5ECF6",
            "gridcolor": "white",
            "gridwidth": 2,
            "linecolor": "white",
            "showbackground": true,
            "ticks": "",
            "zerolinecolor": "white"
           },
           "zaxis": {
            "backgroundcolor": "#E5ECF6",
            "gridcolor": "white",
            "gridwidth": 2,
            "linecolor": "white",
            "showbackground": true,
            "ticks": "",
            "zerolinecolor": "white"
           }
          },
          "shapedefaults": {
           "line": {
            "color": "#2a3f5f"
           }
          },
          "ternary": {
           "aaxis": {
            "gridcolor": "white",
            "linecolor": "white",
            "ticks": ""
           },
           "baxis": {
            "gridcolor": "white",
            "linecolor": "white",
            "ticks": ""
           },
           "bgcolor": "#E5ECF6",
           "caxis": {
            "gridcolor": "white",
            "linecolor": "white",
            "ticks": ""
           }
          },
          "title": {
           "x": 0.05
          },
          "xaxis": {
           "automargin": true,
           "gridcolor": "white",
           "linecolor": "white",
           "ticks": "",
           "title": {
            "standoff": 15
           },
           "zerolinecolor": "white",
           "zerolinewidth": 2
          },
          "yaxis": {
           "automargin": true,
           "gridcolor": "white",
           "linecolor": "white",
           "ticks": "",
           "title": {
            "standoff": 15
           },
           "zerolinecolor": "white",
           "zerolinewidth": 2
          }
         }
        },
        "xaxis": {
         "anchor": "y",
         "constrain": "domain",
         "domain": [
          0,
          1
         ],
         "scaleanchor": "y"
        },
        "yaxis": {
         "anchor": "x",
         "autorange": "reversed",
         "constrain": "domain",
         "domain": [
          0,
          1
         ]
        }
       }
      }
     },
     "metadata": {},
     "output_type": "display_data"
    }
   ],
   "source": [
    "px.imshow(data[variables_numericas].corr(method = 'spearman'))"
   ]
  },
  {
   "cell_type": "markdown",
   "metadata": {},
   "source": [
    "## Clusters"
   ]
  },
  {
   "cell_type": "code",
   "execution_count": 297,
   "metadata": {},
   "outputs": [
    {
     "data": {
      "text/html": [
       "<div>\n",
       "<style scoped>\n",
       "    .dataframe tbody tr th:only-of-type {\n",
       "        vertical-align: middle;\n",
       "    }\n",
       "\n",
       "    .dataframe tbody tr th {\n",
       "        vertical-align: top;\n",
       "    }\n",
       "\n",
       "    .dataframe thead th {\n",
       "        text-align: right;\n",
       "    }\n",
       "</style>\n",
       "<table border=\"1\" class=\"dataframe\">\n",
       "  <thead>\n",
       "    <tr style=\"text-align: right;\">\n",
       "      <th></th>\n",
       "      <th>tipo_identificacion_paciente</th>\n",
       "      <th>edad</th>\n",
       "      <th>genero</th>\n",
       "      <th>codigo_ciudad_sucursal</th>\n",
       "      <th>nivel_academico_paciente</th>\n",
       "      <th>raza_paciente</th>\n",
       "      <th>peso</th>\n",
       "      <th>talla</th>\n",
       "      <th>imc</th>\n",
       "      <th>HDL</th>\n",
       "      <th>LDL</th>\n",
       "      <th>trigliceridos</th>\n",
       "      <th>med_hipertension</th>\n",
       "      <th>familiar_dm</th>\n",
       "      <th>ant_cardiovascular</th>\n",
       "      <th>dm_gestacional</th>\n",
       "      <th>PERIMETRO_ABDOMINAL</th>\n",
       "      <th>hace_ejercicio</th>\n",
       "      <th>diabetes</th>\n",
       "    </tr>\n",
       "  </thead>\n",
       "  <tbody>\n",
       "    <tr>\n",
       "      <th>0</th>\n",
       "      <td>0.0</td>\n",
       "      <td>64.0</td>\n",
       "      <td>0.0</td>\n",
       "      <td>11001.0</td>\n",
       "      <td>0.0</td>\n",
       "      <td>0.0</td>\n",
       "      <td>57.6</td>\n",
       "      <td>1.50</td>\n",
       "      <td>25.600000</td>\n",
       "      <td>58.0</td>\n",
       "      <td>87.43</td>\n",
       "      <td>60.64</td>\n",
       "      <td>0.0</td>\n",
       "      <td>0.0</td>\n",
       "      <td>0.0</td>\n",
       "      <td>0.0</td>\n",
       "      <td>78.0</td>\n",
       "      <td>0.0</td>\n",
       "      <td>0.0</td>\n",
       "    </tr>\n",
       "    <tr>\n",
       "      <th>1</th>\n",
       "      <td>0.0</td>\n",
       "      <td>54.0</td>\n",
       "      <td>0.0</td>\n",
       "      <td>54001.0</td>\n",
       "      <td>1.0</td>\n",
       "      <td>0.0</td>\n",
       "      <td>57.6</td>\n",
       "      <td>1.50</td>\n",
       "      <td>25.600000</td>\n",
       "      <td>57.0</td>\n",
       "      <td>30.00</td>\n",
       "      <td>374.00</td>\n",
       "      <td>0.0</td>\n",
       "      <td>0.0</td>\n",
       "      <td>0.0</td>\n",
       "      <td>0.0</td>\n",
       "      <td>75.0</td>\n",
       "      <td>0.0</td>\n",
       "      <td>0.0</td>\n",
       "    </tr>\n",
       "    <tr>\n",
       "      <th>2</th>\n",
       "      <td>0.0</td>\n",
       "      <td>69.0</td>\n",
       "      <td>0.0</td>\n",
       "      <td>15001.0</td>\n",
       "      <td>2.0</td>\n",
       "      <td>0.0</td>\n",
       "      <td>57.6</td>\n",
       "      <td>1.50</td>\n",
       "      <td>25.600000</td>\n",
       "      <td>66.0</td>\n",
       "      <td>171.00</td>\n",
       "      <td>91.00</td>\n",
       "      <td>0.0</td>\n",
       "      <td>0.0</td>\n",
       "      <td>0.0</td>\n",
       "      <td>0.0</td>\n",
       "      <td>89.0</td>\n",
       "      <td>1.0</td>\n",
       "      <td>0.0</td>\n",
       "    </tr>\n",
       "    <tr>\n",
       "      <th>3</th>\n",
       "      <td>0.0</td>\n",
       "      <td>57.0</td>\n",
       "      <td>0.0</td>\n",
       "      <td>8001.0</td>\n",
       "      <td>3.0</td>\n",
       "      <td>0.0</td>\n",
       "      <td>57.6</td>\n",
       "      <td>1.50</td>\n",
       "      <td>25.600000</td>\n",
       "      <td>39.0</td>\n",
       "      <td>143.00</td>\n",
       "      <td>280.00</td>\n",
       "      <td>0.0</td>\n",
       "      <td>0.0</td>\n",
       "      <td>0.0</td>\n",
       "      <td>0.0</td>\n",
       "      <td>95.0</td>\n",
       "      <td>0.0</td>\n",
       "      <td>1.0</td>\n",
       "    </tr>\n",
       "    <tr>\n",
       "      <th>4</th>\n",
       "      <td>0.0</td>\n",
       "      <td>50.0</td>\n",
       "      <td>0.0</td>\n",
       "      <td>19001.0</td>\n",
       "      <td>4.0</td>\n",
       "      <td>0.0</td>\n",
       "      <td>57.6</td>\n",
       "      <td>1.50</td>\n",
       "      <td>25.600000</td>\n",
       "      <td>59.0</td>\n",
       "      <td>140.00</td>\n",
       "      <td>186.00</td>\n",
       "      <td>0.0</td>\n",
       "      <td>0.0</td>\n",
       "      <td>0.0</td>\n",
       "      <td>0.0</td>\n",
       "      <td>87.0</td>\n",
       "      <td>0.0</td>\n",
       "      <td>0.0</td>\n",
       "    </tr>\n",
       "    <tr>\n",
       "      <th>...</th>\n",
       "      <td>...</td>\n",
       "      <td>...</td>\n",
       "      <td>...</td>\n",
       "      <td>...</td>\n",
       "      <td>...</td>\n",
       "      <td>...</td>\n",
       "      <td>...</td>\n",
       "      <td>...</td>\n",
       "      <td>...</td>\n",
       "      <td>...</td>\n",
       "      <td>...</td>\n",
       "      <td>...</td>\n",
       "      <td>...</td>\n",
       "      <td>...</td>\n",
       "      <td>...</td>\n",
       "      <td>...</td>\n",
       "      <td>...</td>\n",
       "      <td>...</td>\n",
       "      <td>...</td>\n",
       "    </tr>\n",
       "    <tr>\n",
       "      <th>292531</th>\n",
       "      <td>0.0</td>\n",
       "      <td>86.0</td>\n",
       "      <td>0.0</td>\n",
       "      <td>11001.0</td>\n",
       "      <td>0.0</td>\n",
       "      <td>0.0</td>\n",
       "      <td>68.5</td>\n",
       "      <td>1.42</td>\n",
       "      <td>33.971434</td>\n",
       "      <td>33.4</td>\n",
       "      <td>98.32</td>\n",
       "      <td>107.07</td>\n",
       "      <td>1.0</td>\n",
       "      <td>0.0</td>\n",
       "      <td>1.0</td>\n",
       "      <td>0.0</td>\n",
       "      <td>95.0</td>\n",
       "      <td>2.0</td>\n",
       "      <td>0.0</td>\n",
       "    </tr>\n",
       "    <tr>\n",
       "      <th>292532</th>\n",
       "      <td>0.0</td>\n",
       "      <td>71.0</td>\n",
       "      <td>0.0</td>\n",
       "      <td>68001.0</td>\n",
       "      <td>1.0</td>\n",
       "      <td>0.0</td>\n",
       "      <td>68.5</td>\n",
       "      <td>1.42</td>\n",
       "      <td>33.971434</td>\n",
       "      <td>30.3</td>\n",
       "      <td>191.90</td>\n",
       "      <td>201.00</td>\n",
       "      <td>1.0</td>\n",
       "      <td>0.0</td>\n",
       "      <td>1.0</td>\n",
       "      <td>0.0</td>\n",
       "      <td>100.0</td>\n",
       "      <td>1.0</td>\n",
       "      <td>1.0</td>\n",
       "    </tr>\n",
       "    <tr>\n",
       "      <th>292533</th>\n",
       "      <td>0.0</td>\n",
       "      <td>71.0</td>\n",
       "      <td>0.0</td>\n",
       "      <td>68001.0</td>\n",
       "      <td>1.0</td>\n",
       "      <td>0.0</td>\n",
       "      <td>68.5</td>\n",
       "      <td>1.42</td>\n",
       "      <td>33.971434</td>\n",
       "      <td>30.3</td>\n",
       "      <td>191.90</td>\n",
       "      <td>201.00</td>\n",
       "      <td>1.0</td>\n",
       "      <td>0.0</td>\n",
       "      <td>1.0</td>\n",
       "      <td>0.0</td>\n",
       "      <td>100.0</td>\n",
       "      <td>0.0</td>\n",
       "      <td>1.0</td>\n",
       "    </tr>\n",
       "    <tr>\n",
       "      <th>292534</th>\n",
       "      <td>0.0</td>\n",
       "      <td>64.0</td>\n",
       "      <td>0.0</td>\n",
       "      <td>11001.0</td>\n",
       "      <td>8.0</td>\n",
       "      <td>0.0</td>\n",
       "      <td>68.9</td>\n",
       "      <td>1.49</td>\n",
       "      <td>31.034638</td>\n",
       "      <td>71.6</td>\n",
       "      <td>135.00</td>\n",
       "      <td>98.00</td>\n",
       "      <td>1.0</td>\n",
       "      <td>0.0</td>\n",
       "      <td>1.0</td>\n",
       "      <td>0.0</td>\n",
       "      <td>103.0</td>\n",
       "      <td>2.0</td>\n",
       "      <td>0.0</td>\n",
       "    </tr>\n",
       "    <tr>\n",
       "      <th>292535</th>\n",
       "      <td>0.0</td>\n",
       "      <td>79.0</td>\n",
       "      <td>0.0</td>\n",
       "      <td>13001.0</td>\n",
       "      <td>3.0</td>\n",
       "      <td>0.0</td>\n",
       "      <td>68.9</td>\n",
       "      <td>1.49</td>\n",
       "      <td>31.034638</td>\n",
       "      <td>42.3</td>\n",
       "      <td>120.63</td>\n",
       "      <td>98.33</td>\n",
       "      <td>1.0</td>\n",
       "      <td>0.0</td>\n",
       "      <td>1.0</td>\n",
       "      <td>0.0</td>\n",
       "      <td>88.0</td>\n",
       "      <td>0.0</td>\n",
       "      <td>1.0</td>\n",
       "    </tr>\n",
       "  </tbody>\n",
       "</table>\n",
       "<p>292536 rows × 19 columns</p>\n",
       "</div>"
      ],
      "text/plain": [
       "        tipo_identificacion_paciente  edad  genero  codigo_ciudad_sucursal  \\\n",
       "0                                0.0  64.0     0.0                 11001.0   \n",
       "1                                0.0  54.0     0.0                 54001.0   \n",
       "2                                0.0  69.0     0.0                 15001.0   \n",
       "3                                0.0  57.0     0.0                  8001.0   \n",
       "4                                0.0  50.0     0.0                 19001.0   \n",
       "...                              ...   ...     ...                     ...   \n",
       "292531                           0.0  86.0     0.0                 11001.0   \n",
       "292532                           0.0  71.0     0.0                 68001.0   \n",
       "292533                           0.0  71.0     0.0                 68001.0   \n",
       "292534                           0.0  64.0     0.0                 11001.0   \n",
       "292535                           0.0  79.0     0.0                 13001.0   \n",
       "\n",
       "        nivel_academico_paciente  raza_paciente  peso  talla        imc   HDL  \\\n",
       "0                            0.0            0.0  57.6   1.50  25.600000  58.0   \n",
       "1                            1.0            0.0  57.6   1.50  25.600000  57.0   \n",
       "2                            2.0            0.0  57.6   1.50  25.600000  66.0   \n",
       "3                            3.0            0.0  57.6   1.50  25.600000  39.0   \n",
       "4                            4.0            0.0  57.6   1.50  25.600000  59.0   \n",
       "...                          ...            ...   ...    ...        ...   ...   \n",
       "292531                       0.0            0.0  68.5   1.42  33.971434  33.4   \n",
       "292532                       1.0            0.0  68.5   1.42  33.971434  30.3   \n",
       "292533                       1.0            0.0  68.5   1.42  33.971434  30.3   \n",
       "292534                       8.0            0.0  68.9   1.49  31.034638  71.6   \n",
       "292535                       3.0            0.0  68.9   1.49  31.034638  42.3   \n",
       "\n",
       "           LDL  trigliceridos  med_hipertension  familiar_dm  \\\n",
       "0        87.43          60.64               0.0          0.0   \n",
       "1        30.00         374.00               0.0          0.0   \n",
       "2       171.00          91.00               0.0          0.0   \n",
       "3       143.00         280.00               0.0          0.0   \n",
       "4       140.00         186.00               0.0          0.0   \n",
       "...        ...            ...               ...          ...   \n",
       "292531   98.32         107.07               1.0          0.0   \n",
       "292532  191.90         201.00               1.0          0.0   \n",
       "292533  191.90         201.00               1.0          0.0   \n",
       "292534  135.00          98.00               1.0          0.0   \n",
       "292535  120.63          98.33               1.0          0.0   \n",
       "\n",
       "        ant_cardiovascular  dm_gestacional  PERIMETRO_ABDOMINAL  \\\n",
       "0                      0.0             0.0                 78.0   \n",
       "1                      0.0             0.0                 75.0   \n",
       "2                      0.0             0.0                 89.0   \n",
       "3                      0.0             0.0                 95.0   \n",
       "4                      0.0             0.0                 87.0   \n",
       "...                    ...             ...                  ...   \n",
       "292531                 1.0             0.0                 95.0   \n",
       "292532                 1.0             0.0                100.0   \n",
       "292533                 1.0             0.0                100.0   \n",
       "292534                 1.0             0.0                103.0   \n",
       "292535                 1.0             0.0                 88.0   \n",
       "\n",
       "        hace_ejercicio  diabetes  \n",
       "0                  0.0       0.0  \n",
       "1                  0.0       0.0  \n",
       "2                  1.0       0.0  \n",
       "3                  0.0       1.0  \n",
       "4                  0.0       0.0  \n",
       "...                ...       ...  \n",
       "292531             2.0       0.0  \n",
       "292532             1.0       1.0  \n",
       "292533             0.0       1.0  \n",
       "292534             2.0       0.0  \n",
       "292535             0.0       1.0  \n",
       "\n",
       "[292536 rows x 19 columns]"
      ]
     },
     "execution_count": 297,
     "metadata": {},
     "output_type": "execute_result"
    }
   ],
   "source": [
    "data"
   ]
  },
  {
   "cell_type": "code",
   "execution_count": 187,
   "metadata": {},
   "outputs": [],
   "source": [
    "from sklearn.cluster import KMeans\n",
    "from sklearn import metrics\n",
    "from scipy.spatial.distance import cdist\n",
    "from sklearn.preprocessing import StandardScaler"
   ]
  },
  {
   "cell_type": "code",
   "execution_count": 528,
   "metadata": {},
   "outputs": [],
   "source": [
    "def normalize_data(data, variable):\n",
    "    data_prueba = data[[variable]]\n",
    "\n",
    "    data_prueba['zscore'] = np.abs(zscore(data_prueba[variable]))\n",
    "    data_prueba.loc[data_prueba.zscore >= 3,'zscore'] = 'Outlayer'\n",
    "\n",
    "    data_prueba = data_prueba[data_prueba != 'Outlayer']\n",
    "    data_prueba.drop(columns = ['zscore'], inplace=True)\n",
    "\n",
    "    scaler = StandardScaler()\n",
    "    datos_normalizados = scaler.fit_transform(np.array(data_prueba))\n",
    "\n",
    "    return datos_normalizados\n",
    "\n",
    "def elbow_process(datos_normalizados, plot = False):\n",
    "    \n",
    "    distortions = []\n",
    "    inertias = []\n",
    "    mapping1 = {}\n",
    "    mapping2 = {}\n",
    "    K = range(1, 10)\n",
    "\n",
    "    for k in K:\n",
    "        # Building and fitting the model\n",
    "        kmeanModel = KMeans(n_clusters=k).fit(datos_normalizados)\n",
    "        kmeanModel.fit(datos_normalizados)\n",
    "    \n",
    "        distortions.append(sum(np.min(cdist(datos_normalizados, kmeanModel.cluster_centers_,\n",
    "                                            'euclidean'), axis=1)) / datos_normalizados.shape[0])\n",
    "        inertias.append(kmeanModel.inertia_)\n",
    "    \n",
    "        mapping1[k] = sum(np.min(cdist(datos_normalizados, kmeanModel.cluster_centers_,\n",
    "                                    'euclidean'), axis=1)) / datos_normalizados.shape[0]\n",
    "        mapping2[k] = kmeanModel.inertia_\n",
    "\n",
    "    if plot:\n",
    "        # for key, val in mapping1.items():\n",
    "        #     print(f'{key} : {val}')\n",
    "\n",
    "        plt.plot(K, distortions, 'bx-')\n",
    "        plt.xlabel('Values of K')\n",
    "        plt.ylabel('Distortion')\n",
    "        plt.title('The Elbow Method using Distortion')\n",
    "        plt.show()\n",
    "\n",
    "        # for key, val in mapping2.items():\n",
    "        #     print(f'{key} : {val}')\n",
    "\n",
    "\n",
    "        plt.plot(K, inertias, 'bx-')\n",
    "        plt.xlabel('Values of K')\n",
    "        plt.ylabel('Inertia')\n",
    "        plt.title('The Elbow Method using Inertia')\n",
    "        plt.show()\n",
    "\n",
    "def train_kmeans(data, clusters):\n",
    "    kmeans = KMeans(n_clusters=number_of_clusters, random_state=42, n_init=10)\n",
    "\n",
    "    kmeans.fit(data) \n",
    "\n",
    "    return kmeans\n",
    "\n",
    "def etiquetar_clusters(data,variable, model, plot = False):\n",
    "\n",
    "    data_label = data#[[variable]].copy()\n",
    "    \n",
    "    cluster_name ='cluster_'+ variable\n",
    "    data_label[cluster_name] = kmeans.predict(data_label[[variable]])\n",
    "\n",
    "    if plot:\n",
    "        # Visualizar la variable 'recency' en función de los clusters\n",
    "        sns.boxplot(data=data_label, x=cluster_name, y=variable)\n",
    "        plt.title(f'{variable.upper()} por Clusters CENTROIDE (kmeans)')\n",
    "        plt.xlabel('Cluster')\n",
    "        plt.ylabel(variable)\n",
    "        plt.show()\n",
    "\n",
    "    return data_label\n"
   ]
  },
  {
   "cell_type": "code",
   "execution_count": 295,
   "metadata": {},
   "outputs": [
    {
     "data": {
      "text/html": [
       "<div>\n",
       "<style scoped>\n",
       "    .dataframe tbody tr th:only-of-type {\n",
       "        vertical-align: middle;\n",
       "    }\n",
       "\n",
       "    .dataframe tbody tr th {\n",
       "        vertical-align: top;\n",
       "    }\n",
       "\n",
       "    .dataframe thead th {\n",
       "        text-align: right;\n",
       "    }\n",
       "</style>\n",
       "<table border=\"1\" class=\"dataframe\">\n",
       "  <thead>\n",
       "    <tr style=\"text-align: right;\">\n",
       "      <th></th>\n",
       "      <th>tipo_identificacion_paciente</th>\n",
       "      <th>edad</th>\n",
       "      <th>genero</th>\n",
       "      <th>codigo_ciudad_sucursal</th>\n",
       "      <th>nivel_academico_paciente</th>\n",
       "      <th>raza_paciente</th>\n",
       "      <th>peso</th>\n",
       "      <th>talla</th>\n",
       "      <th>imc</th>\n",
       "      <th>HDL</th>\n",
       "      <th>LDL</th>\n",
       "      <th>trigliceridos</th>\n",
       "      <th>med_hipertension</th>\n",
       "      <th>familiar_dm</th>\n",
       "      <th>ant_cardiovascular</th>\n",
       "      <th>dm_gestacional</th>\n",
       "      <th>PERIMETRO_ABDOMINAL</th>\n",
       "      <th>hace_ejercicio</th>\n",
       "      <th>diabetes</th>\n",
       "      <th>cluster_HDL</th>\n",
       "    </tr>\n",
       "  </thead>\n",
       "  <tbody>\n",
       "    <tr>\n",
       "      <th>0</th>\n",
       "      <td>0.0</td>\n",
       "      <td>64.0</td>\n",
       "      <td>0.0</td>\n",
       "      <td>11001.0</td>\n",
       "      <td>0.0</td>\n",
       "      <td>0.0</td>\n",
       "      <td>57.6</td>\n",
       "      <td>1.5</td>\n",
       "      <td>25.6</td>\n",
       "      <td>58.0</td>\n",
       "      <td>87.43</td>\n",
       "      <td>60.64</td>\n",
       "      <td>0.0</td>\n",
       "      <td>0.0</td>\n",
       "      <td>0.0</td>\n",
       "      <td>0.0</td>\n",
       "      <td>78.0</td>\n",
       "      <td>0.0</td>\n",
       "      <td>0.0</td>\n",
       "      <td>3</td>\n",
       "    </tr>\n",
       "  </tbody>\n",
       "</table>\n",
       "</div>"
      ],
      "text/plain": [
       "   tipo_identificacion_paciente  edad  genero  codigo_ciudad_sucursal  \\\n",
       "0                           0.0  64.0     0.0                 11001.0   \n",
       "\n",
       "   nivel_academico_paciente  raza_paciente  peso  talla   imc   HDL    LDL  \\\n",
       "0                       0.0            0.0  57.6    1.5  25.6  58.0  87.43   \n",
       "\n",
       "   trigliceridos  med_hipertension  familiar_dm  ant_cardiovascular  \\\n",
       "0          60.64               0.0          0.0                 0.0   \n",
       "\n",
       "   dm_gestacional  PERIMETRO_ABDOMINAL  hace_ejercicio  diabetes  cluster_HDL  \n",
       "0             0.0                 78.0             0.0       0.0            3  "
      ]
     },
     "execution_count": 295,
     "metadata": {},
     "output_type": "execute_result"
    }
   ],
   "source": [
    "data.head(1)"
   ]
  },
  {
   "cell_type": "code",
   "execution_count": 529,
   "metadata": {},
   "outputs": [
    {
     "name": "stdout",
     "output_type": "stream",
     "text": [
      "------------------------------------------------------------------------\n",
      "Procesando la variable: edad\n",
      "------------------------------------------------------------------------\n"
     ]
    },
    {
     "data": {
      "image/png": "[encoded data removed]",
      "text/plain": [
       "<Figure size 640x480 with 1 Axes>"
      ]
     },
     "metadata": {},
     "output_type": "display_data"
    },
    {
     "name": "stdout",
     "output_type": "stream",
     "text": [
      "------------------------------------------------------------------------\n",
      "Procesando la variable: imc\n",
      "------------------------------------------------------------------------\n"
     ]
    },
    {
     "data": {
      "image/png": "[encoded data removed]",
      "text/plain": [
       "<Figure size 640x480 with 1 Axes>"
      ]
     },
     "metadata": {},
     "output_type": "display_data"
    },
    {
     "name": "stdout",
     "output_type": "stream",
     "text": [
      "------------------------------------------------------------------------\n",
      "Procesando la variable: HDL\n",
      "------------------------------------------------------------------------\n"
     ]
    },
    {
     "data": {
      "image/png": "[encoded data removed]",
      "text/plain": [
       "<Figure size 640x480 with 1 Axes>"
      ]
     },
     "metadata": {},
     "output_type": "display_data"
    },
    {
     "name": "stdout",
     "output_type": "stream",
     "text": [
      "------------------------------------------------------------------------\n",
      "Procesando la variable: LDL\n",
      "------------------------------------------------------------------------\n"
     ]
    },
    {
     "data": {
      "image/png": "[encoded data removed]",
      "text/plain": [
       "<Figure size 640x480 with 1 Axes>"
      ]
     },
     "metadata": {},
     "output_type": "display_data"
    },
    {
     "name": "stdout",
     "output_type": "stream",
     "text": [
      "------------------------------------------------------------------------\n",
      "Procesando la variable: trigliceridos\n",
      "------------------------------------------------------------------------\n"
     ]
    },
    {
     "data": {
      "image/png": "[encoded data removed]",
      "text/plain": [
       "<Figure size 640x480 with 1 Axes>"
      ]
     },
     "metadata": {},
     "output_type": "display_data"
    },
    {
     "name": "stdout",
     "output_type": "stream",
     "text": [
      "------------------------------------------------------------------------\n",
      "Procesando la variable: PERIMETRO_ABDOMINAL\n",
      "------------------------------------------------------------------------\n"
     ]
    },
    {
     "data": {
      "image/png": "[encoded data removed]",
      "text/plain": [
       "<Figure size 640x480 with 1 Axes>"
      ]
     },
     "metadata": {},
     "output_type": "display_data"
    }
   ],
   "source": [
    "variables_to_iterar = ['edad',\n",
    "                    #    'codigo_ciudad_sucursal',\n",
    "                       'imc',\n",
    "                       'HDL',\n",
    "                       'LDL',\n",
    "                       'trigliceridos',\n",
    "                       'PERIMETRO_ABDOMINAL']\n",
    "\n",
    "elbow = False\n",
    "\n",
    "clusters_variables = {\n",
    "    'edad': 3,\n",
    "    # 'codigo_ciudad_sucursal': 3,\n",
    "    'imc': 5,\n",
    "    'HDL': 3,\n",
    "    'LDL': 2,\n",
    "    'trigliceridos': 2,\n",
    "    'PERIMETRO_ABDOMINAL': 4,\n",
    "}\n",
    "\n",
    "data_full = data.copy()\n",
    "\n",
    "for variable in variables_to_iterar:\n",
    "    print('------------------------------------------------------------------------')\n",
    "    print(f'Procesando la variable: {variable}')\n",
    "    print('------------------------------------------------------------------------')\n",
    "\n",
    "    datos_normalizados = normalize_data(data = data,variable = variable)\n",
    "    \n",
    "    if elbow:\n",
    "        elbow_process(datos_normalizados=datos_normalizados , plot=True)\n",
    "\n",
    "    model = train_kmeans(data = datos_normalizados, clusters = clusters_variables[variable])\n",
    "\n",
    "    df_final = etiquetar_clusters(data = data_full,variable = variable, model = model, plot = True)\n",
    "    "
   ]
  },
  {
   "cell_type": "markdown",
   "metadata": {},
   "source": [
    "## Prediccion"
   ]
  },
  {
   "cell_type": "code",
   "execution_count": 534,
   "metadata": {},
   "outputs": [],
   "source": [
    "from sklearn.linear_model import LinearRegression\n",
    "from sklearn.model_selection import train_test_split\n",
    "from lazypredict.Supervised import LazyRegressor\n",
    "from lazypredict.Supervised import LazyClassifier"
   ]
  },
  {
   "cell_type": "code",
   "execution_count": 425,
   "metadata": {},
   "outputs": [
    {
     "data": {
      "text/html": [
       "<div>\n",
       "<style scoped>\n",
       "    .dataframe tbody tr th:only-of-type {\n",
       "        vertical-align: middle;\n",
       "    }\n",
       "\n",
       "    .dataframe tbody tr th {\n",
       "        vertical-align: top;\n",
       "    }\n",
       "\n",
       "    .dataframe thead th {\n",
       "        text-align: right;\n",
       "    }\n",
       "</style>\n",
       "<table border=\"1\" class=\"dataframe\">\n",
       "  <thead>\n",
       "    <tr style=\"text-align: right;\">\n",
       "      <th></th>\n",
       "      <th>tipo_identificacion_paciente</th>\n",
       "      <th>edad</th>\n",
       "      <th>genero</th>\n",
       "      <th>codigo_ciudad_sucursal</th>\n",
       "      <th>nivel_academico_paciente</th>\n",
       "      <th>raza_paciente</th>\n",
       "      <th>peso</th>\n",
       "      <th>talla</th>\n",
       "      <th>imc</th>\n",
       "      <th>HDL</th>\n",
       "      <th>LDL</th>\n",
       "      <th>trigliceridos</th>\n",
       "      <th>med_hipertension</th>\n",
       "      <th>familiar_dm</th>\n",
       "      <th>ant_cardiovascular</th>\n",
       "      <th>dm_gestacional</th>\n",
       "      <th>PERIMETRO_ABDOMINAL</th>\n",
       "      <th>hace_ejercicio</th>\n",
       "      <th>diabetes</th>\n",
       "    </tr>\n",
       "  </thead>\n",
       "  <tbody>\n",
       "    <tr>\n",
       "      <th>0</th>\n",
       "      <td>0.0</td>\n",
       "      <td>64.0</td>\n",
       "      <td>0.0</td>\n",
       "      <td>11001.0</td>\n",
       "      <td>0.0</td>\n",
       "      <td>0.0</td>\n",
       "      <td>57.6</td>\n",
       "      <td>1.5</td>\n",
       "      <td>25.6</td>\n",
       "      <td>58.0</td>\n",
       "      <td>87.43</td>\n",
       "      <td>60.64</td>\n",
       "      <td>0.0</td>\n",
       "      <td>0.0</td>\n",
       "      <td>0.0</td>\n",
       "      <td>0.0</td>\n",
       "      <td>78.0</td>\n",
       "      <td>0.0</td>\n",
       "      <td>0.0</td>\n",
       "    </tr>\n",
       "  </tbody>\n",
       "</table>\n",
       "</div>"
      ],
      "text/plain": [
       "   tipo_identificacion_paciente  edad  genero  codigo_ciudad_sucursal  \\\n",
       "0                           0.0  64.0     0.0                 11001.0   \n",
       "\n",
       "   nivel_academico_paciente  raza_paciente  peso  talla   imc   HDL    LDL  \\\n",
       "0                       0.0            0.0  57.6    1.5  25.6  58.0  87.43   \n",
       "\n",
       "   trigliceridos  med_hipertension  familiar_dm  ant_cardiovascular  \\\n",
       "0          60.64               0.0          0.0                 0.0   \n",
       "\n",
       "   dm_gestacional  PERIMETRO_ABDOMINAL  hace_ejercicio  diabetes  \n",
       "0             0.0                 78.0             0.0       0.0  "
      ]
     },
     "execution_count": 425,
     "metadata": {},
     "output_type": "execute_result"
    }
   ],
   "source": [
    "data.head(1)"
   ]
  },
  {
   "cell_type": "code",
   "execution_count": 426,
   "metadata": {},
   "outputs": [
    {
     "data": {
      "text/html": [
       "<div>\n",
       "<style scoped>\n",
       "    .dataframe tbody tr th:only-of-type {\n",
       "        vertical-align: middle;\n",
       "    }\n",
       "\n",
       "    .dataframe tbody tr th {\n",
       "        vertical-align: top;\n",
       "    }\n",
       "\n",
       "    .dataframe thead th {\n",
       "        text-align: right;\n",
       "    }\n",
       "</style>\n",
       "<table border=\"1\" class=\"dataframe\">\n",
       "  <thead>\n",
       "    <tr style=\"text-align: right;\">\n",
       "      <th></th>\n",
       "      <th>edad</th>\n",
       "      <th>genero</th>\n",
       "      <th>imc</th>\n",
       "      <th>HDL</th>\n",
       "      <th>LDL</th>\n",
       "      <th>trigliceridos</th>\n",
       "      <th>med_hipertension</th>\n",
       "      <th>familiar_dm</th>\n",
       "      <th>ant_cardiovascular</th>\n",
       "      <th>dm_gestacional</th>\n",
       "      <th>PERIMETRO_ABDOMINAL</th>\n",
       "      <th>hace_ejercicio</th>\n",
       "      <th>nivel_academico_paciente</th>\n",
       "      <th>raza_paciente</th>\n",
       "      <th>diabetes</th>\n",
       "    </tr>\n",
       "  </thead>\n",
       "  <tbody>\n",
       "    <tr>\n",
       "      <th>0</th>\n",
       "      <td>64.0</td>\n",
       "      <td>0.0</td>\n",
       "      <td>25.600000</td>\n",
       "      <td>58.0</td>\n",
       "      <td>87.43</td>\n",
       "      <td>60.64</td>\n",
       "      <td>0.0</td>\n",
       "      <td>0.0</td>\n",
       "      <td>0.0</td>\n",
       "      <td>0.0</td>\n",
       "      <td>78.0</td>\n",
       "      <td>0.0</td>\n",
       "      <td>0.0</td>\n",
       "      <td>0.0</td>\n",
       "      <td>0.0</td>\n",
       "    </tr>\n",
       "    <tr>\n",
       "      <th>1</th>\n",
       "      <td>54.0</td>\n",
       "      <td>0.0</td>\n",
       "      <td>25.600000</td>\n",
       "      <td>57.0</td>\n",
       "      <td>30.00</td>\n",
       "      <td>374.00</td>\n",
       "      <td>0.0</td>\n",
       "      <td>0.0</td>\n",
       "      <td>0.0</td>\n",
       "      <td>0.0</td>\n",
       "      <td>75.0</td>\n",
       "      <td>0.0</td>\n",
       "      <td>1.0</td>\n",
       "      <td>0.0</td>\n",
       "      <td>0.0</td>\n",
       "    </tr>\n",
       "    <tr>\n",
       "      <th>2</th>\n",
       "      <td>69.0</td>\n",
       "      <td>0.0</td>\n",
       "      <td>25.600000</td>\n",
       "      <td>66.0</td>\n",
       "      <td>171.00</td>\n",
       "      <td>91.00</td>\n",
       "      <td>0.0</td>\n",
       "      <td>0.0</td>\n",
       "      <td>0.0</td>\n",
       "      <td>0.0</td>\n",
       "      <td>89.0</td>\n",
       "      <td>1.0</td>\n",
       "      <td>2.0</td>\n",
       "      <td>0.0</td>\n",
       "      <td>0.0</td>\n",
       "    </tr>\n",
       "    <tr>\n",
       "      <th>3</th>\n",
       "      <td>57.0</td>\n",
       "      <td>0.0</td>\n",
       "      <td>25.600000</td>\n",
       "      <td>39.0</td>\n",
       "      <td>143.00</td>\n",
       "      <td>280.00</td>\n",
       "      <td>0.0</td>\n",
       "      <td>0.0</td>\n",
       "      <td>0.0</td>\n",
       "      <td>0.0</td>\n",
       "      <td>95.0</td>\n",
       "      <td>0.0</td>\n",
       "      <td>3.0</td>\n",
       "      <td>0.0</td>\n",
       "      <td>1.0</td>\n",
       "    </tr>\n",
       "    <tr>\n",
       "      <th>4</th>\n",
       "      <td>50.0</td>\n",
       "      <td>0.0</td>\n",
       "      <td>25.600000</td>\n",
       "      <td>59.0</td>\n",
       "      <td>140.00</td>\n",
       "      <td>186.00</td>\n",
       "      <td>0.0</td>\n",
       "      <td>0.0</td>\n",
       "      <td>0.0</td>\n",
       "      <td>0.0</td>\n",
       "      <td>87.0</td>\n",
       "      <td>0.0</td>\n",
       "      <td>4.0</td>\n",
       "      <td>0.0</td>\n",
       "      <td>0.0</td>\n",
       "    </tr>\n",
       "    <tr>\n",
       "      <th>...</th>\n",
       "      <td>...</td>\n",
       "      <td>...</td>\n",
       "      <td>...</td>\n",
       "      <td>...</td>\n",
       "      <td>...</td>\n",
       "      <td>...</td>\n",
       "      <td>...</td>\n",
       "      <td>...</td>\n",
       "      <td>...</td>\n",
       "      <td>...</td>\n",
       "      <td>...</td>\n",
       "      <td>...</td>\n",
       "      <td>...</td>\n",
       "      <td>...</td>\n",
       "      <td>...</td>\n",
       "    </tr>\n",
       "    <tr>\n",
       "      <th>292531</th>\n",
       "      <td>86.0</td>\n",
       "      <td>0.0</td>\n",
       "      <td>33.971434</td>\n",
       "      <td>33.4</td>\n",
       "      <td>98.32</td>\n",
       "      <td>107.07</td>\n",
       "      <td>1.0</td>\n",
       "      <td>0.0</td>\n",
       "      <td>1.0</td>\n",
       "      <td>0.0</td>\n",
       "      <td>95.0</td>\n",
       "      <td>2.0</td>\n",
       "      <td>0.0</td>\n",
       "      <td>0.0</td>\n",
       "      <td>0.0</td>\n",
       "    </tr>\n",
       "    <tr>\n",
       "      <th>292532</th>\n",
       "      <td>71.0</td>\n",
       "      <td>0.0</td>\n",
       "      <td>33.971434</td>\n",
       "      <td>30.3</td>\n",
       "      <td>191.90</td>\n",
       "      <td>201.00</td>\n",
       "      <td>1.0</td>\n",
       "      <td>0.0</td>\n",
       "      <td>1.0</td>\n",
       "      <td>0.0</td>\n",
       "      <td>100.0</td>\n",
       "      <td>1.0</td>\n",
       "      <td>1.0</td>\n",
       "      <td>0.0</td>\n",
       "      <td>1.0</td>\n",
       "    </tr>\n",
       "    <tr>\n",
       "      <th>292533</th>\n",
       "      <td>71.0</td>\n",
       "      <td>0.0</td>\n",
       "      <td>33.971434</td>\n",
       "      <td>30.3</td>\n",
       "      <td>191.90</td>\n",
       "      <td>201.00</td>\n",
       "      <td>1.0</td>\n",
       "      <td>0.0</td>\n",
       "      <td>1.0</td>\n",
       "      <td>0.0</td>\n",
       "      <td>100.0</td>\n",
       "      <td>0.0</td>\n",
       "      <td>1.0</td>\n",
       "      <td>0.0</td>\n",
       "      <td>1.0</td>\n",
       "    </tr>\n",
       "    <tr>\n",
       "      <th>292534</th>\n",
       "      <td>64.0</td>\n",
       "      <td>0.0</td>\n",
       "      <td>31.034638</td>\n",
       "      <td>71.6</td>\n",
       "      <td>135.00</td>\n",
       "      <td>98.00</td>\n",
       "      <td>1.0</td>\n",
       "      <td>0.0</td>\n",
       "      <td>1.0</td>\n",
       "      <td>0.0</td>\n",
       "      <td>103.0</td>\n",
       "      <td>2.0</td>\n",
       "      <td>8.0</td>\n",
       "      <td>0.0</td>\n",
       "      <td>0.0</td>\n",
       "    </tr>\n",
       "    <tr>\n",
       "      <th>292535</th>\n",
       "      <td>79.0</td>\n",
       "      <td>0.0</td>\n",
       "      <td>31.034638</td>\n",
       "      <td>42.3</td>\n",
       "      <td>120.63</td>\n",
       "      <td>98.33</td>\n",
       "      <td>1.0</td>\n",
       "      <td>0.0</td>\n",
       "      <td>1.0</td>\n",
       "      <td>0.0</td>\n",
       "      <td>88.0</td>\n",
       "      <td>0.0</td>\n",
       "      <td>3.0</td>\n",
       "      <td>0.0</td>\n",
       "      <td>1.0</td>\n",
       "    </tr>\n",
       "  </tbody>\n",
       "</table>\n",
       "<p>292536 rows × 15 columns</p>\n",
       "</div>"
      ],
      "text/plain": [
       "        edad  genero        imc   HDL     LDL  trigliceridos  \\\n",
       "0       64.0     0.0  25.600000  58.0   87.43          60.64   \n",
       "1       54.0     0.0  25.600000  57.0   30.00         374.00   \n",
       "2       69.0     0.0  25.600000  66.0  171.00          91.00   \n",
       "3       57.0     0.0  25.600000  39.0  143.00         280.00   \n",
       "4       50.0     0.0  25.600000  59.0  140.00         186.00   \n",
       "...      ...     ...        ...   ...     ...            ...   \n",
       "292531  86.0     0.0  33.971434  33.4   98.32         107.07   \n",
       "292532  71.0     0.0  33.971434  30.3  191.90         201.00   \n",
       "292533  71.0     0.0  33.971434  30.3  191.90         201.00   \n",
       "292534  64.0     0.0  31.034638  71.6  135.00          98.00   \n",
       "292535  79.0     0.0  31.034638  42.3  120.63          98.33   \n",
       "\n",
       "        med_hipertension  familiar_dm  ant_cardiovascular  dm_gestacional  \\\n",
       "0                    0.0          0.0                 0.0             0.0   \n",
       "1                    0.0          0.0                 0.0             0.0   \n",
       "2                    0.0          0.0                 0.0             0.0   \n",
       "3                    0.0          0.0                 0.0             0.0   \n",
       "4                    0.0          0.0                 0.0             0.0   \n",
       "...                  ...          ...                 ...             ...   \n",
       "292531               1.0          0.0                 1.0             0.0   \n",
       "292532               1.0          0.0                 1.0             0.0   \n",
       "292533               1.0          0.0                 1.0             0.0   \n",
       "292534               1.0          0.0                 1.0             0.0   \n",
       "292535               1.0          0.0                 1.0             0.0   \n",
       "\n",
       "        PERIMETRO_ABDOMINAL  hace_ejercicio  nivel_academico_paciente  \\\n",
       "0                      78.0             0.0                       0.0   \n",
       "1                      75.0             0.0                       1.0   \n",
       "2                      89.0             1.0                       2.0   \n",
       "3                      95.0             0.0                       3.0   \n",
       "4                      87.0             0.0                       4.0   \n",
       "...                     ...             ...                       ...   \n",
       "292531                 95.0             2.0                       0.0   \n",
       "292532                100.0             1.0                       1.0   \n",
       "292533                100.0             0.0                       1.0   \n",
       "292534                103.0             2.0                       8.0   \n",
       "292535                 88.0             0.0                       3.0   \n",
       "\n",
       "        raza_paciente  diabetes  \n",
       "0                 0.0       0.0  \n",
       "1                 0.0       0.0  \n",
       "2                 0.0       0.0  \n",
       "3                 0.0       1.0  \n",
       "4                 0.0       0.0  \n",
       "...               ...       ...  \n",
       "292531            0.0       0.0  \n",
       "292532            0.0       1.0  \n",
       "292533            0.0       1.0  \n",
       "292534            0.0       0.0  \n",
       "292535            0.0       1.0  \n",
       "\n",
       "[292536 rows x 15 columns]"
      ]
     },
     "execution_count": 426,
     "metadata": {},
     "output_type": "execute_result"
    }
   ],
   "source": [
    "variables_to_train = ['edad',\n",
    "                      'genero',\n",
    "                    #   'codigo_ciudad_sucursal',\n",
    "                      'imc',\n",
    "                      'HDL',\n",
    "                      'LDL',\n",
    "                      'trigliceridos',\n",
    "                      'med_hipertension',\n",
    "                      'familiar_dm',\n",
    "                      'ant_cardiovascular',\n",
    "                      'dm_gestacional',\n",
    "                      'PERIMETRO_ABDOMINAL',\n",
    "                      'hace_ejercicio',\n",
    "                      'nivel_academico_paciente',\n",
    "                      'raza_paciente',\n",
    "                      'diabetes']\n",
    "\n",
    "df_to_train = df_final[variables_to_train].copy()\n",
    "df_to_train = data[variables_to_train].copy()\n",
    "df_to_train"
   ]
  },
  {
   "cell_type": "code",
   "execution_count": 433,
   "metadata": {},
   "outputs": [
    {
     "data": {
      "text/plain": [
       "array([ 0.,  1.,  2.,  3.,  4.,  5.,  6.,  7.,  8.,  9., 10., 11., 12.,\n",
       "       nan])"
      ]
     },
     "execution_count": 433,
     "metadata": {},
     "output_type": "execute_result"
    }
   ],
   "source": [
    "df_to_train.nivel_academico_paciente.unique()"
   ]
  },
  {
   "cell_type": "code",
   "execution_count": 434,
   "metadata": {},
   "outputs": [
    {
     "data": {
      "text/plain": [
       "array([ 0.,  1.,  2.,  3.,  4.,  5.,  6., nan])"
      ]
     },
     "execution_count": 434,
     "metadata": {},
     "output_type": "execute_result"
    }
   ],
   "source": [
    "df_to_train.raza_paciente.unique()"
   ]
  },
  {
   "cell_type": "code",
   "execution_count": 427,
   "metadata": {},
   "outputs": [
    {
     "data": {
      "text/plain": [
       "0         0.0\n",
       "1         0.0\n",
       "2         0.0\n",
       "3         1.0\n",
       "4         0.0\n",
       "         ... \n",
       "292531    0.0\n",
       "292532    1.0\n",
       "292533    1.0\n",
       "292534    0.0\n",
       "292535    1.0\n",
       "Name: diabetes, Length: 292536, dtype: float64"
      ]
     },
     "execution_count": 427,
     "metadata": {},
     "output_type": "execute_result"
    }
   ],
   "source": [
    "X = df_to_train[variables_to_train[:-1]]\n",
    "y = df_to_train[variables_to_train[-1]]\n",
    "y"
   ]
  },
  {
   "cell_type": "code",
   "execution_count": 428,
   "metadata": {},
   "outputs": [],
   "source": [
    "X_train, X_test, y_train, y_test = train_test_split(\n",
    "    X, y, test_size=0.33, random_state=42)"
   ]
  },
  {
   "cell_type": "code",
   "execution_count": 429,
   "metadata": {},
   "outputs": [
    {
     "ename": "ValueError",
     "evalue": "Input X contains NaN.\nLinearRegression does not accept missing values encoded as NaN natively. For supervised learning, you might want to consider sklearn.ensemble.HistGradientBoostingClassifier and Regressor which accept missing values encoded as NaNs natively. Alternatively, it is possible to preprocess the data, for instance by using an imputer transformer in a pipeline or drop samples with missing values. See https://scikit-learn.org/stable/modules/impute.html You can find a list of all estimators that handle NaN values at the following page: https://scikit-learn.org/stable/modules/impute.html#estimators-that-handle-nan-values",
     "output_type": "error",
     "traceback": [
      "\u001b[1;31m---------------------------------------------------------------------------\u001b[0m",
      "\u001b[1;31mValueError\u001b[0m                                Traceback (most recent call last)",
      "Cell \u001b[1;32mIn[429], line 3\u001b[0m\n\u001b[0;32m      1\u001b[0m lineal_model \u001b[38;5;241m=\u001b[39m LinearRegression()\n\u001b[1;32m----> 3\u001b[0m \u001b[43mlineal_model\u001b[49m\u001b[38;5;241;43m.\u001b[39;49m\u001b[43mfit\u001b[49m\u001b[43m(\u001b[49m\u001b[43mX_train\u001b[49m\u001b[43m,\u001b[49m\u001b[43my_train\u001b[49m\u001b[43m)\u001b[49m\n",
      "File \u001b[1;32mc:\\Users\\ssantos\\AppData\\Local\\anaconda3\\envs\\analisis_diabetes\\lib\\site-packages\\sklearn\\base.py:1473\u001b[0m, in \u001b[0;36m_fit_context.<locals>.decorator.<locals>.wrapper\u001b[1;34m(estimator, *args, **kwargs)\u001b[0m\n\u001b[0;32m   1466\u001b[0m     estimator\u001b[38;5;241m.\u001b[39m_validate_params()\n\u001b[0;32m   1468\u001b[0m \u001b[38;5;28;01mwith\u001b[39;00m config_context(\n\u001b[0;32m   1469\u001b[0m     skip_parameter_validation\u001b[38;5;241m=\u001b[39m(\n\u001b[0;32m   1470\u001b[0m         prefer_skip_nested_validation \u001b[38;5;129;01mor\u001b[39;00m global_skip_validation\n\u001b[0;32m   1471\u001b[0m     )\n\u001b[0;32m   1472\u001b[0m ):\n\u001b[1;32m-> 1473\u001b[0m     \u001b[38;5;28;01mreturn\u001b[39;00m fit_method(estimator, \u001b[38;5;241m*\u001b[39margs, \u001b[38;5;241m*\u001b[39m\u001b[38;5;241m*\u001b[39mkwargs)\n",
      "File \u001b[1;32mc:\\Users\\ssantos\\AppData\\Local\\anaconda3\\envs\\analisis_diabetes\\lib\\site-packages\\sklearn\\linear_model\\_base.py:609\u001b[0m, in \u001b[0;36mLinearRegression.fit\u001b[1;34m(self, X, y, sample_weight)\u001b[0m\n\u001b[0;32m    605\u001b[0m n_jobs_ \u001b[38;5;241m=\u001b[39m \u001b[38;5;28mself\u001b[39m\u001b[38;5;241m.\u001b[39mn_jobs\n\u001b[0;32m    607\u001b[0m accept_sparse \u001b[38;5;241m=\u001b[39m \u001b[38;5;28;01mFalse\u001b[39;00m \u001b[38;5;28;01mif\u001b[39;00m \u001b[38;5;28mself\u001b[39m\u001b[38;5;241m.\u001b[39mpositive \u001b[38;5;28;01melse\u001b[39;00m [\u001b[38;5;124m\"\u001b[39m\u001b[38;5;124mcsr\u001b[39m\u001b[38;5;124m\"\u001b[39m, \u001b[38;5;124m\"\u001b[39m\u001b[38;5;124mcsc\u001b[39m\u001b[38;5;124m\"\u001b[39m, \u001b[38;5;124m\"\u001b[39m\u001b[38;5;124mcoo\u001b[39m\u001b[38;5;124m\"\u001b[39m]\n\u001b[1;32m--> 609\u001b[0m X, y \u001b[38;5;241m=\u001b[39m \u001b[38;5;28;43mself\u001b[39;49m\u001b[38;5;241;43m.\u001b[39;49m\u001b[43m_validate_data\u001b[49m\u001b[43m(\u001b[49m\n\u001b[0;32m    610\u001b[0m \u001b[43m    \u001b[49m\u001b[43mX\u001b[49m\u001b[43m,\u001b[49m\u001b[43m \u001b[49m\u001b[43my\u001b[49m\u001b[43m,\u001b[49m\u001b[43m \u001b[49m\u001b[43maccept_sparse\u001b[49m\u001b[38;5;241;43m=\u001b[39;49m\u001b[43maccept_sparse\u001b[49m\u001b[43m,\u001b[49m\u001b[43m \u001b[49m\u001b[43my_numeric\u001b[49m\u001b[38;5;241;43m=\u001b[39;49m\u001b[38;5;28;43;01mTrue\u001b[39;49;00m\u001b[43m,\u001b[49m\u001b[43m \u001b[49m\u001b[43mmulti_output\u001b[49m\u001b[38;5;241;43m=\u001b[39;49m\u001b[38;5;28;43;01mTrue\u001b[39;49;00m\n\u001b[0;32m    611\u001b[0m \u001b[43m\u001b[49m\u001b[43m)\u001b[49m\n\u001b[0;32m    613\u001b[0m has_sw \u001b[38;5;241m=\u001b[39m sample_weight \u001b[38;5;129;01mis\u001b[39;00m \u001b[38;5;129;01mnot\u001b[39;00m \u001b[38;5;28;01mNone\u001b[39;00m\n\u001b[0;32m    614\u001b[0m \u001b[38;5;28;01mif\u001b[39;00m has_sw:\n",
      "File \u001b[1;32mc:\\Users\\ssantos\\AppData\\Local\\anaconda3\\envs\\analisis_diabetes\\lib\\site-packages\\sklearn\\base.py:650\u001b[0m, in \u001b[0;36mBaseEstimator._validate_data\u001b[1;34m(self, X, y, reset, validate_separately, cast_to_ndarray, **check_params)\u001b[0m\n\u001b[0;32m    648\u001b[0m         y \u001b[38;5;241m=\u001b[39m check_array(y, input_name\u001b[38;5;241m=\u001b[39m\u001b[38;5;124m\"\u001b[39m\u001b[38;5;124my\u001b[39m\u001b[38;5;124m\"\u001b[39m, \u001b[38;5;241m*\u001b[39m\u001b[38;5;241m*\u001b[39mcheck_y_params)\n\u001b[0;32m    649\u001b[0m     \u001b[38;5;28;01melse\u001b[39;00m:\n\u001b[1;32m--> 650\u001b[0m         X, y \u001b[38;5;241m=\u001b[39m check_X_y(X, y, \u001b[38;5;241m*\u001b[39m\u001b[38;5;241m*\u001b[39mcheck_params)\n\u001b[0;32m    651\u001b[0m     out \u001b[38;5;241m=\u001b[39m X, y\n\u001b[0;32m    653\u001b[0m \u001b[38;5;28;01mif\u001b[39;00m \u001b[38;5;129;01mnot\u001b[39;00m no_val_X \u001b[38;5;129;01mand\u001b[39;00m check_params\u001b[38;5;241m.\u001b[39mget(\u001b[38;5;124m\"\u001b[39m\u001b[38;5;124mensure_2d\u001b[39m\u001b[38;5;124m\"\u001b[39m, \u001b[38;5;28;01mTrue\u001b[39;00m):\n",
      "File \u001b[1;32mc:\\Users\\ssantos\\AppData\\Local\\anaconda3\\envs\\analisis_diabetes\\lib\\site-packages\\sklearn\\utils\\validation.py:1273\u001b[0m, in \u001b[0;36mcheck_X_y\u001b[1;34m(X, y, accept_sparse, accept_large_sparse, dtype, order, copy, force_all_finite, ensure_2d, allow_nd, multi_output, ensure_min_samples, ensure_min_features, y_numeric, estimator)\u001b[0m\n\u001b[0;32m   1268\u001b[0m         estimator_name \u001b[38;5;241m=\u001b[39m _check_estimator_name(estimator)\n\u001b[0;32m   1269\u001b[0m     \u001b[38;5;28;01mraise\u001b[39;00m \u001b[38;5;167;01mValueError\u001b[39;00m(\n\u001b[0;32m   1270\u001b[0m         \u001b[38;5;124mf\u001b[39m\u001b[38;5;124m\"\u001b[39m\u001b[38;5;132;01m{\u001b[39;00mestimator_name\u001b[38;5;132;01m}\u001b[39;00m\u001b[38;5;124m requires y to be passed, but the target y is None\u001b[39m\u001b[38;5;124m\"\u001b[39m\n\u001b[0;32m   1271\u001b[0m     )\n\u001b[1;32m-> 1273\u001b[0m X \u001b[38;5;241m=\u001b[39m \u001b[43mcheck_array\u001b[49m\u001b[43m(\u001b[49m\n\u001b[0;32m   1274\u001b[0m \u001b[43m    \u001b[49m\u001b[43mX\u001b[49m\u001b[43m,\u001b[49m\n\u001b[0;32m   1275\u001b[0m \u001b[43m    \u001b[49m\u001b[43maccept_sparse\u001b[49m\u001b[38;5;241;43m=\u001b[39;49m\u001b[43maccept_sparse\u001b[49m\u001b[43m,\u001b[49m\n\u001b[0;32m   1276\u001b[0m \u001b[43m    \u001b[49m\u001b[43maccept_large_sparse\u001b[49m\u001b[38;5;241;43m=\u001b[39;49m\u001b[43maccept_large_sparse\u001b[49m\u001b[43m,\u001b[49m\n\u001b[0;32m   1277\u001b[0m \u001b[43m    \u001b[49m\u001b[43mdtype\u001b[49m\u001b[38;5;241;43m=\u001b[39;49m\u001b[43mdtype\u001b[49m\u001b[43m,\u001b[49m\n\u001b[0;32m   1278\u001b[0m \u001b[43m    \u001b[49m\u001b[43morder\u001b[49m\u001b[38;5;241;43m=\u001b[39;49m\u001b[43morder\u001b[49m\u001b[43m,\u001b[49m\n\u001b[0;32m   1279\u001b[0m \u001b[43m    \u001b[49m\u001b[43mcopy\u001b[49m\u001b[38;5;241;43m=\u001b[39;49m\u001b[43mcopy\u001b[49m\u001b[43m,\u001b[49m\n\u001b[0;32m   1280\u001b[0m \u001b[43m    \u001b[49m\u001b[43mforce_all_finite\u001b[49m\u001b[38;5;241;43m=\u001b[39;49m\u001b[43mforce_all_finite\u001b[49m\u001b[43m,\u001b[49m\n\u001b[0;32m   1281\u001b[0m \u001b[43m    \u001b[49m\u001b[43mensure_2d\u001b[49m\u001b[38;5;241;43m=\u001b[39;49m\u001b[43mensure_2d\u001b[49m\u001b[43m,\u001b[49m\n\u001b[0;32m   1282\u001b[0m \u001b[43m    \u001b[49m\u001b[43mallow_nd\u001b[49m\u001b[38;5;241;43m=\u001b[39;49m\u001b[43mallow_nd\u001b[49m\u001b[43m,\u001b[49m\n\u001b[0;32m   1283\u001b[0m \u001b[43m    \u001b[49m\u001b[43mensure_min_samples\u001b[49m\u001b[38;5;241;43m=\u001b[39;49m\u001b[43mensure_min_samples\u001b[49m\u001b[43m,\u001b[49m\n\u001b[0;32m   1284\u001b[0m \u001b[43m    \u001b[49m\u001b[43mensure_min_features\u001b[49m\u001b[38;5;241;43m=\u001b[39;49m\u001b[43mensure_min_features\u001b[49m\u001b[43m,\u001b[49m\n\u001b[0;32m   1285\u001b[0m \u001b[43m    \u001b[49m\u001b[43mestimator\u001b[49m\u001b[38;5;241;43m=\u001b[39;49m\u001b[43mestimator\u001b[49m\u001b[43m,\u001b[49m\n\u001b[0;32m   1286\u001b[0m \u001b[43m    \u001b[49m\u001b[43minput_name\u001b[49m\u001b[38;5;241;43m=\u001b[39;49m\u001b[38;5;124;43m\"\u001b[39;49m\u001b[38;5;124;43mX\u001b[39;49m\u001b[38;5;124;43m\"\u001b[39;49m\u001b[43m,\u001b[49m\n\u001b[0;32m   1287\u001b[0m \u001b[43m\u001b[49m\u001b[43m)\u001b[49m\n\u001b[0;32m   1289\u001b[0m y \u001b[38;5;241m=\u001b[39m _check_y(y, multi_output\u001b[38;5;241m=\u001b[39mmulti_output, y_numeric\u001b[38;5;241m=\u001b[39my_numeric, estimator\u001b[38;5;241m=\u001b[39mestimator)\n\u001b[0;32m   1291\u001b[0m check_consistent_length(X, y)\n",
      "File \u001b[1;32mc:\\Users\\ssantos\\AppData\\Local\\anaconda3\\envs\\analisis_diabetes\\lib\\site-packages\\sklearn\\utils\\validation.py:1059\u001b[0m, in \u001b[0;36mcheck_array\u001b[1;34m(array, accept_sparse, accept_large_sparse, dtype, order, copy, force_all_finite, ensure_2d, allow_nd, ensure_min_samples, ensure_min_features, estimator, input_name)\u001b[0m\n\u001b[0;32m   1053\u001b[0m     \u001b[38;5;28;01mraise\u001b[39;00m \u001b[38;5;167;01mValueError\u001b[39;00m(\n\u001b[0;32m   1054\u001b[0m         \u001b[38;5;124m\"\u001b[39m\u001b[38;5;124mFound array with dim \u001b[39m\u001b[38;5;132;01m%d\u001b[39;00m\u001b[38;5;124m. \u001b[39m\u001b[38;5;132;01m%s\u001b[39;00m\u001b[38;5;124m expected <= 2.\u001b[39m\u001b[38;5;124m\"\u001b[39m\n\u001b[0;32m   1055\u001b[0m         \u001b[38;5;241m%\u001b[39m (array\u001b[38;5;241m.\u001b[39mndim, estimator_name)\n\u001b[0;32m   1056\u001b[0m     )\n\u001b[0;32m   1058\u001b[0m \u001b[38;5;28;01mif\u001b[39;00m force_all_finite:\n\u001b[1;32m-> 1059\u001b[0m     \u001b[43m_assert_all_finite\u001b[49m\u001b[43m(\u001b[49m\n\u001b[0;32m   1060\u001b[0m \u001b[43m        \u001b[49m\u001b[43marray\u001b[49m\u001b[43m,\u001b[49m\n\u001b[0;32m   1061\u001b[0m \u001b[43m        \u001b[49m\u001b[43minput_name\u001b[49m\u001b[38;5;241;43m=\u001b[39;49m\u001b[43minput_name\u001b[49m\u001b[43m,\u001b[49m\n\u001b[0;32m   1062\u001b[0m \u001b[43m        \u001b[49m\u001b[43mestimator_name\u001b[49m\u001b[38;5;241;43m=\u001b[39;49m\u001b[43mestimator_name\u001b[49m\u001b[43m,\u001b[49m\n\u001b[0;32m   1063\u001b[0m \u001b[43m        \u001b[49m\u001b[43mallow_nan\u001b[49m\u001b[38;5;241;43m=\u001b[39;49m\u001b[43mforce_all_finite\u001b[49m\u001b[43m \u001b[49m\u001b[38;5;241;43m==\u001b[39;49m\u001b[43m \u001b[49m\u001b[38;5;124;43m\"\u001b[39;49m\u001b[38;5;124;43mallow-nan\u001b[39;49m\u001b[38;5;124;43m\"\u001b[39;49m\u001b[43m,\u001b[49m\n\u001b[0;32m   1064\u001b[0m \u001b[43m    \u001b[49m\u001b[43m)\u001b[49m\n\u001b[0;32m   1066\u001b[0m \u001b[38;5;28;01mif\u001b[39;00m copy:\n\u001b[0;32m   1067\u001b[0m     \u001b[38;5;28;01mif\u001b[39;00m _is_numpy_namespace(xp):\n\u001b[0;32m   1068\u001b[0m         \u001b[38;5;66;03m# only make a copy if `array` and `array_orig` may share memory`\u001b[39;00m\n",
      "File \u001b[1;32mc:\\Users\\ssantos\\AppData\\Local\\anaconda3\\envs\\analisis_diabetes\\lib\\site-packages\\sklearn\\utils\\validation.py:126\u001b[0m, in \u001b[0;36m_assert_all_finite\u001b[1;34m(X, allow_nan, msg_dtype, estimator_name, input_name)\u001b[0m\n\u001b[0;32m    123\u001b[0m \u001b[38;5;28;01mif\u001b[39;00m first_pass_isfinite:\n\u001b[0;32m    124\u001b[0m     \u001b[38;5;28;01mreturn\u001b[39;00m\n\u001b[1;32m--> 126\u001b[0m \u001b[43m_assert_all_finite_element_wise\u001b[49m\u001b[43m(\u001b[49m\n\u001b[0;32m    127\u001b[0m \u001b[43m    \u001b[49m\u001b[43mX\u001b[49m\u001b[43m,\u001b[49m\n\u001b[0;32m    128\u001b[0m \u001b[43m    \u001b[49m\u001b[43mxp\u001b[49m\u001b[38;5;241;43m=\u001b[39;49m\u001b[43mxp\u001b[49m\u001b[43m,\u001b[49m\n\u001b[0;32m    129\u001b[0m \u001b[43m    \u001b[49m\u001b[43mallow_nan\u001b[49m\u001b[38;5;241;43m=\u001b[39;49m\u001b[43mallow_nan\u001b[49m\u001b[43m,\u001b[49m\n\u001b[0;32m    130\u001b[0m \u001b[43m    \u001b[49m\u001b[43mmsg_dtype\u001b[49m\u001b[38;5;241;43m=\u001b[39;49m\u001b[43mmsg_dtype\u001b[49m\u001b[43m,\u001b[49m\n\u001b[0;32m    131\u001b[0m \u001b[43m    \u001b[49m\u001b[43mestimator_name\u001b[49m\u001b[38;5;241;43m=\u001b[39;49m\u001b[43mestimator_name\u001b[49m\u001b[43m,\u001b[49m\n\u001b[0;32m    132\u001b[0m \u001b[43m    \u001b[49m\u001b[43minput_name\u001b[49m\u001b[38;5;241;43m=\u001b[39;49m\u001b[43minput_name\u001b[49m\u001b[43m,\u001b[49m\n\u001b[0;32m    133\u001b[0m \u001b[43m\u001b[49m\u001b[43m)\u001b[49m\n",
      "File \u001b[1;32mc:\\Users\\ssantos\\AppData\\Local\\anaconda3\\envs\\analisis_diabetes\\lib\\site-packages\\sklearn\\utils\\validation.py:175\u001b[0m, in \u001b[0;36m_assert_all_finite_element_wise\u001b[1;34m(X, xp, allow_nan, msg_dtype, estimator_name, input_name)\u001b[0m\n\u001b[0;32m    158\u001b[0m \u001b[38;5;28;01mif\u001b[39;00m estimator_name \u001b[38;5;129;01mand\u001b[39;00m input_name \u001b[38;5;241m==\u001b[39m \u001b[38;5;124m\"\u001b[39m\u001b[38;5;124mX\u001b[39m\u001b[38;5;124m\"\u001b[39m \u001b[38;5;129;01mand\u001b[39;00m has_nan_error:\n\u001b[0;32m    159\u001b[0m     \u001b[38;5;66;03m# Improve the error message on how to handle missing values in\u001b[39;00m\n\u001b[0;32m    160\u001b[0m     \u001b[38;5;66;03m# scikit-learn.\u001b[39;00m\n\u001b[0;32m    161\u001b[0m     msg_err \u001b[38;5;241m+\u001b[39m\u001b[38;5;241m=\u001b[39m (\n\u001b[0;32m    162\u001b[0m         \u001b[38;5;124mf\u001b[39m\u001b[38;5;124m\"\u001b[39m\u001b[38;5;130;01m\\n\u001b[39;00m\u001b[38;5;132;01m{\u001b[39;00mestimator_name\u001b[38;5;132;01m}\u001b[39;00m\u001b[38;5;124m does not accept missing values\u001b[39m\u001b[38;5;124m\"\u001b[39m\n\u001b[0;32m    163\u001b[0m         \u001b[38;5;124m\"\u001b[39m\u001b[38;5;124m encoded as NaN natively. For supervised learning, you might want\u001b[39m\u001b[38;5;124m\"\u001b[39m\n\u001b[1;32m   (...)\u001b[0m\n\u001b[0;32m    173\u001b[0m         \u001b[38;5;124m\"\u001b[39m\u001b[38;5;124m#estimators-that-handle-nan-values\u001b[39m\u001b[38;5;124m\"\u001b[39m\n\u001b[0;32m    174\u001b[0m     )\n\u001b[1;32m--> 175\u001b[0m \u001b[38;5;28;01mraise\u001b[39;00m \u001b[38;5;167;01mValueError\u001b[39;00m(msg_err)\n",
      "\u001b[1;31mValueError\u001b[0m: Input X contains NaN.\nLinearRegression does not accept missing values encoded as NaN natively. For supervised learning, you might want to consider sklearn.ensemble.HistGradientBoostingClassifier and Regressor which accept missing values encoded as NaNs natively. Alternatively, it is possible to preprocess the data, for instance by using an imputer transformer in a pipeline or drop samples with missing values. See https://scikit-learn.org/stable/modules/impute.html You can find a list of all estimators that handle NaN values at the following page: https://scikit-learn.org/stable/modules/impute.html#estimators-that-handle-nan-values"
     ]
    }
   ],
   "source": [
    "lineal_model = LinearRegression()\n",
    "\n",
    "lineal_model.fit(X_train,y_train)"
   ]
  },
  {
   "cell_type": "code",
   "execution_count": 416,
   "metadata": {},
   "outputs": [
    {
     "data": {
      "text/plain": [
       "-0.06785719897878106"
      ]
     },
     "execution_count": 416,
     "metadata": {},
     "output_type": "execute_result"
    }
   ],
   "source": [
    "lineal_model.score(X_test,y_test)"
   ]
  },
  {
   "cell_type": "code",
   "execution_count": 417,
   "metadata": {},
   "outputs": [
    {
     "data": {
      "text/plain": [
       "230468    0.0\n",
       "241484    1.0\n",
       "271015    0.0\n",
       "114476    0.0\n",
       "144750    1.0\n",
       "         ... \n",
       "235984    0.0\n",
       "5982      1.0\n",
       "35827     0.0\n",
       "153384    0.0\n",
       "191307    0.0\n",
       "Name: diabetes, Length: 96537, dtype: float64"
      ]
     },
     "execution_count": 417,
     "metadata": {},
     "output_type": "execute_result"
    }
   ],
   "source": [
    "y_test"
   ]
  },
  {
   "cell_type": "code",
   "execution_count": 418,
   "metadata": {},
   "outputs": [
    {
     "data": {
      "text/html": [
       "<div>\n",
       "<style scoped>\n",
       "    .dataframe tbody tr th:only-of-type {\n",
       "        vertical-align: middle;\n",
       "    }\n",
       "\n",
       "    .dataframe tbody tr th {\n",
       "        vertical-align: top;\n",
       "    }\n",
       "\n",
       "    .dataframe thead th {\n",
       "        text-align: right;\n",
       "    }\n",
       "</style>\n",
       "<table border=\"1\" class=\"dataframe\">\n",
       "  <thead>\n",
       "    <tr style=\"text-align: right;\">\n",
       "      <th></th>\n",
       "      <th>edad</th>\n",
       "      <th>genero</th>\n",
       "      <th>imc</th>\n",
       "      <th>HDL</th>\n",
       "      <th>LDL</th>\n",
       "      <th>trigliceridos</th>\n",
       "      <th>med_hipertension</th>\n",
       "      <th>familiar_dm</th>\n",
       "      <th>ant_cardiovascular</th>\n",
       "      <th>dm_gestacional</th>\n",
       "      <th>PERIMETRO_ABDOMINAL</th>\n",
       "      <th>hace_ejercicio</th>\n",
       "    </tr>\n",
       "  </thead>\n",
       "  <tbody>\n",
       "    <tr>\n",
       "      <th>230468</th>\n",
       "      <td>88.0</td>\n",
       "      <td>1.0</td>\n",
       "      <td>19.100092</td>\n",
       "      <td>54.00</td>\n",
       "      <td>106.00</td>\n",
       "      <td>71.00</td>\n",
       "      <td>1.0</td>\n",
       "      <td>0.0</td>\n",
       "      <td>1.0</td>\n",
       "      <td>0.0</td>\n",
       "      <td>82.0</td>\n",
       "      <td>2.0</td>\n",
       "    </tr>\n",
       "    <tr>\n",
       "      <th>241484</th>\n",
       "      <td>75.0</td>\n",
       "      <td>0.0</td>\n",
       "      <td>28.407877</td>\n",
       "      <td>53.20</td>\n",
       "      <td>126.00</td>\n",
       "      <td>160.00</td>\n",
       "      <td>1.0</td>\n",
       "      <td>0.0</td>\n",
       "      <td>1.0</td>\n",
       "      <td>0.0</td>\n",
       "      <td>88.0</td>\n",
       "      <td>2.0</td>\n",
       "    </tr>\n",
       "    <tr>\n",
       "      <th>271015</th>\n",
       "      <td>64.0</td>\n",
       "      <td>0.0</td>\n",
       "      <td>31.555556</td>\n",
       "      <td>37.00</td>\n",
       "      <td>137.40</td>\n",
       "      <td>323.00</td>\n",
       "      <td>1.0</td>\n",
       "      <td>0.0</td>\n",
       "      <td>1.0</td>\n",
       "      <td>0.0</td>\n",
       "      <td>102.0</td>\n",
       "      <td>2.0</td>\n",
       "    </tr>\n",
       "    <tr>\n",
       "      <th>114476</th>\n",
       "      <td>88.0</td>\n",
       "      <td>0.0</td>\n",
       "      <td>24.209105</td>\n",
       "      <td>50.80</td>\n",
       "      <td>120.60</td>\n",
       "      <td>173.00</td>\n",
       "      <td>1.0</td>\n",
       "      <td>0.0</td>\n",
       "      <td>1.0</td>\n",
       "      <td>0.0</td>\n",
       "      <td>80.0</td>\n",
       "      <td>0.0</td>\n",
       "    </tr>\n",
       "    <tr>\n",
       "      <th>144750</th>\n",
       "      <td>45.0</td>\n",
       "      <td>1.0</td>\n",
       "      <td>31.884502</td>\n",
       "      <td>29.90</td>\n",
       "      <td>47.00</td>\n",
       "      <td>255.20</td>\n",
       "      <td>0.0</td>\n",
       "      <td>0.0</td>\n",
       "      <td>1.0</td>\n",
       "      <td>0.0</td>\n",
       "      <td>112.0</td>\n",
       "      <td>2.0</td>\n",
       "    </tr>\n",
       "    <tr>\n",
       "      <th>...</th>\n",
       "      <td>...</td>\n",
       "      <td>...</td>\n",
       "      <td>...</td>\n",
       "      <td>...</td>\n",
       "      <td>...</td>\n",
       "      <td>...</td>\n",
       "      <td>...</td>\n",
       "      <td>...</td>\n",
       "      <td>...</td>\n",
       "      <td>...</td>\n",
       "      <td>...</td>\n",
       "      <td>...</td>\n",
       "    </tr>\n",
       "    <tr>\n",
       "      <th>235984</th>\n",
       "      <td>94.0</td>\n",
       "      <td>1.0</td>\n",
       "      <td>24.456063</td>\n",
       "      <td>29.33</td>\n",
       "      <td>93.08</td>\n",
       "      <td>131.96</td>\n",
       "      <td>1.0</td>\n",
       "      <td>0.0</td>\n",
       "      <td>1.0</td>\n",
       "      <td>0.0</td>\n",
       "      <td>97.0</td>\n",
       "      <td>2.0</td>\n",
       "    </tr>\n",
       "    <tr>\n",
       "      <th>5982</th>\n",
       "      <td>70.0</td>\n",
       "      <td>0.0</td>\n",
       "      <td>21.936347</td>\n",
       "      <td>41.50</td>\n",
       "      <td>173.80</td>\n",
       "      <td>255.10</td>\n",
       "      <td>0.0</td>\n",
       "      <td>0.0</td>\n",
       "      <td>0.0</td>\n",
       "      <td>0.0</td>\n",
       "      <td>89.0</td>\n",
       "      <td>2.0</td>\n",
       "    </tr>\n",
       "    <tr>\n",
       "      <th>35827</th>\n",
       "      <td>41.0</td>\n",
       "      <td>1.0</td>\n",
       "      <td>36.794821</td>\n",
       "      <td>45.40</td>\n",
       "      <td>109.40</td>\n",
       "      <td>233.00</td>\n",
       "      <td>0.0</td>\n",
       "      <td>0.0</td>\n",
       "      <td>0.0</td>\n",
       "      <td>0.0</td>\n",
       "      <td>82.0</td>\n",
       "      <td>0.0</td>\n",
       "    </tr>\n",
       "    <tr>\n",
       "      <th>153384</th>\n",
       "      <td>64.0</td>\n",
       "      <td>1.0</td>\n",
       "      <td>28.471124</td>\n",
       "      <td>51.00</td>\n",
       "      <td>82.20</td>\n",
       "      <td>89.00</td>\n",
       "      <td>1.0</td>\n",
       "      <td>0.0</td>\n",
       "      <td>1.0</td>\n",
       "      <td>0.0</td>\n",
       "      <td>92.0</td>\n",
       "      <td>1.0</td>\n",
       "    </tr>\n",
       "    <tr>\n",
       "      <th>191307</th>\n",
       "      <td>53.0</td>\n",
       "      <td>0.0</td>\n",
       "      <td>28.994106</td>\n",
       "      <td>40.00</td>\n",
       "      <td>150.00</td>\n",
       "      <td>144.00</td>\n",
       "      <td>1.0</td>\n",
       "      <td>0.0</td>\n",
       "      <td>1.0</td>\n",
       "      <td>0.0</td>\n",
       "      <td>100.0</td>\n",
       "      <td>0.0</td>\n",
       "    </tr>\n",
       "  </tbody>\n",
       "</table>\n",
       "<p>96537 rows × 12 columns</p>\n",
       "</div>"
      ],
      "text/plain": [
       "        edad  genero        imc    HDL     LDL  trigliceridos  \\\n",
       "230468  88.0     1.0  19.100092  54.00  106.00          71.00   \n",
       "241484  75.0     0.0  28.407877  53.20  126.00         160.00   \n",
       "271015  64.0     0.0  31.555556  37.00  137.40         323.00   \n",
       "114476  88.0     0.0  24.209105  50.80  120.60         173.00   \n",
       "144750  45.0     1.0  31.884502  29.90   47.00         255.20   \n",
       "...      ...     ...        ...    ...     ...            ...   \n",
       "235984  94.0     1.0  24.456063  29.33   93.08         131.96   \n",
       "5982    70.0     0.0  21.936347  41.50  173.80         255.10   \n",
       "35827   41.0     1.0  36.794821  45.40  109.40         233.00   \n",
       "153384  64.0     1.0  28.471124  51.00   82.20          89.00   \n",
       "191307  53.0     0.0  28.994106  40.00  150.00         144.00   \n",
       "\n",
       "        med_hipertension  familiar_dm  ant_cardiovascular  dm_gestacional  \\\n",
       "230468               1.0          0.0                 1.0             0.0   \n",
       "241484               1.0          0.0                 1.0             0.0   \n",
       "271015               1.0          0.0                 1.0             0.0   \n",
       "114476               1.0          0.0                 1.0             0.0   \n",
       "144750               0.0          0.0                 1.0             0.0   \n",
       "...                  ...          ...                 ...             ...   \n",
       "235984               1.0          0.0                 1.0             0.0   \n",
       "5982                 0.0          0.0                 0.0             0.0   \n",
       "35827                0.0          0.0                 0.0             0.0   \n",
       "153384               1.0          0.0                 1.0             0.0   \n",
       "191307               1.0          0.0                 1.0             0.0   \n",
       "\n",
       "        PERIMETRO_ABDOMINAL  hace_ejercicio  \n",
       "230468                 82.0             2.0  \n",
       "241484                 88.0             2.0  \n",
       "271015                102.0             2.0  \n",
       "114476                 80.0             0.0  \n",
       "144750                112.0             2.0  \n",
       "...                     ...             ...  \n",
       "235984                 97.0             2.0  \n",
       "5982                   89.0             2.0  \n",
       "35827                  82.0             0.0  \n",
       "153384                 92.0             1.0  \n",
       "191307                100.0             0.0  \n",
       "\n",
       "[96537 rows x 12 columns]"
      ]
     },
     "execution_count": 418,
     "metadata": {},
     "output_type": "execute_result"
    }
   ],
   "source": [
    "X_test"
   ]
  },
  {
   "cell_type": "code",
   "execution_count": 419,
   "metadata": {},
   "outputs": [
    {
     "data": {
      "text/plain": [
       "5982    1.0\n",
       "Name: diabetes, dtype: float64"
      ]
     },
     "execution_count": 419,
     "metadata": {},
     "output_type": "execute_result"
    }
   ],
   "source": [
    "y_test.iloc[[-4]]"
   ]
  },
  {
   "cell_type": "code",
   "execution_count": 420,
   "metadata": {},
   "outputs": [
    {
     "data": {
      "text/html": [
       "<div>\n",
       "<style scoped>\n",
       "    .dataframe tbody tr th:only-of-type {\n",
       "        vertical-align: middle;\n",
       "    }\n",
       "\n",
       "    .dataframe tbody tr th {\n",
       "        vertical-align: top;\n",
       "    }\n",
       "\n",
       "    .dataframe thead th {\n",
       "        text-align: right;\n",
       "    }\n",
       "</style>\n",
       "<table border=\"1\" class=\"dataframe\">\n",
       "  <thead>\n",
       "    <tr style=\"text-align: right;\">\n",
       "      <th></th>\n",
       "      <th>edad</th>\n",
       "      <th>genero</th>\n",
       "      <th>imc</th>\n",
       "      <th>HDL</th>\n",
       "      <th>LDL</th>\n",
       "      <th>trigliceridos</th>\n",
       "      <th>med_hipertension</th>\n",
       "      <th>familiar_dm</th>\n",
       "      <th>ant_cardiovascular</th>\n",
       "      <th>dm_gestacional</th>\n",
       "      <th>PERIMETRO_ABDOMINAL</th>\n",
       "      <th>hace_ejercicio</th>\n",
       "    </tr>\n",
       "  </thead>\n",
       "  <tbody>\n",
       "    <tr>\n",
       "      <th>5982</th>\n",
       "      <td>70.0</td>\n",
       "      <td>0.0</td>\n",
       "      <td>21.936347</td>\n",
       "      <td>41.5</td>\n",
       "      <td>173.8</td>\n",
       "      <td>255.1</td>\n",
       "      <td>0.0</td>\n",
       "      <td>0.0</td>\n",
       "      <td>0.0</td>\n",
       "      <td>0.0</td>\n",
       "      <td>89.0</td>\n",
       "      <td>2.0</td>\n",
       "    </tr>\n",
       "  </tbody>\n",
       "</table>\n",
       "</div>"
      ],
      "text/plain": [
       "      edad  genero        imc   HDL    LDL  trigliceridos  med_hipertension  \\\n",
       "5982  70.0     0.0  21.936347  41.5  173.8          255.1               0.0   \n",
       "\n",
       "      familiar_dm  ant_cardiovascular  dm_gestacional  PERIMETRO_ABDOMINAL  \\\n",
       "5982          0.0                 0.0             0.0                 89.0   \n",
       "\n",
       "      hace_ejercicio  \n",
       "5982             2.0  "
      ]
     },
     "execution_count": 420,
     "metadata": {},
     "output_type": "execute_result"
    }
   ],
   "source": [
    "index = X_test.iloc[[-4]].index\n",
    "\n",
    "X_test.iloc[[-4]]"
   ]
  },
  {
   "cell_type": "code",
   "execution_count": 421,
   "metadata": {},
   "outputs": [
    {
     "data": {
      "text/html": [
       "<div>\n",
       "<style scoped>\n",
       "    .dataframe tbody tr th:only-of-type {\n",
       "        vertical-align: middle;\n",
       "    }\n",
       "\n",
       "    .dataframe tbody tr th {\n",
       "        vertical-align: top;\n",
       "    }\n",
       "\n",
       "    .dataframe thead th {\n",
       "        text-align: right;\n",
       "    }\n",
       "</style>\n",
       "<table border=\"1\" class=\"dataframe\">\n",
       "  <thead>\n",
       "    <tr style=\"text-align: right;\">\n",
       "      <th></th>\n",
       "      <th>tipo_identificacion_paciente</th>\n",
       "      <th>edad</th>\n",
       "      <th>genero</th>\n",
       "      <th>codigo_ciudad_sucursal</th>\n",
       "      <th>nivel_academico_paciente</th>\n",
       "      <th>raza_paciente</th>\n",
       "      <th>peso</th>\n",
       "      <th>talla</th>\n",
       "      <th>imc</th>\n",
       "      <th>HDL</th>\n",
       "      <th>LDL</th>\n",
       "      <th>trigliceridos</th>\n",
       "      <th>med_hipertension</th>\n",
       "      <th>familiar_dm</th>\n",
       "      <th>ant_cardiovascular</th>\n",
       "      <th>dm_gestacional</th>\n",
       "      <th>PERIMETRO_ABDOMINAL</th>\n",
       "      <th>hace_ejercicio</th>\n",
       "      <th>diabetes</th>\n",
       "    </tr>\n",
       "  </thead>\n",
       "  <tbody>\n",
       "    <tr>\n",
       "      <th>5982</th>\n",
       "      <td>0.0</td>\n",
       "      <td>70.0</td>\n",
       "      <td>0.0</td>\n",
       "      <td>15001.0</td>\n",
       "      <td>3.0</td>\n",
       "      <td>0.0</td>\n",
       "      <td>59.0</td>\n",
       "      <td>1.64</td>\n",
       "      <td>21.936347</td>\n",
       "      <td>41.5</td>\n",
       "      <td>173.8</td>\n",
       "      <td>255.1</td>\n",
       "      <td>0.0</td>\n",
       "      <td>0.0</td>\n",
       "      <td>0.0</td>\n",
       "      <td>0.0</td>\n",
       "      <td>89.0</td>\n",
       "      <td>2.0</td>\n",
       "      <td>1.0</td>\n",
       "    </tr>\n",
       "  </tbody>\n",
       "</table>\n",
       "</div>"
      ],
      "text/plain": [
       "      tipo_identificacion_paciente  edad  genero  codigo_ciudad_sucursal  \\\n",
       "5982                           0.0  70.0     0.0                 15001.0   \n",
       "\n",
       "      nivel_academico_paciente  raza_paciente  peso  talla        imc   HDL  \\\n",
       "5982                       3.0            0.0  59.0   1.64  21.936347  41.5   \n",
       "\n",
       "        LDL  trigliceridos  med_hipertension  familiar_dm  ant_cardiovascular  \\\n",
       "5982  173.8          255.1               0.0          0.0                 0.0   \n",
       "\n",
       "      dm_gestacional  PERIMETRO_ABDOMINAL  hace_ejercicio  diabetes  \n",
       "5982             0.0                 89.0             2.0       1.0  "
      ]
     },
     "execution_count": 421,
     "metadata": {},
     "output_type": "execute_result"
    }
   ],
   "source": [
    "data.loc[index]"
   ]
  },
  {
   "cell_type": "code",
   "execution_count": 422,
   "metadata": {},
   "outputs": [
    {
     "data": {
      "text/plain": [
       "array([0.32926545])"
      ]
     },
     "execution_count": 422,
     "metadata": {},
     "output_type": "execute_result"
    }
   ],
   "source": [
    "lineal_model.predict(X_test.iloc[[-4]])"
   ]
  },
  {
   "cell_type": "code",
   "execution_count": 423,
   "metadata": {},
   "outputs": [
    {
     "data": {
      "text/plain": [
       "{'20 minutos\\n': 0, '40 minutos\\n': 1, 'Nunca\\n': 2, '60 minutos\\n': 3}"
      ]
     },
     "execution_count": 423,
     "metadata": {},
     "output_type": "execute_result"
    }
   ],
   "source": [
    "ejercicio"
   ]
  },
  {
   "cell_type": "code",
   "execution_count": 424,
   "metadata": {},
   "outputs": [
    {
     "data": {
      "text/plain": [
       "-0.06785719897878106"
      ]
     },
     "execution_count": 424,
     "metadata": {},
     "output_type": "execute_result"
    }
   ],
   "source": [
    "lineal_model.score(X_test,y_test)"
   ]
  },
  {
   "cell_type": "code",
   "execution_count": 449,
   "metadata": {},
   "outputs": [
    {
     "data": {
      "text/plain": [
       "{'20 minutos\\n': 0, '40 minutos\\n': 1, 'Nunca\\n': 2, '60 minutos\\n': 3}"
      ]
     },
     "execution_count": 449,
     "metadata": {},
     "output_type": "execute_result"
    }
   ],
   "source": [
    "ejercicio"
   ]
  },
  {
   "cell_type": "code",
   "execution_count": 456,
   "metadata": {},
   "outputs": [],
   "source": [
    "## Pesos Manuales\n",
    "\n",
    "def peso_edad(value):\n",
    "    if value < 45:\n",
    "        return 0\n",
    "    elif value < 54:\n",
    "        return 1\n",
    "    elif value <= 64:\n",
    "        return 2\n",
    "    else:\n",
    "        return 3\n",
    "\n",
    "def peso_imc(value):\n",
    "    if value < 30:\n",
    "        return 0\n",
    "    elif value < 35:\n",
    "        return 1\n",
    "    elif value < 40:\n",
    "        return 2\n",
    "    else:\n",
    "        return 3\n",
    "\n",
    "def peso_pa(value, gender):\n",
    "\n",
    "    if gender == 0:\n",
    "        if value < 90:\n",
    "            return 0\n",
    "        elif value < 95:\n",
    "            return 1\n",
    "        else:\n",
    "            return 2\n",
    "    else:\n",
    "        if value < 94:\n",
    "            return 0\n",
    "        elif value < 100:\n",
    "            return 1\n",
    "        else:\n",
    "            return 2\n",
    "\n",
    "def peso_ejercicio(value):\n",
    "    if value == 2:\n",
    "        return 2\n",
    "    else:\n",
    "        return 0\n",
    "\n",
    "def peso_var_bivalente(value):\n",
    "    if value == 1:\n",
    "        return 2\n",
    "    else:\n",
    "        return 0\n",
    "\n",
    "def peso_HDL(value):\n",
    "    if value < 40:\n",
    "        return 2\n",
    "    elif value < 60:\n",
    "        return 1\n",
    "    else:\n",
    "        return 0\n",
    "\n",
    "def peso_LDL(value):\n",
    "    if value < 130:\n",
    "        return 0\n",
    "    elif value < 160:\n",
    "        return 1\n",
    "    elif value < 190:\n",
    "        return 2\n",
    "    else:\n",
    "        return 3\n",
    "\n",
    "def peso_trigliceridos(value):\n",
    "    if value < 150:\n",
    "        return 0\n",
    "    elif value < 200:\n",
    "        return 1\n",
    "    elif value < 500:\n",
    "        return 2\n",
    "    else:\n",
    "        return 3\n"
   ]
  },
  {
   "cell_type": "code",
   "execution_count": 482,
   "metadata": {},
   "outputs": [],
   "source": [
    "genero = 1\n",
    "data_prueba = data[data.genero == genero].copy()"
   ]
  },
  {
   "cell_type": "code",
   "execution_count": 508,
   "metadata": {},
   "outputs": [
    {
     "data": {
      "text/plain": [
       "['edad',\n",
       " 'imc',\n",
       " 'PERIMETRO_ABDOMINAL',\n",
       " 'hace_ejercicio',\n",
       " 'med_hipertension',\n",
       " 'familiar_dm',\n",
       " 'HDL',\n",
       " 'LDL',\n",
       " 'trigliceridos',\n",
       " 'ant_cardiovascular',\n",
       " 'dm_gestacional']"
      ]
     },
     "execution_count": 508,
     "metadata": {},
     "output_type": "execute_result"
    }
   ],
   "source": [
    "dict_variables = {\n",
    "    'edad' : peso_edad,\n",
    "    'imc' : peso_imc,\n",
    "    'PERIMETRO_ABDOMINAL' : peso_pa,\n",
    "    'hace_ejercicio' : peso_ejercicio,\n",
    "    'med_hipertension' : peso_var_bivalente,\n",
    "    'familiar_dm' : peso_var_bivalente,\n",
    "    'HDL' : peso_HDL,\n",
    "    'LDL' : peso_LDL,\n",
    "    'trigliceridos' : peso_trigliceridos,\n",
    "    'ant_cardiovascular' : peso_var_bivalente,\n",
    "    'dm_gestacional' : peso_var_bivalente,\n",
    "}\n",
    "\n",
    "list(dict_variables.keys())"
   ]
  },
  {
   "cell_type": "code",
   "execution_count": 484,
   "metadata": {},
   "outputs": [
    {
     "data": {
      "text/html": [
       "<div>\n",
       "<style scoped>\n",
       "    .dataframe tbody tr th:only-of-type {\n",
       "        vertical-align: middle;\n",
       "    }\n",
       "\n",
       "    .dataframe tbody tr th {\n",
       "        vertical-align: top;\n",
       "    }\n",
       "\n",
       "    .dataframe thead th {\n",
       "        text-align: right;\n",
       "    }\n",
       "</style>\n",
       "<table border=\"1\" class=\"dataframe\">\n",
       "  <thead>\n",
       "    <tr style=\"text-align: right;\">\n",
       "      <th></th>\n",
       "      <th>tipo_identificacion_paciente</th>\n",
       "      <th>edad</th>\n",
       "      <th>genero</th>\n",
       "      <th>codigo_ciudad_sucursal</th>\n",
       "      <th>nivel_academico_paciente</th>\n",
       "      <th>raza_paciente</th>\n",
       "      <th>peso</th>\n",
       "      <th>talla</th>\n",
       "      <th>imc</th>\n",
       "      <th>HDL</th>\n",
       "      <th>LDL</th>\n",
       "      <th>trigliceridos</th>\n",
       "      <th>med_hipertension</th>\n",
       "      <th>familiar_dm</th>\n",
       "      <th>ant_cardiovascular</th>\n",
       "      <th>dm_gestacional</th>\n",
       "      <th>PERIMETRO_ABDOMINAL</th>\n",
       "      <th>hace_ejercicio</th>\n",
       "      <th>diabetes</th>\n",
       "    </tr>\n",
       "  </thead>\n",
       "  <tbody>\n",
       "    <tr>\n",
       "      <th>6</th>\n",
       "      <td>0.0</td>\n",
       "      <td>1</td>\n",
       "      <td>1.0</td>\n",
       "      <td>41001.0</td>\n",
       "      <td>0.0</td>\n",
       "      <td>0.0</td>\n",
       "      <td>101.0</td>\n",
       "      <td>1.68</td>\n",
       "      <td>2</td>\n",
       "      <td>2</td>\n",
       "      <td>1</td>\n",
       "      <td>2</td>\n",
       "      <td>0</td>\n",
       "      <td>0</td>\n",
       "      <td>0</td>\n",
       "      <td>0</td>\n",
       "      <td>2</td>\n",
       "      <td>2</td>\n",
       "      <td>0.0</td>\n",
       "    </tr>\n",
       "    <tr>\n",
       "      <th>7</th>\n",
       "      <td>0.0</td>\n",
       "      <td>0</td>\n",
       "      <td>1.0</td>\n",
       "      <td>19001.0</td>\n",
       "      <td>0.0</td>\n",
       "      <td>1.0</td>\n",
       "      <td>101.0</td>\n",
       "      <td>1.68</td>\n",
       "      <td>2</td>\n",
       "      <td>1</td>\n",
       "      <td>0</td>\n",
       "      <td>0</td>\n",
       "      <td>0</td>\n",
       "      <td>0</td>\n",
       "      <td>0</td>\n",
       "      <td>0</td>\n",
       "      <td>2</td>\n",
       "      <td>2</td>\n",
       "      <td>0.0</td>\n",
       "    </tr>\n",
       "    <tr>\n",
       "      <th>24</th>\n",
       "      <td>1.0</td>\n",
       "      <td>0</td>\n",
       "      <td>1.0</td>\n",
       "      <td>20001.0</td>\n",
       "      <td>1.0</td>\n",
       "      <td>0.0</td>\n",
       "      <td>51.0</td>\n",
       "      <td>1.64</td>\n",
       "      <td>0</td>\n",
       "      <td>1</td>\n",
       "      <td>0</td>\n",
       "      <td>0</td>\n",
       "      <td>0</td>\n",
       "      <td>0</td>\n",
       "      <td>0</td>\n",
       "      <td>0</td>\n",
       "      <td>0</td>\n",
       "      <td>2</td>\n",
       "      <td>0.0</td>\n",
       "    </tr>\n",
       "    <tr>\n",
       "      <th>25</th>\n",
       "      <td>0.0</td>\n",
       "      <td>3</td>\n",
       "      <td>1.0</td>\n",
       "      <td>8758.0</td>\n",
       "      <td>3.0</td>\n",
       "      <td>0.0</td>\n",
       "      <td>83.3</td>\n",
       "      <td>1.75</td>\n",
       "      <td>0</td>\n",
       "      <td>1</td>\n",
       "      <td>0</td>\n",
       "      <td>1</td>\n",
       "      <td>0</td>\n",
       "      <td>0</td>\n",
       "      <td>0</td>\n",
       "      <td>0</td>\n",
       "      <td>1</td>\n",
       "      <td>0</td>\n",
       "      <td>0.0</td>\n",
       "    </tr>\n",
       "    <tr>\n",
       "      <th>105</th>\n",
       "      <td>0.0</td>\n",
       "      <td>1</td>\n",
       "      <td>1.0</td>\n",
       "      <td>19001.0</td>\n",
       "      <td>0.0</td>\n",
       "      <td>0.0</td>\n",
       "      <td>88.2</td>\n",
       "      <td>1.75</td>\n",
       "      <td>0</td>\n",
       "      <td>2</td>\n",
       "      <td>0</td>\n",
       "      <td>0</td>\n",
       "      <td>0</td>\n",
       "      <td>0</td>\n",
       "      <td>0</td>\n",
       "      <td>0</td>\n",
       "      <td>2</td>\n",
       "      <td>2</td>\n",
       "      <td>0.0</td>\n",
       "    </tr>\n",
       "    <tr>\n",
       "      <th>...</th>\n",
       "      <td>...</td>\n",
       "      <td>...</td>\n",
       "      <td>...</td>\n",
       "      <td>...</td>\n",
       "      <td>...</td>\n",
       "      <td>...</td>\n",
       "      <td>...</td>\n",
       "      <td>...</td>\n",
       "      <td>...</td>\n",
       "      <td>...</td>\n",
       "      <td>...</td>\n",
       "      <td>...</td>\n",
       "      <td>...</td>\n",
       "      <td>...</td>\n",
       "      <td>...</td>\n",
       "      <td>...</td>\n",
       "      <td>...</td>\n",
       "      <td>...</td>\n",
       "      <td>...</td>\n",
       "    </tr>\n",
       "    <tr>\n",
       "      <th>292523</th>\n",
       "      <td>0.0</td>\n",
       "      <td>2</td>\n",
       "      <td>1.0</td>\n",
       "      <td>11001.0</td>\n",
       "      <td>2.0</td>\n",
       "      <td>0.0</td>\n",
       "      <td>94.6</td>\n",
       "      <td>1.73</td>\n",
       "      <td>1</td>\n",
       "      <td>1</td>\n",
       "      <td>0</td>\n",
       "      <td>2</td>\n",
       "      <td>2</td>\n",
       "      <td>0</td>\n",
       "      <td>2</td>\n",
       "      <td>0</td>\n",
       "      <td>2</td>\n",
       "      <td>2</td>\n",
       "      <td>0.0</td>\n",
       "    </tr>\n",
       "    <tr>\n",
       "      <th>292524</th>\n",
       "      <td>0.0</td>\n",
       "      <td>1</td>\n",
       "      <td>1.0</td>\n",
       "      <td>5001.0</td>\n",
       "      <td>0.0</td>\n",
       "      <td>0.0</td>\n",
       "      <td>94.6</td>\n",
       "      <td>1.73</td>\n",
       "      <td>1</td>\n",
       "      <td>1</td>\n",
       "      <td>2</td>\n",
       "      <td>2</td>\n",
       "      <td>2</td>\n",
       "      <td>0</td>\n",
       "      <td>2</td>\n",
       "      <td>0</td>\n",
       "      <td>2</td>\n",
       "      <td>0</td>\n",
       "      <td>0.0</td>\n",
       "    </tr>\n",
       "    <tr>\n",
       "      <th>292525</th>\n",
       "      <td>0.0</td>\n",
       "      <td>3</td>\n",
       "      <td>1.0</td>\n",
       "      <td>25307.0</td>\n",
       "      <td>3.0</td>\n",
       "      <td>0.0</td>\n",
       "      <td>94.6</td>\n",
       "      <td>1.73</td>\n",
       "      <td>1</td>\n",
       "      <td>1</td>\n",
       "      <td>0</td>\n",
       "      <td>0</td>\n",
       "      <td>2</td>\n",
       "      <td>0</td>\n",
       "      <td>2</td>\n",
       "      <td>0</td>\n",
       "      <td>2</td>\n",
       "      <td>2</td>\n",
       "      <td>1.0</td>\n",
       "    </tr>\n",
       "    <tr>\n",
       "      <th>292527</th>\n",
       "      <td>0.0</td>\n",
       "      <td>2</td>\n",
       "      <td>1.0</td>\n",
       "      <td>8001.0</td>\n",
       "      <td>5.0</td>\n",
       "      <td>0.0</td>\n",
       "      <td>99.1</td>\n",
       "      <td>1.81</td>\n",
       "      <td>1</td>\n",
       "      <td>1</td>\n",
       "      <td>0</td>\n",
       "      <td>0</td>\n",
       "      <td>2</td>\n",
       "      <td>0</td>\n",
       "      <td>2</td>\n",
       "      <td>0</td>\n",
       "      <td>1</td>\n",
       "      <td>0</td>\n",
       "      <td>0.0</td>\n",
       "    </tr>\n",
       "    <tr>\n",
       "      <th>292530</th>\n",
       "      <td>0.0</td>\n",
       "      <td>1</td>\n",
       "      <td>1.0</td>\n",
       "      <td>41001.0</td>\n",
       "      <td>0.0</td>\n",
       "      <td>0.0</td>\n",
       "      <td>94.5</td>\n",
       "      <td>1.81</td>\n",
       "      <td>0</td>\n",
       "      <td>1</td>\n",
       "      <td>0</td>\n",
       "      <td>0</td>\n",
       "      <td>2</td>\n",
       "      <td>0</td>\n",
       "      <td>2</td>\n",
       "      <td>0</td>\n",
       "      <td>2</td>\n",
       "      <td>0</td>\n",
       "      <td>0.0</td>\n",
       "    </tr>\n",
       "  </tbody>\n",
       "</table>\n",
       "<p>112045 rows × 19 columns</p>\n",
       "</div>"
      ],
      "text/plain": [
       "        tipo_identificacion_paciente  edad  genero  codigo_ciudad_sucursal  \\\n",
       "6                                0.0     1     1.0                 41001.0   \n",
       "7                                0.0     0     1.0                 19001.0   \n",
       "24                               1.0     0     1.0                 20001.0   \n",
       "25                               0.0     3     1.0                  8758.0   \n",
       "105                              0.0     1     1.0                 19001.0   \n",
       "...                              ...   ...     ...                     ...   \n",
       "292523                           0.0     2     1.0                 11001.0   \n",
       "292524                           0.0     1     1.0                  5001.0   \n",
       "292525                           0.0     3     1.0                 25307.0   \n",
       "292527                           0.0     2     1.0                  8001.0   \n",
       "292530                           0.0     1     1.0                 41001.0   \n",
       "\n",
       "        nivel_academico_paciente  raza_paciente   peso  talla  imc  HDL  LDL  \\\n",
       "6                            0.0            0.0  101.0   1.68    2    2    1   \n",
       "7                            0.0            1.0  101.0   1.68    2    1    0   \n",
       "24                           1.0            0.0   51.0   1.64    0    1    0   \n",
       "25                           3.0            0.0   83.3   1.75    0    1    0   \n",
       "105                          0.0            0.0   88.2   1.75    0    2    0   \n",
       "...                          ...            ...    ...    ...  ...  ...  ...   \n",
       "292523                       2.0            0.0   94.6   1.73    1    1    0   \n",
       "292524                       0.0            0.0   94.6   1.73    1    1    2   \n",
       "292525                       3.0            0.0   94.6   1.73    1    1    0   \n",
       "292527                       5.0            0.0   99.1   1.81    1    1    0   \n",
       "292530                       0.0            0.0   94.5   1.81    0    1    0   \n",
       "\n",
       "        trigliceridos  med_hipertension  familiar_dm  ant_cardiovascular  \\\n",
       "6                   2                 0            0                   0   \n",
       "7                   0                 0            0                   0   \n",
       "24                  0                 0            0                   0   \n",
       "25                  1                 0            0                   0   \n",
       "105                 0                 0            0                   0   \n",
       "...               ...               ...          ...                 ...   \n",
       "292523              2                 2            0                   2   \n",
       "292524              2                 2            0                   2   \n",
       "292525              0                 2            0                   2   \n",
       "292527              0                 2            0                   2   \n",
       "292530              0                 2            0                   2   \n",
       "\n",
       "        dm_gestacional  PERIMETRO_ABDOMINAL  hace_ejercicio  diabetes  \n",
       "6                    0                    2               2       0.0  \n",
       "7                    0                    2               2       0.0  \n",
       "24                   0                    0               2       0.0  \n",
       "25                   0                    1               0       0.0  \n",
       "105                  0                    2               2       0.0  \n",
       "...                ...                  ...             ...       ...  \n",
       "292523               0                    2               2       0.0  \n",
       "292524               0                    2               0       0.0  \n",
       "292525               0                    2               2       1.0  \n",
       "292527               0                    1               0       0.0  \n",
       "292530               0                    2               0       0.0  \n",
       "\n",
       "[112045 rows x 19 columns]"
      ]
     },
     "execution_count": 484,
     "metadata": {},
     "output_type": "execute_result"
    }
   ],
   "source": [
    "for key in dict_variables:\n",
    "    if key == 'PERIMETRO_ABDOMINAL':\n",
    "        data_prueba[key] = data_prueba[key].map(lambda x: dict_variables[key](x, genero))\n",
    "    else:\n",
    "        data_prueba[key] = data_prueba[key].map(lambda x: dict_variables[key](x))\n",
    "\n",
    "data_prueba = data_prueba.dropna()\n",
    "\n",
    "data_prueba"
   ]
  },
  {
   "cell_type": "code",
   "execution_count": 480,
   "metadata": {},
   "outputs": [
    {
     "data": {
      "text/html": [
       "<div>\n",
       "<style scoped>\n",
       "    .dataframe tbody tr th:only-of-type {\n",
       "        vertical-align: middle;\n",
       "    }\n",
       "\n",
       "    .dataframe tbody tr th {\n",
       "        vertical-align: top;\n",
       "    }\n",
       "\n",
       "    .dataframe thead th {\n",
       "        text-align: right;\n",
       "    }\n",
       "</style>\n",
       "<table border=\"1\" class=\"dataframe\">\n",
       "  <thead>\n",
       "    <tr style=\"text-align: right;\">\n",
       "      <th></th>\n",
       "      <th>tipo_identificacion_paciente</th>\n",
       "      <th>edad</th>\n",
       "      <th>genero</th>\n",
       "      <th>codigo_ciudad_sucursal</th>\n",
       "      <th>nivel_academico_paciente</th>\n",
       "      <th>raza_paciente</th>\n",
       "      <th>peso</th>\n",
       "      <th>talla</th>\n",
       "      <th>imc</th>\n",
       "      <th>HDL</th>\n",
       "      <th>LDL</th>\n",
       "      <th>trigliceridos</th>\n",
       "      <th>med_hipertension</th>\n",
       "      <th>familiar_dm</th>\n",
       "      <th>ant_cardiovascular</th>\n",
       "      <th>dm_gestacional</th>\n",
       "      <th>PERIMETRO_ABDOMINAL</th>\n",
       "      <th>hace_ejercicio</th>\n",
       "      <th>diabetes</th>\n",
       "    </tr>\n",
       "  </thead>\n",
       "  <tbody>\n",
       "    <tr>\n",
       "      <th>0</th>\n",
       "      <td>0.0</td>\n",
       "      <td>2</td>\n",
       "      <td>0.0</td>\n",
       "      <td>11001.0</td>\n",
       "      <td>0.0</td>\n",
       "      <td>0.0</td>\n",
       "      <td>57.6</td>\n",
       "      <td>1.50</td>\n",
       "      <td>0</td>\n",
       "      <td>1</td>\n",
       "      <td>0</td>\n",
       "      <td>0</td>\n",
       "      <td>0</td>\n",
       "      <td>0</td>\n",
       "      <td>0</td>\n",
       "      <td>0</td>\n",
       "      <td>0</td>\n",
       "      <td>0</td>\n",
       "      <td>0.0</td>\n",
       "    </tr>\n",
       "    <tr>\n",
       "      <th>1</th>\n",
       "      <td>0.0</td>\n",
       "      <td>2</td>\n",
       "      <td>0.0</td>\n",
       "      <td>54001.0</td>\n",
       "      <td>1.0</td>\n",
       "      <td>0.0</td>\n",
       "      <td>57.6</td>\n",
       "      <td>1.50</td>\n",
       "      <td>0</td>\n",
       "      <td>1</td>\n",
       "      <td>0</td>\n",
       "      <td>2</td>\n",
       "      <td>0</td>\n",
       "      <td>0</td>\n",
       "      <td>0</td>\n",
       "      <td>0</td>\n",
       "      <td>0</td>\n",
       "      <td>0</td>\n",
       "      <td>0.0</td>\n",
       "    </tr>\n",
       "    <tr>\n",
       "      <th>2</th>\n",
       "      <td>0.0</td>\n",
       "      <td>3</td>\n",
       "      <td>0.0</td>\n",
       "      <td>15001.0</td>\n",
       "      <td>2.0</td>\n",
       "      <td>0.0</td>\n",
       "      <td>57.6</td>\n",
       "      <td>1.50</td>\n",
       "      <td>0</td>\n",
       "      <td>0</td>\n",
       "      <td>2</td>\n",
       "      <td>0</td>\n",
       "      <td>0</td>\n",
       "      <td>0</td>\n",
       "      <td>0</td>\n",
       "      <td>0</td>\n",
       "      <td>0</td>\n",
       "      <td>0</td>\n",
       "      <td>0.0</td>\n",
       "    </tr>\n",
       "    <tr>\n",
       "      <th>3</th>\n",
       "      <td>0.0</td>\n",
       "      <td>2</td>\n",
       "      <td>0.0</td>\n",
       "      <td>8001.0</td>\n",
       "      <td>3.0</td>\n",
       "      <td>0.0</td>\n",
       "      <td>57.6</td>\n",
       "      <td>1.50</td>\n",
       "      <td>0</td>\n",
       "      <td>2</td>\n",
       "      <td>1</td>\n",
       "      <td>2</td>\n",
       "      <td>0</td>\n",
       "      <td>0</td>\n",
       "      <td>0</td>\n",
       "      <td>0</td>\n",
       "      <td>2</td>\n",
       "      <td>0</td>\n",
       "      <td>1.0</td>\n",
       "    </tr>\n",
       "    <tr>\n",
       "      <th>4</th>\n",
       "      <td>0.0</td>\n",
       "      <td>1</td>\n",
       "      <td>0.0</td>\n",
       "      <td>19001.0</td>\n",
       "      <td>4.0</td>\n",
       "      <td>0.0</td>\n",
       "      <td>57.6</td>\n",
       "      <td>1.50</td>\n",
       "      <td>0</td>\n",
       "      <td>1</td>\n",
       "      <td>1</td>\n",
       "      <td>1</td>\n",
       "      <td>0</td>\n",
       "      <td>0</td>\n",
       "      <td>0</td>\n",
       "      <td>0</td>\n",
       "      <td>0</td>\n",
       "      <td>0</td>\n",
       "      <td>0.0</td>\n",
       "    </tr>\n",
       "    <tr>\n",
       "      <th>...</th>\n",
       "      <td>...</td>\n",
       "      <td>...</td>\n",
       "      <td>...</td>\n",
       "      <td>...</td>\n",
       "      <td>...</td>\n",
       "      <td>...</td>\n",
       "      <td>...</td>\n",
       "      <td>...</td>\n",
       "      <td>...</td>\n",
       "      <td>...</td>\n",
       "      <td>...</td>\n",
       "      <td>...</td>\n",
       "      <td>...</td>\n",
       "      <td>...</td>\n",
       "      <td>...</td>\n",
       "      <td>...</td>\n",
       "      <td>...</td>\n",
       "      <td>...</td>\n",
       "      <td>...</td>\n",
       "    </tr>\n",
       "    <tr>\n",
       "      <th>292531</th>\n",
       "      <td>0.0</td>\n",
       "      <td>3</td>\n",
       "      <td>0.0</td>\n",
       "      <td>11001.0</td>\n",
       "      <td>0.0</td>\n",
       "      <td>0.0</td>\n",
       "      <td>68.5</td>\n",
       "      <td>1.42</td>\n",
       "      <td>1</td>\n",
       "      <td>2</td>\n",
       "      <td>0</td>\n",
       "      <td>0</td>\n",
       "      <td>2</td>\n",
       "      <td>0</td>\n",
       "      <td>2</td>\n",
       "      <td>0</td>\n",
       "      <td>2</td>\n",
       "      <td>2</td>\n",
       "      <td>0.0</td>\n",
       "    </tr>\n",
       "    <tr>\n",
       "      <th>292532</th>\n",
       "      <td>0.0</td>\n",
       "      <td>3</td>\n",
       "      <td>0.0</td>\n",
       "      <td>68001.0</td>\n",
       "      <td>1.0</td>\n",
       "      <td>0.0</td>\n",
       "      <td>68.5</td>\n",
       "      <td>1.42</td>\n",
       "      <td>1</td>\n",
       "      <td>2</td>\n",
       "      <td>3</td>\n",
       "      <td>2</td>\n",
       "      <td>2</td>\n",
       "      <td>0</td>\n",
       "      <td>2</td>\n",
       "      <td>0</td>\n",
       "      <td>2</td>\n",
       "      <td>0</td>\n",
       "      <td>1.0</td>\n",
       "    </tr>\n",
       "    <tr>\n",
       "      <th>292533</th>\n",
       "      <td>0.0</td>\n",
       "      <td>3</td>\n",
       "      <td>0.0</td>\n",
       "      <td>68001.0</td>\n",
       "      <td>1.0</td>\n",
       "      <td>0.0</td>\n",
       "      <td>68.5</td>\n",
       "      <td>1.42</td>\n",
       "      <td>1</td>\n",
       "      <td>2</td>\n",
       "      <td>3</td>\n",
       "      <td>2</td>\n",
       "      <td>2</td>\n",
       "      <td>0</td>\n",
       "      <td>2</td>\n",
       "      <td>0</td>\n",
       "      <td>2</td>\n",
       "      <td>0</td>\n",
       "      <td>1.0</td>\n",
       "    </tr>\n",
       "    <tr>\n",
       "      <th>292534</th>\n",
       "      <td>0.0</td>\n",
       "      <td>2</td>\n",
       "      <td>0.0</td>\n",
       "      <td>11001.0</td>\n",
       "      <td>8.0</td>\n",
       "      <td>0.0</td>\n",
       "      <td>68.9</td>\n",
       "      <td>1.49</td>\n",
       "      <td>1</td>\n",
       "      <td>0</td>\n",
       "      <td>1</td>\n",
       "      <td>0</td>\n",
       "      <td>2</td>\n",
       "      <td>0</td>\n",
       "      <td>2</td>\n",
       "      <td>0</td>\n",
       "      <td>2</td>\n",
       "      <td>2</td>\n",
       "      <td>0.0</td>\n",
       "    </tr>\n",
       "    <tr>\n",
       "      <th>292535</th>\n",
       "      <td>0.0</td>\n",
       "      <td>3</td>\n",
       "      <td>0.0</td>\n",
       "      <td>13001.0</td>\n",
       "      <td>3.0</td>\n",
       "      <td>0.0</td>\n",
       "      <td>68.9</td>\n",
       "      <td>1.49</td>\n",
       "      <td>1</td>\n",
       "      <td>1</td>\n",
       "      <td>0</td>\n",
       "      <td>0</td>\n",
       "      <td>2</td>\n",
       "      <td>0</td>\n",
       "      <td>2</td>\n",
       "      <td>0</td>\n",
       "      <td>0</td>\n",
       "      <td>0</td>\n",
       "      <td>1.0</td>\n",
       "    </tr>\n",
       "  </tbody>\n",
       "</table>\n",
       "<p>180482 rows × 19 columns</p>\n",
       "</div>"
      ],
      "text/plain": [
       "        tipo_identificacion_paciente  edad  genero  codigo_ciudad_sucursal  \\\n",
       "0                                0.0     2     0.0                 11001.0   \n",
       "1                                0.0     2     0.0                 54001.0   \n",
       "2                                0.0     3     0.0                 15001.0   \n",
       "3                                0.0     2     0.0                  8001.0   \n",
       "4                                0.0     1     0.0                 19001.0   \n",
       "...                              ...   ...     ...                     ...   \n",
       "292531                           0.0     3     0.0                 11001.0   \n",
       "292532                           0.0     3     0.0                 68001.0   \n",
       "292533                           0.0     3     0.0                 68001.0   \n",
       "292534                           0.0     2     0.0                 11001.0   \n",
       "292535                           0.0     3     0.0                 13001.0   \n",
       "\n",
       "        nivel_academico_paciente  raza_paciente  peso  talla  imc  HDL  LDL  \\\n",
       "0                            0.0            0.0  57.6   1.50    0    1    0   \n",
       "1                            1.0            0.0  57.6   1.50    0    1    0   \n",
       "2                            2.0            0.0  57.6   1.50    0    0    2   \n",
       "3                            3.0            0.0  57.6   1.50    0    2    1   \n",
       "4                            4.0            0.0  57.6   1.50    0    1    1   \n",
       "...                          ...            ...   ...    ...  ...  ...  ...   \n",
       "292531                       0.0            0.0  68.5   1.42    1    2    0   \n",
       "292532                       1.0            0.0  68.5   1.42    1    2    3   \n",
       "292533                       1.0            0.0  68.5   1.42    1    2    3   \n",
       "292534                       8.0            0.0  68.9   1.49    1    0    1   \n",
       "292535                       3.0            0.0  68.9   1.49    1    1    0   \n",
       "\n",
       "        trigliceridos  med_hipertension  familiar_dm  ant_cardiovascular  \\\n",
       "0                   0                 0            0                   0   \n",
       "1                   2                 0            0                   0   \n",
       "2                   0                 0            0                   0   \n",
       "3                   2                 0            0                   0   \n",
       "4                   1                 0            0                   0   \n",
       "...               ...               ...          ...                 ...   \n",
       "292531              0                 2            0                   2   \n",
       "292532              2                 2            0                   2   \n",
       "292533              2                 2            0                   2   \n",
       "292534              0                 2            0                   2   \n",
       "292535              0                 2            0                   2   \n",
       "\n",
       "        dm_gestacional  PERIMETRO_ABDOMINAL  hace_ejercicio  diabetes  \n",
       "0                    0                    0               0       0.0  \n",
       "1                    0                    0               0       0.0  \n",
       "2                    0                    0               0       0.0  \n",
       "3                    0                    2               0       1.0  \n",
       "4                    0                    0               0       0.0  \n",
       "...                ...                  ...             ...       ...  \n",
       "292531               0                    2               2       0.0  \n",
       "292532               0                    2               0       1.0  \n",
       "292533               0                    2               0       1.0  \n",
       "292534               0                    2               2       0.0  \n",
       "292535               0                    0               0       1.0  \n",
       "\n",
       "[180482 rows x 19 columns]"
      ]
     },
     "execution_count": 480,
     "metadata": {},
     "output_type": "execute_result"
    }
   ],
   "source": [
    "data_prueba.dropna()"
   ]
  },
  {
   "cell_type": "code",
   "execution_count": 539,
   "metadata": {},
   "outputs": [
    {
     "data": {
      "text/html": [
       "<div>\n",
       "<style scoped>\n",
       "    .dataframe tbody tr th:only-of-type {\n",
       "        vertical-align: middle;\n",
       "    }\n",
       "\n",
       "    .dataframe tbody tr th {\n",
       "        vertical-align: top;\n",
       "    }\n",
       "\n",
       "    .dataframe thead th {\n",
       "        text-align: right;\n",
       "    }\n",
       "</style>\n",
       "<table border=\"1\" class=\"dataframe\">\n",
       "  <thead>\n",
       "    <tr style=\"text-align: right;\">\n",
       "      <th></th>\n",
       "      <th>tipo_identificacion_paciente</th>\n",
       "      <th>edad</th>\n",
       "      <th>genero</th>\n",
       "      <th>codigo_ciudad_sucursal</th>\n",
       "      <th>nivel_academico_paciente</th>\n",
       "      <th>raza_paciente</th>\n",
       "      <th>peso</th>\n",
       "      <th>talla</th>\n",
       "      <th>imc</th>\n",
       "      <th>HDL</th>\n",
       "      <th>LDL</th>\n",
       "      <th>trigliceridos</th>\n",
       "      <th>med_hipertension</th>\n",
       "      <th>familiar_dm</th>\n",
       "      <th>ant_cardiovascular</th>\n",
       "      <th>dm_gestacional</th>\n",
       "      <th>PERIMETRO_ABDOMINAL</th>\n",
       "      <th>hace_ejercicio</th>\n",
       "      <th>diabetes</th>\n",
       "    </tr>\n",
       "  </thead>\n",
       "  <tbody>\n",
       "    <tr>\n",
       "      <th>3</th>\n",
       "      <td>0.00</td>\n",
       "      <td>57.00</td>\n",
       "      <td>0.00</td>\n",
       "      <td>8001.00</td>\n",
       "      <td>3.00</td>\n",
       "      <td>0.00</td>\n",
       "      <td>57.60</td>\n",
       "      <td>1.50</td>\n",
       "      <td>25.60</td>\n",
       "      <td>39.00</td>\n",
       "      <td>143.00</td>\n",
       "      <td>280.00</td>\n",
       "      <td>0.00</td>\n",
       "      <td>0.00</td>\n",
       "      <td>0.00</td>\n",
       "      <td>0.00</td>\n",
       "      <td>95.00</td>\n",
       "      <td>0.00</td>\n",
       "      <td>1.00</td>\n",
       "    </tr>\n",
       "    <tr>\n",
       "      <th>11</th>\n",
       "      <td>0.00</td>\n",
       "      <td>43.00</td>\n",
       "      <td>0.00</td>\n",
       "      <td>50001.00</td>\n",
       "      <td>0.00</td>\n",
       "      <td>0.00</td>\n",
       "      <td>101.00</td>\n",
       "      <td>1.68</td>\n",
       "      <td>35.79</td>\n",
       "      <td>44.92</td>\n",
       "      <td>121.00</td>\n",
       "      <td>321.00</td>\n",
       "      <td>0.00</td>\n",
       "      <td>0.00</td>\n",
       "      <td>0.00</td>\n",
       "      <td>1.00</td>\n",
       "      <td>126.00</td>\n",
       "      <td>2.00</td>\n",
       "      <td>1.00</td>\n",
       "    </tr>\n",
       "    <tr>\n",
       "      <th>21</th>\n",
       "      <td>0.00</td>\n",
       "      <td>32.00</td>\n",
       "      <td>0.00</td>\n",
       "      <td>11001.00</td>\n",
       "      <td>3.00</td>\n",
       "      <td>0.00</td>\n",
       "      <td>51.00</td>\n",
       "      <td>1.64</td>\n",
       "      <td>18.96</td>\n",
       "      <td>81.00</td>\n",
       "      <td>83.00</td>\n",
       "      <td>34.00</td>\n",
       "      <td>0.00</td>\n",
       "      <td>0.00</td>\n",
       "      <td>0.00</td>\n",
       "      <td>1.00</td>\n",
       "      <td>74.00</td>\n",
       "      <td>0.00</td>\n",
       "      <td>1.00</td>\n",
       "    </tr>\n",
       "    <tr>\n",
       "      <th>26</th>\n",
       "      <td>0.00</td>\n",
       "      <td>40.00</td>\n",
       "      <td>0.00</td>\n",
       "      <td>20001.00</td>\n",
       "      <td>4.00</td>\n",
       "      <td>0.00</td>\n",
       "      <td>61.20</td>\n",
       "      <td>1.50</td>\n",
       "      <td>27.20</td>\n",
       "      <td>51.00</td>\n",
       "      <td>125.00</td>\n",
       "      <td>87.00</td>\n",
       "      <td>0.00</td>\n",
       "      <td>0.00</td>\n",
       "      <td>0.00</td>\n",
       "      <td>0.00</td>\n",
       "      <td>70.00</td>\n",
       "      <td>2.00</td>\n",
       "      <td>1.00</td>\n",
       "    </tr>\n",
       "    <tr>\n",
       "      <th>31</th>\n",
       "      <td>0.00</td>\n",
       "      <td>40.00</td>\n",
       "      <td>0.00</td>\n",
       "      <td>20001.00</td>\n",
       "      <td>4.00</td>\n",
       "      <td>0.00</td>\n",
       "      <td>61.20</td>\n",
       "      <td>1.50</td>\n",
       "      <td>27.20</td>\n",
       "      <td>51.00</td>\n",
       "      <td>125.00</td>\n",
       "      <td>87.00</td>\n",
       "      <td>0.00</td>\n",
       "      <td>0.00</td>\n",
       "      <td>0.00</td>\n",
       "      <td>0.00</td>\n",
       "      <td>70.00</td>\n",
       "      <td>1.00</td>\n",
       "      <td>1.00</td>\n",
       "    </tr>\n",
       "    <tr>\n",
       "      <th>...</th>\n",
       "      <td>...</td>\n",
       "      <td>...</td>\n",
       "      <td>...</td>\n",
       "      <td>...</td>\n",
       "      <td>...</td>\n",
       "      <td>...</td>\n",
       "      <td>...</td>\n",
       "      <td>...</td>\n",
       "      <td>...</td>\n",
       "      <td>...</td>\n",
       "      <td>...</td>\n",
       "      <td>...</td>\n",
       "      <td>...</td>\n",
       "      <td>...</td>\n",
       "      <td>...</td>\n",
       "      <td>...</td>\n",
       "      <td>...</td>\n",
       "      <td>...</td>\n",
       "      <td>...</td>\n",
       "    </tr>\n",
       "    <tr>\n",
       "      <th>46554</th>\n",
       "      <td>0.00</td>\n",
       "      <td>50.00</td>\n",
       "      <td>0.00</td>\n",
       "      <td>8001.00</td>\n",
       "      <td>7.00</td>\n",
       "      <td>0.00</td>\n",
       "      <td>66.20</td>\n",
       "      <td>1.60</td>\n",
       "      <td>25.86</td>\n",
       "      <td>57.00</td>\n",
       "      <td>119.00</td>\n",
       "      <td>89.00</td>\n",
       "      <td>0.00</td>\n",
       "      <td>0.00</td>\n",
       "      <td>0.00</td>\n",
       "      <td>0.00</td>\n",
       "      <td>85.00</td>\n",
       "      <td>0.00</td>\n",
       "      <td>0.00</td>\n",
       "    </tr>\n",
       "    <tr>\n",
       "      <th>252766</th>\n",
       "      <td>0.00</td>\n",
       "      <td>82.00</td>\n",
       "      <td>1.00</td>\n",
       "      <td>8758.00</td>\n",
       "      <td>5.00</td>\n",
       "      <td>0.00</td>\n",
       "      <td>58.00</td>\n",
       "      <td>1.61</td>\n",
       "      <td>22.38</td>\n",
       "      <td>48.00</td>\n",
       "      <td>65.00</td>\n",
       "      <td>85.00</td>\n",
       "      <td>1.00</td>\n",
       "      <td>0.00</td>\n",
       "      <td>1.00</td>\n",
       "      <td>0.00</td>\n",
       "      <td>94.00</td>\n",
       "      <td>1.00</td>\n",
       "      <td>0.00</td>\n",
       "    </tr>\n",
       "    <tr>\n",
       "      <th>171737</th>\n",
       "      <td>0.00</td>\n",
       "      <td>49.00</td>\n",
       "      <td>0.00</td>\n",
       "      <td>8001.00</td>\n",
       "      <td>3.00</td>\n",
       "      <td>0.00</td>\n",
       "      <td>79.00</td>\n",
       "      <td>1.52</td>\n",
       "      <td>34.19</td>\n",
       "      <td>42.40</td>\n",
       "      <td>122.40</td>\n",
       "      <td>138.00</td>\n",
       "      <td>1.00</td>\n",
       "      <td>0.00</td>\n",
       "      <td>1.00</td>\n",
       "      <td>0.00</td>\n",
       "      <td>70.00</td>\n",
       "      <td>1.00</td>\n",
       "      <td>0.00</td>\n",
       "    </tr>\n",
       "    <tr>\n",
       "      <th>26433</th>\n",
       "      <td>0.00</td>\n",
       "      <td>48.00</td>\n",
       "      <td>0.00</td>\n",
       "      <td>54001.00</td>\n",
       "      <td>7.00</td>\n",
       "      <td>0.00</td>\n",
       "      <td>61.50</td>\n",
       "      <td>1.56</td>\n",
       "      <td>25.27</td>\n",
       "      <td>53.00</td>\n",
       "      <td>55.00</td>\n",
       "      <td>69.00</td>\n",
       "      <td>0.00</td>\n",
       "      <td>0.00</td>\n",
       "      <td>0.00</td>\n",
       "      <td>0.00</td>\n",
       "      <td>80.00</td>\n",
       "      <td>2.00</td>\n",
       "      <td>0.00</td>\n",
       "    </tr>\n",
       "    <tr>\n",
       "      <th>51205</th>\n",
       "      <td>0.00</td>\n",
       "      <td>49.00</td>\n",
       "      <td>0.00</td>\n",
       "      <td>5001.00</td>\n",
       "      <td>0.00</td>\n",
       "      <td>0.00</td>\n",
       "      <td>67.00</td>\n",
       "      <td>1.53</td>\n",
       "      <td>28.62</td>\n",
       "      <td>41.00</td>\n",
       "      <td>144.00</td>\n",
       "      <td>221.00</td>\n",
       "      <td>0.00</td>\n",
       "      <td>0.00</td>\n",
       "      <td>0.00</td>\n",
       "      <td>0.00</td>\n",
       "      <td>74.00</td>\n",
       "      <td>0.00</td>\n",
       "      <td>0.00</td>\n",
       "    </tr>\n",
       "  </tbody>\n",
       "</table>\n",
       "<p>176416 rows × 19 columns</p>\n",
       "</div>"
      ],
      "text/plain": [
       "        tipo_identificacion_paciente  edad  genero  codigo_ciudad_sucursal  \\\n",
       "3                               0.00 57.00    0.00                 8001.00   \n",
       "11                              0.00 43.00    0.00                50001.00   \n",
       "21                              0.00 32.00    0.00                11001.00   \n",
       "26                              0.00 40.00    0.00                20001.00   \n",
       "31                              0.00 40.00    0.00                20001.00   \n",
       "...                              ...   ...     ...                     ...   \n",
       "46554                           0.00 50.00    0.00                 8001.00   \n",
       "252766                          0.00 82.00    1.00                 8758.00   \n",
       "171737                          0.00 49.00    0.00                 8001.00   \n",
       "26433                           0.00 48.00    0.00                54001.00   \n",
       "51205                           0.00 49.00    0.00                 5001.00   \n",
       "\n",
       "        nivel_academico_paciente  raza_paciente   peso  talla   imc   HDL  \\\n",
       "3                           3.00           0.00  57.60   1.50 25.60 39.00   \n",
       "11                          0.00           0.00 101.00   1.68 35.79 44.92   \n",
       "21                          3.00           0.00  51.00   1.64 18.96 81.00   \n",
       "26                          4.00           0.00  61.20   1.50 27.20 51.00   \n",
       "31                          4.00           0.00  61.20   1.50 27.20 51.00   \n",
       "...                          ...            ...    ...    ...   ...   ...   \n",
       "46554                       7.00           0.00  66.20   1.60 25.86 57.00   \n",
       "252766                      5.00           0.00  58.00   1.61 22.38 48.00   \n",
       "171737                      3.00           0.00  79.00   1.52 34.19 42.40   \n",
       "26433                       7.00           0.00  61.50   1.56 25.27 53.00   \n",
       "51205                       0.00           0.00  67.00   1.53 28.62 41.00   \n",
       "\n",
       "          LDL  trigliceridos  med_hipertension  familiar_dm  \\\n",
       "3      143.00         280.00              0.00         0.00   \n",
       "11     121.00         321.00              0.00         0.00   \n",
       "21      83.00          34.00              0.00         0.00   \n",
       "26     125.00          87.00              0.00         0.00   \n",
       "31     125.00          87.00              0.00         0.00   \n",
       "...       ...            ...               ...          ...   \n",
       "46554  119.00          89.00              0.00         0.00   \n",
       "252766  65.00          85.00              1.00         0.00   \n",
       "171737 122.40         138.00              1.00         0.00   \n",
       "26433   55.00          69.00              0.00         0.00   \n",
       "51205  144.00         221.00              0.00         0.00   \n",
       "\n",
       "        ant_cardiovascular  dm_gestacional  PERIMETRO_ABDOMINAL  \\\n",
       "3                     0.00            0.00                95.00   \n",
       "11                    0.00            1.00               126.00   \n",
       "21                    0.00            1.00                74.00   \n",
       "26                    0.00            0.00                70.00   \n",
       "31                    0.00            0.00                70.00   \n",
       "...                    ...             ...                  ...   \n",
       "46554                 0.00            0.00                85.00   \n",
       "252766                1.00            0.00                94.00   \n",
       "171737                1.00            0.00                70.00   \n",
       "26433                 0.00            0.00                80.00   \n",
       "51205                 0.00            0.00                74.00   \n",
       "\n",
       "        hace_ejercicio  diabetes  \n",
       "3                 0.00      1.00  \n",
       "11                2.00      1.00  \n",
       "21                0.00      1.00  \n",
       "26                2.00      1.00  \n",
       "31                1.00      1.00  \n",
       "...                ...       ...  \n",
       "46554             0.00      0.00  \n",
       "252766            1.00      0.00  \n",
       "171737            1.00      0.00  \n",
       "26433             2.00      0.00  \n",
       "51205             0.00      0.00  \n",
       "\n",
       "[176416 rows x 19 columns]"
      ]
     },
     "execution_count": 539,
     "metadata": {},
     "output_type": "execute_result"
    }
   ],
   "source": [
    "df = data[data.diabetes == 1]\n",
    "sample = data[data.diabetes == 0].sample(len(df))\n",
    "\n",
    "df = pd.concat([df,sample])\n",
    "df"
   ]
  },
  {
   "cell_type": "code",
   "execution_count": 540,
   "metadata": {},
   "outputs": [
    {
     "data": {
      "text/html": [
       "<div>\n",
       "<style scoped>\n",
       "    .dataframe tbody tr th:only-of-type {\n",
       "        vertical-align: middle;\n",
       "    }\n",
       "\n",
       "    .dataframe tbody tr th {\n",
       "        vertical-align: top;\n",
       "    }\n",
       "\n",
       "    .dataframe thead th {\n",
       "        text-align: right;\n",
       "    }\n",
       "</style>\n",
       "<table border=\"1\" class=\"dataframe\">\n",
       "  <thead>\n",
       "    <tr style=\"text-align: right;\">\n",
       "      <th></th>\n",
       "      <th>tipo_identificacion_paciente</th>\n",
       "      <th>edad</th>\n",
       "      <th>genero</th>\n",
       "      <th>codigo_ciudad_sucursal</th>\n",
       "      <th>nivel_academico_paciente</th>\n",
       "      <th>raza_paciente</th>\n",
       "      <th>peso</th>\n",
       "      <th>talla</th>\n",
       "      <th>imc</th>\n",
       "      <th>HDL</th>\n",
       "      <th>LDL</th>\n",
       "      <th>trigliceridos</th>\n",
       "      <th>med_hipertension</th>\n",
       "      <th>familiar_dm</th>\n",
       "      <th>ant_cardiovascular</th>\n",
       "      <th>dm_gestacional</th>\n",
       "      <th>PERIMETRO_ABDOMINAL</th>\n",
       "      <th>hace_ejercicio</th>\n",
       "      <th>diabetes</th>\n",
       "      <th>diabetes_peso</th>\n",
       "    </tr>\n",
       "  </thead>\n",
       "  <tbody>\n",
       "    <tr>\n",
       "      <th>3</th>\n",
       "      <td>0.00</td>\n",
       "      <td>2</td>\n",
       "      <td>0.00</td>\n",
       "      <td>8001.00</td>\n",
       "      <td>3.00</td>\n",
       "      <td>0.00</td>\n",
       "      <td>57.60</td>\n",
       "      <td>1.50</td>\n",
       "      <td>0</td>\n",
       "      <td>2</td>\n",
       "      <td>1</td>\n",
       "      <td>2</td>\n",
       "      <td>0</td>\n",
       "      <td>0</td>\n",
       "      <td>0</td>\n",
       "      <td>0</td>\n",
       "      <td>2</td>\n",
       "      <td>0</td>\n",
       "      <td>1.00</td>\n",
       "      <td>9</td>\n",
       "    </tr>\n",
       "    <tr>\n",
       "      <th>11</th>\n",
       "      <td>0.00</td>\n",
       "      <td>0</td>\n",
       "      <td>0.00</td>\n",
       "      <td>50001.00</td>\n",
       "      <td>0.00</td>\n",
       "      <td>0.00</td>\n",
       "      <td>101.00</td>\n",
       "      <td>1.68</td>\n",
       "      <td>2</td>\n",
       "      <td>1</td>\n",
       "      <td>0</td>\n",
       "      <td>2</td>\n",
       "      <td>0</td>\n",
       "      <td>0</td>\n",
       "      <td>0</td>\n",
       "      <td>2</td>\n",
       "      <td>2</td>\n",
       "      <td>2</td>\n",
       "      <td>1.00</td>\n",
       "      <td>11</td>\n",
       "    </tr>\n",
       "    <tr>\n",
       "      <th>21</th>\n",
       "      <td>0.00</td>\n",
       "      <td>0</td>\n",
       "      <td>0.00</td>\n",
       "      <td>11001.00</td>\n",
       "      <td>3.00</td>\n",
       "      <td>0.00</td>\n",
       "      <td>51.00</td>\n",
       "      <td>1.64</td>\n",
       "      <td>0</td>\n",
       "      <td>0</td>\n",
       "      <td>0</td>\n",
       "      <td>0</td>\n",
       "      <td>0</td>\n",
       "      <td>0</td>\n",
       "      <td>0</td>\n",
       "      <td>2</td>\n",
       "      <td>0</td>\n",
       "      <td>0</td>\n",
       "      <td>1.00</td>\n",
       "      <td>2</td>\n",
       "    </tr>\n",
       "    <tr>\n",
       "      <th>26</th>\n",
       "      <td>0.00</td>\n",
       "      <td>0</td>\n",
       "      <td>0.00</td>\n",
       "      <td>20001.00</td>\n",
       "      <td>4.00</td>\n",
       "      <td>0.00</td>\n",
       "      <td>61.20</td>\n",
       "      <td>1.50</td>\n",
       "      <td>0</td>\n",
       "      <td>1</td>\n",
       "      <td>0</td>\n",
       "      <td>0</td>\n",
       "      <td>0</td>\n",
       "      <td>0</td>\n",
       "      <td>0</td>\n",
       "      <td>0</td>\n",
       "      <td>0</td>\n",
       "      <td>2</td>\n",
       "      <td>1.00</td>\n",
       "      <td>3</td>\n",
       "    </tr>\n",
       "    <tr>\n",
       "      <th>31</th>\n",
       "      <td>0.00</td>\n",
       "      <td>0</td>\n",
       "      <td>0.00</td>\n",
       "      <td>20001.00</td>\n",
       "      <td>4.00</td>\n",
       "      <td>0.00</td>\n",
       "      <td>61.20</td>\n",
       "      <td>1.50</td>\n",
       "      <td>0</td>\n",
       "      <td>1</td>\n",
       "      <td>0</td>\n",
       "      <td>0</td>\n",
       "      <td>0</td>\n",
       "      <td>0</td>\n",
       "      <td>0</td>\n",
       "      <td>0</td>\n",
       "      <td>0</td>\n",
       "      <td>0</td>\n",
       "      <td>1.00</td>\n",
       "      <td>1</td>\n",
       "    </tr>\n",
       "    <tr>\n",
       "      <th>...</th>\n",
       "      <td>...</td>\n",
       "      <td>...</td>\n",
       "      <td>...</td>\n",
       "      <td>...</td>\n",
       "      <td>...</td>\n",
       "      <td>...</td>\n",
       "      <td>...</td>\n",
       "      <td>...</td>\n",
       "      <td>...</td>\n",
       "      <td>...</td>\n",
       "      <td>...</td>\n",
       "      <td>...</td>\n",
       "      <td>...</td>\n",
       "      <td>...</td>\n",
       "      <td>...</td>\n",
       "      <td>...</td>\n",
       "      <td>...</td>\n",
       "      <td>...</td>\n",
       "      <td>...</td>\n",
       "      <td>...</td>\n",
       "    </tr>\n",
       "    <tr>\n",
       "      <th>136829</th>\n",
       "      <td>0.00</td>\n",
       "      <td>2</td>\n",
       "      <td>0.00</td>\n",
       "      <td>8001.00</td>\n",
       "      <td>7.00</td>\n",
       "      <td>0.00</td>\n",
       "      <td>80.50</td>\n",
       "      <td>1.52</td>\n",
       "      <td>1</td>\n",
       "      <td>1</td>\n",
       "      <td>0</td>\n",
       "      <td>0</td>\n",
       "      <td>2</td>\n",
       "      <td>0</td>\n",
       "      <td>2</td>\n",
       "      <td>0</td>\n",
       "      <td>2</td>\n",
       "      <td>0</td>\n",
       "      <td>0.00</td>\n",
       "      <td>10</td>\n",
       "    </tr>\n",
       "    <tr>\n",
       "      <th>46554</th>\n",
       "      <td>0.00</td>\n",
       "      <td>1</td>\n",
       "      <td>0.00</td>\n",
       "      <td>8001.00</td>\n",
       "      <td>7.00</td>\n",
       "      <td>0.00</td>\n",
       "      <td>66.20</td>\n",
       "      <td>1.60</td>\n",
       "      <td>0</td>\n",
       "      <td>1</td>\n",
       "      <td>0</td>\n",
       "      <td>0</td>\n",
       "      <td>0</td>\n",
       "      <td>0</td>\n",
       "      <td>0</td>\n",
       "      <td>0</td>\n",
       "      <td>0</td>\n",
       "      <td>0</td>\n",
       "      <td>0.00</td>\n",
       "      <td>2</td>\n",
       "    </tr>\n",
       "    <tr>\n",
       "      <th>171737</th>\n",
       "      <td>0.00</td>\n",
       "      <td>1</td>\n",
       "      <td>0.00</td>\n",
       "      <td>8001.00</td>\n",
       "      <td>3.00</td>\n",
       "      <td>0.00</td>\n",
       "      <td>79.00</td>\n",
       "      <td>1.52</td>\n",
       "      <td>1</td>\n",
       "      <td>1</td>\n",
       "      <td>0</td>\n",
       "      <td>0</td>\n",
       "      <td>2</td>\n",
       "      <td>0</td>\n",
       "      <td>2</td>\n",
       "      <td>0</td>\n",
       "      <td>0</td>\n",
       "      <td>0</td>\n",
       "      <td>0.00</td>\n",
       "      <td>7</td>\n",
       "    </tr>\n",
       "    <tr>\n",
       "      <th>26433</th>\n",
       "      <td>0.00</td>\n",
       "      <td>1</td>\n",
       "      <td>0.00</td>\n",
       "      <td>54001.00</td>\n",
       "      <td>7.00</td>\n",
       "      <td>0.00</td>\n",
       "      <td>61.50</td>\n",
       "      <td>1.56</td>\n",
       "      <td>0</td>\n",
       "      <td>1</td>\n",
       "      <td>0</td>\n",
       "      <td>0</td>\n",
       "      <td>0</td>\n",
       "      <td>0</td>\n",
       "      <td>0</td>\n",
       "      <td>0</td>\n",
       "      <td>0</td>\n",
       "      <td>2</td>\n",
       "      <td>0.00</td>\n",
       "      <td>4</td>\n",
       "    </tr>\n",
       "    <tr>\n",
       "      <th>51205</th>\n",
       "      <td>0.00</td>\n",
       "      <td>1</td>\n",
       "      <td>0.00</td>\n",
       "      <td>5001.00</td>\n",
       "      <td>0.00</td>\n",
       "      <td>0.00</td>\n",
       "      <td>67.00</td>\n",
       "      <td>1.53</td>\n",
       "      <td>0</td>\n",
       "      <td>1</td>\n",
       "      <td>1</td>\n",
       "      <td>2</td>\n",
       "      <td>0</td>\n",
       "      <td>0</td>\n",
       "      <td>0</td>\n",
       "      <td>0</td>\n",
       "      <td>0</td>\n",
       "      <td>0</td>\n",
       "      <td>0.00</td>\n",
       "      <td>5</td>\n",
       "    </tr>\n",
       "  </tbody>\n",
       "</table>\n",
       "<p>106633 rows × 20 columns</p>\n",
       "</div>"
      ],
      "text/plain": [
       "        tipo_identificacion_paciente  edad  genero  codigo_ciudad_sucursal  \\\n",
       "3                               0.00     2    0.00                 8001.00   \n",
       "11                              0.00     0    0.00                50001.00   \n",
       "21                              0.00     0    0.00                11001.00   \n",
       "26                              0.00     0    0.00                20001.00   \n",
       "31                              0.00     0    0.00                20001.00   \n",
       "...                              ...   ...     ...                     ...   \n",
       "136829                          0.00     2    0.00                 8001.00   \n",
       "46554                           0.00     1    0.00                 8001.00   \n",
       "171737                          0.00     1    0.00                 8001.00   \n",
       "26433                           0.00     1    0.00                54001.00   \n",
       "51205                           0.00     1    0.00                 5001.00   \n",
       "\n",
       "        nivel_academico_paciente  raza_paciente   peso  talla  imc  HDL  LDL  \\\n",
       "3                           3.00           0.00  57.60   1.50    0    2    1   \n",
       "11                          0.00           0.00 101.00   1.68    2    1    0   \n",
       "21                          3.00           0.00  51.00   1.64    0    0    0   \n",
       "26                          4.00           0.00  61.20   1.50    0    1    0   \n",
       "31                          4.00           0.00  61.20   1.50    0    1    0   \n",
       "...                          ...            ...    ...    ...  ...  ...  ...   \n",
       "136829                      7.00           0.00  80.50   1.52    1    1    0   \n",
       "46554                       7.00           0.00  66.20   1.60    0    1    0   \n",
       "171737                      3.00           0.00  79.00   1.52    1    1    0   \n",
       "26433                       7.00           0.00  61.50   1.56    0    1    0   \n",
       "51205                       0.00           0.00  67.00   1.53    0    1    1   \n",
       "\n",
       "        trigliceridos  med_hipertension  familiar_dm  ant_cardiovascular  \\\n",
       "3                   2                 0            0                   0   \n",
       "11                  2                 0            0                   0   \n",
       "21                  0                 0            0                   0   \n",
       "26                  0                 0            0                   0   \n",
       "31                  0                 0            0                   0   \n",
       "...               ...               ...          ...                 ...   \n",
       "136829              0                 2            0                   2   \n",
       "46554               0                 0            0                   0   \n",
       "171737              0                 2            0                   2   \n",
       "26433               0                 0            0                   0   \n",
       "51205               2                 0            0                   0   \n",
       "\n",
       "        dm_gestacional  PERIMETRO_ABDOMINAL  hace_ejercicio  diabetes  \\\n",
       "3                    0                    2               0      1.00   \n",
       "11                   2                    2               2      1.00   \n",
       "21                   2                    0               0      1.00   \n",
       "26                   0                    0               2      1.00   \n",
       "31                   0                    0               0      1.00   \n",
       "...                ...                  ...             ...       ...   \n",
       "136829               0                    2               0      0.00   \n",
       "46554                0                    0               0      0.00   \n",
       "171737               0                    0               0      0.00   \n",
       "26433                0                    0               2      0.00   \n",
       "51205                0                    0               0      0.00   \n",
       "\n",
       "        diabetes_peso  \n",
       "3                   9  \n",
       "11                 11  \n",
       "21                  2  \n",
       "26                  3  \n",
       "31                  1  \n",
       "...               ...  \n",
       "136829             10  \n",
       "46554               2  \n",
       "171737              7  \n",
       "26433               4  \n",
       "51205               5  \n",
       "\n",
       "[106633 rows x 20 columns]"
      ]
     },
     "metadata": {},
     "output_type": "display_data"
    },
    {
     "data": {
      "text/plain": [
       "0.1454277957786787"
      ]
     },
     "execution_count": 540,
     "metadata": {},
     "output_type": "execute_result"
    }
   ],
   "source": [
    "genero = 0\n",
    "data_prueba = df[df.genero == genero].copy()\n",
    "\n",
    "for key in dict_variables:\n",
    "    if key == 'PERIMETRO_ABDOMINAL':\n",
    "        data_prueba[key] = data_prueba[key].map(lambda x: dict_variables[key](x, genero))\n",
    "    else:\n",
    "        data_prueba[key] = data_prueba[key].map(lambda x: dict_variables[key](x))\n",
    "\n",
    "data_prueba = data_prueba.dropna()\n",
    "data_prueba['diabetes_peso'] = data_prueba[list(dict_variables.keys())].sum(axis = 1)\n",
    "display(data_prueba)\n",
    "\n",
    "data_prueba\n",
    "\n",
    "variables_to_train = ['edad',\n",
    "                      'genero',\n",
    "                      'codigo_ciudad_sucursal',\n",
    "                      'imc',\n",
    "                      'HDL',\n",
    "                      'LDL',\n",
    "                      'trigliceridos',\n",
    "                      'med_hipertension',\n",
    "                      'familiar_dm',\n",
    "                      'ant_cardiovascular',\n",
    "                      'dm_gestacional',\n",
    "                      'PERIMETRO_ABDOMINAL',\n",
    "                      'hace_ejercicio',\n",
    "                      'nivel_academico_paciente',\n",
    "                      'raza_paciente',\n",
    "                      'diabetes']\n",
    "\n",
    "# df_to_train = df_final[variables_to_train].copy()\n",
    "df_to_train = data_prueba[variables_to_train].copy()\n",
    "df_to_train\n",
    "\n",
    "X = df_to_train[variables_to_train[:-1]]\n",
    "y = df_to_train[variables_to_train[-1]]\n",
    "y\n",
    "\n",
    "X_train, X_test, y_train, y_test = train_test_split(\n",
    "    X, y, test_size=0.33, random_state=42)\n",
    "\n",
    "lineal_model = LinearRegression()\n",
    "\n",
    "lineal_model.fit(X_train,y_train)\n",
    "\n",
    "lineal_model.score(X_test,y_test)"
   ]
  },
  {
   "cell_type": "code",
   "execution_count": 541,
   "metadata": {},
   "outputs": [
    {
     "data": {
      "text/plain": [
       "20"
      ]
     },
     "execution_count": 541,
     "metadata": {},
     "output_type": "execute_result"
    }
   ],
   "source": [
    "data_prueba.diabetes_peso.max()"
   ]
  },
  {
   "cell_type": "code",
   "execution_count": 542,
   "metadata": {},
   "outputs": [
    {
     "name": "stdout",
     "output_type": "stream",
     "text": [
      "--------------------------------------------------------\n"
     ]
    },
    {
     "data": {
      "text/html": [
       "<div>\n",
       "<style scoped>\n",
       "    .dataframe tbody tr th:only-of-type {\n",
       "        vertical-align: middle;\n",
       "    }\n",
       "\n",
       "    .dataframe tbody tr th {\n",
       "        vertical-align: top;\n",
       "    }\n",
       "\n",
       "    .dataframe thead th {\n",
       "        text-align: right;\n",
       "    }\n",
       "</style>\n",
       "<table border=\"1\" class=\"dataframe\">\n",
       "  <thead>\n",
       "    <tr style=\"text-align: right;\">\n",
       "      <th></th>\n",
       "      <th>edad</th>\n",
       "      <th>genero</th>\n",
       "      <th>codigo_ciudad_sucursal</th>\n",
       "      <th>imc</th>\n",
       "      <th>HDL</th>\n",
       "      <th>LDL</th>\n",
       "      <th>trigliceridos</th>\n",
       "      <th>med_hipertension</th>\n",
       "      <th>familiar_dm</th>\n",
       "      <th>ant_cardiovascular</th>\n",
       "      <th>dm_gestacional</th>\n",
       "      <th>PERIMETRO_ABDOMINAL</th>\n",
       "      <th>hace_ejercicio</th>\n",
       "      <th>nivel_academico_paciente</th>\n",
       "      <th>raza_paciente</th>\n",
       "    </tr>\n",
       "  </thead>\n",
       "  <tbody>\n",
       "    <tr>\n",
       "      <th>23930</th>\n",
       "      <td>1</td>\n",
       "      <td>0.00</td>\n",
       "      <td>5615.00</td>\n",
       "      <td>0</td>\n",
       "      <td>2</td>\n",
       "      <td>0</td>\n",
       "      <td>0</td>\n",
       "      <td>0</td>\n",
       "      <td>0</td>\n",
       "      <td>0</td>\n",
       "      <td>0</td>\n",
       "      <td>0</td>\n",
       "      <td>0</td>\n",
       "      <td>7.00</td>\n",
       "      <td>0.00</td>\n",
       "    </tr>\n",
       "  </tbody>\n",
       "</table>\n",
       "</div>"
      ],
      "text/plain": [
       "       edad  genero  codigo_ciudad_sucursal  imc  HDL  LDL  trigliceridos  \\\n",
       "23930     1    0.00                 5615.00    0    2    0              0   \n",
       "\n",
       "       med_hipertension  familiar_dm  ant_cardiovascular  dm_gestacional  \\\n",
       "23930                 0            0                   0               0   \n",
       "\n",
       "       PERIMETRO_ABDOMINAL  hace_ejercicio  nivel_academico_paciente  \\\n",
       "23930                    0               0                      7.00   \n",
       "\n",
       "       raza_paciente  \n",
       "23930           0.00  "
      ]
     },
     "metadata": {},
     "output_type": "display_data"
    },
    {
     "data": {
      "text/html": [
       "<div>\n",
       "<style scoped>\n",
       "    .dataframe tbody tr th:only-of-type {\n",
       "        vertical-align: middle;\n",
       "    }\n",
       "\n",
       "    .dataframe tbody tr th {\n",
       "        vertical-align: top;\n",
       "    }\n",
       "\n",
       "    .dataframe thead th {\n",
       "        text-align: right;\n",
       "    }\n",
       "</style>\n",
       "<table border=\"1\" class=\"dataframe\">\n",
       "  <thead>\n",
       "    <tr style=\"text-align: right;\">\n",
       "      <th></th>\n",
       "      <th>tipo_identificacion_paciente</th>\n",
       "      <th>edad</th>\n",
       "      <th>genero</th>\n",
       "      <th>codigo_ciudad_sucursal</th>\n",
       "      <th>nivel_academico_paciente</th>\n",
       "      <th>raza_paciente</th>\n",
       "      <th>peso</th>\n",
       "      <th>talla</th>\n",
       "      <th>imc</th>\n",
       "      <th>HDL</th>\n",
       "      <th>LDL</th>\n",
       "      <th>trigliceridos</th>\n",
       "      <th>med_hipertension</th>\n",
       "      <th>familiar_dm</th>\n",
       "      <th>ant_cardiovascular</th>\n",
       "      <th>dm_gestacional</th>\n",
       "      <th>PERIMETRO_ABDOMINAL</th>\n",
       "      <th>hace_ejercicio</th>\n",
       "      <th>diabetes</th>\n",
       "      <th>diabetes_peso</th>\n",
       "    </tr>\n",
       "  </thead>\n",
       "  <tbody>\n",
       "    <tr>\n",
       "      <th>23930</th>\n",
       "      <td>0.00</td>\n",
       "      <td>1</td>\n",
       "      <td>0.00</td>\n",
       "      <td>5615.00</td>\n",
       "      <td>7.00</td>\n",
       "      <td>0.00</td>\n",
       "      <td>68.30</td>\n",
       "      <td>1.60</td>\n",
       "      <td>0</td>\n",
       "      <td>2</td>\n",
       "      <td>0</td>\n",
       "      <td>0</td>\n",
       "      <td>0</td>\n",
       "      <td>0</td>\n",
       "      <td>0</td>\n",
       "      <td>0</td>\n",
       "      <td>0</td>\n",
       "      <td>0</td>\n",
       "      <td>0.00</td>\n",
       "      <td>3</td>\n",
       "    </tr>\n",
       "  </tbody>\n",
       "</table>\n",
       "</div>"
      ],
      "text/plain": [
       "       tipo_identificacion_paciente  edad  genero  codigo_ciudad_sucursal  \\\n",
       "23930                          0.00     1    0.00                 5615.00   \n",
       "\n",
       "       nivel_academico_paciente  raza_paciente  peso  talla  imc  HDL  LDL  \\\n",
       "23930                      7.00           0.00 68.30   1.60    0    2    0   \n",
       "\n",
       "       trigliceridos  med_hipertension  familiar_dm  ant_cardiovascular  \\\n",
       "23930              0                 0            0                   0   \n",
       "\n",
       "       dm_gestacional  PERIMETRO_ABDOMINAL  hace_ejercicio  diabetes  \\\n",
       "23930               0                    0               0      0.00   \n",
       "\n",
       "       diabetes_peso  \n",
       "23930              3  "
      ]
     },
     "metadata": {},
     "output_type": "display_data"
    },
    {
     "name": "stdout",
     "output_type": "stream",
     "text": [
      "[0.01393643]\n",
      "--------------------------------------------------------\n"
     ]
    },
    {
     "data": {
      "text/html": [
       "<div>\n",
       "<style scoped>\n",
       "    .dataframe tbody tr th:only-of-type {\n",
       "        vertical-align: middle;\n",
       "    }\n",
       "\n",
       "    .dataframe tbody tr th {\n",
       "        vertical-align: top;\n",
       "    }\n",
       "\n",
       "    .dataframe thead th {\n",
       "        text-align: right;\n",
       "    }\n",
       "</style>\n",
       "<table border=\"1\" class=\"dataframe\">\n",
       "  <thead>\n",
       "    <tr style=\"text-align: right;\">\n",
       "      <th></th>\n",
       "      <th>edad</th>\n",
       "      <th>genero</th>\n",
       "      <th>codigo_ciudad_sucursal</th>\n",
       "      <th>imc</th>\n",
       "      <th>HDL</th>\n",
       "      <th>LDL</th>\n",
       "      <th>trigliceridos</th>\n",
       "      <th>med_hipertension</th>\n",
       "      <th>familiar_dm</th>\n",
       "      <th>ant_cardiovascular</th>\n",
       "      <th>dm_gestacional</th>\n",
       "      <th>PERIMETRO_ABDOMINAL</th>\n",
       "      <th>hace_ejercicio</th>\n",
       "      <th>nivel_academico_paciente</th>\n",
       "      <th>raza_paciente</th>\n",
       "    </tr>\n",
       "  </thead>\n",
       "  <tbody>\n",
       "    <tr>\n",
       "      <th>127281</th>\n",
       "      <td>3</td>\n",
       "      <td>0.00</td>\n",
       "      <td>54001.00</td>\n",
       "      <td>1</td>\n",
       "      <td>1</td>\n",
       "      <td>0</td>\n",
       "      <td>0</td>\n",
       "      <td>2</td>\n",
       "      <td>0</td>\n",
       "      <td>2</td>\n",
       "      <td>0</td>\n",
       "      <td>1</td>\n",
       "      <td>0</td>\n",
       "      <td>0.00</td>\n",
       "      <td>0.00</td>\n",
       "    </tr>\n",
       "  </tbody>\n",
       "</table>\n",
       "</div>"
      ],
      "text/plain": [
       "        edad  genero  codigo_ciudad_sucursal  imc  HDL  LDL  trigliceridos  \\\n",
       "127281     3    0.00                54001.00    1    1    0              0   \n",
       "\n",
       "        med_hipertension  familiar_dm  ant_cardiovascular  dm_gestacional  \\\n",
       "127281                 2            0                   2               0   \n",
       "\n",
       "        PERIMETRO_ABDOMINAL  hace_ejercicio  nivel_academico_paciente  \\\n",
       "127281                    1               0                      0.00   \n",
       "\n",
       "        raza_paciente  \n",
       "127281           0.00  "
      ]
     },
     "metadata": {},
     "output_type": "display_data"
    },
    {
     "data": {
      "text/html": [
       "<div>\n",
       "<style scoped>\n",
       "    .dataframe tbody tr th:only-of-type {\n",
       "        vertical-align: middle;\n",
       "    }\n",
       "\n",
       "    .dataframe tbody tr th {\n",
       "        vertical-align: top;\n",
       "    }\n",
       "\n",
       "    .dataframe thead th {\n",
       "        text-align: right;\n",
       "    }\n",
       "</style>\n",
       "<table border=\"1\" class=\"dataframe\">\n",
       "  <thead>\n",
       "    <tr style=\"text-align: right;\">\n",
       "      <th></th>\n",
       "      <th>tipo_identificacion_paciente</th>\n",
       "      <th>edad</th>\n",
       "      <th>genero</th>\n",
       "      <th>codigo_ciudad_sucursal</th>\n",
       "      <th>nivel_academico_paciente</th>\n",
       "      <th>raza_paciente</th>\n",
       "      <th>peso</th>\n",
       "      <th>talla</th>\n",
       "      <th>imc</th>\n",
       "      <th>HDL</th>\n",
       "      <th>LDL</th>\n",
       "      <th>trigliceridos</th>\n",
       "      <th>med_hipertension</th>\n",
       "      <th>familiar_dm</th>\n",
       "      <th>ant_cardiovascular</th>\n",
       "      <th>dm_gestacional</th>\n",
       "      <th>PERIMETRO_ABDOMINAL</th>\n",
       "      <th>hace_ejercicio</th>\n",
       "      <th>diabetes</th>\n",
       "      <th>diabetes_peso</th>\n",
       "    </tr>\n",
       "  </thead>\n",
       "  <tbody>\n",
       "    <tr>\n",
       "      <th>127281</th>\n",
       "      <td>0.00</td>\n",
       "      <td>3</td>\n",
       "      <td>0.00</td>\n",
       "      <td>54001.00</td>\n",
       "      <td>0.00</td>\n",
       "      <td>0.00</td>\n",
       "      <td>74.00</td>\n",
       "      <td>1.50</td>\n",
       "      <td>1</td>\n",
       "      <td>1</td>\n",
       "      <td>0</td>\n",
       "      <td>0</td>\n",
       "      <td>2</td>\n",
       "      <td>0</td>\n",
       "      <td>2</td>\n",
       "      <td>0</td>\n",
       "      <td>1</td>\n",
       "      <td>0</td>\n",
       "      <td>1.00</td>\n",
       "      <td>10</td>\n",
       "    </tr>\n",
       "  </tbody>\n",
       "</table>\n",
       "</div>"
      ],
      "text/plain": [
       "        tipo_identificacion_paciente  edad  genero  codigo_ciudad_sucursal  \\\n",
       "127281                          0.00     3    0.00                54001.00   \n",
       "\n",
       "        nivel_academico_paciente  raza_paciente  peso  talla  imc  HDL  LDL  \\\n",
       "127281                      0.00           0.00 74.00   1.50    1    1    0   \n",
       "\n",
       "        trigliceridos  med_hipertension  familiar_dm  ant_cardiovascular  \\\n",
       "127281              0                 2            0                   2   \n",
       "\n",
       "        dm_gestacional  PERIMETRO_ABDOMINAL  hace_ejercicio  diabetes  \\\n",
       "127281               0                    1               0      1.00   \n",
       "\n",
       "        diabetes_peso  \n",
       "127281             10  "
      ]
     },
     "metadata": {},
     "output_type": "display_data"
    },
    {
     "name": "stdout",
     "output_type": "stream",
     "text": [
      "[0.03181797]\n",
      "--------------------------------------------------------\n"
     ]
    },
    {
     "data": {
      "text/html": [
       "<div>\n",
       "<style scoped>\n",
       "    .dataframe tbody tr th:only-of-type {\n",
       "        vertical-align: middle;\n",
       "    }\n",
       "\n",
       "    .dataframe tbody tr th {\n",
       "        vertical-align: top;\n",
       "    }\n",
       "\n",
       "    .dataframe thead th {\n",
       "        text-align: right;\n",
       "    }\n",
       "</style>\n",
       "<table border=\"1\" class=\"dataframe\">\n",
       "  <thead>\n",
       "    <tr style=\"text-align: right;\">\n",
       "      <th></th>\n",
       "      <th>edad</th>\n",
       "      <th>genero</th>\n",
       "      <th>codigo_ciudad_sucursal</th>\n",
       "      <th>imc</th>\n",
       "      <th>HDL</th>\n",
       "      <th>LDL</th>\n",
       "      <th>trigliceridos</th>\n",
       "      <th>med_hipertension</th>\n",
       "      <th>familiar_dm</th>\n",
       "      <th>ant_cardiovascular</th>\n",
       "      <th>dm_gestacional</th>\n",
       "      <th>PERIMETRO_ABDOMINAL</th>\n",
       "      <th>hace_ejercicio</th>\n",
       "      <th>nivel_academico_paciente</th>\n",
       "      <th>raza_paciente</th>\n",
       "    </tr>\n",
       "  </thead>\n",
       "  <tbody>\n",
       "    <tr>\n",
       "      <th>90390</th>\n",
       "      <td>3</td>\n",
       "      <td>0.00</td>\n",
       "      <td>8001.00</td>\n",
       "      <td>3</td>\n",
       "      <td>1</td>\n",
       "      <td>0</td>\n",
       "      <td>0</td>\n",
       "      <td>2</td>\n",
       "      <td>0</td>\n",
       "      <td>2</td>\n",
       "      <td>0</td>\n",
       "      <td>2</td>\n",
       "      <td>2</td>\n",
       "      <td>0.00</td>\n",
       "      <td>0.00</td>\n",
       "    </tr>\n",
       "  </tbody>\n",
       "</table>\n",
       "</div>"
      ],
      "text/plain": [
       "       edad  genero  codigo_ciudad_sucursal  imc  HDL  LDL  trigliceridos  \\\n",
       "90390     3    0.00                 8001.00    3    1    0              0   \n",
       "\n",
       "       med_hipertension  familiar_dm  ant_cardiovascular  dm_gestacional  \\\n",
       "90390                 2            0                   2               0   \n",
       "\n",
       "       PERIMETRO_ABDOMINAL  hace_ejercicio  nivel_academico_paciente  \\\n",
       "90390                    2               2                      0.00   \n",
       "\n",
       "       raza_paciente  \n",
       "90390           0.00  "
      ]
     },
     "metadata": {},
     "output_type": "display_data"
    },
    {
     "data": {
      "text/html": [
       "<div>\n",
       "<style scoped>\n",
       "    .dataframe tbody tr th:only-of-type {\n",
       "        vertical-align: middle;\n",
       "    }\n",
       "\n",
       "    .dataframe tbody tr th {\n",
       "        vertical-align: top;\n",
       "    }\n",
       "\n",
       "    .dataframe thead th {\n",
       "        text-align: right;\n",
       "    }\n",
       "</style>\n",
       "<table border=\"1\" class=\"dataframe\">\n",
       "  <thead>\n",
       "    <tr style=\"text-align: right;\">\n",
       "      <th></th>\n",
       "      <th>tipo_identificacion_paciente</th>\n",
       "      <th>edad</th>\n",
       "      <th>genero</th>\n",
       "      <th>codigo_ciudad_sucursal</th>\n",
       "      <th>nivel_academico_paciente</th>\n",
       "      <th>raza_paciente</th>\n",
       "      <th>peso</th>\n",
       "      <th>talla</th>\n",
       "      <th>imc</th>\n",
       "      <th>HDL</th>\n",
       "      <th>LDL</th>\n",
       "      <th>trigliceridos</th>\n",
       "      <th>med_hipertension</th>\n",
       "      <th>familiar_dm</th>\n",
       "      <th>ant_cardiovascular</th>\n",
       "      <th>dm_gestacional</th>\n",
       "      <th>PERIMETRO_ABDOMINAL</th>\n",
       "      <th>hace_ejercicio</th>\n",
       "      <th>diabetes</th>\n",
       "      <th>diabetes_peso</th>\n",
       "    </tr>\n",
       "  </thead>\n",
       "  <tbody>\n",
       "    <tr>\n",
       "      <th>90390</th>\n",
       "      <td>0.00</td>\n",
       "      <td>3</td>\n",
       "      <td>0.00</td>\n",
       "      <td>8001.00</td>\n",
       "      <td>0.00</td>\n",
       "      <td>0.00</td>\n",
       "      <td>113.20</td>\n",
       "      <td>1.65</td>\n",
       "      <td>3</td>\n",
       "      <td>1</td>\n",
       "      <td>0</td>\n",
       "      <td>0</td>\n",
       "      <td>2</td>\n",
       "      <td>0</td>\n",
       "      <td>2</td>\n",
       "      <td>0</td>\n",
       "      <td>2</td>\n",
       "      <td>2</td>\n",
       "      <td>0.00</td>\n",
       "      <td>15</td>\n",
       "    </tr>\n",
       "  </tbody>\n",
       "</table>\n",
       "</div>"
      ],
      "text/plain": [
       "       tipo_identificacion_paciente  edad  genero  codigo_ciudad_sucursal  \\\n",
       "90390                          0.00     3    0.00                 8001.00   \n",
       "\n",
       "       nivel_academico_paciente  raza_paciente   peso  talla  imc  HDL  LDL  \\\n",
       "90390                      0.00           0.00 113.20   1.65    3    1    0   \n",
       "\n",
       "       trigliceridos  med_hipertension  familiar_dm  ant_cardiovascular  \\\n",
       "90390              0                 2            0                   2   \n",
       "\n",
       "       dm_gestacional  PERIMETRO_ABDOMINAL  hace_ejercicio  diabetes  \\\n",
       "90390               0                    2               2      0.00   \n",
       "\n",
       "       diabetes_peso  \n",
       "90390             15  "
      ]
     },
     "metadata": {},
     "output_type": "display_data"
    },
    {
     "name": "stdout",
     "output_type": "stream",
     "text": [
      "[0.03469119]\n",
      "--------------------------------------------------------\n"
     ]
    },
    {
     "data": {
      "text/html": [
       "<div>\n",
       "<style scoped>\n",
       "    .dataframe tbody tr th:only-of-type {\n",
       "        vertical-align: middle;\n",
       "    }\n",
       "\n",
       "    .dataframe tbody tr th {\n",
       "        vertical-align: top;\n",
       "    }\n",
       "\n",
       "    .dataframe thead th {\n",
       "        text-align: right;\n",
       "    }\n",
       "</style>\n",
       "<table border=\"1\" class=\"dataframe\">\n",
       "  <thead>\n",
       "    <tr style=\"text-align: right;\">\n",
       "      <th></th>\n",
       "      <th>edad</th>\n",
       "      <th>genero</th>\n",
       "      <th>codigo_ciudad_sucursal</th>\n",
       "      <th>imc</th>\n",
       "      <th>HDL</th>\n",
       "      <th>LDL</th>\n",
       "      <th>trigliceridos</th>\n",
       "      <th>med_hipertension</th>\n",
       "      <th>familiar_dm</th>\n",
       "      <th>ant_cardiovascular</th>\n",
       "      <th>dm_gestacional</th>\n",
       "      <th>PERIMETRO_ABDOMINAL</th>\n",
       "      <th>hace_ejercicio</th>\n",
       "      <th>nivel_academico_paciente</th>\n",
       "      <th>raza_paciente</th>\n",
       "    </tr>\n",
       "  </thead>\n",
       "  <tbody>\n",
       "    <tr>\n",
       "      <th>56937</th>\n",
       "      <td>0</td>\n",
       "      <td>0.00</td>\n",
       "      <td>8001.00</td>\n",
       "      <td>3</td>\n",
       "      <td>2</td>\n",
       "      <td>0</td>\n",
       "      <td>0</td>\n",
       "      <td>0</td>\n",
       "      <td>0</td>\n",
       "      <td>0</td>\n",
       "      <td>0</td>\n",
       "      <td>2</td>\n",
       "      <td>2</td>\n",
       "      <td>0.00</td>\n",
       "      <td>0.00</td>\n",
       "    </tr>\n",
       "  </tbody>\n",
       "</table>\n",
       "</div>"
      ],
      "text/plain": [
       "       edad  genero  codigo_ciudad_sucursal  imc  HDL  LDL  trigliceridos  \\\n",
       "56937     0    0.00                 8001.00    3    2    0              0   \n",
       "\n",
       "       med_hipertension  familiar_dm  ant_cardiovascular  dm_gestacional  \\\n",
       "56937                 0            0                   0               0   \n",
       "\n",
       "       PERIMETRO_ABDOMINAL  hace_ejercicio  nivel_academico_paciente  \\\n",
       "56937                    2               2                      0.00   \n",
       "\n",
       "       raza_paciente  \n",
       "56937           0.00  "
      ]
     },
     "metadata": {},
     "output_type": "display_data"
    },
    {
     "data": {
      "text/html": [
       "<div>\n",
       "<style scoped>\n",
       "    .dataframe tbody tr th:only-of-type {\n",
       "        vertical-align: middle;\n",
       "    }\n",
       "\n",
       "    .dataframe tbody tr th {\n",
       "        vertical-align: top;\n",
       "    }\n",
       "\n",
       "    .dataframe thead th {\n",
       "        text-align: right;\n",
       "    }\n",
       "</style>\n",
       "<table border=\"1\" class=\"dataframe\">\n",
       "  <thead>\n",
       "    <tr style=\"text-align: right;\">\n",
       "      <th></th>\n",
       "      <th>tipo_identificacion_paciente</th>\n",
       "      <th>edad</th>\n",
       "      <th>genero</th>\n",
       "      <th>codigo_ciudad_sucursal</th>\n",
       "      <th>nivel_academico_paciente</th>\n",
       "      <th>raza_paciente</th>\n",
       "      <th>peso</th>\n",
       "      <th>talla</th>\n",
       "      <th>imc</th>\n",
       "      <th>HDL</th>\n",
       "      <th>LDL</th>\n",
       "      <th>trigliceridos</th>\n",
       "      <th>med_hipertension</th>\n",
       "      <th>familiar_dm</th>\n",
       "      <th>ant_cardiovascular</th>\n",
       "      <th>dm_gestacional</th>\n",
       "      <th>PERIMETRO_ABDOMINAL</th>\n",
       "      <th>hace_ejercicio</th>\n",
       "      <th>diabetes</th>\n",
       "      <th>diabetes_peso</th>\n",
       "    </tr>\n",
       "  </thead>\n",
       "  <tbody>\n",
       "    <tr>\n",
       "      <th>56937</th>\n",
       "      <td>0.00</td>\n",
       "      <td>0</td>\n",
       "      <td>0.00</td>\n",
       "      <td>8001.00</td>\n",
       "      <td>0.00</td>\n",
       "      <td>0.00</td>\n",
       "      <td>113.50</td>\n",
       "      <td>1.67</td>\n",
       "      <td>3</td>\n",
       "      <td>2</td>\n",
       "      <td>0</td>\n",
       "      <td>0</td>\n",
       "      <td>0</td>\n",
       "      <td>0</td>\n",
       "      <td>0</td>\n",
       "      <td>0</td>\n",
       "      <td>2</td>\n",
       "      <td>2</td>\n",
       "      <td>0.00</td>\n",
       "      <td>9</td>\n",
       "    </tr>\n",
       "  </tbody>\n",
       "</table>\n",
       "</div>"
      ],
      "text/plain": [
       "       tipo_identificacion_paciente  edad  genero  codigo_ciudad_sucursal  \\\n",
       "56937                          0.00     0    0.00                 8001.00   \n",
       "\n",
       "       nivel_academico_paciente  raza_paciente   peso  talla  imc  HDL  LDL  \\\n",
       "56937                      0.00           0.00 113.50   1.67    3    2    0   \n",
       "\n",
       "       trigliceridos  med_hipertension  familiar_dm  ant_cardiovascular  \\\n",
       "56937              0                 0            0                   0   \n",
       "\n",
       "       dm_gestacional  PERIMETRO_ABDOMINAL  hace_ejercicio  diabetes  \\\n",
       "56937               0                    2               2      0.00   \n",
       "\n",
       "       diabetes_peso  \n",
       "56937              9  "
      ]
     },
     "metadata": {},
     "output_type": "display_data"
    },
    {
     "name": "stdout",
     "output_type": "stream",
     "text": [
      "[0.01765099]\n"
     ]
    }
   ],
   "source": [
    "for i in range(4):\n",
    "    print('--------------------------------------------------------')\n",
    "    valor = random.randint(0,len(X_test))\n",
    "\n",
    "    index = X_test.iloc[[valor]].index\n",
    "\n",
    "    display(X_test.iloc[[valor]])\n",
    "\n",
    "    display(data_prueba.loc[index])\n",
    "\n",
    "    print(lineal_model.predict(X_test.iloc[[valor]])/data_prueba.diabetes_peso.max())"
   ]
  },
  {
   "cell_type": "code",
   "execution_count": 527,
   "metadata": {},
   "outputs": [
    {
     "data": {
      "text/html": [
       "<div>\n",
       "<style scoped>\n",
       "    .dataframe tbody tr th:only-of-type {\n",
       "        vertical-align: middle;\n",
       "    }\n",
       "\n",
       "    .dataframe tbody tr th {\n",
       "        vertical-align: top;\n",
       "    }\n",
       "\n",
       "    .dataframe thead th {\n",
       "        text-align: right;\n",
       "    }\n",
       "</style>\n",
       "<table border=\"1\" class=\"dataframe\">\n",
       "  <thead>\n",
       "    <tr style=\"text-align: right;\">\n",
       "      <th></th>\n",
       "      <th>tipo_identificacion_paciente</th>\n",
       "      <th>edad</th>\n",
       "      <th>genero</th>\n",
       "      <th>codigo_ciudad_sucursal</th>\n",
       "      <th>nivel_academico_paciente</th>\n",
       "      <th>raza_paciente</th>\n",
       "      <th>peso</th>\n",
       "      <th>talla</th>\n",
       "      <th>imc</th>\n",
       "      <th>HDL</th>\n",
       "      <th>LDL</th>\n",
       "      <th>trigliceridos</th>\n",
       "      <th>med_hipertension</th>\n",
       "      <th>familiar_dm</th>\n",
       "      <th>ant_cardiovascular</th>\n",
       "      <th>dm_gestacional</th>\n",
       "      <th>PERIMETRO_ABDOMINAL</th>\n",
       "      <th>hace_ejercicio</th>\n",
       "      <th>diabetes</th>\n",
       "      <th>diabetes_peso</th>\n",
       "    </tr>\n",
       "  </thead>\n",
       "  <tbody>\n",
       "    <tr>\n",
       "      <th>6</th>\n",
       "      <td>0.0</td>\n",
       "      <td>1</td>\n",
       "      <td>1.0</td>\n",
       "      <td>41001.0</td>\n",
       "      <td>0.0</td>\n",
       "      <td>0.0</td>\n",
       "      <td>101.0</td>\n",
       "      <td>1.68</td>\n",
       "      <td>2</td>\n",
       "      <td>2</td>\n",
       "      <td>1</td>\n",
       "      <td>2</td>\n",
       "      <td>0</td>\n",
       "      <td>0</td>\n",
       "      <td>0</td>\n",
       "      <td>0</td>\n",
       "      <td>2</td>\n",
       "      <td>2</td>\n",
       "      <td>0.0</td>\n",
       "      <td>12</td>\n",
       "    </tr>\n",
       "    <tr>\n",
       "      <th>7</th>\n",
       "      <td>0.0</td>\n",
       "      <td>0</td>\n",
       "      <td>1.0</td>\n",
       "      <td>19001.0</td>\n",
       "      <td>0.0</td>\n",
       "      <td>1.0</td>\n",
       "      <td>101.0</td>\n",
       "      <td>1.68</td>\n",
       "      <td>2</td>\n",
       "      <td>1</td>\n",
       "      <td>0</td>\n",
       "      <td>0</td>\n",
       "      <td>0</td>\n",
       "      <td>0</td>\n",
       "      <td>0</td>\n",
       "      <td>0</td>\n",
       "      <td>2</td>\n",
       "      <td>2</td>\n",
       "      <td>0.0</td>\n",
       "      <td>7</td>\n",
       "    </tr>\n",
       "    <tr>\n",
       "      <th>24</th>\n",
       "      <td>1.0</td>\n",
       "      <td>0</td>\n",
       "      <td>1.0</td>\n",
       "      <td>20001.0</td>\n",
       "      <td>1.0</td>\n",
       "      <td>0.0</td>\n",
       "      <td>51.0</td>\n",
       "      <td>1.64</td>\n",
       "      <td>0</td>\n",
       "      <td>1</td>\n",
       "      <td>0</td>\n",
       "      <td>0</td>\n",
       "      <td>0</td>\n",
       "      <td>0</td>\n",
       "      <td>0</td>\n",
       "      <td>0</td>\n",
       "      <td>0</td>\n",
       "      <td>2</td>\n",
       "      <td>0.0</td>\n",
       "      <td>3</td>\n",
       "    </tr>\n",
       "    <tr>\n",
       "      <th>25</th>\n",
       "      <td>0.0</td>\n",
       "      <td>3</td>\n",
       "      <td>1.0</td>\n",
       "      <td>8758.0</td>\n",
       "      <td>3.0</td>\n",
       "      <td>0.0</td>\n",
       "      <td>83.3</td>\n",
       "      <td>1.75</td>\n",
       "      <td>0</td>\n",
       "      <td>1</td>\n",
       "      <td>0</td>\n",
       "      <td>1</td>\n",
       "      <td>0</td>\n",
       "      <td>0</td>\n",
       "      <td>0</td>\n",
       "      <td>0</td>\n",
       "      <td>1</td>\n",
       "      <td>0</td>\n",
       "      <td>0.0</td>\n",
       "      <td>6</td>\n",
       "    </tr>\n",
       "    <tr>\n",
       "      <th>105</th>\n",
       "      <td>0.0</td>\n",
       "      <td>1</td>\n",
       "      <td>1.0</td>\n",
       "      <td>19001.0</td>\n",
       "      <td>0.0</td>\n",
       "      <td>0.0</td>\n",
       "      <td>88.2</td>\n",
       "      <td>1.75</td>\n",
       "      <td>0</td>\n",
       "      <td>2</td>\n",
       "      <td>0</td>\n",
       "      <td>0</td>\n",
       "      <td>0</td>\n",
       "      <td>0</td>\n",
       "      <td>0</td>\n",
       "      <td>0</td>\n",
       "      <td>2</td>\n",
       "      <td>2</td>\n",
       "      <td>0.0</td>\n",
       "      <td>7</td>\n",
       "    </tr>\n",
       "    <tr>\n",
       "      <th>...</th>\n",
       "      <td>...</td>\n",
       "      <td>...</td>\n",
       "      <td>...</td>\n",
       "      <td>...</td>\n",
       "      <td>...</td>\n",
       "      <td>...</td>\n",
       "      <td>...</td>\n",
       "      <td>...</td>\n",
       "      <td>...</td>\n",
       "      <td>...</td>\n",
       "      <td>...</td>\n",
       "      <td>...</td>\n",
       "      <td>...</td>\n",
       "      <td>...</td>\n",
       "      <td>...</td>\n",
       "      <td>...</td>\n",
       "      <td>...</td>\n",
       "      <td>...</td>\n",
       "      <td>...</td>\n",
       "      <td>...</td>\n",
       "    </tr>\n",
       "    <tr>\n",
       "      <th>292523</th>\n",
       "      <td>0.0</td>\n",
       "      <td>2</td>\n",
       "      <td>1.0</td>\n",
       "      <td>11001.0</td>\n",
       "      <td>2.0</td>\n",
       "      <td>0.0</td>\n",
       "      <td>94.6</td>\n",
       "      <td>1.73</td>\n",
       "      <td>1</td>\n",
       "      <td>1</td>\n",
       "      <td>0</td>\n",
       "      <td>2</td>\n",
       "      <td>2</td>\n",
       "      <td>0</td>\n",
       "      <td>2</td>\n",
       "      <td>0</td>\n",
       "      <td>2</td>\n",
       "      <td>2</td>\n",
       "      <td>0.0</td>\n",
       "      <td>14</td>\n",
       "    </tr>\n",
       "    <tr>\n",
       "      <th>292524</th>\n",
       "      <td>0.0</td>\n",
       "      <td>1</td>\n",
       "      <td>1.0</td>\n",
       "      <td>5001.0</td>\n",
       "      <td>0.0</td>\n",
       "      <td>0.0</td>\n",
       "      <td>94.6</td>\n",
       "      <td>1.73</td>\n",
       "      <td>1</td>\n",
       "      <td>1</td>\n",
       "      <td>2</td>\n",
       "      <td>2</td>\n",
       "      <td>2</td>\n",
       "      <td>0</td>\n",
       "      <td>2</td>\n",
       "      <td>0</td>\n",
       "      <td>2</td>\n",
       "      <td>0</td>\n",
       "      <td>0.0</td>\n",
       "      <td>13</td>\n",
       "    </tr>\n",
       "    <tr>\n",
       "      <th>292525</th>\n",
       "      <td>0.0</td>\n",
       "      <td>3</td>\n",
       "      <td>1.0</td>\n",
       "      <td>25307.0</td>\n",
       "      <td>3.0</td>\n",
       "      <td>0.0</td>\n",
       "      <td>94.6</td>\n",
       "      <td>1.73</td>\n",
       "      <td>1</td>\n",
       "      <td>1</td>\n",
       "      <td>0</td>\n",
       "      <td>0</td>\n",
       "      <td>2</td>\n",
       "      <td>0</td>\n",
       "      <td>2</td>\n",
       "      <td>0</td>\n",
       "      <td>2</td>\n",
       "      <td>2</td>\n",
       "      <td>1.0</td>\n",
       "      <td>13</td>\n",
       "    </tr>\n",
       "    <tr>\n",
       "      <th>292527</th>\n",
       "      <td>0.0</td>\n",
       "      <td>2</td>\n",
       "      <td>1.0</td>\n",
       "      <td>8001.0</td>\n",
       "      <td>5.0</td>\n",
       "      <td>0.0</td>\n",
       "      <td>99.1</td>\n",
       "      <td>1.81</td>\n",
       "      <td>1</td>\n",
       "      <td>1</td>\n",
       "      <td>0</td>\n",
       "      <td>0</td>\n",
       "      <td>2</td>\n",
       "      <td>0</td>\n",
       "      <td>2</td>\n",
       "      <td>0</td>\n",
       "      <td>1</td>\n",
       "      <td>0</td>\n",
       "      <td>0.0</td>\n",
       "      <td>9</td>\n",
       "    </tr>\n",
       "    <tr>\n",
       "      <th>292530</th>\n",
       "      <td>0.0</td>\n",
       "      <td>1</td>\n",
       "      <td>1.0</td>\n",
       "      <td>41001.0</td>\n",
       "      <td>0.0</td>\n",
       "      <td>0.0</td>\n",
       "      <td>94.5</td>\n",
       "      <td>1.81</td>\n",
       "      <td>0</td>\n",
       "      <td>1</td>\n",
       "      <td>0</td>\n",
       "      <td>0</td>\n",
       "      <td>2</td>\n",
       "      <td>0</td>\n",
       "      <td>2</td>\n",
       "      <td>0</td>\n",
       "      <td>2</td>\n",
       "      <td>0</td>\n",
       "      <td>0.0</td>\n",
       "      <td>8</td>\n",
       "    </tr>\n",
       "  </tbody>\n",
       "</table>\n",
       "<p>112045 rows × 20 columns</p>\n",
       "</div>"
      ],
      "text/plain": [
       "        tipo_identificacion_paciente  edad  genero  codigo_ciudad_sucursal  \\\n",
       "6                                0.0     1     1.0                 41001.0   \n",
       "7                                0.0     0     1.0                 19001.0   \n",
       "24                               1.0     0     1.0                 20001.0   \n",
       "25                               0.0     3     1.0                  8758.0   \n",
       "105                              0.0     1     1.0                 19001.0   \n",
       "...                              ...   ...     ...                     ...   \n",
       "292523                           0.0     2     1.0                 11001.0   \n",
       "292524                           0.0     1     1.0                  5001.0   \n",
       "292525                           0.0     3     1.0                 25307.0   \n",
       "292527                           0.0     2     1.0                  8001.0   \n",
       "292530                           0.0     1     1.0                 41001.0   \n",
       "\n",
       "        nivel_academico_paciente  raza_paciente   peso  talla  imc  HDL  LDL  \\\n",
       "6                            0.0            0.0  101.0   1.68    2    2    1   \n",
       "7                            0.0            1.0  101.0   1.68    2    1    0   \n",
       "24                           1.0            0.0   51.0   1.64    0    1    0   \n",
       "25                           3.0            0.0   83.3   1.75    0    1    0   \n",
       "105                          0.0            0.0   88.2   1.75    0    2    0   \n",
       "...                          ...            ...    ...    ...  ...  ...  ...   \n",
       "292523                       2.0            0.0   94.6   1.73    1    1    0   \n",
       "292524                       0.0            0.0   94.6   1.73    1    1    2   \n",
       "292525                       3.0            0.0   94.6   1.73    1    1    0   \n",
       "292527                       5.0            0.0   99.1   1.81    1    1    0   \n",
       "292530                       0.0            0.0   94.5   1.81    0    1    0   \n",
       "\n",
       "        trigliceridos  med_hipertension  familiar_dm  ant_cardiovascular  \\\n",
       "6                   2                 0            0                   0   \n",
       "7                   0                 0            0                   0   \n",
       "24                  0                 0            0                   0   \n",
       "25                  1                 0            0                   0   \n",
       "105                 0                 0            0                   0   \n",
       "...               ...               ...          ...                 ...   \n",
       "292523              2                 2            0                   2   \n",
       "292524              2                 2            0                   2   \n",
       "292525              0                 2            0                   2   \n",
       "292527              0                 2            0                   2   \n",
       "292530              0                 2            0                   2   \n",
       "\n",
       "        dm_gestacional  PERIMETRO_ABDOMINAL  hace_ejercicio  diabetes  \\\n",
       "6                    0                    2               2       0.0   \n",
       "7                    0                    2               2       0.0   \n",
       "24                   0                    0               2       0.0   \n",
       "25                   0                    1               0       0.0   \n",
       "105                  0                    2               2       0.0   \n",
       "...                ...                  ...             ...       ...   \n",
       "292523               0                    2               2       0.0   \n",
       "292524               0                    2               0       0.0   \n",
       "292525               0                    2               2       1.0   \n",
       "292527               0                    1               0       0.0   \n",
       "292530               0                    2               0       0.0   \n",
       "\n",
       "        diabetes_peso  \n",
       "6                  12  \n",
       "7                   7  \n",
       "24                  3  \n",
       "25                  6  \n",
       "105                 7  \n",
       "...               ...  \n",
       "292523             14  \n",
       "292524             13  \n",
       "292525             13  \n",
       "292527              9  \n",
       "292530              8  \n",
       "\n",
       "[112045 rows x 20 columns]"
      ]
     },
     "metadata": {},
     "output_type": "display_data"
    },
    {
     "data": {
      "text/plain": [
       "0.07310034744515681"
      ]
     },
     "execution_count": 527,
     "metadata": {},
     "output_type": "execute_result"
    }
   ],
   "source": [
    "genero = 1\n",
    "data_prueba = data[data.genero == genero].copy()\n",
    "\n",
    "for key in dict_variables:\n",
    "    if key == 'PERIMETRO_ABDOMINAL':\n",
    "        data_prueba[key] = data_prueba[key].map(lambda x: dict_variables[key](x, genero))\n",
    "    else:\n",
    "        data_prueba[key] = data_prueba[key].map(lambda x: dict_variables[key](x))\n",
    "\n",
    "data_prueba = data_prueba.dropna()\n",
    "data_prueba['diabetes_peso'] = data_prueba[list(dict_variables.keys())].sum(axis = 1)\n",
    "display(data_prueba)\n",
    "\n",
    "data_prueba\n",
    "\n",
    "variables_to_train = ['edad',\n",
    "                    #   'genero',\n",
    "                      'codigo_ciudad_sucursal',\n",
    "                      'imc',\n",
    "                      'HDL',\n",
    "                      'LDL',\n",
    "                      'trigliceridos',\n",
    "                      'med_hipertension',\n",
    "                      'familiar_dm',\n",
    "                      'ant_cardiovascular',\n",
    "                      'dm_gestacional',\n",
    "                      'PERIMETRO_ABDOMINAL',\n",
    "                      'hace_ejercicio',\n",
    "                      'nivel_academico_paciente',\n",
    "                      'raza_paciente',\n",
    "                      'diabetes']\n",
    "\n",
    "# df_to_train = df_final[variables_to_train].copy()\n",
    "df_to_train = data_prueba[variables_to_train].copy()\n",
    "df_to_train\n",
    "\n",
    "X = df_to_train[variables_to_train[:-1]]\n",
    "y = df_to_train[variables_to_train[-1]]\n",
    "y\n",
    "\n",
    "X_train, X_test, y_train, y_test = train_test_split(\n",
    "    X, y, test_size=0.33, random_state=42)\n",
    "\n",
    "lineal_model = LinearRegression()\n",
    "\n",
    "lineal_model.fit(X_train,y_train)\n",
    "\n",
    "lineal_model.score(X_test,y_test)"
   ]
  },
  {
   "cell_type": "code",
   "execution_count": 543,
   "metadata": {},
   "outputs": [
    {
     "data": {
      "text/html": [
       "<div>\n",
       "<style scoped>\n",
       "    .dataframe tbody tr th:only-of-type {\n",
       "        vertical-align: middle;\n",
       "    }\n",
       "\n",
       "    .dataframe tbody tr th {\n",
       "        vertical-align: top;\n",
       "    }\n",
       "\n",
       "    .dataframe thead th {\n",
       "        text-align: right;\n",
       "    }\n",
       "</style>\n",
       "<table border=\"1\" class=\"dataframe\">\n",
       "  <thead>\n",
       "    <tr style=\"text-align: right;\">\n",
       "      <th></th>\n",
       "      <th>tipo_identificacion_paciente</th>\n",
       "      <th>edad</th>\n",
       "      <th>genero</th>\n",
       "      <th>codigo_ciudad_sucursal</th>\n",
       "      <th>nivel_academico_paciente</th>\n",
       "      <th>raza_paciente</th>\n",
       "      <th>peso</th>\n",
       "      <th>talla</th>\n",
       "      <th>imc</th>\n",
       "      <th>HDL</th>\n",
       "      <th>LDL</th>\n",
       "      <th>trigliceridos</th>\n",
       "      <th>med_hipertension</th>\n",
       "      <th>familiar_dm</th>\n",
       "      <th>ant_cardiovascular</th>\n",
       "      <th>dm_gestacional</th>\n",
       "      <th>PERIMETRO_ABDOMINAL</th>\n",
       "      <th>hace_ejercicio</th>\n",
       "      <th>diabetes</th>\n",
       "    </tr>\n",
       "  </thead>\n",
       "  <tbody>\n",
       "    <tr>\n",
       "      <th>3</th>\n",
       "      <td>0.00</td>\n",
       "      <td>57.00</td>\n",
       "      <td>0.00</td>\n",
       "      <td>8001.00</td>\n",
       "      <td>3.00</td>\n",
       "      <td>0.00</td>\n",
       "      <td>57.60</td>\n",
       "      <td>1.50</td>\n",
       "      <td>25.60</td>\n",
       "      <td>39.00</td>\n",
       "      <td>143.00</td>\n",
       "      <td>280.00</td>\n",
       "      <td>0.00</td>\n",
       "      <td>0.00</td>\n",
       "      <td>0.00</td>\n",
       "      <td>0.00</td>\n",
       "      <td>95.00</td>\n",
       "      <td>0.00</td>\n",
       "      <td>1.00</td>\n",
       "    </tr>\n",
       "    <tr>\n",
       "      <th>11</th>\n",
       "      <td>0.00</td>\n",
       "      <td>43.00</td>\n",
       "      <td>0.00</td>\n",
       "      <td>50001.00</td>\n",
       "      <td>0.00</td>\n",
       "      <td>0.00</td>\n",
       "      <td>101.00</td>\n",
       "      <td>1.68</td>\n",
       "      <td>35.79</td>\n",
       "      <td>44.92</td>\n",
       "      <td>121.00</td>\n",
       "      <td>321.00</td>\n",
       "      <td>0.00</td>\n",
       "      <td>0.00</td>\n",
       "      <td>0.00</td>\n",
       "      <td>1.00</td>\n",
       "      <td>126.00</td>\n",
       "      <td>2.00</td>\n",
       "      <td>1.00</td>\n",
       "    </tr>\n",
       "    <tr>\n",
       "      <th>21</th>\n",
       "      <td>0.00</td>\n",
       "      <td>32.00</td>\n",
       "      <td>0.00</td>\n",
       "      <td>11001.00</td>\n",
       "      <td>3.00</td>\n",
       "      <td>0.00</td>\n",
       "      <td>51.00</td>\n",
       "      <td>1.64</td>\n",
       "      <td>18.96</td>\n",
       "      <td>81.00</td>\n",
       "      <td>83.00</td>\n",
       "      <td>34.00</td>\n",
       "      <td>0.00</td>\n",
       "      <td>0.00</td>\n",
       "      <td>0.00</td>\n",
       "      <td>1.00</td>\n",
       "      <td>74.00</td>\n",
       "      <td>0.00</td>\n",
       "      <td>1.00</td>\n",
       "    </tr>\n",
       "    <tr>\n",
       "      <th>26</th>\n",
       "      <td>0.00</td>\n",
       "      <td>40.00</td>\n",
       "      <td>0.00</td>\n",
       "      <td>20001.00</td>\n",
       "      <td>4.00</td>\n",
       "      <td>0.00</td>\n",
       "      <td>61.20</td>\n",
       "      <td>1.50</td>\n",
       "      <td>27.20</td>\n",
       "      <td>51.00</td>\n",
       "      <td>125.00</td>\n",
       "      <td>87.00</td>\n",
       "      <td>0.00</td>\n",
       "      <td>0.00</td>\n",
       "      <td>0.00</td>\n",
       "      <td>0.00</td>\n",
       "      <td>70.00</td>\n",
       "      <td>2.00</td>\n",
       "      <td>1.00</td>\n",
       "    </tr>\n",
       "    <tr>\n",
       "      <th>31</th>\n",
       "      <td>0.00</td>\n",
       "      <td>40.00</td>\n",
       "      <td>0.00</td>\n",
       "      <td>20001.00</td>\n",
       "      <td>4.00</td>\n",
       "      <td>0.00</td>\n",
       "      <td>61.20</td>\n",
       "      <td>1.50</td>\n",
       "      <td>27.20</td>\n",
       "      <td>51.00</td>\n",
       "      <td>125.00</td>\n",
       "      <td>87.00</td>\n",
       "      <td>0.00</td>\n",
       "      <td>0.00</td>\n",
       "      <td>0.00</td>\n",
       "      <td>0.00</td>\n",
       "      <td>70.00</td>\n",
       "      <td>1.00</td>\n",
       "      <td>1.00</td>\n",
       "    </tr>\n",
       "    <tr>\n",
       "      <th>...</th>\n",
       "      <td>...</td>\n",
       "      <td>...</td>\n",
       "      <td>...</td>\n",
       "      <td>...</td>\n",
       "      <td>...</td>\n",
       "      <td>...</td>\n",
       "      <td>...</td>\n",
       "      <td>...</td>\n",
       "      <td>...</td>\n",
       "      <td>...</td>\n",
       "      <td>...</td>\n",
       "      <td>...</td>\n",
       "      <td>...</td>\n",
       "      <td>...</td>\n",
       "      <td>...</td>\n",
       "      <td>...</td>\n",
       "      <td>...</td>\n",
       "      <td>...</td>\n",
       "      <td>...</td>\n",
       "    </tr>\n",
       "    <tr>\n",
       "      <th>46554</th>\n",
       "      <td>0.00</td>\n",
       "      <td>50.00</td>\n",
       "      <td>0.00</td>\n",
       "      <td>8001.00</td>\n",
       "      <td>7.00</td>\n",
       "      <td>0.00</td>\n",
       "      <td>66.20</td>\n",
       "      <td>1.60</td>\n",
       "      <td>25.86</td>\n",
       "      <td>57.00</td>\n",
       "      <td>119.00</td>\n",
       "      <td>89.00</td>\n",
       "      <td>0.00</td>\n",
       "      <td>0.00</td>\n",
       "      <td>0.00</td>\n",
       "      <td>0.00</td>\n",
       "      <td>85.00</td>\n",
       "      <td>0.00</td>\n",
       "      <td>0.00</td>\n",
       "    </tr>\n",
       "    <tr>\n",
       "      <th>252766</th>\n",
       "      <td>0.00</td>\n",
       "      <td>82.00</td>\n",
       "      <td>1.00</td>\n",
       "      <td>8758.00</td>\n",
       "      <td>5.00</td>\n",
       "      <td>0.00</td>\n",
       "      <td>58.00</td>\n",
       "      <td>1.61</td>\n",
       "      <td>22.38</td>\n",
       "      <td>48.00</td>\n",
       "      <td>65.00</td>\n",
       "      <td>85.00</td>\n",
       "      <td>1.00</td>\n",
       "      <td>0.00</td>\n",
       "      <td>1.00</td>\n",
       "      <td>0.00</td>\n",
       "      <td>94.00</td>\n",
       "      <td>1.00</td>\n",
       "      <td>0.00</td>\n",
       "    </tr>\n",
       "    <tr>\n",
       "      <th>171737</th>\n",
       "      <td>0.00</td>\n",
       "      <td>49.00</td>\n",
       "      <td>0.00</td>\n",
       "      <td>8001.00</td>\n",
       "      <td>3.00</td>\n",
       "      <td>0.00</td>\n",
       "      <td>79.00</td>\n",
       "      <td>1.52</td>\n",
       "      <td>34.19</td>\n",
       "      <td>42.40</td>\n",
       "      <td>122.40</td>\n",
       "      <td>138.00</td>\n",
       "      <td>1.00</td>\n",
       "      <td>0.00</td>\n",
       "      <td>1.00</td>\n",
       "      <td>0.00</td>\n",
       "      <td>70.00</td>\n",
       "      <td>1.00</td>\n",
       "      <td>0.00</td>\n",
       "    </tr>\n",
       "    <tr>\n",
       "      <th>26433</th>\n",
       "      <td>0.00</td>\n",
       "      <td>48.00</td>\n",
       "      <td>0.00</td>\n",
       "      <td>54001.00</td>\n",
       "      <td>7.00</td>\n",
       "      <td>0.00</td>\n",
       "      <td>61.50</td>\n",
       "      <td>1.56</td>\n",
       "      <td>25.27</td>\n",
       "      <td>53.00</td>\n",
       "      <td>55.00</td>\n",
       "      <td>69.00</td>\n",
       "      <td>0.00</td>\n",
       "      <td>0.00</td>\n",
       "      <td>0.00</td>\n",
       "      <td>0.00</td>\n",
       "      <td>80.00</td>\n",
       "      <td>2.00</td>\n",
       "      <td>0.00</td>\n",
       "    </tr>\n",
       "    <tr>\n",
       "      <th>51205</th>\n",
       "      <td>0.00</td>\n",
       "      <td>49.00</td>\n",
       "      <td>0.00</td>\n",
       "      <td>5001.00</td>\n",
       "      <td>0.00</td>\n",
       "      <td>0.00</td>\n",
       "      <td>67.00</td>\n",
       "      <td>1.53</td>\n",
       "      <td>28.62</td>\n",
       "      <td>41.00</td>\n",
       "      <td>144.00</td>\n",
       "      <td>221.00</td>\n",
       "      <td>0.00</td>\n",
       "      <td>0.00</td>\n",
       "      <td>0.00</td>\n",
       "      <td>0.00</td>\n",
       "      <td>74.00</td>\n",
       "      <td>0.00</td>\n",
       "      <td>0.00</td>\n",
       "    </tr>\n",
       "  </tbody>\n",
       "</table>\n",
       "<p>176416 rows × 19 columns</p>\n",
       "</div>"
      ],
      "text/plain": [
       "        tipo_identificacion_paciente  edad  genero  codigo_ciudad_sucursal  \\\n",
       "3                               0.00 57.00    0.00                 8001.00   \n",
       "11                              0.00 43.00    0.00                50001.00   \n",
       "21                              0.00 32.00    0.00                11001.00   \n",
       "26                              0.00 40.00    0.00                20001.00   \n",
       "31                              0.00 40.00    0.00                20001.00   \n",
       "...                              ...   ...     ...                     ...   \n",
       "46554                           0.00 50.00    0.00                 8001.00   \n",
       "252766                          0.00 82.00    1.00                 8758.00   \n",
       "171737                          0.00 49.00    0.00                 8001.00   \n",
       "26433                           0.00 48.00    0.00                54001.00   \n",
       "51205                           0.00 49.00    0.00                 5001.00   \n",
       "\n",
       "        nivel_academico_paciente  raza_paciente   peso  talla   imc   HDL  \\\n",
       "3                           3.00           0.00  57.60   1.50 25.60 39.00   \n",
       "11                          0.00           0.00 101.00   1.68 35.79 44.92   \n",
       "21                          3.00           0.00  51.00   1.64 18.96 81.00   \n",
       "26                          4.00           0.00  61.20   1.50 27.20 51.00   \n",
       "31                          4.00           0.00  61.20   1.50 27.20 51.00   \n",
       "...                          ...            ...    ...    ...   ...   ...   \n",
       "46554                       7.00           0.00  66.20   1.60 25.86 57.00   \n",
       "252766                      5.00           0.00  58.00   1.61 22.38 48.00   \n",
       "171737                      3.00           0.00  79.00   1.52 34.19 42.40   \n",
       "26433                       7.00           0.00  61.50   1.56 25.27 53.00   \n",
       "51205                       0.00           0.00  67.00   1.53 28.62 41.00   \n",
       "\n",
       "          LDL  trigliceridos  med_hipertension  familiar_dm  \\\n",
       "3      143.00         280.00              0.00         0.00   \n",
       "11     121.00         321.00              0.00         0.00   \n",
       "21      83.00          34.00              0.00         0.00   \n",
       "26     125.00          87.00              0.00         0.00   \n",
       "31     125.00          87.00              0.00         0.00   \n",
       "...       ...            ...               ...          ...   \n",
       "46554  119.00          89.00              0.00         0.00   \n",
       "252766  65.00          85.00              1.00         0.00   \n",
       "171737 122.40         138.00              1.00         0.00   \n",
       "26433   55.00          69.00              0.00         0.00   \n",
       "51205  144.00         221.00              0.00         0.00   \n",
       "\n",
       "        ant_cardiovascular  dm_gestacional  PERIMETRO_ABDOMINAL  \\\n",
       "3                     0.00            0.00                95.00   \n",
       "11                    0.00            1.00               126.00   \n",
       "21                    0.00            1.00                74.00   \n",
       "26                    0.00            0.00                70.00   \n",
       "31                    0.00            0.00                70.00   \n",
       "...                    ...             ...                  ...   \n",
       "46554                 0.00            0.00                85.00   \n",
       "252766                1.00            0.00                94.00   \n",
       "171737                1.00            0.00                70.00   \n",
       "26433                 0.00            0.00                80.00   \n",
       "51205                 0.00            0.00                74.00   \n",
       "\n",
       "        hace_ejercicio  diabetes  \n",
       "3                 0.00      1.00  \n",
       "11                2.00      1.00  \n",
       "21                0.00      1.00  \n",
       "26                2.00      1.00  \n",
       "31                1.00      1.00  \n",
       "...                ...       ...  \n",
       "46554             0.00      0.00  \n",
       "252766            1.00      0.00  \n",
       "171737            1.00      0.00  \n",
       "26433             2.00      0.00  \n",
       "51205             0.00      0.00  \n",
       "\n",
       "[176416 rows x 19 columns]"
      ]
     },
     "metadata": {},
     "output_type": "display_data"
    },
    {
     "data": {
      "text/html": [
       "<div>\n",
       "<style scoped>\n",
       "    .dataframe tbody tr th:only-of-type {\n",
       "        vertical-align: middle;\n",
       "    }\n",
       "\n",
       "    .dataframe tbody tr th {\n",
       "        vertical-align: top;\n",
       "    }\n",
       "\n",
       "    .dataframe thead th {\n",
       "        text-align: right;\n",
       "    }\n",
       "</style>\n",
       "<table border=\"1\" class=\"dataframe\">\n",
       "  <thead>\n",
       "    <tr style=\"text-align: right;\">\n",
       "      <th></th>\n",
       "      <th>tipo_identificacion_paciente</th>\n",
       "      <th>edad</th>\n",
       "      <th>genero</th>\n",
       "      <th>codigo_ciudad_sucursal</th>\n",
       "      <th>nivel_academico_paciente</th>\n",
       "      <th>raza_paciente</th>\n",
       "      <th>peso</th>\n",
       "      <th>talla</th>\n",
       "      <th>imc</th>\n",
       "      <th>HDL</th>\n",
       "      <th>LDL</th>\n",
       "      <th>trigliceridos</th>\n",
       "      <th>med_hipertension</th>\n",
       "      <th>familiar_dm</th>\n",
       "      <th>ant_cardiovascular</th>\n",
       "      <th>dm_gestacional</th>\n",
       "      <th>PERIMETRO_ABDOMINAL</th>\n",
       "      <th>hace_ejercicio</th>\n",
       "      <th>diabetes</th>\n",
       "      <th>diabetes_peso</th>\n",
       "    </tr>\n",
       "  </thead>\n",
       "  <tbody>\n",
       "    <tr>\n",
       "      <th>121</th>\n",
       "      <td>0.00</td>\n",
       "      <td>0</td>\n",
       "      <td>1.00</td>\n",
       "      <td>5001.00</td>\n",
       "      <td>0.00</td>\n",
       "      <td>0.00</td>\n",
       "      <td>82.00</td>\n",
       "      <td>1.88</td>\n",
       "      <td>0</td>\n",
       "      <td>1</td>\n",
       "      <td>0</td>\n",
       "      <td>0</td>\n",
       "      <td>0</td>\n",
       "      <td>0</td>\n",
       "      <td>0</td>\n",
       "      <td>0</td>\n",
       "      <td>0</td>\n",
       "      <td>0</td>\n",
       "      <td>1.00</td>\n",
       "      <td>1</td>\n",
       "    </tr>\n",
       "    <tr>\n",
       "      <th>128</th>\n",
       "      <td>0.00</td>\n",
       "      <td>1</td>\n",
       "      <td>1.00</td>\n",
       "      <td>25258.00</td>\n",
       "      <td>2.00</td>\n",
       "      <td>0.00</td>\n",
       "      <td>52.00</td>\n",
       "      <td>1.51</td>\n",
       "      <td>0</td>\n",
       "      <td>0</td>\n",
       "      <td>0</td>\n",
       "      <td>1</td>\n",
       "      <td>0</td>\n",
       "      <td>0</td>\n",
       "      <td>0</td>\n",
       "      <td>0</td>\n",
       "      <td>0</td>\n",
       "      <td>0</td>\n",
       "      <td>1.00</td>\n",
       "      <td>2</td>\n",
       "    </tr>\n",
       "    <tr>\n",
       "      <th>167</th>\n",
       "      <td>2.00</td>\n",
       "      <td>2</td>\n",
       "      <td>1.00</td>\n",
       "      <td>5001.00</td>\n",
       "      <td>4.00</td>\n",
       "      <td>0.00</td>\n",
       "      <td>98.00</td>\n",
       "      <td>1.75</td>\n",
       "      <td>1</td>\n",
       "      <td>1</td>\n",
       "      <td>1</td>\n",
       "      <td>1</td>\n",
       "      <td>0</td>\n",
       "      <td>0</td>\n",
       "      <td>0</td>\n",
       "      <td>0</td>\n",
       "      <td>2</td>\n",
       "      <td>2</td>\n",
       "      <td>1.00</td>\n",
       "      <td>10</td>\n",
       "    </tr>\n",
       "    <tr>\n",
       "      <th>168</th>\n",
       "      <td>0.00</td>\n",
       "      <td>3</td>\n",
       "      <td>1.00</td>\n",
       "      <td>50001.00</td>\n",
       "      <td>2.00</td>\n",
       "      <td>0.00</td>\n",
       "      <td>98.00</td>\n",
       "      <td>1.75</td>\n",
       "      <td>1</td>\n",
       "      <td>1</td>\n",
       "      <td>2</td>\n",
       "      <td>0</td>\n",
       "      <td>0</td>\n",
       "      <td>0</td>\n",
       "      <td>0</td>\n",
       "      <td>0</td>\n",
       "      <td>2</td>\n",
       "      <td>2</td>\n",
       "      <td>1.00</td>\n",
       "      <td>11</td>\n",
       "    </tr>\n",
       "    <tr>\n",
       "      <th>172</th>\n",
       "      <td>0.00</td>\n",
       "      <td>2</td>\n",
       "      <td>1.00</td>\n",
       "      <td>41001.00</td>\n",
       "      <td>0.00</td>\n",
       "      <td>0.00</td>\n",
       "      <td>98.00</td>\n",
       "      <td>1.75</td>\n",
       "      <td>1</td>\n",
       "      <td>2</td>\n",
       "      <td>0</td>\n",
       "      <td>2</td>\n",
       "      <td>0</td>\n",
       "      <td>0</td>\n",
       "      <td>0</td>\n",
       "      <td>0</td>\n",
       "      <td>2</td>\n",
       "      <td>2</td>\n",
       "      <td>1.00</td>\n",
       "      <td>11</td>\n",
       "    </tr>\n",
       "    <tr>\n",
       "      <th>...</th>\n",
       "      <td>...</td>\n",
       "      <td>...</td>\n",
       "      <td>...</td>\n",
       "      <td>...</td>\n",
       "      <td>...</td>\n",
       "      <td>...</td>\n",
       "      <td>...</td>\n",
       "      <td>...</td>\n",
       "      <td>...</td>\n",
       "      <td>...</td>\n",
       "      <td>...</td>\n",
       "      <td>...</td>\n",
       "      <td>...</td>\n",
       "      <td>...</td>\n",
       "      <td>...</td>\n",
       "      <td>...</td>\n",
       "      <td>...</td>\n",
       "      <td>...</td>\n",
       "      <td>...</td>\n",
       "      <td>...</td>\n",
       "    </tr>\n",
       "    <tr>\n",
       "      <th>132489</th>\n",
       "      <td>0.00</td>\n",
       "      <td>3</td>\n",
       "      <td>1.00</td>\n",
       "      <td>54001.00</td>\n",
       "      <td>0.00</td>\n",
       "      <td>0.00</td>\n",
       "      <td>54.00</td>\n",
       "      <td>1.59</td>\n",
       "      <td>0</td>\n",
       "      <td>2</td>\n",
       "      <td>0</td>\n",
       "      <td>0</td>\n",
       "      <td>2</td>\n",
       "      <td>0</td>\n",
       "      <td>2</td>\n",
       "      <td>0</td>\n",
       "      <td>0</td>\n",
       "      <td>0</td>\n",
       "      <td>0.00</td>\n",
       "      <td>9</td>\n",
       "    </tr>\n",
       "    <tr>\n",
       "      <th>152457</th>\n",
       "      <td>0.00</td>\n",
       "      <td>3</td>\n",
       "      <td>1.00</td>\n",
       "      <td>50001.00</td>\n",
       "      <td>0.00</td>\n",
       "      <td>0.00</td>\n",
       "      <td>77.00</td>\n",
       "      <td>1.69</td>\n",
       "      <td>0</td>\n",
       "      <td>1</td>\n",
       "      <td>0</td>\n",
       "      <td>0</td>\n",
       "      <td>2</td>\n",
       "      <td>0</td>\n",
       "      <td>2</td>\n",
       "      <td>0</td>\n",
       "      <td>1</td>\n",
       "      <td>0</td>\n",
       "      <td>0.00</td>\n",
       "      <td>9</td>\n",
       "    </tr>\n",
       "    <tr>\n",
       "      <th>61271</th>\n",
       "      <td>0.00</td>\n",
       "      <td>0</td>\n",
       "      <td>1.00</td>\n",
       "      <td>8001.00</td>\n",
       "      <td>0.00</td>\n",
       "      <td>0.00</td>\n",
       "      <td>58.00</td>\n",
       "      <td>1.63</td>\n",
       "      <td>0</td>\n",
       "      <td>1</td>\n",
       "      <td>2</td>\n",
       "      <td>1</td>\n",
       "      <td>0</td>\n",
       "      <td>2</td>\n",
       "      <td>0</td>\n",
       "      <td>0</td>\n",
       "      <td>0</td>\n",
       "      <td>2</td>\n",
       "      <td>0.00</td>\n",
       "      <td>8</td>\n",
       "    </tr>\n",
       "    <tr>\n",
       "      <th>48624</th>\n",
       "      <td>0.00</td>\n",
       "      <td>3</td>\n",
       "      <td>1.00</td>\n",
       "      <td>15001.00</td>\n",
       "      <td>0.00</td>\n",
       "      <td>0.00</td>\n",
       "      <td>80.00</td>\n",
       "      <td>1.74</td>\n",
       "      <td>0</td>\n",
       "      <td>2</td>\n",
       "      <td>0</td>\n",
       "      <td>0</td>\n",
       "      <td>0</td>\n",
       "      <td>0</td>\n",
       "      <td>0</td>\n",
       "      <td>0</td>\n",
       "      <td>1</td>\n",
       "      <td>2</td>\n",
       "      <td>0.00</td>\n",
       "      <td>8</td>\n",
       "    </tr>\n",
       "    <tr>\n",
       "      <th>252766</th>\n",
       "      <td>0.00</td>\n",
       "      <td>3</td>\n",
       "      <td>1.00</td>\n",
       "      <td>8758.00</td>\n",
       "      <td>5.00</td>\n",
       "      <td>0.00</td>\n",
       "      <td>58.00</td>\n",
       "      <td>1.61</td>\n",
       "      <td>0</td>\n",
       "      <td>1</td>\n",
       "      <td>0</td>\n",
       "      <td>0</td>\n",
       "      <td>2</td>\n",
       "      <td>0</td>\n",
       "      <td>2</td>\n",
       "      <td>0</td>\n",
       "      <td>1</td>\n",
       "      <td>0</td>\n",
       "      <td>0.00</td>\n",
       "      <td>9</td>\n",
       "    </tr>\n",
       "  </tbody>\n",
       "</table>\n",
       "<p>69781 rows × 20 columns</p>\n",
       "</div>"
      ],
      "text/plain": [
       "        tipo_identificacion_paciente  edad  genero  codigo_ciudad_sucursal  \\\n",
       "121                             0.00     0    1.00                 5001.00   \n",
       "128                             0.00     1    1.00                25258.00   \n",
       "167                             2.00     2    1.00                 5001.00   \n",
       "168                             0.00     3    1.00                50001.00   \n",
       "172                             0.00     2    1.00                41001.00   \n",
       "...                              ...   ...     ...                     ...   \n",
       "132489                          0.00     3    1.00                54001.00   \n",
       "152457                          0.00     3    1.00                50001.00   \n",
       "61271                           0.00     0    1.00                 8001.00   \n",
       "48624                           0.00     3    1.00                15001.00   \n",
       "252766                          0.00     3    1.00                 8758.00   \n",
       "\n",
       "        nivel_academico_paciente  raza_paciente  peso  talla  imc  HDL  LDL  \\\n",
       "121                         0.00           0.00 82.00   1.88    0    1    0   \n",
       "128                         2.00           0.00 52.00   1.51    0    0    0   \n",
       "167                         4.00           0.00 98.00   1.75    1    1    1   \n",
       "168                         2.00           0.00 98.00   1.75    1    1    2   \n",
       "172                         0.00           0.00 98.00   1.75    1    2    0   \n",
       "...                          ...            ...   ...    ...  ...  ...  ...   \n",
       "132489                      0.00           0.00 54.00   1.59    0    2    0   \n",
       "152457                      0.00           0.00 77.00   1.69    0    1    0   \n",
       "61271                       0.00           0.00 58.00   1.63    0    1    2   \n",
       "48624                       0.00           0.00 80.00   1.74    0    2    0   \n",
       "252766                      5.00           0.00 58.00   1.61    0    1    0   \n",
       "\n",
       "        trigliceridos  med_hipertension  familiar_dm  ant_cardiovascular  \\\n",
       "121                 0                 0            0                   0   \n",
       "128                 1                 0            0                   0   \n",
       "167                 1                 0            0                   0   \n",
       "168                 0                 0            0                   0   \n",
       "172                 2                 0            0                   0   \n",
       "...               ...               ...          ...                 ...   \n",
       "132489              0                 2            0                   2   \n",
       "152457              0                 2            0                   2   \n",
       "61271               1                 0            2                   0   \n",
       "48624               0                 0            0                   0   \n",
       "252766              0                 2            0                   2   \n",
       "\n",
       "        dm_gestacional  PERIMETRO_ABDOMINAL  hace_ejercicio  diabetes  \\\n",
       "121                  0                    0               0      1.00   \n",
       "128                  0                    0               0      1.00   \n",
       "167                  0                    2               2      1.00   \n",
       "168                  0                    2               2      1.00   \n",
       "172                  0                    2               2      1.00   \n",
       "...                ...                  ...             ...       ...   \n",
       "132489               0                    0               0      0.00   \n",
       "152457               0                    1               0      0.00   \n",
       "61271                0                    0               2      0.00   \n",
       "48624                0                    1               2      0.00   \n",
       "252766               0                    1               0      0.00   \n",
       "\n",
       "        diabetes_peso  \n",
       "121                 1  \n",
       "128                 2  \n",
       "167                10  \n",
       "168                11  \n",
       "172                11  \n",
       "...               ...  \n",
       "132489              9  \n",
       "152457              9  \n",
       "61271               8  \n",
       "48624               8  \n",
       "252766              9  \n",
       "\n",
       "[69781 rows x 20 columns]"
      ]
     },
     "metadata": {},
     "output_type": "display_data"
    },
    {
     "name": "stderr",
     "output_type": "stream",
     "text": [
      " 21%|██▏       | 9/42 [00:14<01:45,  3.20s/it]"
     ]
    },
    {
     "name": "stdout",
     "output_type": "stream",
     "text": [
      "GammaRegressor model failed to execute\n",
      "Some value(s) of y are out of the valid range of the loss 'HalfGammaLoss'.\n"
     ]
    },
    {
     "name": "stderr",
     "output_type": "stream",
     "text": [
      " 26%|██▌       | 11/42 [01:03<06:41, 12.94s/it]"
     ]
    },
    {
     "name": "stdout",
     "output_type": "stream",
     "text": [
      "GaussianProcessRegressor model failed to execute\n",
      "Unable to allocate 8.14 GiB for an array with shape (1092898128,) and data type float64\n"
     ]
    },
    {
     "name": "stderr",
     "output_type": "stream",
     "text": [
      " 38%|███▊      | 16/42 [07:30<47:23, 109.38s/it]"
     ]
    },
    {
     "name": "stdout",
     "output_type": "stream",
     "text": [
      "KernelRidge model failed to execute\n",
      "Unable to allocate 16.3 GiB for an array with shape (46753, 46753) and data type float64\n"
     ]
    },
    {
     "name": "stderr",
     "output_type": "stream",
     "text": [
      " 98%|█████████▊| 41/42 [1:37:38<00:49, 49.52s/it]    "
     ]
    },
    {
     "name": "stdout",
     "output_type": "stream",
     "text": [
      "[LightGBM] [Info] Auto-choosing row-wise multi-threading, the overhead of testing was 0.003180 seconds.\n",
      "You can set `force_row_wise=true` to remove the overhead.\n",
      "And if memory is not enough, you can set `force_col_wise=true`.\n",
      "[LightGBM] [Info] Total Bins 129\n",
      "[LightGBM] [Info] Number of data points in the train set: 46753, number of used features: 13\n",
      "[LightGBM] [Info] Start training from score 0.539602\n"
     ]
    },
    {
     "name": "stderr",
     "output_type": "stream",
     "text": [
      "100%|██████████| 42/42 [1:37:38<00:00, 139.49s/it]"
     ]
    },
    {
     "name": "stdout",
     "output_type": "stream",
     "text": [
      "                                       Adjusted R-Squared  \\\n",
      "Model                                                       \n",
      "LGBMRegressor                                        0.12   \n",
      "HistGradientBoostingRegressor                        0.12   \n",
      "XGBRegressor                                         0.11   \n",
      "GradientBoostingRegressor                            0.11   \n",
      "ElasticNetCV                                         0.08   \n",
      "LassoCV                                              0.08   \n",
      "BayesianRidge                                        0.08   \n",
      "RidgeCV                                              0.08   \n",
      "Ridge                                                0.08   \n",
      "LarsCV                                               0.08   \n",
      "TransformedTargetRegressor                           0.08   \n",
      "LinearRegression                                     0.08   \n",
      "LassoLarsCV                                          0.08   \n",
      "LassoLarsIC                                          0.08   \n",
      "Lars                                                 0.08   \n",
      "HuberRegressor                                       0.07   \n",
      "MLPRegressor                                         0.07   \n",
      "OrthogonalMatchingPursuitCV                          0.07   \n",
      "AdaBoostRegressor                                    0.06   \n",
      "TweedieRegressor                                     0.06   \n",
      "PoissonRegressor                                     0.04   \n",
      "OrthogonalMatchingPursuit                            0.04   \n",
      "RandomForestRegressor                                0.00   \n",
      "DummyRegressor                                      -0.00   \n",
      "LassoLars                                           -0.00   \n",
      "Lasso                                               -0.00   \n",
      "ElasticNet                                          -0.00   \n",
      "NuSVR                                               -0.01   \n",
      "BaggingRegressor                                    -0.04   \n",
      "KNeighborsRegressor                                 -0.07   \n",
      "SVR                                                 -0.07   \n",
      "ExtraTreesRegressor                                 -0.15   \n",
      "LinearSVR                                           -0.30   \n",
      "DecisionTreeRegressor                               -0.41   \n",
      "ExtraTreeRegressor                                  -0.45   \n",
      "RANSACRegressor                                     -0.85   \n",
      "QuantileRegressor                                   -0.85   \n",
      "PassiveAggressiveRegressor                          -1.47   \n",
      "SGDRegressor                  -35812963833178222493696.00   \n",
      "\n",
      "                                                R-Squared           RMSE  \\\n",
      "Model                                                                      \n",
      "LGBMRegressor                                        0.12           0.47   \n",
      "HistGradientBoostingRegressor                        0.12           0.47   \n",
      "XGBRegressor                                         0.11           0.47   \n",
      "GradientBoostingRegressor                            0.11           0.47   \n",
      "ElasticNetCV                                         0.08           0.48   \n",
      "LassoCV                                              0.08           0.48   \n",
      "BayesianRidge                                        0.08           0.48   \n",
      "RidgeCV                                              0.08           0.48   \n",
      "Ridge                                                0.08           0.48   \n",
      "LarsCV                                               0.08           0.48   \n",
      "TransformedTargetRegressor                           0.08           0.48   \n",
      "LinearRegression                                     0.08           0.48   \n",
      "LassoLarsCV                                          0.08           0.48   \n",
      "LassoLarsIC                                          0.08           0.48   \n",
      "Lars                                                 0.08           0.48   \n",
      "HuberRegressor                                       0.07           0.48   \n",
      "MLPRegressor                                         0.07           0.48   \n",
      "OrthogonalMatchingPursuitCV                          0.07           0.48   \n",
      "AdaBoostRegressor                                    0.06           0.48   \n",
      "TweedieRegressor                                     0.06           0.48   \n",
      "PoissonRegressor                                     0.04           0.49   \n",
      "OrthogonalMatchingPursuit                            0.04           0.49   \n",
      "RandomForestRegressor                                0.00           0.50   \n",
      "DummyRegressor                                      -0.00           0.50   \n",
      "LassoLars                                           -0.00           0.50   \n",
      "Lasso                                               -0.00           0.50   \n",
      "ElasticNet                                          -0.00           0.50   \n",
      "NuSVR                                               -0.01           0.50   \n",
      "BaggingRegressor                                    -0.04           0.51   \n",
      "KNeighborsRegressor                                 -0.07           0.51   \n",
      "SVR                                                 -0.07           0.52   \n",
      "ExtraTreesRegressor                                 -0.15           0.53   \n",
      "LinearSVR                                           -0.30           0.57   \n",
      "DecisionTreeRegressor                               -0.41           0.59   \n",
      "ExtraTreeRegressor                                  -0.45           0.60   \n",
      "RANSACRegressor                                     -0.84           0.68   \n",
      "QuantileRegressor                                   -0.84           0.68   \n",
      "PassiveAggressiveRegressor                          -1.46           0.78   \n",
      "SGDRegressor                  -35791190198155661541376.00 94255830876.40   \n",
      "\n",
      "                               Time Taken  \n",
      "Model                                      \n",
      "LGBMRegressor                        0.42  \n",
      "HistGradientBoostingRegressor        1.30  \n",
      "XGBRegressor                         0.45  \n",
      "GradientBoostingRegressor            4.71  \n",
      "ElasticNetCV                         0.95  \n",
      "LassoCV                              0.78  \n",
      "BayesianRidge                        0.23  \n",
      "RidgeCV                              0.19  \n",
      "Ridge                                0.09  \n",
      "LarsCV                               0.54  \n",
      "TransformedTargetRegressor           0.21  \n",
      "LinearRegression                     0.16  \n",
      "LassoLarsCV                          0.43  \n",
      "LassoLarsIC                          0.30  \n",
      "Lars                                 0.35  \n",
      "HuberRegressor                       0.34  \n",
      "MLPRegressor                        16.72  \n",
      "OrthogonalMatchingPursuitCV          0.19  \n",
      "AdaBoostRegressor                    0.27  \n",
      "TweedieRegressor                     0.10  \n",
      "PoissonRegressor                     0.10  \n",
      "OrthogonalMatchingPursuit            0.09  \n",
      "RandomForestRegressor               11.81  \n",
      "DummyRegressor                       0.07  \n",
      "LassoLars                            0.14  \n",
      "Lasso                                0.20  \n",
      "ElasticNet                           0.17  \n",
      "NuSVR                             4935.11  \n",
      "BaggingRegressor                     1.69  \n",
      "KNeighborsRegressor                 24.07  \n",
      "SVR                                344.66  \n",
      "ExtraTreesRegressor                 10.11  \n",
      "LinearSVR                            7.53  \n",
      "DecisionTreeRegressor                0.29  \n",
      "ExtraTreeRegressor                   0.19  \n",
      "RANSACRegressor                      0.44  \n",
      "QuantileRegressor                   86.48  \n",
      "PassiveAggressiveRegressor           0.13  \n",
      "SGDRegressor                         0.13  \n"
     ]
    },
    {
     "name": "stderr",
     "output_type": "stream",
     "text": [
      "\n"
     ]
    }
   ],
   "source": [
    "genero = 1\n",
    "data_prueba = df[df.genero == genero].copy()\n",
    "\n",
    "display(df)\n",
    "\n",
    "for key in dict_variables:\n",
    "    if key == 'PERIMETRO_ABDOMINAL':\n",
    "        data_prueba[key] = data_prueba[key].map(lambda x: dict_variables[key](x, genero))\n",
    "    else:\n",
    "        data_prueba[key] = data_prueba[key].map(lambda x: dict_variables[key](x))\n",
    "\n",
    "data_prueba = data_prueba.dropna()\n",
    "data_prueba['diabetes_peso'] = data_prueba[list(dict_variables.keys())].sum(axis = 1)\n",
    "display(data_prueba)\n",
    "\n",
    "data_prueba\n",
    "\n",
    "variables_to_train = ['edad',\n",
    "                    #   'genero',\n",
    "                      'codigo_ciudad_sucursal',\n",
    "                      'imc',\n",
    "                      'HDL',\n",
    "                      'LDL',\n",
    "                      'trigliceridos',\n",
    "                      'med_hipertension',\n",
    "                      'familiar_dm',\n",
    "                      'ant_cardiovascular',\n",
    "                      'dm_gestacional',\n",
    "                      'PERIMETRO_ABDOMINAL',\n",
    "                      'hace_ejercicio',\n",
    "                      'nivel_academico_paciente',\n",
    "                      'raza_paciente',\n",
    "                      'diabetes']\n",
    "\n",
    "# df_to_train = df_final[variables_to_train].copy()\n",
    "df_to_train = data_prueba[variables_to_train].copy()\n",
    "df_to_train\n",
    "\n",
    "X = df_to_train[variables_to_train[:-1]]\n",
    "y = df_to_train[variables_to_train[-1]]\n",
    "y\n",
    "\n",
    "X_train, X_test, y_train, y_test = train_test_split(\n",
    "    X, y, test_size=0.33, random_state=42)\n",
    "\n",
    "\n",
    "reg = LazyRegressor(verbose=0, ignore_warnings=False, custom_metric=None)\n",
    "models, predictions = reg.fit(X_train, X_test, y_train, y_test)\n",
    "\n",
    "print(models)"
   ]
  },
  {
   "cell_type": "code",
   "execution_count": 533,
   "metadata": {},
   "outputs": [
    {
     "data": {
      "text/html": [
       "<div>\n",
       "<style scoped>\n",
       "    .dataframe tbody tr th:only-of-type {\n",
       "        vertical-align: middle;\n",
       "    }\n",
       "\n",
       "    .dataframe tbody tr th {\n",
       "        vertical-align: top;\n",
       "    }\n",
       "\n",
       "    .dataframe thead th {\n",
       "        text-align: right;\n",
       "    }\n",
       "</style>\n",
       "<table border=\"1\" class=\"dataframe\">\n",
       "  <thead>\n",
       "    <tr style=\"text-align: right;\">\n",
       "      <th></th>\n",
       "      <th>tipo_identificacion_paciente</th>\n",
       "      <th>edad</th>\n",
       "      <th>genero</th>\n",
       "      <th>codigo_ciudad_sucursal</th>\n",
       "      <th>nivel_academico_paciente</th>\n",
       "      <th>raza_paciente</th>\n",
       "      <th>peso</th>\n",
       "      <th>talla</th>\n",
       "      <th>imc</th>\n",
       "      <th>HDL</th>\n",
       "      <th>LDL</th>\n",
       "      <th>trigliceridos</th>\n",
       "      <th>med_hipertension</th>\n",
       "      <th>familiar_dm</th>\n",
       "      <th>ant_cardiovascular</th>\n",
       "      <th>dm_gestacional</th>\n",
       "      <th>PERIMETRO_ABDOMINAL</th>\n",
       "      <th>hace_ejercicio</th>\n",
       "      <th>diabetes</th>\n",
       "      <th>diabetes_peso</th>\n",
       "    </tr>\n",
       "  </thead>\n",
       "  <tbody>\n",
       "    <tr>\n",
       "      <th>6</th>\n",
       "      <td>0.00</td>\n",
       "      <td>1</td>\n",
       "      <td>1.00</td>\n",
       "      <td>41001.00</td>\n",
       "      <td>0.00</td>\n",
       "      <td>0.00</td>\n",
       "      <td>101.00</td>\n",
       "      <td>1.68</td>\n",
       "      <td>2</td>\n",
       "      <td>2</td>\n",
       "      <td>1</td>\n",
       "      <td>2</td>\n",
       "      <td>0</td>\n",
       "      <td>0</td>\n",
       "      <td>0</td>\n",
       "      <td>0</td>\n",
       "      <td>2</td>\n",
       "      <td>2</td>\n",
       "      <td>0.00</td>\n",
       "      <td>12</td>\n",
       "    </tr>\n",
       "    <tr>\n",
       "      <th>7</th>\n",
       "      <td>0.00</td>\n",
       "      <td>0</td>\n",
       "      <td>1.00</td>\n",
       "      <td>19001.00</td>\n",
       "      <td>0.00</td>\n",
       "      <td>1.00</td>\n",
       "      <td>101.00</td>\n",
       "      <td>1.68</td>\n",
       "      <td>2</td>\n",
       "      <td>1</td>\n",
       "      <td>0</td>\n",
       "      <td>0</td>\n",
       "      <td>0</td>\n",
       "      <td>0</td>\n",
       "      <td>0</td>\n",
       "      <td>0</td>\n",
       "      <td>2</td>\n",
       "      <td>2</td>\n",
       "      <td>0.00</td>\n",
       "      <td>7</td>\n",
       "    </tr>\n",
       "    <tr>\n",
       "      <th>24</th>\n",
       "      <td>1.00</td>\n",
       "      <td>0</td>\n",
       "      <td>1.00</td>\n",
       "      <td>20001.00</td>\n",
       "      <td>1.00</td>\n",
       "      <td>0.00</td>\n",
       "      <td>51.00</td>\n",
       "      <td>1.64</td>\n",
       "      <td>0</td>\n",
       "      <td>1</td>\n",
       "      <td>0</td>\n",
       "      <td>0</td>\n",
       "      <td>0</td>\n",
       "      <td>0</td>\n",
       "      <td>0</td>\n",
       "      <td>0</td>\n",
       "      <td>0</td>\n",
       "      <td>2</td>\n",
       "      <td>0.00</td>\n",
       "      <td>3</td>\n",
       "    </tr>\n",
       "    <tr>\n",
       "      <th>25</th>\n",
       "      <td>0.00</td>\n",
       "      <td>3</td>\n",
       "      <td>1.00</td>\n",
       "      <td>8758.00</td>\n",
       "      <td>3.00</td>\n",
       "      <td>0.00</td>\n",
       "      <td>83.30</td>\n",
       "      <td>1.75</td>\n",
       "      <td>0</td>\n",
       "      <td>1</td>\n",
       "      <td>0</td>\n",
       "      <td>1</td>\n",
       "      <td>0</td>\n",
       "      <td>0</td>\n",
       "      <td>0</td>\n",
       "      <td>0</td>\n",
       "      <td>1</td>\n",
       "      <td>0</td>\n",
       "      <td>0.00</td>\n",
       "      <td>6</td>\n",
       "    </tr>\n",
       "    <tr>\n",
       "      <th>105</th>\n",
       "      <td>0.00</td>\n",
       "      <td>1</td>\n",
       "      <td>1.00</td>\n",
       "      <td>19001.00</td>\n",
       "      <td>0.00</td>\n",
       "      <td>0.00</td>\n",
       "      <td>88.20</td>\n",
       "      <td>1.75</td>\n",
       "      <td>0</td>\n",
       "      <td>2</td>\n",
       "      <td>0</td>\n",
       "      <td>0</td>\n",
       "      <td>0</td>\n",
       "      <td>0</td>\n",
       "      <td>0</td>\n",
       "      <td>0</td>\n",
       "      <td>2</td>\n",
       "      <td>2</td>\n",
       "      <td>0.00</td>\n",
       "      <td>7</td>\n",
       "    </tr>\n",
       "    <tr>\n",
       "      <th>...</th>\n",
       "      <td>...</td>\n",
       "      <td>...</td>\n",
       "      <td>...</td>\n",
       "      <td>...</td>\n",
       "      <td>...</td>\n",
       "      <td>...</td>\n",
       "      <td>...</td>\n",
       "      <td>...</td>\n",
       "      <td>...</td>\n",
       "      <td>...</td>\n",
       "      <td>...</td>\n",
       "      <td>...</td>\n",
       "      <td>...</td>\n",
       "      <td>...</td>\n",
       "      <td>...</td>\n",
       "      <td>...</td>\n",
       "      <td>...</td>\n",
       "      <td>...</td>\n",
       "      <td>...</td>\n",
       "      <td>...</td>\n",
       "    </tr>\n",
       "    <tr>\n",
       "      <th>292523</th>\n",
       "      <td>0.00</td>\n",
       "      <td>2</td>\n",
       "      <td>1.00</td>\n",
       "      <td>11001.00</td>\n",
       "      <td>2.00</td>\n",
       "      <td>0.00</td>\n",
       "      <td>94.60</td>\n",
       "      <td>1.73</td>\n",
       "      <td>1</td>\n",
       "      <td>1</td>\n",
       "      <td>0</td>\n",
       "      <td>2</td>\n",
       "      <td>2</td>\n",
       "      <td>0</td>\n",
       "      <td>2</td>\n",
       "      <td>0</td>\n",
       "      <td>2</td>\n",
       "      <td>2</td>\n",
       "      <td>0.00</td>\n",
       "      <td>14</td>\n",
       "    </tr>\n",
       "    <tr>\n",
       "      <th>292524</th>\n",
       "      <td>0.00</td>\n",
       "      <td>1</td>\n",
       "      <td>1.00</td>\n",
       "      <td>5001.00</td>\n",
       "      <td>0.00</td>\n",
       "      <td>0.00</td>\n",
       "      <td>94.60</td>\n",
       "      <td>1.73</td>\n",
       "      <td>1</td>\n",
       "      <td>1</td>\n",
       "      <td>2</td>\n",
       "      <td>2</td>\n",
       "      <td>2</td>\n",
       "      <td>0</td>\n",
       "      <td>2</td>\n",
       "      <td>0</td>\n",
       "      <td>2</td>\n",
       "      <td>0</td>\n",
       "      <td>0.00</td>\n",
       "      <td>13</td>\n",
       "    </tr>\n",
       "    <tr>\n",
       "      <th>292525</th>\n",
       "      <td>0.00</td>\n",
       "      <td>3</td>\n",
       "      <td>1.00</td>\n",
       "      <td>25307.00</td>\n",
       "      <td>3.00</td>\n",
       "      <td>0.00</td>\n",
       "      <td>94.60</td>\n",
       "      <td>1.73</td>\n",
       "      <td>1</td>\n",
       "      <td>1</td>\n",
       "      <td>0</td>\n",
       "      <td>0</td>\n",
       "      <td>2</td>\n",
       "      <td>0</td>\n",
       "      <td>2</td>\n",
       "      <td>0</td>\n",
       "      <td>2</td>\n",
       "      <td>2</td>\n",
       "      <td>1.00</td>\n",
       "      <td>13</td>\n",
       "    </tr>\n",
       "    <tr>\n",
       "      <th>292527</th>\n",
       "      <td>0.00</td>\n",
       "      <td>2</td>\n",
       "      <td>1.00</td>\n",
       "      <td>8001.00</td>\n",
       "      <td>5.00</td>\n",
       "      <td>0.00</td>\n",
       "      <td>99.10</td>\n",
       "      <td>1.81</td>\n",
       "      <td>1</td>\n",
       "      <td>1</td>\n",
       "      <td>0</td>\n",
       "      <td>0</td>\n",
       "      <td>2</td>\n",
       "      <td>0</td>\n",
       "      <td>2</td>\n",
       "      <td>0</td>\n",
       "      <td>1</td>\n",
       "      <td>0</td>\n",
       "      <td>0.00</td>\n",
       "      <td>9</td>\n",
       "    </tr>\n",
       "    <tr>\n",
       "      <th>292530</th>\n",
       "      <td>0.00</td>\n",
       "      <td>1</td>\n",
       "      <td>1.00</td>\n",
       "      <td>41001.00</td>\n",
       "      <td>0.00</td>\n",
       "      <td>0.00</td>\n",
       "      <td>94.50</td>\n",
       "      <td>1.81</td>\n",
       "      <td>0</td>\n",
       "      <td>1</td>\n",
       "      <td>0</td>\n",
       "      <td>0</td>\n",
       "      <td>2</td>\n",
       "      <td>0</td>\n",
       "      <td>2</td>\n",
       "      <td>0</td>\n",
       "      <td>2</td>\n",
       "      <td>0</td>\n",
       "      <td>0.00</td>\n",
       "      <td>8</td>\n",
       "    </tr>\n",
       "  </tbody>\n",
       "</table>\n",
       "<p>112045 rows × 20 columns</p>\n",
       "</div>"
      ],
      "text/plain": [
       "        tipo_identificacion_paciente  edad  genero  codigo_ciudad_sucursal  \\\n",
       "6                               0.00     1    1.00                41001.00   \n",
       "7                               0.00     0    1.00                19001.00   \n",
       "24                              1.00     0    1.00                20001.00   \n",
       "25                              0.00     3    1.00                 8758.00   \n",
       "105                             0.00     1    1.00                19001.00   \n",
       "...                              ...   ...     ...                     ...   \n",
       "292523                          0.00     2    1.00                11001.00   \n",
       "292524                          0.00     1    1.00                 5001.00   \n",
       "292525                          0.00     3    1.00                25307.00   \n",
       "292527                          0.00     2    1.00                 8001.00   \n",
       "292530                          0.00     1    1.00                41001.00   \n",
       "\n",
       "        nivel_academico_paciente  raza_paciente   peso  talla  imc  HDL  LDL  \\\n",
       "6                           0.00           0.00 101.00   1.68    2    2    1   \n",
       "7                           0.00           1.00 101.00   1.68    2    1    0   \n",
       "24                          1.00           0.00  51.00   1.64    0    1    0   \n",
       "25                          3.00           0.00  83.30   1.75    0    1    0   \n",
       "105                         0.00           0.00  88.20   1.75    0    2    0   \n",
       "...                          ...            ...    ...    ...  ...  ...  ...   \n",
       "292523                      2.00           0.00  94.60   1.73    1    1    0   \n",
       "292524                      0.00           0.00  94.60   1.73    1    1    2   \n",
       "292525                      3.00           0.00  94.60   1.73    1    1    0   \n",
       "292527                      5.00           0.00  99.10   1.81    1    1    0   \n",
       "292530                      0.00           0.00  94.50   1.81    0    1    0   \n",
       "\n",
       "        trigliceridos  med_hipertension  familiar_dm  ant_cardiovascular  \\\n",
       "6                   2                 0            0                   0   \n",
       "7                   0                 0            0                   0   \n",
       "24                  0                 0            0                   0   \n",
       "25                  1                 0            0                   0   \n",
       "105                 0                 0            0                   0   \n",
       "...               ...               ...          ...                 ...   \n",
       "292523              2                 2            0                   2   \n",
       "292524              2                 2            0                   2   \n",
       "292525              0                 2            0                   2   \n",
       "292527              0                 2            0                   2   \n",
       "292530              0                 2            0                   2   \n",
       "\n",
       "        dm_gestacional  PERIMETRO_ABDOMINAL  hace_ejercicio  diabetes  \\\n",
       "6                    0                    2               2      0.00   \n",
       "7                    0                    2               2      0.00   \n",
       "24                   0                    0               2      0.00   \n",
       "25                   0                    1               0      0.00   \n",
       "105                  0                    2               2      0.00   \n",
       "...                ...                  ...             ...       ...   \n",
       "292523               0                    2               2      0.00   \n",
       "292524               0                    2               0      0.00   \n",
       "292525               0                    2               2      1.00   \n",
       "292527               0                    1               0      0.00   \n",
       "292530               0                    2               0      0.00   \n",
       "\n",
       "        diabetes_peso  \n",
       "6                  12  \n",
       "7                   7  \n",
       "24                  3  \n",
       "25                  6  \n",
       "105                 7  \n",
       "...               ...  \n",
       "292523             14  \n",
       "292524             13  \n",
       "292525             13  \n",
       "292527              9  \n",
       "292530              8  \n",
       "\n",
       "[112045 rows x 20 columns]"
      ]
     },
     "metadata": {},
     "output_type": "display_data"
    },
    {
     "name": "stderr",
     "output_type": "stream",
     "text": [
      " 26%|██▌       | 11/42 [00:21<01:27,  2.83s/it]"
     ]
    },
    {
     "name": "stdout",
     "output_type": "stream",
     "text": [
      "GammaRegressor model failed to execute\n",
      "Some value(s) of y are out of the valid range of the loss 'HalfGammaLoss'.\n",
      "GaussianProcessRegressor model failed to execute\n",
      "Unable to allocate 42.0 GiB for an array with shape (75070, 75070) and data type float64\n"
     ]
    },
    {
     "name": "stderr",
     "output_type": "stream",
     "text": [
      " 40%|████      | 17/42 [01:19<03:45,  9.01s/it]"
     ]
    },
    {
     "name": "stdout",
     "output_type": "stream",
     "text": [
      "KernelRidge model failed to execute\n",
      "Unable to allocate 42.0 GiB for an array with shape (75070, 75070) and data type float64\n"
     ]
    },
    {
     "name": "stderr",
     "output_type": "stream",
     "text": [
      " 98%|█████████▊| 41/42 [4:18:25<04:12, 252.74s/it]    "
     ]
    },
    {
     "name": "stdout",
     "output_type": "stream",
     "text": [
      "[LightGBM] [Info] Auto-choosing row-wise multi-threading, the overhead of testing was 0.004600 seconds.\n",
      "You can set `force_row_wise=true` to remove the overhead.\n",
      "And if memory is not enough, you can set `force_col_wise=true`.\n",
      "[LightGBM] [Info] Total Bins 129\n",
      "[LightGBM] [Info] Number of data points in the train set: 75070, number of used features: 13\n",
      "[LightGBM] [Info] Start training from score 0.336459\n"
     ]
    },
    {
     "name": "stderr",
     "output_type": "stream",
     "text": [
      "100%|██████████| 42/42 [4:18:25<00:00, 369.18s/it]"
     ]
    },
    {
     "name": "stdout",
     "output_type": "stream",
     "text": [
      "                                      Adjusted R-Squared  \\\n",
      "Model                                                      \n",
      "LGBMRegressor                                       0.12   \n",
      "HistGradientBoostingRegressor                       0.12   \n",
      "XGBRegressor                                        0.11   \n",
      "GradientBoostingRegressor                           0.10   \n",
      "MLPRegressor                                        0.09   \n",
      "TransformedTargetRegressor                          0.07   \n",
      "LinearRegression                                    0.07   \n",
      "LassoLarsCV                                         0.07   \n",
      "LarsCV                                              0.07   \n",
      "Lars                                                0.07   \n",
      "LassoLarsIC                                         0.07   \n",
      "Ridge                                               0.07   \n",
      "RidgeCV                                             0.07   \n",
      "LassoCV                                             0.07   \n",
      "ElasticNetCV                                        0.07   \n",
      "BayesianRidge                                       0.07   \n",
      "OrthogonalMatchingPursuitCV                         0.06   \n",
      "HuberRegressor                                      0.06   \n",
      "AdaBoostRegressor                                   0.05   \n",
      "TweedieRegressor                                    0.05   \n",
      "OrthogonalMatchingPursuit                           0.03   \n",
      "PoissonRegressor                                    0.03   \n",
      "RandomForestRegressor                               0.01   \n",
      "Lasso                                              -0.00   \n",
      "LassoLars                                          -0.00   \n",
      "DummyRegressor                                     -0.00   \n",
      "ElasticNet                                         -0.00   \n",
      "BaggingRegressor                                   -0.03   \n",
      "KNeighborsRegressor                                -0.07   \n",
      "SVR                                                -0.08   \n",
      "ExtraTreesRegressor                                -0.11   \n",
      "NuSVR                                              -0.12   \n",
      "DecisionTreeRegressor                              -0.36   \n",
      "ExtraTreeRegressor                                 -0.38   \n",
      "LinearSVR                                          -0.51   \n",
      "QuantileRegressor                                  -0.51   \n",
      "RANSACRegressor                                    -0.63   \n",
      "PassiveAggressiveRegressor                         -1.48   \n",
      "SGDRegressor                  -8601826897265837473792.00   \n",
      "\n",
      "                                               R-Squared           RMSE  \\\n",
      "Model                                                                     \n",
      "LGBMRegressor                                       0.12           0.44   \n",
      "HistGradientBoostingRegressor                       0.12           0.44   \n",
      "XGBRegressor                                        0.11           0.44   \n",
      "GradientBoostingRegressor                           0.10           0.45   \n",
      "MLPRegressor                                        0.09           0.45   \n",
      "TransformedTargetRegressor                          0.07           0.46   \n",
      "LinearRegression                                    0.07           0.46   \n",
      "LassoLarsCV                                         0.07           0.46   \n",
      "LarsCV                                              0.07           0.46   \n",
      "Lars                                                0.07           0.46   \n",
      "LassoLarsIC                                         0.07           0.46   \n",
      "Ridge                                               0.07           0.46   \n",
      "RidgeCV                                             0.07           0.46   \n",
      "LassoCV                                             0.07           0.46   \n",
      "ElasticNetCV                                        0.07           0.46   \n",
      "BayesianRidge                                       0.07           0.46   \n",
      "OrthogonalMatchingPursuitCV                         0.06           0.46   \n",
      "HuberRegressor                                      0.06           0.46   \n",
      "AdaBoostRegressor                                   0.05           0.46   \n",
      "TweedieRegressor                                    0.05           0.46   \n",
      "OrthogonalMatchingPursuit                           0.03           0.46   \n",
      "PoissonRegressor                                    0.03           0.47   \n",
      "RandomForestRegressor                               0.01           0.47   \n",
      "Lasso                                              -0.00           0.47   \n",
      "LassoLars                                          -0.00           0.47   \n",
      "DummyRegressor                                     -0.00           0.47   \n",
      "ElasticNet                                         -0.00           0.47   \n",
      "BaggingRegressor                                   -0.03           0.48   \n",
      "KNeighborsRegressor                                -0.07           0.49   \n",
      "SVR                                                -0.08           0.49   \n",
      "ExtraTreesRegressor                                -0.11           0.50   \n",
      "NuSVR                                              -0.12           0.50   \n",
      "DecisionTreeRegressor                              -0.36           0.55   \n",
      "ExtraTreeRegressor                                 -0.38           0.56   \n",
      "LinearSVR                                          -0.51           0.58   \n",
      "QuantileRegressor                                  -0.51           0.58   \n",
      "RANSACRegressor                                    -0.63           0.60   \n",
      "PassiveAggressiveRegressor                         -1.48           0.74   \n",
      "SGDRegressor                  -8598569863226735984640.00 43826524137.58   \n",
      "\n",
      "                               Time Taken  \n",
      "Model                                      \n",
      "LGBMRegressor                        0.45  \n",
      "HistGradientBoostingRegressor        0.82  \n",
      "XGBRegressor                         0.56  \n",
      "GradientBoostingRegressor            4.46  \n",
      "MLPRegressor                        31.99  \n",
      "TransformedTargetRegressor           0.18  \n",
      "LinearRegression                     0.14  \n",
      "LassoLarsCV                          0.37  \n",
      "LarsCV                               0.41  \n",
      "Lars                                 0.15  \n",
      "LassoLarsIC                          0.20  \n",
      "Ridge                                0.18  \n",
      "RidgeCV                              0.22  \n",
      "LassoCV                              0.91  \n",
      "ElasticNetCV                         1.28  \n",
      "BayesianRidge                        0.35  \n",
      "OrthogonalMatchingPursuitCV          0.29  \n",
      "HuberRegressor                       0.41  \n",
      "AdaBoostRegressor                    0.41  \n",
      "TweedieRegressor                     0.12  \n",
      "OrthogonalMatchingPursuit            0.12  \n",
      "PoissonRegressor                     0.12  \n",
      "RandomForestRegressor               17.73  \n",
      "Lasso                                0.20  \n",
      "LassoLars                            0.12  \n",
      "DummyRegressor                       0.11  \n",
      "ElasticNet                           0.21  \n",
      "BaggingRegressor                     2.72  \n",
      "KNeighborsRegressor                 52.30  \n",
      "SVR                               2172.38  \n",
      "ExtraTreesRegressor                 15.57  \n",
      "NuSVR                            13034.09  \n",
      "DecisionTreeRegressor                0.40  \n",
      "ExtraTreeRegressor                   0.32  \n",
      "LinearSVR                            4.33  \n",
      "QuantileRegressor                  159.34  \n",
      "RANSACRegressor                      0.86  \n",
      "PassiveAggressiveRegressor           0.21  \n",
      "SGDRegressor                         0.23  \n"
     ]
    },
    {
     "name": "stderr",
     "output_type": "stream",
     "text": [
      "\n"
     ]
    }
   ],
   "source": [
    "genero = 1\n",
    "data_prueba = data[data.genero == genero].copy()\n",
    "\n",
    "for key in dict_variables:\n",
    "    if key == 'PERIMETRO_ABDOMINAL':\n",
    "        data_prueba[key] = data_prueba[key].map(lambda x: dict_variables[key](x, genero))\n",
    "    else:\n",
    "        data_prueba[key] = data_prueba[key].map(lambda x: dict_variables[key](x))\n",
    "\n",
    "data_prueba = data_prueba.dropna()\n",
    "data_prueba['diabetes_peso'] = data_prueba[list(dict_variables.keys())].sum(axis = 1)\n",
    "display(data_prueba)\n",
    "\n",
    "data_prueba\n",
    "\n",
    "variables_to_train = ['edad',\n",
    "                    #   'genero',\n",
    "                      'codigo_ciudad_sucursal',\n",
    "                      'imc',\n",
    "                      'HDL',\n",
    "                      'LDL',\n",
    "                      'trigliceridos',\n",
    "                      'med_hipertension',\n",
    "                      'familiar_dm',\n",
    "                      'ant_cardiovascular',\n",
    "                      'dm_gestacional',\n",
    "                      'PERIMETRO_ABDOMINAL',\n",
    "                      'hace_ejercicio',\n",
    "                      'nivel_academico_paciente',\n",
    "                      'raza_paciente',\n",
    "                      'diabetes']\n",
    "\n",
    "# df_to_train = df_final[variables_to_train].copy()\n",
    "df_to_train = data_prueba[variables_to_train].copy()\n",
    "df_to_train\n",
    "\n",
    "X = df_to_train[variables_to_train[:-1]]\n",
    "y = df_to_train[variables_to_train[-1]]\n",
    "y\n",
    "\n",
    "X_train, X_test, y_train, y_test = train_test_split(\n",
    "    X, y, test_size=0.33, random_state=42)\n",
    "\n",
    "\n",
    "reg = LazyRegressor(verbose=0, ignore_warnings=False, custom_metric=None)\n",
    "models, predictions = reg.fit(X_train, X_test, y_train, y_test)\n",
    "\n",
    "print(models)"
   ]
  },
  {
   "cell_type": "code",
   "execution_count": 561,
   "metadata": {},
   "outputs": [
    {
     "data": {
      "text/html": [
       "<div>\n",
       "<style scoped>\n",
       "    .dataframe tbody tr th:only-of-type {\n",
       "        vertical-align: middle;\n",
       "    }\n",
       "\n",
       "    .dataframe tbody tr th {\n",
       "        vertical-align: top;\n",
       "    }\n",
       "\n",
       "    .dataframe thead th {\n",
       "        text-align: right;\n",
       "    }\n",
       "</style>\n",
       "<table border=\"1\" class=\"dataframe\">\n",
       "  <thead>\n",
       "    <tr style=\"text-align: right;\">\n",
       "      <th></th>\n",
       "      <th>tipo_identificacion_paciente</th>\n",
       "      <th>edad</th>\n",
       "      <th>genero</th>\n",
       "      <th>codigo_ciudad_sucursal</th>\n",
       "      <th>nivel_academico_paciente</th>\n",
       "      <th>raza_paciente</th>\n",
       "      <th>peso</th>\n",
       "      <th>talla</th>\n",
       "      <th>imc</th>\n",
       "      <th>HDL</th>\n",
       "      <th>LDL</th>\n",
       "      <th>trigliceridos</th>\n",
       "      <th>med_hipertension</th>\n",
       "      <th>familiar_dm</th>\n",
       "      <th>ant_cardiovascular</th>\n",
       "      <th>dm_gestacional</th>\n",
       "      <th>PERIMETRO_ABDOMINAL</th>\n",
       "      <th>hace_ejercicio</th>\n",
       "      <th>diabetes</th>\n",
       "      <th>diabetes_peso</th>\n",
       "    </tr>\n",
       "  </thead>\n",
       "  <tbody>\n",
       "    <tr>\n",
       "      <th>121</th>\n",
       "      <td>0.00</td>\n",
       "      <td>0</td>\n",
       "      <td>1.00</td>\n",
       "      <td>5001.00</td>\n",
       "      <td>0.00</td>\n",
       "      <td>0.00</td>\n",
       "      <td>82.00</td>\n",
       "      <td>1.88</td>\n",
       "      <td>0</td>\n",
       "      <td>1</td>\n",
       "      <td>0</td>\n",
       "      <td>0</td>\n",
       "      <td>0</td>\n",
       "      <td>0</td>\n",
       "      <td>0</td>\n",
       "      <td>0</td>\n",
       "      <td>0</td>\n",
       "      <td>0</td>\n",
       "      <td>1.00</td>\n",
       "      <td>1</td>\n",
       "    </tr>\n",
       "    <tr>\n",
       "      <th>128</th>\n",
       "      <td>0.00</td>\n",
       "      <td>1</td>\n",
       "      <td>1.00</td>\n",
       "      <td>25258.00</td>\n",
       "      <td>2.00</td>\n",
       "      <td>0.00</td>\n",
       "      <td>52.00</td>\n",
       "      <td>1.51</td>\n",
       "      <td>0</td>\n",
       "      <td>0</td>\n",
       "      <td>0</td>\n",
       "      <td>1</td>\n",
       "      <td>0</td>\n",
       "      <td>0</td>\n",
       "      <td>0</td>\n",
       "      <td>0</td>\n",
       "      <td>0</td>\n",
       "      <td>0</td>\n",
       "      <td>1.00</td>\n",
       "      <td>2</td>\n",
       "    </tr>\n",
       "    <tr>\n",
       "      <th>167</th>\n",
       "      <td>2.00</td>\n",
       "      <td>2</td>\n",
       "      <td>1.00</td>\n",
       "      <td>5001.00</td>\n",
       "      <td>4.00</td>\n",
       "      <td>0.00</td>\n",
       "      <td>98.00</td>\n",
       "      <td>1.75</td>\n",
       "      <td>1</td>\n",
       "      <td>1</td>\n",
       "      <td>1</td>\n",
       "      <td>1</td>\n",
       "      <td>0</td>\n",
       "      <td>0</td>\n",
       "      <td>0</td>\n",
       "      <td>0</td>\n",
       "      <td>2</td>\n",
       "      <td>2</td>\n",
       "      <td>1.00</td>\n",
       "      <td>10</td>\n",
       "    </tr>\n",
       "    <tr>\n",
       "      <th>168</th>\n",
       "      <td>0.00</td>\n",
       "      <td>3</td>\n",
       "      <td>1.00</td>\n",
       "      <td>50001.00</td>\n",
       "      <td>2.00</td>\n",
       "      <td>0.00</td>\n",
       "      <td>98.00</td>\n",
       "      <td>1.75</td>\n",
       "      <td>1</td>\n",
       "      <td>1</td>\n",
       "      <td>2</td>\n",
       "      <td>0</td>\n",
       "      <td>0</td>\n",
       "      <td>0</td>\n",
       "      <td>0</td>\n",
       "      <td>0</td>\n",
       "      <td>2</td>\n",
       "      <td>2</td>\n",
       "      <td>1.00</td>\n",
       "      <td>11</td>\n",
       "    </tr>\n",
       "    <tr>\n",
       "      <th>172</th>\n",
       "      <td>0.00</td>\n",
       "      <td>2</td>\n",
       "      <td>1.00</td>\n",
       "      <td>41001.00</td>\n",
       "      <td>0.00</td>\n",
       "      <td>0.00</td>\n",
       "      <td>98.00</td>\n",
       "      <td>1.75</td>\n",
       "      <td>1</td>\n",
       "      <td>2</td>\n",
       "      <td>0</td>\n",
       "      <td>2</td>\n",
       "      <td>0</td>\n",
       "      <td>0</td>\n",
       "      <td>0</td>\n",
       "      <td>0</td>\n",
       "      <td>2</td>\n",
       "      <td>2</td>\n",
       "      <td>1.00</td>\n",
       "      <td>11</td>\n",
       "    </tr>\n",
       "    <tr>\n",
       "      <th>...</th>\n",
       "      <td>...</td>\n",
       "      <td>...</td>\n",
       "      <td>...</td>\n",
       "      <td>...</td>\n",
       "      <td>...</td>\n",
       "      <td>...</td>\n",
       "      <td>...</td>\n",
       "      <td>...</td>\n",
       "      <td>...</td>\n",
       "      <td>...</td>\n",
       "      <td>...</td>\n",
       "      <td>...</td>\n",
       "      <td>...</td>\n",
       "      <td>...</td>\n",
       "      <td>...</td>\n",
       "      <td>...</td>\n",
       "      <td>...</td>\n",
       "      <td>...</td>\n",
       "      <td>...</td>\n",
       "      <td>...</td>\n",
       "    </tr>\n",
       "    <tr>\n",
       "      <th>132489</th>\n",
       "      <td>0.00</td>\n",
       "      <td>3</td>\n",
       "      <td>1.00</td>\n",
       "      <td>54001.00</td>\n",
       "      <td>0.00</td>\n",
       "      <td>0.00</td>\n",
       "      <td>54.00</td>\n",
       "      <td>1.59</td>\n",
       "      <td>0</td>\n",
       "      <td>2</td>\n",
       "      <td>0</td>\n",
       "      <td>0</td>\n",
       "      <td>2</td>\n",
       "      <td>0</td>\n",
       "      <td>2</td>\n",
       "      <td>0</td>\n",
       "      <td>0</td>\n",
       "      <td>0</td>\n",
       "      <td>0.00</td>\n",
       "      <td>9</td>\n",
       "    </tr>\n",
       "    <tr>\n",
       "      <th>152457</th>\n",
       "      <td>0.00</td>\n",
       "      <td>3</td>\n",
       "      <td>1.00</td>\n",
       "      <td>50001.00</td>\n",
       "      <td>0.00</td>\n",
       "      <td>0.00</td>\n",
       "      <td>77.00</td>\n",
       "      <td>1.69</td>\n",
       "      <td>0</td>\n",
       "      <td>1</td>\n",
       "      <td>0</td>\n",
       "      <td>0</td>\n",
       "      <td>2</td>\n",
       "      <td>0</td>\n",
       "      <td>2</td>\n",
       "      <td>0</td>\n",
       "      <td>1</td>\n",
       "      <td>0</td>\n",
       "      <td>0.00</td>\n",
       "      <td>9</td>\n",
       "    </tr>\n",
       "    <tr>\n",
       "      <th>61271</th>\n",
       "      <td>0.00</td>\n",
       "      <td>0</td>\n",
       "      <td>1.00</td>\n",
       "      <td>8001.00</td>\n",
       "      <td>0.00</td>\n",
       "      <td>0.00</td>\n",
       "      <td>58.00</td>\n",
       "      <td>1.63</td>\n",
       "      <td>0</td>\n",
       "      <td>1</td>\n",
       "      <td>2</td>\n",
       "      <td>1</td>\n",
       "      <td>0</td>\n",
       "      <td>2</td>\n",
       "      <td>0</td>\n",
       "      <td>0</td>\n",
       "      <td>0</td>\n",
       "      <td>2</td>\n",
       "      <td>0.00</td>\n",
       "      <td>8</td>\n",
       "    </tr>\n",
       "    <tr>\n",
       "      <th>48624</th>\n",
       "      <td>0.00</td>\n",
       "      <td>3</td>\n",
       "      <td>1.00</td>\n",
       "      <td>15001.00</td>\n",
       "      <td>0.00</td>\n",
       "      <td>0.00</td>\n",
       "      <td>80.00</td>\n",
       "      <td>1.74</td>\n",
       "      <td>0</td>\n",
       "      <td>2</td>\n",
       "      <td>0</td>\n",
       "      <td>0</td>\n",
       "      <td>0</td>\n",
       "      <td>0</td>\n",
       "      <td>0</td>\n",
       "      <td>0</td>\n",
       "      <td>1</td>\n",
       "      <td>2</td>\n",
       "      <td>0.00</td>\n",
       "      <td>8</td>\n",
       "    </tr>\n",
       "    <tr>\n",
       "      <th>252766</th>\n",
       "      <td>0.00</td>\n",
       "      <td>3</td>\n",
       "      <td>1.00</td>\n",
       "      <td>8758.00</td>\n",
       "      <td>5.00</td>\n",
       "      <td>0.00</td>\n",
       "      <td>58.00</td>\n",
       "      <td>1.61</td>\n",
       "      <td>0</td>\n",
       "      <td>1</td>\n",
       "      <td>0</td>\n",
       "      <td>0</td>\n",
       "      <td>2</td>\n",
       "      <td>0</td>\n",
       "      <td>2</td>\n",
       "      <td>0</td>\n",
       "      <td>1</td>\n",
       "      <td>0</td>\n",
       "      <td>0.00</td>\n",
       "      <td>9</td>\n",
       "    </tr>\n",
       "  </tbody>\n",
       "</table>\n",
       "<p>69781 rows × 20 columns</p>\n",
       "</div>"
      ],
      "text/plain": [
       "        tipo_identificacion_paciente  edad  genero  codigo_ciudad_sucursal  \\\n",
       "121                             0.00     0    1.00                 5001.00   \n",
       "128                             0.00     1    1.00                25258.00   \n",
       "167                             2.00     2    1.00                 5001.00   \n",
       "168                             0.00     3    1.00                50001.00   \n",
       "172                             0.00     2    1.00                41001.00   \n",
       "...                              ...   ...     ...                     ...   \n",
       "132489                          0.00     3    1.00                54001.00   \n",
       "152457                          0.00     3    1.00                50001.00   \n",
       "61271                           0.00     0    1.00                 8001.00   \n",
       "48624                           0.00     3    1.00                15001.00   \n",
       "252766                          0.00     3    1.00                 8758.00   \n",
       "\n",
       "        nivel_academico_paciente  raza_paciente  peso  talla  imc  HDL  LDL  \\\n",
       "121                         0.00           0.00 82.00   1.88    0    1    0   \n",
       "128                         2.00           0.00 52.00   1.51    0    0    0   \n",
       "167                         4.00           0.00 98.00   1.75    1    1    1   \n",
       "168                         2.00           0.00 98.00   1.75    1    1    2   \n",
       "172                         0.00           0.00 98.00   1.75    1    2    0   \n",
       "...                          ...            ...   ...    ...  ...  ...  ...   \n",
       "132489                      0.00           0.00 54.00   1.59    0    2    0   \n",
       "152457                      0.00           0.00 77.00   1.69    0    1    0   \n",
       "61271                       0.00           0.00 58.00   1.63    0    1    2   \n",
       "48624                       0.00           0.00 80.00   1.74    0    2    0   \n",
       "252766                      5.00           0.00 58.00   1.61    0    1    0   \n",
       "\n",
       "        trigliceridos  med_hipertension  familiar_dm  ant_cardiovascular  \\\n",
       "121                 0                 0            0                   0   \n",
       "128                 1                 0            0                   0   \n",
       "167                 1                 0            0                   0   \n",
       "168                 0                 0            0                   0   \n",
       "172                 2                 0            0                   0   \n",
       "...               ...               ...          ...                 ...   \n",
       "132489              0                 2            0                   2   \n",
       "152457              0                 2            0                   2   \n",
       "61271               1                 0            2                   0   \n",
       "48624               0                 0            0                   0   \n",
       "252766              0                 2            0                   2   \n",
       "\n",
       "        dm_gestacional  PERIMETRO_ABDOMINAL  hace_ejercicio  diabetes  \\\n",
       "121                  0                    0               0      1.00   \n",
       "128                  0                    0               0      1.00   \n",
       "167                  0                    2               2      1.00   \n",
       "168                  0                    2               2      1.00   \n",
       "172                  0                    2               2      1.00   \n",
       "...                ...                  ...             ...       ...   \n",
       "132489               0                    0               0      0.00   \n",
       "152457               0                    1               0      0.00   \n",
       "61271                0                    0               2      0.00   \n",
       "48624                0                    1               2      0.00   \n",
       "252766               0                    1               0      0.00   \n",
       "\n",
       "        diabetes_peso  \n",
       "121                 1  \n",
       "128                 2  \n",
       "167                10  \n",
       "168                11  \n",
       "172                11  \n",
       "...               ...  \n",
       "132489              9  \n",
       "152457              9  \n",
       "61271               8  \n",
       "48624               8  \n",
       "252766              9  \n",
       "\n",
       "[69781 rows x 20 columns]"
      ]
     },
     "metadata": {},
     "output_type": "display_data"
    },
    {
     "name": "stdout",
     "output_type": "stream",
     "text": [
      "[LightGBM] [Info] Auto-choosing row-wise multi-threading, the overhead of testing was 0.078455 seconds.\n",
      "You can set `force_row_wise=true` to remove the overhead.\n",
      "And if memory is not enough, you can set `force_col_wise=true`.\n",
      "[LightGBM] [Info] Total Bins 129\n",
      "[LightGBM] [Info] Number of data points in the train set: 46753, number of used features: 13\n"
     ]
    },
    {
     "ename": "LightGBMError",
     "evalue": "Length of labels differs from the length of #data",
     "output_type": "error",
     "traceback": [
      "\u001b[1;31m---------------------------------------------------------------------------\u001b[0m",
      "\u001b[1;31mLightGBMError\u001b[0m                             Traceback (most recent call last)",
      "Cell \u001b[1;32mIn[561], line 72\u001b[0m\n\u001b[0;32m     70\u001b[0m \u001b[38;5;66;03m# Set the number of rounds and train the model with early stopping \u001b[39;00m\n\u001b[0;32m     71\u001b[0m num_round \u001b[38;5;241m=\u001b[39m \u001b[38;5;241m100\u001b[39m\n\u001b[1;32m---> 72\u001b[0m bst \u001b[38;5;241m=\u001b[39m \u001b[43mlgb\u001b[49m\u001b[38;5;241;43m.\u001b[39;49m\u001b[43mtrain\u001b[49m\u001b[43m(\u001b[49m\u001b[43mparams\u001b[49m\u001b[43m,\u001b[49m\u001b[43m \u001b[49m\u001b[43mtrain_data\u001b[49m\u001b[43m,\u001b[49m\u001b[43m \u001b[49m\u001b[43mnum_round\u001b[49m\u001b[43m,\u001b[49m\u001b[43m \u001b[49m\u001b[43mvalid_sets\u001b[49m\u001b[38;5;241;43m=\u001b[39;49m\u001b[43m[\u001b[49m\u001b[43m \u001b[49m\n\u001b[0;32m     73\u001b[0m \u001b[43m                \u001b[49m\u001b[43mtest_data\u001b[49m\u001b[43m]\u001b[49m\u001b[43m)\u001b[49m \n\u001b[0;32m     75\u001b[0m \u001b[38;5;66;03m# lineal_model = LinearRegression()\u001b[39;00m\n\u001b[0;32m     76\u001b[0m \n\u001b[0;32m     77\u001b[0m \u001b[38;5;66;03m# lineal_model.fit(X_train,y_train)\u001b[39;00m\n\u001b[0;32m     78\u001b[0m \n\u001b[0;32m     79\u001b[0m \u001b[38;5;66;03m# lineal_model.score(X_test,y_test)\u001b[39;00m\n",
      "File \u001b[1;32mc:\\Users\\ssantos\\AppData\\Local\\anaconda3\\envs\\analisis_diabetes\\lib\\site-packages\\lightgbm\\engine.py:286\u001b[0m, in \u001b[0;36mtrain\u001b[1;34m(params, train_set, num_boost_round, valid_sets, valid_names, feval, init_model, feature_name, categorical_feature, keep_training_booster, callbacks)\u001b[0m\n\u001b[0;32m    283\u001b[0m \u001b[38;5;28;01mfor\u001b[39;00m i \u001b[38;5;129;01min\u001b[39;00m \u001b[38;5;28mrange\u001b[39m(init_iteration, init_iteration \u001b[38;5;241m+\u001b[39m num_boost_round):\n\u001b[0;32m    284\u001b[0m     \u001b[38;5;28;01mfor\u001b[39;00m cb \u001b[38;5;129;01min\u001b[39;00m callbacks_before_iter:\n\u001b[0;32m    285\u001b[0m         cb(callback\u001b[38;5;241m.\u001b[39mCallbackEnv(model\u001b[38;5;241m=\u001b[39mbooster,\n\u001b[1;32m--> 286\u001b[0m                                 params\u001b[38;5;241m=\u001b[39mparams,\n\u001b[0;32m    287\u001b[0m                                 iteration\u001b[38;5;241m=\u001b[39mi,\n\u001b[0;32m    288\u001b[0m                                 begin_iteration\u001b[38;5;241m=\u001b[39minit_iteration,\n\u001b[0;32m    289\u001b[0m                                 end_iteration\u001b[38;5;241m=\u001b[39minit_iteration \u001b[38;5;241m+\u001b[39m num_boost_round,\n\u001b[0;32m    290\u001b[0m                                 evaluation_result_list\u001b[38;5;241m=\u001b[39m\u001b[38;5;28;01mNone\u001b[39;00m))\n\u001b[0;32m    292\u001b[0m     booster\u001b[38;5;241m.\u001b[39mupdate(fobj\u001b[38;5;241m=\u001b[39mfobj)\n\u001b[0;32m    294\u001b[0m     evaluation_result_list \u001b[38;5;241m=\u001b[39m []\n",
      "File \u001b[1;32mc:\\Users\\ssantos\\AppData\\Local\\anaconda3\\envs\\analisis_diabetes\\lib\\site-packages\\lightgbm\\basic.py:4029\u001b[0m, in \u001b[0;36madd_valid\u001b[1;34m(self, data, name)\u001b[0m\n\u001b[0;32m      0\u001b[0m <Error retrieving source code with stack_data see ipython/ipython#13598>\n",
      "File \u001b[1;32mc:\\Users\\ssantos\\AppData\\Local\\anaconda3\\envs\\analisis_diabetes\\lib\\site-packages\\lightgbm\\basic.py:2515\u001b[0m, in \u001b[0;36mconstruct\u001b[1;34m(self)\u001b[0m\n\u001b[0;32m   2509\u001b[0m \u001b[38;5;28;01mdef\u001b[39;00m \u001b[38;5;21m_dump_text\u001b[39m(\u001b[38;5;28mself\u001b[39m, filename):\n\u001b[0;32m   2510\u001b[0m \u001b[38;5;250m    \u001b[39m\u001b[38;5;124;03m\"\"\"Save Dataset to a text file.\u001b[39;00m\n\u001b[0;32m   2511\u001b[0m \n\u001b[0;32m   2512\u001b[0m \u001b[38;5;124;03m    This format cannot be loaded back in by LightGBM, but is useful for debugging purposes.\u001b[39;00m\n\u001b[0;32m   2513\u001b[0m \n\u001b[0;32m   2514\u001b[0m \u001b[38;5;124;03m    Parameters\u001b[39;00m\n\u001b[1;32m-> 2515\u001b[0m \u001b[38;5;124;03m    ----------\u001b[39;00m\n\u001b[0;32m   2516\u001b[0m \u001b[38;5;124;03m    filename : str or pathlib.Path\u001b[39;00m\n\u001b[0;32m   2517\u001b[0m \u001b[38;5;124;03m        Name of the output file.\u001b[39;00m\n\u001b[0;32m   2518\u001b[0m \n\u001b[0;32m   2519\u001b[0m \u001b[38;5;124;03m    Returns\u001b[39;00m\n\u001b[0;32m   2520\u001b[0m \u001b[38;5;124;03m    -------\u001b[39;00m\n\u001b[0;32m   2521\u001b[0m \u001b[38;5;124;03m    self : Dataset\u001b[39;00m\n\u001b[0;32m   2522\u001b[0m \u001b[38;5;124;03m        Returns self.\u001b[39;00m\n\u001b[0;32m   2523\u001b[0m \u001b[38;5;124;03m    \"\"\"\u001b[39;00m\n\u001b[0;32m   2524\u001b[0m     _safe_call(_LIB\u001b[38;5;241m.\u001b[39mLGBM_DatasetDumpText(\n\u001b[0;32m   2525\u001b[0m         \u001b[38;5;28mself\u001b[39m\u001b[38;5;241m.\u001b[39mconstruct()\u001b[38;5;241m.\u001b[39mhandle,\n\u001b[0;32m   2526\u001b[0m         c_str(\u001b[38;5;28mstr\u001b[39m(filename))))\n\u001b[0;32m   2527\u001b[0m     \u001b[38;5;28;01mreturn\u001b[39;00m \u001b[38;5;28mself\u001b[39m\n",
      "File \u001b[1;32mc:\\Users\\ssantos\\AppData\\Local\\anaconda3\\envs\\analisis_diabetes\\lib\\site-packages\\lightgbm\\basic.py:2180\u001b[0m, in \u001b[0;36m_lazy_init\u001b[1;34m(self, data, label, reference, weight, group, init_score, predictor, feature_name, categorical_feature, params, position)\u001b[0m\n\u001b[0;32m   2168\u001b[0m \u001b[38;5;28;01mdef\u001b[39;00m \u001b[38;5;21mset_weight\u001b[39m(\u001b[38;5;28mself\u001b[39m, weight):\n\u001b[0;32m   2169\u001b[0m \u001b[38;5;250m    \u001b[39m\u001b[38;5;124;03m\"\"\"Set weight of each instance.\u001b[39;00m\n\u001b[0;32m   2170\u001b[0m \n\u001b[0;32m   2171\u001b[0m \u001b[38;5;124;03m    Parameters\u001b[39;00m\n\u001b[0;32m   2172\u001b[0m \u001b[38;5;124;03m    ----------\u001b[39;00m\n\u001b[0;32m   2173\u001b[0m \u001b[38;5;124;03m    weight : list, numpy 1-D array, pandas Series or None\u001b[39;00m\n\u001b[0;32m   2174\u001b[0m \u001b[38;5;124;03m        Weight to be set for each data point.\u001b[39;00m\n\u001b[0;32m   2175\u001b[0m \n\u001b[0;32m   2176\u001b[0m \u001b[38;5;124;03m    Returns\u001b[39;00m\n\u001b[0;32m   2177\u001b[0m \u001b[38;5;124;03m    -------\u001b[39;00m\n\u001b[0;32m   2178\u001b[0m \u001b[38;5;124;03m    self : Dataset\u001b[39;00m\n\u001b[0;32m   2179\u001b[0m \u001b[38;5;124;03m        Dataset with set weight.\u001b[39;00m\n\u001b[1;32m-> 2180\u001b[0m \u001b[38;5;124;03m    \"\"\"\u001b[39;00m\n\u001b[0;32m   2181\u001b[0m     \u001b[38;5;28;01mif\u001b[39;00m weight \u001b[38;5;129;01mis\u001b[39;00m \u001b[38;5;129;01mnot\u001b[39;00m \u001b[38;5;28;01mNone\u001b[39;00m \u001b[38;5;129;01mand\u001b[39;00m np\u001b[38;5;241m.\u001b[39mall(weight \u001b[38;5;241m==\u001b[39m \u001b[38;5;241m1\u001b[39m):\n\u001b[0;32m   2182\u001b[0m         weight \u001b[38;5;241m=\u001b[39m \u001b[38;5;28;01mNone\u001b[39;00m\n",
      "File \u001b[1;32mc:\\Users\\ssantos\\AppData\\Local\\anaconda3\\envs\\analisis_diabetes\\lib\\site-packages\\lightgbm\\basic.py:3054\u001b[0m, in \u001b[0;36mset_label\u001b[1;34m(self, label)\u001b[0m\n\u001b[0;32m   3032\u001b[0m \u001b[38;5;28;01mdef\u001b[39;00m \u001b[38;5;21m__boost\u001b[39m(\u001b[38;5;28mself\u001b[39m, grad, hess):\n\u001b[0;32m   3033\u001b[0m \u001b[38;5;250m    \u001b[39m\u001b[38;5;124;03m\"\"\"Boost Booster for one iteration with customized gradient statistics.\u001b[39;00m\n\u001b[0;32m   3034\u001b[0m \n\u001b[0;32m   3035\u001b[0m \u001b[38;5;124;03m    .. note::\u001b[39;00m\n\u001b[0;32m   3036\u001b[0m \n\u001b[0;32m   3037\u001b[0m \u001b[38;5;124;03m        Score is returned before any transformation,\u001b[39;00m\n\u001b[0;32m   3038\u001b[0m \u001b[38;5;124;03m        e.g. it is raw margin instead of probability of positive class for binary task.\u001b[39;00m\n\u001b[0;32m   3039\u001b[0m \u001b[38;5;124;03m        For multi-class task, the score is group by class_id first, then group by row_id.\u001b[39;00m\n\u001b[0;32m   3040\u001b[0m \u001b[38;5;124;03m        If you want to get i-th row score in j-th class, the access way is score[j * num_data + i]\u001b[39;00m\n\u001b[0;32m   3041\u001b[0m \u001b[38;5;124;03m        and you should group grad and hess in this way as well.\u001b[39;00m\n\u001b[0;32m   3042\u001b[0m \n\u001b[0;32m   3043\u001b[0m \u001b[38;5;124;03m    Parameters\u001b[39;00m\n\u001b[0;32m   3044\u001b[0m \u001b[38;5;124;03m    ----------\u001b[39;00m\n\u001b[0;32m   3045\u001b[0m \u001b[38;5;124;03m    grad : list or numpy 1-D array\u001b[39;00m\n\u001b[0;32m   3046\u001b[0m \u001b[38;5;124;03m        The value of the first order derivative (gradient) of the loss\u001b[39;00m\n\u001b[0;32m   3047\u001b[0m \u001b[38;5;124;03m        with respect to the elements of score for each sample point.\u001b[39;00m\n\u001b[0;32m   3048\u001b[0m \u001b[38;5;124;03m    hess : list or numpy 1-D array\u001b[39;00m\n\u001b[0;32m   3049\u001b[0m \u001b[38;5;124;03m        The value of the second order derivative (Hessian) of the loss\u001b[39;00m\n\u001b[0;32m   3050\u001b[0m \u001b[38;5;124;03m        with respect to the elements of score for each sample point.\u001b[39;00m\n\u001b[0;32m   3051\u001b[0m \n\u001b[0;32m   3052\u001b[0m \u001b[38;5;124;03m    Returns\u001b[39;00m\n\u001b[0;32m   3053\u001b[0m \u001b[38;5;124;03m    -------\u001b[39;00m\n\u001b[1;32m-> 3054\u001b[0m \u001b[38;5;124;03m    is_finished : bool\u001b[39;00m\n\u001b[0;32m   3055\u001b[0m \u001b[38;5;124;03m        Whether the boost was successfully finished.\u001b[39;00m\n\u001b[0;32m   3056\u001b[0m \u001b[38;5;124;03m    \"\"\"\u001b[39;00m\n\u001b[0;32m   3057\u001b[0m     grad \u001b[38;5;241m=\u001b[39m list_to_1d_numpy(grad, name\u001b[38;5;241m=\u001b[39m\u001b[38;5;124m'\u001b[39m\u001b[38;5;124mgradient\u001b[39m\u001b[38;5;124m'\u001b[39m)\n\u001b[0;32m   3058\u001b[0m     hess \u001b[38;5;241m=\u001b[39m list_to_1d_numpy(hess, name\u001b[38;5;241m=\u001b[39m\u001b[38;5;124m'\u001b[39m\u001b[38;5;124mhessian\u001b[39m\u001b[38;5;124m'\u001b[39m)\n",
      "File \u001b[1;32mc:\\Users\\ssantos\\AppData\\Local\\anaconda3\\envs\\analisis_diabetes\\lib\\site-packages\\lightgbm\\basic.py:2823\u001b[0m, in \u001b[0;36mset_field\u001b[1;34m(self, field_name, data)\u001b[0m\n\u001b[0;32m   2820\u001b[0m def _is_single_node_tree(tree):\n\u001b[0;32m   2821\u001b[0m     return set(tree.keys()) == {'leaf_value'}\n\u001b[1;32m-> 2823\u001b[0m # Create the node record, and populate universal data members\n\u001b[0;32m   2824\u001b[0m node = OrderedDict()\n\u001b[0;32m   2825\u001b[0m node['tree_index'] = tree_index\n",
      "File \u001b[1;32mc:\\Users\\ssantos\\AppData\\Local\\anaconda3\\envs\\analisis_diabetes\\lib\\site-packages\\lightgbm\\basic.py:294\u001b[0m, in \u001b[0;36m_safe_call\u001b[1;34m(ret)\u001b[0m\n\u001b[0;32m    292\u001b[0m         pairs\u001b[38;5;241m.\u001b[39mappend(\u001b[38;5;124mf\u001b[39m\u001b[38;5;124m\"\u001b[39m\u001b[38;5;132;01m{\u001b[39;00mkey\u001b[38;5;132;01m}\u001b[39;00m\u001b[38;5;124m=\u001b[39m\u001b[38;5;132;01m{\u001b[39;00mval\u001b[38;5;132;01m}\u001b[39;00m\u001b[38;5;124m\"\u001b[39m)\n\u001b[0;32m    293\u001b[0m     \u001b[38;5;28;01melif\u001b[39;00m val \u001b[38;5;129;01mis\u001b[39;00m \u001b[38;5;129;01mnot\u001b[39;00m \u001b[38;5;28;01mNone\u001b[39;00m:\n\u001b[1;32m--> 294\u001b[0m         \u001b[38;5;28;01mraise\u001b[39;00m \u001b[38;5;167;01mTypeError\u001b[39;00m(\u001b[38;5;124mf\u001b[39m\u001b[38;5;124m'\u001b[39m\u001b[38;5;124mUnknown type of parameter:\u001b[39m\u001b[38;5;132;01m{\u001b[39;00mkey\u001b[38;5;132;01m}\u001b[39;00m\u001b[38;5;124m, got:\u001b[39m\u001b[38;5;132;01m{\u001b[39;00m\u001b[38;5;28mtype\u001b[39m(val)\u001b[38;5;241m.\u001b[39m\u001b[38;5;18m__name__\u001b[39m\u001b[38;5;132;01m}\u001b[39;00m\u001b[38;5;124m'\u001b[39m)\n\u001b[0;32m    295\u001b[0m \u001b[38;5;28;01mreturn\u001b[39;00m \u001b[38;5;124m'\u001b[39m\u001b[38;5;124m \u001b[39m\u001b[38;5;124m'\u001b[39m\u001b[38;5;241m.\u001b[39mjoin(pairs)\n",
      "\u001b[1;31mLightGBMError\u001b[0m: Length of labels differs from the length of #data"
     ]
    }
   ],
   "source": [
    "import lightgbm as lgb \n",
    "\n",
    "genero = 1\n",
    "data_prueba = df[df.genero == genero].copy()\n",
    "\n",
    "for key in dict_variables:\n",
    "    if key == 'PERIMETRO_ABDOMINAL':\n",
    "        data_prueba[key] = data_prueba[key].map(lambda x: dict_variables[key](x, genero))\n",
    "    else:\n",
    "        data_prueba[key] = data_prueba[key].map(lambda x: dict_variables[key](x))\n",
    "\n",
    "data_prueba = data_prueba.dropna()\n",
    "data_prueba['diabetes_peso'] = data_prueba[list(dict_variables.keys())].sum(axis = 1)\n",
    "display(data_prueba)\n",
    "\n",
    "scaler = StandardScaler() \n",
    "\n",
    "data_prueba\n",
    "\n",
    "variables_to_train = ['edad',\n",
    "                    #   'genero',\n",
    "                      'codigo_ciudad_sucursal',\n",
    "                      'imc',\n",
    "                      'HDL',\n",
    "                      'LDL',\n",
    "                      'trigliceridos',\n",
    "                      'med_hipertension',\n",
    "                      'familiar_dm',\n",
    "                      'ant_cardiovascular',\n",
    "                      'dm_gestacional',\n",
    "                      'PERIMETRO_ABDOMINAL',\n",
    "                      'hace_ejercicio',\n",
    "                      'nivel_academico_paciente',\n",
    "                      'raza_paciente',\n",
    "                      'diabetes']\n",
    "\n",
    "# df_to_train = df_final[variables_to_train].copy()\n",
    "df_to_train = data_prueba[variables_to_train].copy()\n",
    "df_to_train\n",
    "\n",
    "X = df_to_train[variables_to_train[:-1]]\n",
    "y = df_to_train[variables_to_train[-1]]\n",
    "y\n",
    "\n",
    "X_train, X_test, Y_train, Y_test = train_test_split(\n",
    "    X, y, test_size=0.33, random_state=42)\n",
    "\n",
    "scaler.fit(X_train)\n",
    "\n",
    "X_train = scaler.transform(X_train) \n",
    "X_test = scaler.transform(X_test) \n",
    "\n",
    "# Create a LightGBM dataset for training with features X_train and labels Y_train \n",
    "train_data = lgb.Dataset(X_train, label=Y_train) \n",
    "\n",
    "# Create a LightGBM dataset for testing with features X_val and labels Y_val, \n",
    "# and specify the reference dataset as train_data for consistent evaluation \n",
    "test_data = lgb.Dataset(X_test, label=y_test, reference=train_data) \n",
    "\n",
    "# Define a dictionary of parameters for configuring the LightGBM regression model. \n",
    "params = { \n",
    "    'objective': 'regression', \n",
    "    'metric': 'rmse', \n",
    "    'boosting_type': 'gbdt', \n",
    "    'num_leaves': 31, \n",
    "    'learning_rate': 0.05, \n",
    "    'feature_fraction': 0.9, \n",
    "}\n",
    "\n",
    "# Set the number of rounds and train the model with early stopping \n",
    "num_round = 100\n",
    "bst = lgb.train(params, train_data, num_round, valid_sets=[ \n",
    "                test_data]) \n",
    "\n",
    "# lineal_model = LinearRegression()\n",
    "\n",
    "# lineal_model.fit(X_train,y_train)\n",
    "\n",
    "# lineal_model.score(X_test,y_test)"
   ]
  },
  {
   "cell_type": "code",
   "execution_count": 558,
   "metadata": {},
   "outputs": [
    {
     "name": "stdout",
     "output_type": "stream",
     "text": [
      "[LightGBM] [Info] Auto-choosing row-wise multi-threading, the overhead of testing was 0.262317 seconds.\n",
      "You can set `force_row_wise=true` to remove the overhead.\n",
      "And if memory is not enough, you can set `force_col_wise=true`.\n",
      "[LightGBM] [Info] Total Bins 129\n",
      "[LightGBM] [Info] Number of data points in the train set: 75070, number of used features: 13\n",
      "[LightGBM] [Info] Start training from score 0.336459\n"
     ]
    }
   ],
   "source": [
    "\n",
    "# Import necessary libraries for calculating mean squared error and using the LightGBM regressor. \n",
    "from sklearn.metrics import mean_squared_error as mse \n",
    "from lightgbm import LGBMRegressor \n",
    "  \n",
    "# Create an instance of the LightGBM Regressor with the RMSE metric. \n",
    "model = LGBMRegressor(metric='rmse') \n",
    "  \n",
    "# Train the model using the training data. \n",
    "model.fit(X_train, Y_train) \n",
    "  \n",
    "# Make predictions on the training and validation data. \n",
    "y_train_pred = model.predict(X_train) \n",
    "y_test_pred = model.predict(X_test)"
   ]
  },
  {
   "cell_type": "code",
   "execution_count": 559,
   "metadata": {},
   "outputs": [
    {
     "name": "stdout",
     "output_type": "stream",
     "text": [
      "Training RMSE:  0.4396459927485256\n",
      "Validation RMSE:  0.44413628437728275\n"
     ]
    }
   ],
   "source": [
    "\n",
    "# Calculate and print the Root Mean Squared Error (RMSE) for training and validation predictions. \n",
    "print(\"Training RMSE: \", np.sqrt(mse(Y_train, y_train_pred))) \n",
    "print(\"Validation RMSE: \", np.sqrt(mse(Y_test, y_test_pred))) "
   ]
  },
  {
   "cell_type": "code",
   "execution_count": 560,
   "metadata": {},
   "outputs": [
    {
     "data": {
      "text/plain": [
       "0.11695125521423166"
      ]
     },
     "execution_count": 560,
     "metadata": {},
     "output_type": "execute_result"
    }
   ],
   "source": [
    "model.score(X_test,y_test)"
   ]
  },
  {
   "cell_type": "code",
   "execution_count": 535,
   "metadata": {},
   "outputs": [
    {
     "data": {
      "text/html": [
       "<div>\n",
       "<style scoped>\n",
       "    .dataframe tbody tr th:only-of-type {\n",
       "        vertical-align: middle;\n",
       "    }\n",
       "\n",
       "    .dataframe tbody tr th {\n",
       "        vertical-align: top;\n",
       "    }\n",
       "\n",
       "    .dataframe thead th {\n",
       "        text-align: right;\n",
       "    }\n",
       "</style>\n",
       "<table border=\"1\" class=\"dataframe\">\n",
       "  <thead>\n",
       "    <tr style=\"text-align: right;\">\n",
       "      <th></th>\n",
       "      <th>tipo_identificacion_paciente</th>\n",
       "      <th>edad</th>\n",
       "      <th>genero</th>\n",
       "      <th>codigo_ciudad_sucursal</th>\n",
       "      <th>nivel_academico_paciente</th>\n",
       "      <th>raza_paciente</th>\n",
       "      <th>peso</th>\n",
       "      <th>talla</th>\n",
       "      <th>imc</th>\n",
       "      <th>HDL</th>\n",
       "      <th>LDL</th>\n",
       "      <th>trigliceridos</th>\n",
       "      <th>med_hipertension</th>\n",
       "      <th>familiar_dm</th>\n",
       "      <th>ant_cardiovascular</th>\n",
       "      <th>dm_gestacional</th>\n",
       "      <th>PERIMETRO_ABDOMINAL</th>\n",
       "      <th>hace_ejercicio</th>\n",
       "      <th>diabetes</th>\n",
       "      <th>diabetes_peso</th>\n",
       "    </tr>\n",
       "  </thead>\n",
       "  <tbody>\n",
       "    <tr>\n",
       "      <th>6</th>\n",
       "      <td>0.00</td>\n",
       "      <td>1</td>\n",
       "      <td>1.00</td>\n",
       "      <td>41001.00</td>\n",
       "      <td>0.00</td>\n",
       "      <td>0.00</td>\n",
       "      <td>101.00</td>\n",
       "      <td>1.68</td>\n",
       "      <td>2</td>\n",
       "      <td>2</td>\n",
       "      <td>1</td>\n",
       "      <td>2</td>\n",
       "      <td>0</td>\n",
       "      <td>0</td>\n",
       "      <td>0</td>\n",
       "      <td>0</td>\n",
       "      <td>2</td>\n",
       "      <td>2</td>\n",
       "      <td>0.00</td>\n",
       "      <td>12</td>\n",
       "    </tr>\n",
       "    <tr>\n",
       "      <th>7</th>\n",
       "      <td>0.00</td>\n",
       "      <td>0</td>\n",
       "      <td>1.00</td>\n",
       "      <td>19001.00</td>\n",
       "      <td>0.00</td>\n",
       "      <td>1.00</td>\n",
       "      <td>101.00</td>\n",
       "      <td>1.68</td>\n",
       "      <td>2</td>\n",
       "      <td>1</td>\n",
       "      <td>0</td>\n",
       "      <td>0</td>\n",
       "      <td>0</td>\n",
       "      <td>0</td>\n",
       "      <td>0</td>\n",
       "      <td>0</td>\n",
       "      <td>2</td>\n",
       "      <td>2</td>\n",
       "      <td>0.00</td>\n",
       "      <td>7</td>\n",
       "    </tr>\n",
       "    <tr>\n",
       "      <th>24</th>\n",
       "      <td>1.00</td>\n",
       "      <td>0</td>\n",
       "      <td>1.00</td>\n",
       "      <td>20001.00</td>\n",
       "      <td>1.00</td>\n",
       "      <td>0.00</td>\n",
       "      <td>51.00</td>\n",
       "      <td>1.64</td>\n",
       "      <td>0</td>\n",
       "      <td>1</td>\n",
       "      <td>0</td>\n",
       "      <td>0</td>\n",
       "      <td>0</td>\n",
       "      <td>0</td>\n",
       "      <td>0</td>\n",
       "      <td>0</td>\n",
       "      <td>0</td>\n",
       "      <td>2</td>\n",
       "      <td>0.00</td>\n",
       "      <td>3</td>\n",
       "    </tr>\n",
       "    <tr>\n",
       "      <th>25</th>\n",
       "      <td>0.00</td>\n",
       "      <td>3</td>\n",
       "      <td>1.00</td>\n",
       "      <td>8758.00</td>\n",
       "      <td>3.00</td>\n",
       "      <td>0.00</td>\n",
       "      <td>83.30</td>\n",
       "      <td>1.75</td>\n",
       "      <td>0</td>\n",
       "      <td>1</td>\n",
       "      <td>0</td>\n",
       "      <td>1</td>\n",
       "      <td>0</td>\n",
       "      <td>0</td>\n",
       "      <td>0</td>\n",
       "      <td>0</td>\n",
       "      <td>1</td>\n",
       "      <td>0</td>\n",
       "      <td>0.00</td>\n",
       "      <td>6</td>\n",
       "    </tr>\n",
       "    <tr>\n",
       "      <th>105</th>\n",
       "      <td>0.00</td>\n",
       "      <td>1</td>\n",
       "      <td>1.00</td>\n",
       "      <td>19001.00</td>\n",
       "      <td>0.00</td>\n",
       "      <td>0.00</td>\n",
       "      <td>88.20</td>\n",
       "      <td>1.75</td>\n",
       "      <td>0</td>\n",
       "      <td>2</td>\n",
       "      <td>0</td>\n",
       "      <td>0</td>\n",
       "      <td>0</td>\n",
       "      <td>0</td>\n",
       "      <td>0</td>\n",
       "      <td>0</td>\n",
       "      <td>2</td>\n",
       "      <td>2</td>\n",
       "      <td>0.00</td>\n",
       "      <td>7</td>\n",
       "    </tr>\n",
       "    <tr>\n",
       "      <th>...</th>\n",
       "      <td>...</td>\n",
       "      <td>...</td>\n",
       "      <td>...</td>\n",
       "      <td>...</td>\n",
       "      <td>...</td>\n",
       "      <td>...</td>\n",
       "      <td>...</td>\n",
       "      <td>...</td>\n",
       "      <td>...</td>\n",
       "      <td>...</td>\n",
       "      <td>...</td>\n",
       "      <td>...</td>\n",
       "      <td>...</td>\n",
       "      <td>...</td>\n",
       "      <td>...</td>\n",
       "      <td>...</td>\n",
       "      <td>...</td>\n",
       "      <td>...</td>\n",
       "      <td>...</td>\n",
       "      <td>...</td>\n",
       "    </tr>\n",
       "    <tr>\n",
       "      <th>292523</th>\n",
       "      <td>0.00</td>\n",
       "      <td>2</td>\n",
       "      <td>1.00</td>\n",
       "      <td>11001.00</td>\n",
       "      <td>2.00</td>\n",
       "      <td>0.00</td>\n",
       "      <td>94.60</td>\n",
       "      <td>1.73</td>\n",
       "      <td>1</td>\n",
       "      <td>1</td>\n",
       "      <td>0</td>\n",
       "      <td>2</td>\n",
       "      <td>2</td>\n",
       "      <td>0</td>\n",
       "      <td>2</td>\n",
       "      <td>0</td>\n",
       "      <td>2</td>\n",
       "      <td>2</td>\n",
       "      <td>0.00</td>\n",
       "      <td>14</td>\n",
       "    </tr>\n",
       "    <tr>\n",
       "      <th>292524</th>\n",
       "      <td>0.00</td>\n",
       "      <td>1</td>\n",
       "      <td>1.00</td>\n",
       "      <td>5001.00</td>\n",
       "      <td>0.00</td>\n",
       "      <td>0.00</td>\n",
       "      <td>94.60</td>\n",
       "      <td>1.73</td>\n",
       "      <td>1</td>\n",
       "      <td>1</td>\n",
       "      <td>2</td>\n",
       "      <td>2</td>\n",
       "      <td>2</td>\n",
       "      <td>0</td>\n",
       "      <td>2</td>\n",
       "      <td>0</td>\n",
       "      <td>2</td>\n",
       "      <td>0</td>\n",
       "      <td>0.00</td>\n",
       "      <td>13</td>\n",
       "    </tr>\n",
       "    <tr>\n",
       "      <th>292525</th>\n",
       "      <td>0.00</td>\n",
       "      <td>3</td>\n",
       "      <td>1.00</td>\n",
       "      <td>25307.00</td>\n",
       "      <td>3.00</td>\n",
       "      <td>0.00</td>\n",
       "      <td>94.60</td>\n",
       "      <td>1.73</td>\n",
       "      <td>1</td>\n",
       "      <td>1</td>\n",
       "      <td>0</td>\n",
       "      <td>0</td>\n",
       "      <td>2</td>\n",
       "      <td>0</td>\n",
       "      <td>2</td>\n",
       "      <td>0</td>\n",
       "      <td>2</td>\n",
       "      <td>2</td>\n",
       "      <td>1.00</td>\n",
       "      <td>13</td>\n",
       "    </tr>\n",
       "    <tr>\n",
       "      <th>292527</th>\n",
       "      <td>0.00</td>\n",
       "      <td>2</td>\n",
       "      <td>1.00</td>\n",
       "      <td>8001.00</td>\n",
       "      <td>5.00</td>\n",
       "      <td>0.00</td>\n",
       "      <td>99.10</td>\n",
       "      <td>1.81</td>\n",
       "      <td>1</td>\n",
       "      <td>1</td>\n",
       "      <td>0</td>\n",
       "      <td>0</td>\n",
       "      <td>2</td>\n",
       "      <td>0</td>\n",
       "      <td>2</td>\n",
       "      <td>0</td>\n",
       "      <td>1</td>\n",
       "      <td>0</td>\n",
       "      <td>0.00</td>\n",
       "      <td>9</td>\n",
       "    </tr>\n",
       "    <tr>\n",
       "      <th>292530</th>\n",
       "      <td>0.00</td>\n",
       "      <td>1</td>\n",
       "      <td>1.00</td>\n",
       "      <td>41001.00</td>\n",
       "      <td>0.00</td>\n",
       "      <td>0.00</td>\n",
       "      <td>94.50</td>\n",
       "      <td>1.81</td>\n",
       "      <td>0</td>\n",
       "      <td>1</td>\n",
       "      <td>0</td>\n",
       "      <td>0</td>\n",
       "      <td>2</td>\n",
       "      <td>0</td>\n",
       "      <td>2</td>\n",
       "      <td>0</td>\n",
       "      <td>2</td>\n",
       "      <td>0</td>\n",
       "      <td>0.00</td>\n",
       "      <td>8</td>\n",
       "    </tr>\n",
       "  </tbody>\n",
       "</table>\n",
       "<p>112045 rows × 20 columns</p>\n",
       "</div>"
      ],
      "text/plain": [
       "        tipo_identificacion_paciente  edad  genero  codigo_ciudad_sucursal  \\\n",
       "6                               0.00     1    1.00                41001.00   \n",
       "7                               0.00     0    1.00                19001.00   \n",
       "24                              1.00     0    1.00                20001.00   \n",
       "25                              0.00     3    1.00                 8758.00   \n",
       "105                             0.00     1    1.00                19001.00   \n",
       "...                              ...   ...     ...                     ...   \n",
       "292523                          0.00     2    1.00                11001.00   \n",
       "292524                          0.00     1    1.00                 5001.00   \n",
       "292525                          0.00     3    1.00                25307.00   \n",
       "292527                          0.00     2    1.00                 8001.00   \n",
       "292530                          0.00     1    1.00                41001.00   \n",
       "\n",
       "        nivel_academico_paciente  raza_paciente   peso  talla  imc  HDL  LDL  \\\n",
       "6                           0.00           0.00 101.00   1.68    2    2    1   \n",
       "7                           0.00           1.00 101.00   1.68    2    1    0   \n",
       "24                          1.00           0.00  51.00   1.64    0    1    0   \n",
       "25                          3.00           0.00  83.30   1.75    0    1    0   \n",
       "105                         0.00           0.00  88.20   1.75    0    2    0   \n",
       "...                          ...            ...    ...    ...  ...  ...  ...   \n",
       "292523                      2.00           0.00  94.60   1.73    1    1    0   \n",
       "292524                      0.00           0.00  94.60   1.73    1    1    2   \n",
       "292525                      3.00           0.00  94.60   1.73    1    1    0   \n",
       "292527                      5.00           0.00  99.10   1.81    1    1    0   \n",
       "292530                      0.00           0.00  94.50   1.81    0    1    0   \n",
       "\n",
       "        trigliceridos  med_hipertension  familiar_dm  ant_cardiovascular  \\\n",
       "6                   2                 0            0                   0   \n",
       "7                   0                 0            0                   0   \n",
       "24                  0                 0            0                   0   \n",
       "25                  1                 0            0                   0   \n",
       "105                 0                 0            0                   0   \n",
       "...               ...               ...          ...                 ...   \n",
       "292523              2                 2            0                   2   \n",
       "292524              2                 2            0                   2   \n",
       "292525              0                 2            0                   2   \n",
       "292527              0                 2            0                   2   \n",
       "292530              0                 2            0                   2   \n",
       "\n",
       "        dm_gestacional  PERIMETRO_ABDOMINAL  hace_ejercicio  diabetes  \\\n",
       "6                    0                    2               2      0.00   \n",
       "7                    0                    2               2      0.00   \n",
       "24                   0                    0               2      0.00   \n",
       "25                   0                    1               0      0.00   \n",
       "105                  0                    2               2      0.00   \n",
       "...                ...                  ...             ...       ...   \n",
       "292523               0                    2               2      0.00   \n",
       "292524               0                    2               0      0.00   \n",
       "292525               0                    2               2      1.00   \n",
       "292527               0                    1               0      0.00   \n",
       "292530               0                    2               0      0.00   \n",
       "\n",
       "        diabetes_peso  \n",
       "6                  12  \n",
       "7                   7  \n",
       "24                  3  \n",
       "25                  6  \n",
       "105                 7  \n",
       "...               ...  \n",
       "292523             14  \n",
       "292524             13  \n",
       "292525             13  \n",
       "292527              9  \n",
       "292530              8  \n",
       "\n",
       "[112045 rows x 20 columns]"
      ]
     },
     "metadata": {},
     "output_type": "display_data"
    },
    {
     "name": "stderr",
     "output_type": "stream",
     "text": [
      " 16%|█▌        | 5/31 [00:08<00:30,  1.16s/it]"
     ]
    },
    {
     "name": "stdout",
     "output_type": "stream",
     "text": [
      "CategoricalNB model failed to execute\n",
      "Negative values in data passed to CategoricalNB (input X)\n"
     ]
    },
    {
     "name": "stderr",
     "output_type": "stream",
     "text": [
      " 29%|██▉       | 9/31 [00:20<01:25,  3.87s/it]"
     ]
    },
    {
     "name": "stdout",
     "output_type": "stream",
     "text": [
      "FixedThresholdClassifier model failed to execute\n",
      "FixedThresholdClassifier.__init__() missing 1 required positional argument: 'estimator'\n"
     ]
    },
    {
     "name": "stderr",
     "output_type": "stream",
     "text": [
      " 45%|████▌     | 14/31 [01:21<02:32,  8.97s/it]"
     ]
    },
    {
     "name": "stdout",
     "output_type": "stream",
     "text": [
      "LabelPropagation model failed to execute\n",
      "Unable to allocate 42.0 GiB for an array with shape (75070, 75070) and data type float64\n",
      "LabelSpreading model failed to execute\n",
      "Unable to allocate 42.0 GiB for an array with shape (75070, 75070) and data type float64\n"
     ]
    },
    {
     "name": "stderr",
     "output_type": "stream",
     "text": [
      " 87%|████████▋ | 27/31 [5:56:10<37:50, 567.61s/it]    "
     ]
    },
    {
     "name": "stdout",
     "output_type": "stream",
     "text": [
      "StackingClassifier model failed to execute\n",
      "StackingClassifier.__init__() missing 1 required positional argument: 'estimators'\n",
      "TunedThresholdClassifierCV model failed to execute\n",
      "TunedThresholdClassifierCV.__init__() missing 1 required positional argument: 'estimator'\n"
     ]
    },
    {
     "name": "stderr",
     "output_type": "stream",
     "text": [
      " 97%|█████████▋| 30/31 [5:56:11<04:08, 248.56s/it]"
     ]
    },
    {
     "name": "stdout",
     "output_type": "stream",
     "text": [
      "[LightGBM] [Info] Number of positive: 25258, number of negative: 49812\n",
      "[LightGBM] [Info] Auto-choosing row-wise multi-threading, the overhead of testing was 0.003165 seconds.\n",
      "You can set `force_row_wise=true` to remove the overhead.\n",
      "And if memory is not enough, you can set `force_col_wise=true`.\n",
      "[LightGBM] [Info] Total Bins 129\n",
      "[LightGBM] [Info] Number of data points in the train set: 75070, number of used features: 13\n",
      "[LightGBM] [Info] [binary:BoostFromScore]: pavg=0.336459 -> initscore=-0.679113\n",
      "[LightGBM] [Info] Start training from score -0.679113\n"
     ]
    },
    {
     "name": "stderr",
     "output_type": "stream",
     "text": [
      "100%|██████████| 31/31 [5:56:11<00:00, 689.42s/it]"
     ]
    },
    {
     "name": "stdout",
     "output_type": "stream",
     "text": [
      "                               Accuracy  Balanced Accuracy  ROC AUC  F1 Score  \\\n",
      "Model                                                                           \n",
      "NearestCentroid                    0.58               0.60     0.60      0.59   \n",
      "BaggingClassifier                  0.66               0.60     0.60      0.65   \n",
      "RandomForestClassifier             0.67               0.60     0.60      0.65   \n",
      "XGBClassifier                      0.69               0.59     0.59      0.66   \n",
      "DecisionTreeClassifier             0.65               0.59     0.59      0.64   \n",
      "ExtraTreesClassifier               0.66               0.59     0.59      0.64   \n",
      "LGBMClassifier                     0.69               0.58     0.58      0.65   \n",
      "ExtraTreeClassifier                0.64               0.58     0.58      0.63   \n",
      "KNeighborsClassifier               0.65               0.58     0.58      0.63   \n",
      "NuSVC                              0.63               0.57     0.57      0.62   \n",
      "BernoulliNB                        0.66               0.56     0.56      0.63   \n",
      "AdaBoostClassifier                 0.68               0.56     0.56      0.62   \n",
      "LogisticRegression                 0.68               0.55     0.55      0.61   \n",
      "CalibratedClassifierCV             0.68               0.55     0.55      0.61   \n",
      "LinearDiscriminantAnalysis         0.68               0.55     0.55      0.61   \n",
      "SVC                                0.68               0.54     0.54      0.60   \n",
      "LinearSVC                          0.67               0.54     0.54      0.60   \n",
      "RidgeClassifier                    0.67               0.54     0.54      0.60   \n",
      "RidgeClassifierCV                  0.67               0.54     0.54      0.60   \n",
      "Perceptron                         0.55               0.53     0.53      0.56   \n",
      "GaussianNB                         0.66               0.50     0.50      0.53   \n",
      "QuadraticDiscriminantAnalysis      0.66               0.50     0.50      0.53   \n",
      "SGDClassifier                      0.66               0.50     0.50      0.53   \n",
      "DummyClassifier                    0.66               0.50     0.50      0.53   \n",
      "PassiveAggressiveClassifier        0.50               0.46     0.46      0.51   \n",
      "\n",
      "                               Time Taken  \n",
      "Model                                      \n",
      "NearestCentroid                      0.24  \n",
      "BaggingClassifier                    2.35  \n",
      "RandomForestClassifier               8.77  \n",
      "XGBClassifier                        0.52  \n",
      "DecisionTreeClassifier               0.48  \n",
      "ExtraTreesClassifier                11.11  \n",
      "LGBMClassifier                       0.52  \n",
      "ExtraTreeClassifier                  0.30  \n",
      "KNeighborsClassifier                59.98  \n",
      "NuSVC                            20572.58  \n",
      "BernoulliNB                          0.25  \n",
      "AdaBoostClassifier                   4.42  \n",
      "LogisticRegression                   0.24  \n",
      "CalibratedClassifierCV               1.60  \n",
      "LinearDiscriminantAnalysis           0.56  \n",
      "SVC                                704.63  \n",
      "LinearSVC                            0.53  \n",
      "RidgeClassifier                      0.21  \n",
      "RidgeClassifierCV                    0.28  \n",
      "Perceptron                           0.26  \n",
      "GaussianNB                           0.24  \n",
      "QuadraticDiscriminantAnalysis        0.25  \n",
      "SGDClassifier                        0.55  \n",
      "DummyClassifier                      0.24  \n",
      "PassiveAggressiveClassifier          0.29  \n"
     ]
    },
    {
     "name": "stderr",
     "output_type": "stream",
     "text": [
      "\n"
     ]
    }
   ],
   "source": [
    "genero = 1\n",
    "data_prueba = data[data.genero == genero].copy()\n",
    "\n",
    "for key in dict_variables:\n",
    "    if key == 'PERIMETRO_ABDOMINAL':\n",
    "        data_prueba[key] = data_prueba[key].map(lambda x: dict_variables[key](x, genero))\n",
    "    else:\n",
    "        data_prueba[key] = data_prueba[key].map(lambda x: dict_variables[key](x))\n",
    "\n",
    "data_prueba = data_prueba.dropna()\n",
    "data_prueba['diabetes_peso'] = data_prueba[list(dict_variables.keys())].sum(axis = 1)\n",
    "display(data_prueba)\n",
    "\n",
    "data_prueba\n",
    "\n",
    "variables_to_train = ['edad',\n",
    "                    #   'genero',\n",
    "                      'codigo_ciudad_sucursal',\n",
    "                      'imc',\n",
    "                      'HDL',\n",
    "                      'LDL',\n",
    "                      'trigliceridos',\n",
    "                      'med_hipertension',\n",
    "                      'familiar_dm',\n",
    "                      'ant_cardiovascular',\n",
    "                      'dm_gestacional',\n",
    "                      'PERIMETRO_ABDOMINAL',\n",
    "                      'hace_ejercicio',\n",
    "                      'nivel_academico_paciente',\n",
    "                      'raza_paciente',\n",
    "                      'diabetes']\n",
    "\n",
    "# df_to_train = df_final[variables_to_train].copy()\n",
    "df_to_train = data_prueba[variables_to_train].copy()\n",
    "df_to_train\n",
    "\n",
    "X = df_to_train[variables_to_train[:-1]]\n",
    "y = df_to_train[variables_to_train[-1]]\n",
    "y\n",
    "\n",
    "X_train, X_test, y_train, y_test = train_test_split(\n",
    "    X, y, test_size=0.33, random_state=42)\n",
    "\n",
    "\n",
    "reg = LazyClassifier(verbose=0, ignore_warnings=False, custom_metric=None)\n",
    "models, predictions = reg.fit(X_train, X_test, y_train, y_test)\n",
    "\n",
    "print(models)"
   ]
  },
  {
   "cell_type": "code",
   "execution_count": 525,
   "metadata": {},
   "outputs": [
    {
     "name": "stdout",
     "output_type": "stream",
     "text": [
      "--------------------------------------------------------\n"
     ]
    },
    {
     "data": {
      "text/html": [
       "<div>\n",
       "<style scoped>\n",
       "    .dataframe tbody tr th:only-of-type {\n",
       "        vertical-align: middle;\n",
       "    }\n",
       "\n",
       "    .dataframe tbody tr th {\n",
       "        vertical-align: top;\n",
       "    }\n",
       "\n",
       "    .dataframe thead th {\n",
       "        text-align: right;\n",
       "    }\n",
       "</style>\n",
       "<table border=\"1\" class=\"dataframe\">\n",
       "  <thead>\n",
       "    <tr style=\"text-align: right;\">\n",
       "      <th></th>\n",
       "      <th>edad</th>\n",
       "      <th>codigo_ciudad_sucursal</th>\n",
       "      <th>imc</th>\n",
       "      <th>HDL</th>\n",
       "      <th>LDL</th>\n",
       "      <th>trigliceridos</th>\n",
       "      <th>med_hipertension</th>\n",
       "      <th>familiar_dm</th>\n",
       "      <th>ant_cardiovascular</th>\n",
       "      <th>dm_gestacional</th>\n",
       "      <th>PERIMETRO_ABDOMINAL</th>\n",
       "      <th>hace_ejercicio</th>\n",
       "      <th>nivel_academico_paciente</th>\n",
       "      <th>raza_paciente</th>\n",
       "    </tr>\n",
       "  </thead>\n",
       "  <tbody>\n",
       "    <tr>\n",
       "      <th>234132</th>\n",
       "      <td>2</td>\n",
       "      <td>13001.0</td>\n",
       "      <td>0</td>\n",
       "      <td>2</td>\n",
       "      <td>2</td>\n",
       "      <td>0</td>\n",
       "      <td>2</td>\n",
       "      <td>0</td>\n",
       "      <td>2</td>\n",
       "      <td>0</td>\n",
       "      <td>0</td>\n",
       "      <td>0</td>\n",
       "      <td>4.0</td>\n",
       "      <td>0.0</td>\n",
       "    </tr>\n",
       "  </tbody>\n",
       "</table>\n",
       "</div>"
      ],
      "text/plain": [
       "        edad  codigo_ciudad_sucursal  imc  HDL  LDL  trigliceridos  \\\n",
       "234132     2                 13001.0    0    2    2              0   \n",
       "\n",
       "        med_hipertension  familiar_dm  ant_cardiovascular  dm_gestacional  \\\n",
       "234132                 2            0                   2               0   \n",
       "\n",
       "        PERIMETRO_ABDOMINAL  hace_ejercicio  nivel_academico_paciente  \\\n",
       "234132                    0               0                       4.0   \n",
       "\n",
       "        raza_paciente  \n",
       "234132            0.0  "
      ]
     },
     "metadata": {},
     "output_type": "display_data"
    },
    {
     "data": {
      "text/html": [
       "<div>\n",
       "<style scoped>\n",
       "    .dataframe tbody tr th:only-of-type {\n",
       "        vertical-align: middle;\n",
       "    }\n",
       "\n",
       "    .dataframe tbody tr th {\n",
       "        vertical-align: top;\n",
       "    }\n",
       "\n",
       "    .dataframe thead th {\n",
       "        text-align: right;\n",
       "    }\n",
       "</style>\n",
       "<table border=\"1\" class=\"dataframe\">\n",
       "  <thead>\n",
       "    <tr style=\"text-align: right;\">\n",
       "      <th></th>\n",
       "      <th>tipo_identificacion_paciente</th>\n",
       "      <th>edad</th>\n",
       "      <th>genero</th>\n",
       "      <th>codigo_ciudad_sucursal</th>\n",
       "      <th>nivel_academico_paciente</th>\n",
       "      <th>raza_paciente</th>\n",
       "      <th>peso</th>\n",
       "      <th>talla</th>\n",
       "      <th>imc</th>\n",
       "      <th>HDL</th>\n",
       "      <th>LDL</th>\n",
       "      <th>trigliceridos</th>\n",
       "      <th>med_hipertension</th>\n",
       "      <th>familiar_dm</th>\n",
       "      <th>ant_cardiovascular</th>\n",
       "      <th>dm_gestacional</th>\n",
       "      <th>PERIMETRO_ABDOMINAL</th>\n",
       "      <th>hace_ejercicio</th>\n",
       "      <th>diabetes</th>\n",
       "      <th>diabetes_peso</th>\n",
       "    </tr>\n",
       "  </thead>\n",
       "  <tbody>\n",
       "    <tr>\n",
       "      <th>234132</th>\n",
       "      <td>0.0</td>\n",
       "      <td>2</td>\n",
       "      <td>1.0</td>\n",
       "      <td>13001.0</td>\n",
       "      <td>4.0</td>\n",
       "      <td>0.0</td>\n",
       "      <td>75.8</td>\n",
       "      <td>1.72</td>\n",
       "      <td>0</td>\n",
       "      <td>2</td>\n",
       "      <td>2</td>\n",
       "      <td>0</td>\n",
       "      <td>2</td>\n",
       "      <td>0</td>\n",
       "      <td>2</td>\n",
       "      <td>0</td>\n",
       "      <td>0</td>\n",
       "      <td>0</td>\n",
       "      <td>0.0</td>\n",
       "      <td>10</td>\n",
       "    </tr>\n",
       "  </tbody>\n",
       "</table>\n",
       "</div>"
      ],
      "text/plain": [
       "        tipo_identificacion_paciente  edad  genero  codigo_ciudad_sucursal  \\\n",
       "234132                           0.0     2     1.0                 13001.0   \n",
       "\n",
       "        nivel_academico_paciente  raza_paciente  peso  talla  imc  HDL  LDL  \\\n",
       "234132                       4.0            0.0  75.8   1.72    0    2    2   \n",
       "\n",
       "        trigliceridos  med_hipertension  familiar_dm  ant_cardiovascular  \\\n",
       "234132              0                 2            0                   2   \n",
       "\n",
       "        dm_gestacional  PERIMETRO_ABDOMINAL  hace_ejercicio  diabetes  \\\n",
       "234132               0                    0               0       0.0   \n",
       "\n",
       "        diabetes_peso  \n",
       "234132             10  "
      ]
     },
     "metadata": {},
     "output_type": "display_data"
    },
    {
     "name": "stdout",
     "output_type": "stream",
     "text": [
      "[0.5]\n",
      "--------------------------------------------------------\n"
     ]
    },
    {
     "data": {
      "text/html": [
       "<div>\n",
       "<style scoped>\n",
       "    .dataframe tbody tr th:only-of-type {\n",
       "        vertical-align: middle;\n",
       "    }\n",
       "\n",
       "    .dataframe tbody tr th {\n",
       "        vertical-align: top;\n",
       "    }\n",
       "\n",
       "    .dataframe thead th {\n",
       "        text-align: right;\n",
       "    }\n",
       "</style>\n",
       "<table border=\"1\" class=\"dataframe\">\n",
       "  <thead>\n",
       "    <tr style=\"text-align: right;\">\n",
       "      <th></th>\n",
       "      <th>edad</th>\n",
       "      <th>codigo_ciudad_sucursal</th>\n",
       "      <th>imc</th>\n",
       "      <th>HDL</th>\n",
       "      <th>LDL</th>\n",
       "      <th>trigliceridos</th>\n",
       "      <th>med_hipertension</th>\n",
       "      <th>familiar_dm</th>\n",
       "      <th>ant_cardiovascular</th>\n",
       "      <th>dm_gestacional</th>\n",
       "      <th>PERIMETRO_ABDOMINAL</th>\n",
       "      <th>hace_ejercicio</th>\n",
       "      <th>nivel_academico_paciente</th>\n",
       "      <th>raza_paciente</th>\n",
       "    </tr>\n",
       "  </thead>\n",
       "  <tbody>\n",
       "    <tr>\n",
       "      <th>78175</th>\n",
       "      <td>2</td>\n",
       "      <td>23001.0</td>\n",
       "      <td>2</td>\n",
       "      <td>1</td>\n",
       "      <td>1</td>\n",
       "      <td>0</td>\n",
       "      <td>0</td>\n",
       "      <td>0</td>\n",
       "      <td>2</td>\n",
       "      <td>0</td>\n",
       "      <td>2</td>\n",
       "      <td>0</td>\n",
       "      <td>0.0</td>\n",
       "      <td>0.0</td>\n",
       "    </tr>\n",
       "  </tbody>\n",
       "</table>\n",
       "</div>"
      ],
      "text/plain": [
       "       edad  codigo_ciudad_sucursal  imc  HDL  LDL  trigliceridos  \\\n",
       "78175     2                 23001.0    2    1    1              0   \n",
       "\n",
       "       med_hipertension  familiar_dm  ant_cardiovascular  dm_gestacional  \\\n",
       "78175                 0            0                   2               0   \n",
       "\n",
       "       PERIMETRO_ABDOMINAL  hace_ejercicio  nivel_academico_paciente  \\\n",
       "78175                    2               0                       0.0   \n",
       "\n",
       "       raza_paciente  \n",
       "78175            0.0  "
      ]
     },
     "metadata": {},
     "output_type": "display_data"
    },
    {
     "data": {
      "text/html": [
       "<div>\n",
       "<style scoped>\n",
       "    .dataframe tbody tr th:only-of-type {\n",
       "        vertical-align: middle;\n",
       "    }\n",
       "\n",
       "    .dataframe tbody tr th {\n",
       "        vertical-align: top;\n",
       "    }\n",
       "\n",
       "    .dataframe thead th {\n",
       "        text-align: right;\n",
       "    }\n",
       "</style>\n",
       "<table border=\"1\" class=\"dataframe\">\n",
       "  <thead>\n",
       "    <tr style=\"text-align: right;\">\n",
       "      <th></th>\n",
       "      <th>tipo_identificacion_paciente</th>\n",
       "      <th>edad</th>\n",
       "      <th>genero</th>\n",
       "      <th>codigo_ciudad_sucursal</th>\n",
       "      <th>nivel_academico_paciente</th>\n",
       "      <th>raza_paciente</th>\n",
       "      <th>peso</th>\n",
       "      <th>talla</th>\n",
       "      <th>imc</th>\n",
       "      <th>HDL</th>\n",
       "      <th>LDL</th>\n",
       "      <th>trigliceridos</th>\n",
       "      <th>med_hipertension</th>\n",
       "      <th>familiar_dm</th>\n",
       "      <th>ant_cardiovascular</th>\n",
       "      <th>dm_gestacional</th>\n",
       "      <th>PERIMETRO_ABDOMINAL</th>\n",
       "      <th>hace_ejercicio</th>\n",
       "      <th>diabetes</th>\n",
       "      <th>diabetes_peso</th>\n",
       "    </tr>\n",
       "  </thead>\n",
       "  <tbody>\n",
       "    <tr>\n",
       "      <th>78175</th>\n",
       "      <td>0.0</td>\n",
       "      <td>2</td>\n",
       "      <td>1.0</td>\n",
       "      <td>23001.0</td>\n",
       "      <td>0.0</td>\n",
       "      <td>0.0</td>\n",
       "      <td>102.0</td>\n",
       "      <td>1.64</td>\n",
       "      <td>2</td>\n",
       "      <td>1</td>\n",
       "      <td>1</td>\n",
       "      <td>0</td>\n",
       "      <td>0</td>\n",
       "      <td>0</td>\n",
       "      <td>2</td>\n",
       "      <td>0</td>\n",
       "      <td>2</td>\n",
       "      <td>0</td>\n",
       "      <td>0.0</td>\n",
       "      <td>10</td>\n",
       "    </tr>\n",
       "  </tbody>\n",
       "</table>\n",
       "</div>"
      ],
      "text/plain": [
       "       tipo_identificacion_paciente  edad  genero  codigo_ciudad_sucursal  \\\n",
       "78175                           0.0     2     1.0                 23001.0   \n",
       "\n",
       "       nivel_academico_paciente  raza_paciente   peso  talla  imc  HDL  LDL  \\\n",
       "78175                       0.0            0.0  102.0   1.64    2    1    1   \n",
       "\n",
       "       trigliceridos  med_hipertension  familiar_dm  ant_cardiovascular  \\\n",
       "78175              0                 0            0                   2   \n",
       "\n",
       "       dm_gestacional  PERIMETRO_ABDOMINAL  hace_ejercicio  diabetes  \\\n",
       "78175               0                    2               0       0.0   \n",
       "\n",
       "       diabetes_peso  \n",
       "78175             10  "
      ]
     },
     "metadata": {},
     "output_type": "display_data"
    },
    {
     "name": "stdout",
     "output_type": "stream",
     "text": [
      "[0.5]\n",
      "--------------------------------------------------------\n"
     ]
    },
    {
     "data": {
      "text/html": [
       "<div>\n",
       "<style scoped>\n",
       "    .dataframe tbody tr th:only-of-type {\n",
       "        vertical-align: middle;\n",
       "    }\n",
       "\n",
       "    .dataframe tbody tr th {\n",
       "        vertical-align: top;\n",
       "    }\n",
       "\n",
       "    .dataframe thead th {\n",
       "        text-align: right;\n",
       "    }\n",
       "</style>\n",
       "<table border=\"1\" class=\"dataframe\">\n",
       "  <thead>\n",
       "    <tr style=\"text-align: right;\">\n",
       "      <th></th>\n",
       "      <th>edad</th>\n",
       "      <th>codigo_ciudad_sucursal</th>\n",
       "      <th>imc</th>\n",
       "      <th>HDL</th>\n",
       "      <th>LDL</th>\n",
       "      <th>trigliceridos</th>\n",
       "      <th>med_hipertension</th>\n",
       "      <th>familiar_dm</th>\n",
       "      <th>ant_cardiovascular</th>\n",
       "      <th>dm_gestacional</th>\n",
       "      <th>PERIMETRO_ABDOMINAL</th>\n",
       "      <th>hace_ejercicio</th>\n",
       "      <th>nivel_academico_paciente</th>\n",
       "      <th>raza_paciente</th>\n",
       "    </tr>\n",
       "  </thead>\n",
       "  <tbody>\n",
       "    <tr>\n",
       "      <th>181489</th>\n",
       "      <td>1</td>\n",
       "      <td>76001.0</td>\n",
       "      <td>0</td>\n",
       "      <td>1</td>\n",
       "      <td>2</td>\n",
       "      <td>1</td>\n",
       "      <td>2</td>\n",
       "      <td>0</td>\n",
       "      <td>2</td>\n",
       "      <td>0</td>\n",
       "      <td>1</td>\n",
       "      <td>2</td>\n",
       "      <td>11.0</td>\n",
       "      <td>0.0</td>\n",
       "    </tr>\n",
       "  </tbody>\n",
       "</table>\n",
       "</div>"
      ],
      "text/plain": [
       "        edad  codigo_ciudad_sucursal  imc  HDL  LDL  trigliceridos  \\\n",
       "181489     1                 76001.0    0    1    2              1   \n",
       "\n",
       "        med_hipertension  familiar_dm  ant_cardiovascular  dm_gestacional  \\\n",
       "181489                 2            0                   2               0   \n",
       "\n",
       "        PERIMETRO_ABDOMINAL  hace_ejercicio  nivel_academico_paciente  \\\n",
       "181489                    1               2                      11.0   \n",
       "\n",
       "        raza_paciente  \n",
       "181489            0.0  "
      ]
     },
     "metadata": {},
     "output_type": "display_data"
    },
    {
     "data": {
      "text/html": [
       "<div>\n",
       "<style scoped>\n",
       "    .dataframe tbody tr th:only-of-type {\n",
       "        vertical-align: middle;\n",
       "    }\n",
       "\n",
       "    .dataframe tbody tr th {\n",
       "        vertical-align: top;\n",
       "    }\n",
       "\n",
       "    .dataframe thead th {\n",
       "        text-align: right;\n",
       "    }\n",
       "</style>\n",
       "<table border=\"1\" class=\"dataframe\">\n",
       "  <thead>\n",
       "    <tr style=\"text-align: right;\">\n",
       "      <th></th>\n",
       "      <th>tipo_identificacion_paciente</th>\n",
       "      <th>edad</th>\n",
       "      <th>genero</th>\n",
       "      <th>codigo_ciudad_sucursal</th>\n",
       "      <th>nivel_academico_paciente</th>\n",
       "      <th>raza_paciente</th>\n",
       "      <th>peso</th>\n",
       "      <th>talla</th>\n",
       "      <th>imc</th>\n",
       "      <th>HDL</th>\n",
       "      <th>LDL</th>\n",
       "      <th>trigliceridos</th>\n",
       "      <th>med_hipertension</th>\n",
       "      <th>familiar_dm</th>\n",
       "      <th>ant_cardiovascular</th>\n",
       "      <th>dm_gestacional</th>\n",
       "      <th>PERIMETRO_ABDOMINAL</th>\n",
       "      <th>hace_ejercicio</th>\n",
       "      <th>diabetes</th>\n",
       "      <th>diabetes_peso</th>\n",
       "    </tr>\n",
       "  </thead>\n",
       "  <tbody>\n",
       "    <tr>\n",
       "      <th>181489</th>\n",
       "      <td>0.0</td>\n",
       "      <td>1</td>\n",
       "      <td>1.0</td>\n",
       "      <td>76001.0</td>\n",
       "      <td>11.0</td>\n",
       "      <td>0.0</td>\n",
       "      <td>85.0</td>\n",
       "      <td>1.74</td>\n",
       "      <td>0</td>\n",
       "      <td>1</td>\n",
       "      <td>2</td>\n",
       "      <td>1</td>\n",
       "      <td>2</td>\n",
       "      <td>0</td>\n",
       "      <td>2</td>\n",
       "      <td>0</td>\n",
       "      <td>1</td>\n",
       "      <td>2</td>\n",
       "      <td>0.0</td>\n",
       "      <td>12</td>\n",
       "    </tr>\n",
       "  </tbody>\n",
       "</table>\n",
       "</div>"
      ],
      "text/plain": [
       "        tipo_identificacion_paciente  edad  genero  codigo_ciudad_sucursal  \\\n",
       "181489                           0.0     1     1.0                 76001.0   \n",
       "\n",
       "        nivel_academico_paciente  raza_paciente  peso  talla  imc  HDL  LDL  \\\n",
       "181489                      11.0            0.0  85.0   1.74    0    1    2   \n",
       "\n",
       "        trigliceridos  med_hipertension  familiar_dm  ant_cardiovascular  \\\n",
       "181489              1                 2            0                   2   \n",
       "\n",
       "        dm_gestacional  PERIMETRO_ABDOMINAL  hace_ejercicio  diabetes  \\\n",
       "181489               0                    1               2       0.0   \n",
       "\n",
       "        diabetes_peso  \n",
       "181489             12  "
      ]
     },
     "metadata": {},
     "output_type": "display_data"
    },
    {
     "name": "stdout",
     "output_type": "stream",
     "text": [
      "[0.6]\n",
      "--------------------------------------------------------\n"
     ]
    },
    {
     "data": {
      "text/html": [
       "<div>\n",
       "<style scoped>\n",
       "    .dataframe tbody tr th:only-of-type {\n",
       "        vertical-align: middle;\n",
       "    }\n",
       "\n",
       "    .dataframe tbody tr th {\n",
       "        vertical-align: top;\n",
       "    }\n",
       "\n",
       "    .dataframe thead th {\n",
       "        text-align: right;\n",
       "    }\n",
       "</style>\n",
       "<table border=\"1\" class=\"dataframe\">\n",
       "  <thead>\n",
       "    <tr style=\"text-align: right;\">\n",
       "      <th></th>\n",
       "      <th>edad</th>\n",
       "      <th>codigo_ciudad_sucursal</th>\n",
       "      <th>imc</th>\n",
       "      <th>HDL</th>\n",
       "      <th>LDL</th>\n",
       "      <th>trigliceridos</th>\n",
       "      <th>med_hipertension</th>\n",
       "      <th>familiar_dm</th>\n",
       "      <th>ant_cardiovascular</th>\n",
       "      <th>dm_gestacional</th>\n",
       "      <th>PERIMETRO_ABDOMINAL</th>\n",
       "      <th>hace_ejercicio</th>\n",
       "      <th>nivel_academico_paciente</th>\n",
       "      <th>raza_paciente</th>\n",
       "    </tr>\n",
       "  </thead>\n",
       "  <tbody>\n",
       "    <tr>\n",
       "      <th>234097</th>\n",
       "      <td>3</td>\n",
       "      <td>5615.0</td>\n",
       "      <td>0</td>\n",
       "      <td>1</td>\n",
       "      <td>0</td>\n",
       "      <td>0</td>\n",
       "      <td>2</td>\n",
       "      <td>0</td>\n",
       "      <td>2</td>\n",
       "      <td>0</td>\n",
       "      <td>0</td>\n",
       "      <td>0</td>\n",
       "      <td>0.0</td>\n",
       "      <td>0.0</td>\n",
       "    </tr>\n",
       "  </tbody>\n",
       "</table>\n",
       "</div>"
      ],
      "text/plain": [
       "        edad  codigo_ciudad_sucursal  imc  HDL  LDL  trigliceridos  \\\n",
       "234097     3                  5615.0    0    1    0              0   \n",
       "\n",
       "        med_hipertension  familiar_dm  ant_cardiovascular  dm_gestacional  \\\n",
       "234097                 2            0                   2               0   \n",
       "\n",
       "        PERIMETRO_ABDOMINAL  hace_ejercicio  nivel_academico_paciente  \\\n",
       "234097                    0               0                       0.0   \n",
       "\n",
       "        raza_paciente  \n",
       "234097            0.0  "
      ]
     },
     "metadata": {},
     "output_type": "display_data"
    },
    {
     "data": {
      "text/html": [
       "<div>\n",
       "<style scoped>\n",
       "    .dataframe tbody tr th:only-of-type {\n",
       "        vertical-align: middle;\n",
       "    }\n",
       "\n",
       "    .dataframe tbody tr th {\n",
       "        vertical-align: top;\n",
       "    }\n",
       "\n",
       "    .dataframe thead th {\n",
       "        text-align: right;\n",
       "    }\n",
       "</style>\n",
       "<table border=\"1\" class=\"dataframe\">\n",
       "  <thead>\n",
       "    <tr style=\"text-align: right;\">\n",
       "      <th></th>\n",
       "      <th>tipo_identificacion_paciente</th>\n",
       "      <th>edad</th>\n",
       "      <th>genero</th>\n",
       "      <th>codigo_ciudad_sucursal</th>\n",
       "      <th>nivel_academico_paciente</th>\n",
       "      <th>raza_paciente</th>\n",
       "      <th>peso</th>\n",
       "      <th>talla</th>\n",
       "      <th>imc</th>\n",
       "      <th>HDL</th>\n",
       "      <th>LDL</th>\n",
       "      <th>trigliceridos</th>\n",
       "      <th>med_hipertension</th>\n",
       "      <th>familiar_dm</th>\n",
       "      <th>ant_cardiovascular</th>\n",
       "      <th>dm_gestacional</th>\n",
       "      <th>PERIMETRO_ABDOMINAL</th>\n",
       "      <th>hace_ejercicio</th>\n",
       "      <th>diabetes</th>\n",
       "      <th>diabetes_peso</th>\n",
       "    </tr>\n",
       "  </thead>\n",
       "  <tbody>\n",
       "    <tr>\n",
       "      <th>234097</th>\n",
       "      <td>0.0</td>\n",
       "      <td>3</td>\n",
       "      <td>1.0</td>\n",
       "      <td>5615.0</td>\n",
       "      <td>0.0</td>\n",
       "      <td>0.0</td>\n",
       "      <td>64.5</td>\n",
       "      <td>1.61</td>\n",
       "      <td>0</td>\n",
       "      <td>1</td>\n",
       "      <td>0</td>\n",
       "      <td>0</td>\n",
       "      <td>2</td>\n",
       "      <td>0</td>\n",
       "      <td>2</td>\n",
       "      <td>0</td>\n",
       "      <td>0</td>\n",
       "      <td>0</td>\n",
       "      <td>1.0</td>\n",
       "      <td>8</td>\n",
       "    </tr>\n",
       "  </tbody>\n",
       "</table>\n",
       "</div>"
      ],
      "text/plain": [
       "        tipo_identificacion_paciente  edad  genero  codigo_ciudad_sucursal  \\\n",
       "234097                           0.0     3     1.0                  5615.0   \n",
       "\n",
       "        nivel_academico_paciente  raza_paciente  peso  talla  imc  HDL  LDL  \\\n",
       "234097                       0.0            0.0  64.5   1.61    0    1    0   \n",
       "\n",
       "        trigliceridos  med_hipertension  familiar_dm  ant_cardiovascular  \\\n",
       "234097              0                 2            0                   2   \n",
       "\n",
       "        dm_gestacional  PERIMETRO_ABDOMINAL  hace_ejercicio  diabetes  \\\n",
       "234097               0                    0               0       1.0   \n",
       "\n",
       "        diabetes_peso  \n",
       "234097              8  "
      ]
     },
     "metadata": {},
     "output_type": "display_data"
    },
    {
     "name": "stdout",
     "output_type": "stream",
     "text": [
      "[0.4]\n"
     ]
    }
   ],
   "source": [
    "for i in range(4):\n",
    "    print('--------------------------------------------------------')\n",
    "    valor = random.randint(0,len(X_test))\n",
    "\n",
    "    index = X_test.iloc[[valor]].index\n",
    "\n",
    "    display(X_test.iloc[[valor]])\n",
    "\n",
    "    display(data_prueba.loc[index])\n",
    "\n",
    "    print(lineal_model.predict(X_test.iloc[[valor]])/data_prueba.diabetes_peso.max())"
   ]
  },
  {
   "cell_type": "code",
   "execution_count": null,
   "metadata": {},
   "outputs": [],
   "source": []
  }
 ],
 "metadata": {
  "kernelspec": {
   "display_name": "analisis_diabetes",
   "language": "python",
   "name": "python3"
  },
  "language_info": {
   "codemirror_mode": {
    "name": "ipython",
    "version": 3
   },
   "file_extension": ".py",
   "mimetype": "text/x-python",
   "name": "python",
   "nbconvert_exporter": "python",
   "pygments_lexer": "ipython3",
   "version": "3.10.14"
  }
 },
 "nbformat": 4,
 "nbformat_minor": 2
}
